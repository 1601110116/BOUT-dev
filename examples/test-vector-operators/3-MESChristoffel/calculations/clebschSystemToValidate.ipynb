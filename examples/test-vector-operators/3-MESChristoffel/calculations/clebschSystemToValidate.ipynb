{
 "cells": [
  {
   "cell_type": "markdown",
   "metadata": {},
   "source": [
    "# The Clebsch system\n",
    "\n",
    "From equation (5.21) in D'Haeseleer we have that\n",
    "\n",
    "$$\\mathbf{B}=\\nabla \\alpha \\times \\nabla \\beta$$\n",
    "\n",
    "We are here looking for a way to determine $\\alpha$ and $\\beta$, given $\\mathbf{B}$. In order to easily validate the parallel advection, we will look for a $\\mathbf{B}$ which\n",
    "\n",
    "1. Does not have any variation in the $z$ coordinate\n",
    "2. Varies in a simple way, so that a gaussian perturbation is easy to follow.\n",
    "\n",
    "Further, we would like to describe this in a coordinate system where\n",
    "\n",
    "* Makes $g_{ij}$ and $g^{kl}$ vary with $x$ (or $y$).\n",
    "* We would like $g^{ij}$ and $g_{ij}$ to vary with $\\alpha$ and $\\beta$, so that the Christoffel symbols are non-zero."
   ]
  },
  {
   "cell_type": "markdown",
   "metadata": {},
   "source": [
    "# Initialization"
   ]
  },
  {
   "cell_type": "code",
   "execution_count": 1,
   "metadata": {
    "collapsed": false
   },
   "outputs": [],
   "source": [
    "%matplotlib notebook\n",
    "\n",
    "import matplotlib\n",
    "import numpy as np\n",
    "import matplotlib.pyplot as plt\n",
    "\n",
    "from collections import OrderedDict, deque\n",
    "\n",
    "from sympy import init_printing\n",
    "from sympy import symbols\n",
    "from sympy import Eq, Derivative, Function\n",
    "from sympy import sqrt\n",
    "from sympy import solve, simplify\n",
    "from sympy.solvers.pde import pdsolve\n",
    "from sympy.utilities.lambdify import lambdify, implemented_function\n",
    "from sympy import Rational as R\n",
    "from IPython.display import display\n",
    "\n",
    "init_printing()"
   ]
  },
  {
   "cell_type": "code",
   "execution_count": 2,
   "metadata": {
    "collapsed": true
   },
   "outputs": [],
   "source": [
    "title_size = 30 \n",
    "plt.rc(\"font\", size = 30)\n",
    "plt.rc(\"axes\", labelsize = 25, titlesize = title_size)\n",
    "plt.rc(\"xtick\", labelsize = 25)\n",
    "plt.rc(\"ytick\", labelsize = 25)\n",
    "plt.rc(\"legend\", fontsize = 30)\n",
    "plt.rc(\"lines\", linewidth = 2) "
   ]
  },
  {
   "cell_type": "code",
   "execution_count": 3,
   "metadata": {
    "collapsed": false
   },
   "outputs": [],
   "source": [
    "s = symbols('s', real = True)\n",
    "xi = symbols('xi', real = True)\n",
    "x, y, z = symbols('x, y, z', real = True)\n",
    "a, b, g = symbols('alpha, beta, gamma', real = True)\n",
    "alpha = Function('alpha')(x,y,z)\n",
    "beta  = Function('beta')(x,y,z)\n",
    "gamma = Function('g')(x,y,z) # Looks like gamma is predefined\n",
    "cart       = [x, y, z]\n",
    "curvCoords = [a, b, g]\n",
    "curvFuncs  = [alpha, beta, gamma]\n",
    "bx, by, bz = symbols('B_x, B_y, B_z', real = True)\n",
    "BElements  = [bx, by, bz]"
   ]
  },
  {
   "cell_type": "code",
   "execution_count": 4,
   "metadata": {
    "collapsed": true
   },
   "outputs": [],
   "source": [
    "def dot(a, b):\n",
    "    \"\"\"Returns the dot product of two vectors in cartesian coordinates\"\"\"\n",
    "    \n",
    "    return a[x]*b[x] + a[y]*b[y] + a[z]*b[z]"
   ]
  },
  {
   "cell_type": "code",
   "execution_count": 5,
   "metadata": {
    "collapsed": true
   },
   "outputs": [],
   "source": [
    "def cross(a, b):\n",
    "    \"\"\"Returns the cross product of two vectors in cartesian coordinates\"\"\"\n",
    "    crossVec = OrderedDict([(x, a[y]*b[z] - a[z]*b[y]),\n",
    "                            (y, a[z]*b[x] - a[x]*b[z]),\n",
    "                            (z, a[x]*b[y] - a[y]*b[x])])\n",
    "    return crossVec"
   ]
  },
  {
   "cell_type": "code",
   "execution_count": 6,
   "metadata": {
    "collapsed": true
   },
   "outputs": [],
   "source": [
    "def grad(func):\n",
    "    \"\"\"Returns the gradient in cartesian coordinates using diff\"\"\"\n",
    "    gradVec = OrderedDict([(x, func.diff(x)),\n",
    "                           (y, func.diff(y)),\n",
    "                           (z, func.diff(z))])\n",
    "    return gradVec"
   ]
  },
  {
   "cell_type": "code",
   "execution_count": 7,
   "metadata": {
    "collapsed": false
   },
   "outputs": [],
   "source": [
    "def matrixMul(A,B):\n",
    "    \"\"\"Returns the matrix multiplication between covariant and contravariant tensors\"\"\"\n",
    "    M = OrderedDict.fromkeys(A)\n",
    "    \n",
    "    for firstCoord in A.keys():\n",
    "        M[firstCoord] = OrderedDict.fromkeys(A)\n",
    "        for secondCoord in A.keys():\n",
    "            M[firstCoord][secondCoord] = 0\n",
    "            for thridCoord in A.keys():\n",
    "                M[firstCoord][secondCoord] += A[firstCoord][thridCoord]*B[thridCoord][secondCoord]\n",
    "            M[firstCoord][secondCoord] = simplify(M[firstCoord][secondCoord])\n",
    "            display((Eq(symbols('M_' + str(firstCoord) + '^' + str(secondCoord)), M[firstCoord][secondCoord])))\n",
    "    \n",
    "    return M"
   ]
  },
  {
   "cell_type": "code",
   "execution_count": 8,
   "metadata": {
    "collapsed": true
   },
   "outputs": [],
   "source": [
    "def printVec(vec, string=None):\n",
    "    \"\"\"Prints the vector components given the vector and a string to place on the LHS\"\"\"\n",
    "    if string == None:\n",
    "        string = ''\n",
    "        separator = ''\n",
    "    else:\n",
    "        separator = \"_\"\n",
    "    for coord in vec.keys():\n",
    "        display(Eq(symbols(string + separator + str(coord)), vec[coord]))"
   ]
  },
  {
   "cell_type": "code",
   "execution_count": 9,
   "metadata": {
    "collapsed": false
   },
   "outputs": [],
   "source": [
    "def getMetricsContra(curvFuncsAsVec):\n",
    "    \"\"\"Returns the contravariant metric tensor the new coordinates described in cartesian coordinates\"\"\"\n",
    "    G = OrderedDict()\n",
    "    \n",
    "    for firstCoord in curvFuncsAsVec.keys():\n",
    "        G[firstCoord] = OrderedDict()\n",
    "        firstFunc = curvFuncsAsVec[firstCoord]\n",
    "        for secondCoord in curvFuncsAsVec.keys():\n",
    "            secondFunc = curvFuncsAsVec[secondCoord]\n",
    "            G[firstCoord][secondCoord] = dot(grad(firstFunc), grad(secondFunc))\n",
    "            display(Eq(symbols('g^' + str(firstCoord) + '^' + str(secondCoord)) ,G[firstCoord][secondCoord]))\n",
    "    \n",
    "    return G"
   ]
  },
  {
   "cell_type": "code",
   "execution_count": 10,
   "metadata": {
    "collapsed": false
   },
   "outputs": [],
   "source": [
    "def getMetricsCov(curvFuncsAsVec, J=None):\n",
    "    \"\"\"\n",
    "    Returns the covariant metric tensor the new coordinates described in cartesian coordinates.\n",
    "    There are several ways of finding this, since the gradient is already implemented, we will use \n",
    "    equation (2.5.25) and (2.5.26) in D'Haeseleer.\n",
    "    \"\"\"\n",
    "    if J == None:\n",
    "        # Obtain Jacobian\n",
    "        curvFunc = curvFuncsAsVec.values()\n",
    "        J = getJacobian(list(curvFunc))\n",
    "    \n",
    "    coBasisVectors = OrderedDict.fromkeys(curvFuncsAsVec)\n",
    "    # Deque is used for cyclic permutations\n",
    "    coords = deque(curvFuncsAsVec.keys())\n",
    "    for _ in range(len(cart)):\n",
    "        coBasisVectors[coords[0]] = cross(grad(curvFuncsAsVec[coords[1]]), grad(curvFuncsAsVec[coords[2]]))\n",
    "        for coord in coBasisVectors[coords[0]]:\n",
    "            coBasisVectors[coords[0]][coord] *= J\n",
    "        # Cyclic permutation (rigth rotation)\n",
    "        coords.rotate(1)\n",
    "    \n",
    "    # Initialize the OrderedDict\n",
    "    G = OrderedDict()\n",
    "    \n",
    "    for firstCoord in curvFuncsAsVec.keys():\n",
    "        G[firstCoord] = OrderedDict()\n",
    "        for secondCoord in curvFuncsAsVec.keys():\n",
    "            G[firstCoord][secondCoord] = dot(coBasisVectors[firstCoord], coBasisVectors[secondCoord])\n",
    "            display(Eq(symbols('g_' + str(firstCoord) + '_' + str(secondCoord)) ,G[firstCoord][secondCoord]))\n",
    "    \n",
    "    return G"
   ]
  },
  {
   "cell_type": "code",
   "execution_count": 11,
   "metadata": {
    "collapsed": false
   },
   "outputs": [],
   "source": [
    "def getJacobian(curvFuncs):\n",
    "    \"\"\"Returns the Jacobian (equation (2.5.26) in D'Haeseleer)\"\"\"\n",
    "    J = R(1)/(dot(grad(curvFuncs[0]),cross(grad(curvFuncs[1]), grad(curvFuncs[2]))))\n",
    "\n",
    "    return J"
   ]
  },
  {
   "cell_type": "markdown",
   "metadata": {},
   "source": [
    "The Christoffel symbols reads\n",
    "\n",
    "$$\n",
    "\\Gamma^i_{kl}=\\frac{1}{2}g^{im}\n",
    "\\left(\n",
    "\\frac{\\partial g_{mk}}{\\partial x^l} + \\frac{\\partial g_{ml}}{\\partial x^k} - \\frac{\\partial g_{kl}}{\\partial x^m} \\right)\n",
    "$$"
   ]
  },
  {
   "cell_type": "code",
   "execution_count": 12,
   "metadata": {
    "collapsed": false
   },
   "outputs": [],
   "source": [
    "def getChristoffel(cov, con):\n",
    "    \"\"\"\n",
    "    Returns the Christoffel symbol of second kind given the co- and contravariant components of the metric tensor\n",
    "    \"\"\"\n",
    "    C = OrderedDict.fromkeys(con)\n",
    "    \n",
    "    for firstCoord in con.keys():\n",
    "        C[firstCoord] = OrderedDict.fromkeys(con)\n",
    "        for secondCoord in con.keys():\n",
    "            C[firstCoord][secondCoord] = OrderedDict.fromkeys(con)\n",
    "            for thirdCoord in con.keys():\n",
    "                C[firstCoord][secondCoord][thirdCoord] = 0\n",
    "                for fourthCoord in con.keys():\n",
    "                    C[firstCoord][secondCoord][thirdCoord] +=\\\n",
    "                        R(1/2)*con[firstCoord][fourthCoord]\\\n",
    "                        *(\\\n",
    "                            cov[fourthCoord][secondCoord].diff(thirdCoord)\\\n",
    "                          + cov[fourthCoord][thirdCoord].diff(secondCoord)\\\n",
    "                          - cov[secondCoord][thirdCoord].diff(fourthCoord)\\\n",
    "                         )\n",
    "                C[firstCoord][secondCoord][thirdCoord] = simplify(C[firstCoord][secondCoord][thirdCoord])\n",
    "                display(Eq(symbols('Gamma^'+str(firstCoord)+'_'+str(secondCoord)+'_'+str(thirdCoord)),\\\n",
    "                           C[firstCoord][secondCoord][thirdCoord]))\n",
    "    return C"
   ]
  },
  {
   "cell_type": "code",
   "execution_count": 13,
   "metadata": {
    "collapsed": false
   },
   "outputs": [],
   "source": [
    "def transformMetrics(m, r, cov=False):\n",
    "    \"\"\"Transform the metrics 'm' using a list of replacements 'r'\"\"\"\n",
    "    \n",
    "    if cov == False:\n",
    "        binder = '^'\n",
    "    else:\n",
    "        binder = '_'    \n",
    "    for firstCoord in m.keys():\n",
    "        for secondCoord in m[firstCoord].keys():\n",
    "            m[firstCoord][secondCoord] = simplify(m[firstCoord][secondCoord].subs(r))\n",
    "            display(Eq(symbols('g' +binder+ str(firstCoord) +binder+ str(secondCoord)), m[firstCoord][secondCoord]))\n",
    "\n",
    "    return m"
   ]
  },
  {
   "cell_type": "markdown",
   "metadata": {},
   "source": [
    "# Pathlines of B\n",
    "\n",
    "The pathlines are equal to the streamlines when the velocity does not vary with $t$. These lines will be the \"rails\" which the vectorfield is advected with if it is advected along the field lines.\n",
    "\n",
    "The definition of a streamline is\n",
    "\n",
    "$$\n",
    "\\frac{\\text{d}\\mathbf{x}_s(s)}{\\text{d}s}\\times\\mathbf{u} = 0\n",
    "$$\n",
    "\n",
    "We are here only interested that the direction of the streamlines should be parallel with the magnetic field, so we will instead calculate\n",
    "\n",
    "$$\n",
    "\\frac{\\text{d}\\mathbf{x}_s(s)}{\\text{d}s}\\times\\mathbf{B} = 0\n",
    "$$\n",
    "\n",
    "We can assign a pathline $\\mathbf{x}_s(s)$ (parametrized by $s$) of $\\mathbf{B}$, and calculate $\\mathbf{B}$ from that"
   ]
  },
  {
   "cell_type": "markdown",
   "metadata": {},
   "source": [
    "## Specification of the pathlines\n",
    "\n",
    "We now use\n",
    "\n",
    "<span style=\"color:red\"><span style=\"font-size:150%\">Note: Manual insertion in cell below!</span></span>"
   ]
  },
  {
   "cell_type": "code",
   "execution_count": 14,
   "metadata": {
    "collapsed": false
   },
   "outputs": [
    {
     "data": {
      "image/png": "[encoded data removed]",
      "text/latex": [
       "$$x_{s x} = s$$"
      ],
      "text/plain": [
       "xₛ ₓ = s"
      ]
     },
     "metadata": {},
     "output_type": "display_data"
    },
    {
     "data": {
      "image/png": "[encoded data removed]",
      "text/latex": [
       "$$x_{s y} = s$$"
      ],
      "text/plain": [
       "x_s_y = s"
      ]
     },
     "metadata": {},
     "output_type": "display_data"
    },
    {
     "data": {
      "image/png": "[encoded data removed]",
      "text/latex": [
       "$$x_{s z} = 0$$"
      ],
      "text/plain": [
       "x_s_z = 0"
      ]
     },
     "metadata": {},
     "output_type": "display_data"
    },
    {
     "name": "stdout",
     "output_type": "stream",
     "text": [
      "\n",
      " and \n",
      "\n"
     ]
    },
    {
     "data": {
      "image/png": "[encoded data removed]",
      "text/latex": [
       "$$\\frac{d}{d s} x_{s x} = 1$$"
      ],
      "text/plain": [
       "d           \n",
       "──(xₛ ₓ) = 1\n",
       "ds          "
      ]
     },
     "metadata": {},
     "output_type": "display_data"
    },
    {
     "data": {
      "image/png": "[encoded data removed]",
      "text/latex": [
       "$$\\frac{d}{d s} x_{s y} = 1$$"
      ],
      "text/plain": [
       "d            \n",
       "──(x_s_y) = 1\n",
       "ds           "
      ]
     },
     "metadata": {},
     "output_type": "display_data"
    },
    {
     "data": {
      "image/png": "[encoded data removed]",
      "text/latex": [
       "$$\\frac{d}{d s} x_{s z} = 0$$"
      ],
      "text/plain": [
       "d            \n",
       "──(x_s_z) = 0\n",
       "ds           "
      ]
     },
     "metadata": {},
     "output_type": "display_data"
    }
   ],
   "source": [
    "vecX_s = OrderedDict([\n",
    "                    (x, s),\n",
    "                    (y, s),\n",
    "                    (z, 0*s),\n",
    "                    ])\n",
    "\n",
    "printVec(vecX_s, 'x_s')\n",
    "\n",
    "print(\"\\n and \\n\")\n",
    "    \n",
    "dds_vecX_s = OrderedDict.fromkeys(cart)\n",
    "for coord in dds_vecX_s.keys():\n",
    "    dds_vecX_s[coord] = vecX_s[coord].diff(s)\n",
    "    display(Eq(Derivative(symbols(\"x_s_\" + str(coord)), s) ,dds_vecX_s[coord]))"
   ]
  },
  {
   "cell_type": "markdown",
   "metadata": {},
   "source": [
    "## Solve pathlines for B\n",
    "\n",
    "Using\n",
    "\n",
    "$$\n",
    "\\frac{\\text{d}\\mathbf{x}_s(s)}{\\text{d}s}\\times\\mathbf{B} = \\mathbf{p} = 0\n",
    "$$"
   ]
  },
  {
   "cell_type": "code",
   "execution_count": 15,
   "metadata": {
    "collapsed": true
   },
   "outputs": [],
   "source": [
    "# Make the B vector\n",
    "BVec = OrderedDict()\n",
    "for coord, elem in zip(cart, BElements):\n",
    "    BVec[coord] = elem"
   ]
  },
  {
   "cell_type": "markdown",
   "metadata": {},
   "source": [
    "We find that"
   ]
  },
  {
   "cell_type": "code",
   "execution_count": 16,
   "metadata": {
    "collapsed": false
   },
   "outputs": [
    {
     "data": {
      "image/png": "[encoded data removed]",
      "text/latex": [
       "$$p_{x} = B_{z}$$"
      ],
      "text/plain": [
       "pₓ = B_z"
      ]
     },
     "metadata": {},
     "output_type": "display_data"
    },
    {
     "data": {
      "image/png": "[encoded data removed]",
      "text/latex": [
       "$$p_{y} = - B_{z}$$"
      ],
      "text/plain": [
       "p_y = -B_z"
      ]
     },
     "metadata": {},
     "output_type": "display_data"
    },
    {
     "data": {
      "image/png": "[encoded data removed]",
      "text/latex": [
       "$$p_{z} = - B_{x} + B_{y}$$"
      ],
      "text/plain": [
       "p_z = -Bₓ + B_y"
      ]
     },
     "metadata": {},
     "output_type": "display_data"
    }
   ],
   "source": [
    "streamLineEqVec = cross(dds_vecX_s, BVec)\n",
    "printVec(streamLineEqVec, 'p')"
   ]
  },
  {
   "cell_type": "markdown",
   "metadata": {},
   "source": [
    "Solving $\\mathbf{p}=0$ gives"
   ]
  },
  {
   "cell_type": "code",
   "execution_count": 17,
   "metadata": {
    "collapsed": false
   },
   "outputs": [
    {
     "data": {
      "image/png": "[encoded data removed]",
      "text/latex": [
       "$$B_{z} = 0$$"
      ],
      "text/plain": [
       "B_z = 0"
      ]
     },
     "metadata": {},
     "output_type": "display_data"
    },
    {
     "data": {
      "image/png": "[encoded data removed]",
      "text/latex": [
       "$$B_{y} = B_{x}$$"
      ],
      "text/plain": [
       "B_y = Bₓ"
      ]
     },
     "metadata": {},
     "output_type": "display_data"
    }
   ],
   "source": [
    "eqs = []\n",
    "for coord in streamLineEqVec.keys():\n",
    "    eqs.append(Eq(streamLineEqVec[coord], 0))\n",
    "    \n",
    "sol = solve(eqs, [BVec[coord] for coord in BVec])\n",
    "replacements = []\n",
    "for elem in sol.keys():\n",
    "    replacements.append((elem, sol[elem]))\n",
    "    display(Eq(elem, sol[elem]))"
   ]
  },
  {
   "cell_type": "markdown",
   "metadata": {},
   "source": [
    "The resulting streamlines can be seen below, after further specification of the system."
   ]
  },
  {
   "cell_type": "markdown",
   "metadata": {},
   "source": [
    "# B-field equations\n",
    "\n",
    "Based on the streamlines, we will now specify the $\\mathbf{B}$-field through specification of $\\alpha$ and $\\beta$ "
   ]
  },
  {
   "cell_type": "code",
   "execution_count": 18,
   "metadata": {
    "collapsed": false
   },
   "outputs": [
    {
     "data": {
      "image/png": "[encoded data removed]",
      "text/latex": [
       "$$B_{x} = \\frac{\\partial}{\\partial y} \\alpha{\\left (x,y,z \\right )} \\frac{\\partial}{\\partial z} \\beta{\\left (x,y,z \\right )} - \\frac{\\partial}{\\partial z} \\alpha{\\left (x,y,z \\right )} \\frac{\\partial}{\\partial y} \\beta{\\left (x,y,z \\right )}$$"
      ],
      "text/plain": [
       "     ∂              ∂                ∂              ∂             \n",
       "Bₓ = ──(α(x, y, z))⋅──(β(x, y, z)) - ──(α(x, y, z))⋅──(β(x, y, z))\n",
       "     ∂y             ∂z               ∂z             ∂y            "
      ]
     },
     "metadata": {},
     "output_type": "display_data"
    },
    {
     "data": {
      "image/png": "[encoded data removed]",
      "text/latex": [
       "$$B_{y} = - \\frac{\\partial}{\\partial x} \\alpha{\\left (x,y,z \\right )} \\frac{\\partial}{\\partial z} \\beta{\\left (x,y,z \\right )} + \\frac{\\partial}{\\partial z} \\alpha{\\left (x,y,z \\right )} \\frac{\\partial}{\\partial x} \\beta{\\left (x,y,z \\right )}$$"
      ],
      "text/plain": [
       "        ∂              ∂                ∂              ∂             \n",
       "B_y = - ──(α(x, y, z))⋅──(β(x, y, z)) + ──(α(x, y, z))⋅──(β(x, y, z))\n",
       "        ∂x             ∂z               ∂z             ∂x            "
      ]
     },
     "metadata": {},
     "output_type": "display_data"
    },
    {
     "data": {
      "image/png": "[encoded data removed]",
      "text/latex": [
       "$$B_{z} = \\frac{\\partial}{\\partial x} \\alpha{\\left (x,y,z \\right )} \\frac{\\partial}{\\partial y} \\beta{\\left (x,y,z \\right )} - \\frac{\\partial}{\\partial y} \\alpha{\\left (x,y,z \\right )} \\frac{\\partial}{\\partial x} \\beta{\\left (x,y,z \\right )}$$"
      ],
      "text/plain": [
       "      ∂              ∂                ∂              ∂             \n",
       "B_z = ──(α(x, y, z))⋅──(β(x, y, z)) - ──(α(x, y, z))⋅──(β(x, y, z))\n",
       "      ∂x             ∂y               ∂y             ∂x            "
      ]
     },
     "metadata": {},
     "output_type": "display_data"
    }
   ],
   "source": [
    "B = cross(grad(alpha),grad(beta))\n",
    "\n",
    "printVec(B, 'B')"
   ]
  },
  {
   "cell_type": "markdown",
   "metadata": {},
   "source": [
    "The equation above is a statement of the $\\mathbf{B}$-vector in cartesian coordinates. From condition number 1 of the B-field above, we have that $B_i = B_i(x,y)$, meaning that $\\alpha$ and $\\beta$ can only vary linearly with $z$"
   ]
  },
  {
   "cell_type": "markdown",
   "metadata": {},
   "source": [
    "## Solve the B-field for $\\alpha$ and $\\beta$\n",
    "\n",
    "Unfortunately, sympy cannot currently (2015.12.10) solve sets of PDE.\n",
    "\n",
    "```python\n",
    "eqs = []\n",
    " for LHS, RHSkey in zip(BElements, B.keys()):\n",
    "    eqs.append(Eq(LHS, B[RHSkey]))\n",
    " pdsolve(eqs)\n",
    "```\n",
    "\n",
    "However, MAPLE can (not succeeded in Mathematica), and one of the solutions for the equations above reads"
   ]
  },
  {
   "cell_type": "markdown",
   "metadata": {},
   "source": [
    "<span style=\"color:red\"><span style=\"font-size:150%\">Note: Manual insertion in cell below!</span></span>"
   ]
  },
  {
   "cell_type": "code",
   "execution_count": 19,
   "metadata": {
    "collapsed": true
   },
   "outputs": [],
   "source": [
    "def getAlphaBeta(f1, f2, f1diff):\n",
    "    \"\"\"Returns alpha and beta\"\"\"\n",
    "    alpha = f1\n",
    "    beta  = (bx*z/f1diff) - (bz*x/f1diff) + f2\n",
    "    display(Eq(a, alpha))\n",
    "    display(Eq(b, beta))\n",
    "    return alpha, beta"
   ]
  },
  {
   "cell_type": "markdown",
   "metadata": {},
   "source": [
    "<span style=\"color:red\"><span style=\"font-size:150%\">Note: Manual insertion in cell below!</span></span>"
   ]
  },
  {
   "cell_type": "code",
   "execution_count": 20,
   "metadata": {
    "collapsed": false
   },
   "outputs": [
    {
     "data": {
      "image/png": "[encoded data removed]",
      "text/latex": [
       "$$\\alpha = \\operatorname{f_{1}}{\\left (\\xi \\right )}$$"
      ],
      "text/plain": [
       "α = f₁(ξ)"
      ]
     },
     "metadata": {},
     "output_type": "display_data"
    },
    {
     "data": {
      "image/png": "[encoded data removed]",
      "text/latex": [
       "$$\\beta = \\frac{B_{x} z}{\\frac{d}{d \\xi} \\operatorname{f_{1}}{\\left (\\xi \\right )}} - \\frac{B_{z} x}{\\frac{d}{d \\xi} \\operatorname{f_{1}}{\\left (\\xi \\right )}} + \\operatorname{f_{2}}{\\left (\\xi \\right )}$$"
      ],
      "text/plain": [
       "       Bₓ⋅z       B_z⋅x          \n",
       "β = ───────── - ───────── + f₂(ξ)\n",
       "    d           d                \n",
       "    ──(f₁(ξ))   ──(f₁(ξ))        \n",
       "    dξ          dξ               "
      ]
     },
     "metadata": {},
     "output_type": "display_data"
    },
    {
     "name": "stdout",
     "output_type": "stream",
     "text": [
      "Using\n"
     ]
    },
    {
     "data": {
      "image/png": "[encoded data removed]",
      "text/latex": [
       "$$\\xi = \\frac{1}{B_{x}} \\left(B_{x} y - B_{y} x\\right)$$"
      ],
      "text/plain": [
       "    Bₓ⋅y - B_y⋅x\n",
       "ξ = ────────────\n",
       "         Bₓ     "
      ]
     },
     "metadata": {},
     "output_type": "display_data"
    }
   ],
   "source": [
    "arg = (bx*y-by*x)/bx\n",
    "\n",
    "f1  = Function('f_1')(xi)\n",
    "f2  = Function('f_2')(xi)\n",
    "f1diff = f1.diff(xi)\n",
    "\n",
    "alpha, beta = getAlphaBeta(f1, f2, f1diff)\n",
    "\n",
    "print(\"Using\")\n",
    "display(Eq(xi, arg))"
   ]
  },
  {
   "cell_type": "markdown",
   "metadata": {},
   "source": [
    "## Specifying the equations for determining $\\alpha$ and $\\beta$\n",
    "\n",
    "We choose\n",
    "\n",
    "<span style=\"color:red\"><span style=\"font-size:150%\">Note: Manual insertion in cell below!</span></span>"
   ]
  },
  {
   "cell_type": "code",
   "execution_count": 21,
   "metadata": {
    "collapsed": true
   },
   "outputs": [],
   "source": [
    "# Just chosing the functions to something simple\n",
    "f1 = arg\n",
    "f2 = arg**2 # Square this to make sure g^ab is non-zero\n",
    "f1diff = 1"
   ]
  },
  {
   "cell_type": "code",
   "execution_count": 22,
   "metadata": {
    "collapsed": false
   },
   "outputs": [
    {
     "data": {
      "image/png": "[encoded data removed]",
      "text/latex": [
       "$$f_{1} = \\frac{1}{B_{x}} \\left(B_{x} y - B_{y} x\\right)$$"
      ],
      "text/plain": [
       "     Bₓ⋅y - B_y⋅x\n",
       "f₁ = ────────────\n",
       "          Bₓ     "
      ]
     },
     "metadata": {},
     "output_type": "display_data"
    },
    {
     "data": {
      "image/png": "[encoded data removed]",
      "text/latex": [
       "$$f_{2} = \\frac{1}{B_{x}^{2}} \\left(B_{x} y - B_{y} x\\right)^{2}$$"
      ],
      "text/plain": [
       "                   2\n",
       "     (Bₓ⋅y - B_y⋅x) \n",
       "f₂ = ───────────────\n",
       "             2      \n",
       "           Bₓ       "
      ]
     },
     "metadata": {},
     "output_type": "display_data"
    }
   ],
   "source": [
    "display(Eq(symbols('f_1'), f1))\n",
    "display(Eq(symbols('f_2'), f2))"
   ]
  },
  {
   "cell_type": "markdown",
   "metadata": {},
   "source": [
    "So that"
   ]
  },
  {
   "cell_type": "code",
   "execution_count": 23,
   "metadata": {
    "collapsed": false
   },
   "outputs": [
    {
     "data": {
      "image/png": "[encoded data removed]",
      "text/latex": [
       "$$\\alpha = \\frac{1}{B_{x}} \\left(B_{x} y - B_{y} x\\right)$$"
      ],
      "text/plain": [
       "    Bₓ⋅y - B_y⋅x\n",
       "α = ────────────\n",
       "         Bₓ     "
      ]
     },
     "metadata": {},
     "output_type": "display_data"
    },
    {
     "data": {
      "image/png": "[encoded data removed]",
      "text/latex": [
       "$$\\beta = B_{x} z - B_{z} x + \\frac{1}{B_{x}^{2}} \\left(B_{x} y - B_{y} x\\right)^{2}$$"
      ],
      "text/plain": [
       "                                 2\n",
       "                   (Bₓ⋅y - B_y⋅x) \n",
       "β = Bₓ⋅z - B_z⋅x + ───────────────\n",
       "                           2      \n",
       "                         Bₓ       "
      ]
     },
     "metadata": {},
     "output_type": "display_data"
    }
   ],
   "source": [
    "alpha, beta = getAlphaBeta(f1, f2, f1diff)"
   ]
  },
  {
   "cell_type": "markdown",
   "metadata": {},
   "source": [
    "## Specifying the coefficients for determining $\\alpha$ and $\\beta$\n",
    "\n",
    "From solving for the pathlines, we have"
   ]
  },
  {
   "cell_type": "code",
   "execution_count": 24,
   "metadata": {
    "collapsed": false
   },
   "outputs": [
    {
     "data": {
      "image/png": "[encoded data removed]",
      "text/latex": [
       "$$B_{z} = 0$$"
      ],
      "text/plain": [
       "B_z = 0"
      ]
     },
     "metadata": {},
     "output_type": "display_data"
    },
    {
     "data": {
      "image/png": "[encoded data removed]",
      "text/latex": [
       "$$B_{y} = B_{x}$$"
      ],
      "text/plain": [
       "B_y = Bₓ"
      ]
     },
     "metadata": {},
     "output_type": "display_data"
    }
   ],
   "source": [
    "display(Eq(replacements[0][0], replacements[0][1]))\n",
    "display(Eq(replacements[1][0], replacements[1][1]))"
   ]
  },
  {
   "cell_type": "markdown",
   "metadata": {},
   "source": [
    "Which gives"
   ]
  },
  {
   "cell_type": "code",
   "execution_count": 25,
   "metadata": {
    "collapsed": false
   },
   "outputs": [
    {
     "data": {
      "image/png": "[encoded data removed]",
      "text/latex": [
       "$$\\alpha = - x + y$$"
      ],
      "text/plain": [
       "α = -x + y"
      ]
     },
     "metadata": {},
     "output_type": "display_data"
    },
    {
     "data": {
      "image/png": "[encoded data removed]",
      "text/latex": [
       "$$\\beta = B_{x} z + \\left(x - y\\right)^{2}$$"
      ],
      "text/plain": [
       "                  2\n",
       "β = Bₓ⋅z + (x - y) "
      ]
     },
     "metadata": {},
     "output_type": "display_data"
    }
   ],
   "source": [
    "alpha = alpha.subs(replacements)\n",
    "beta = beta.subs(replacements)\n",
    "\n",
    "display(simplify(Eq(a, alpha)))\n",
    "display(simplify(Eq(b, beta)))"
   ]
  },
  {
   "cell_type": "markdown",
   "metadata": {},
   "source": [
    "$$\n",
    "\\nabla \\alpha \\times \\nabla \\beta\n",
    "$$\n",
    "now yields\n",
    "\n",
    "<span style=\"color:red\"><span style=\"font-size:150%\">Note: Check solution below!</span></span>"
   ]
  },
  {
   "cell_type": "code",
   "execution_count": 26,
   "metadata": {
    "collapsed": false
   },
   "outputs": [
    {
     "data": {
      "image/png": "[encoded data removed]",
      "text/latex": [
       "$$B_{x} = B_{x}$$"
      ],
      "text/plain": [
       "Bₓ = Bₓ"
      ]
     },
     "metadata": {},
     "output_type": "display_data"
    },
    {
     "data": {
      "image/png": "[encoded data removed]",
      "text/latex": [
       "$$B_{y} = B_{x}$$"
      ],
      "text/plain": [
       "B_y = Bₓ"
      ]
     },
     "metadata": {},
     "output_type": "display_data"
    },
    {
     "data": {
      "image/png": "[encoded data removed]",
      "text/latex": [
       "$$B_{z} = 0$$"
      ],
      "text/plain": [
       "B_z = 0"
      ]
     },
     "metadata": {},
     "output_type": "display_data"
    }
   ],
   "source": [
    "B = cross(grad(alpha),grad(beta))\n",
    "\n",
    "printVec(B, 'B')"
   ]
  },
  {
   "cell_type": "markdown",
   "metadata": {},
   "source": [
    "## Calculate $\\gamma$\n",
    "\n",
    "From D'Haeseleer equation (5.3.9) we have\n",
    "$$\n",
    "\\mathbf{b}\\cdot\\nabla\\gamma = 1\n",
    "$$\n",
    "which means that\n",
    "$$\n",
    "\\mathbf{B}\\cdot\\nabla\\gamma = B\n",
    "$$\n",
    "\n",
    "We can use this to solve for $\\gamma$.\n",
    "\n",
    "As our $\\mathbf{B}$-field reads"
   ]
  },
  {
   "cell_type": "code",
   "execution_count": 27,
   "metadata": {
    "collapsed": false
   },
   "outputs": [
    {
     "data": {
      "image/png": "[encoded data removed]",
      "text/latex": [
       "$$B_{x} = B_{x}$$"
      ],
      "text/plain": [
       "Bₓ = Bₓ"
      ]
     },
     "metadata": {},
     "output_type": "display_data"
    },
    {
     "data": {
      "image/png": "[encoded data removed]",
      "text/latex": [
       "$$B_{y} = B_{x}$$"
      ],
      "text/plain": [
       "B_y = Bₓ"
      ]
     },
     "metadata": {},
     "output_type": "display_data"
    },
    {
     "data": {
      "image/png": "[encoded data removed]",
      "text/latex": [
       "$$B_{z} = 0$$"
      ],
      "text/plain": [
       "B_z = 0"
      ]
     },
     "metadata": {},
     "output_type": "display_data"
    }
   ],
   "source": [
    "BSpecified = cross(grad(alpha),grad(beta))\n",
    "printVec(BSpecified, 'B')"
   ]
  },
  {
   "cell_type": "markdown",
   "metadata": {},
   "source": [
    "We get the following equation to solve"
   ]
  },
  {
   "cell_type": "code",
   "execution_count": 28,
   "metadata": {
    "collapsed": false
   },
   "outputs": [
    {
     "data": {
      "image/png": "[encoded data removed]",
      "text/latex": [
       "$$B_{x} \\frac{\\partial}{\\partial x} g{\\left (x,y,z \\right )} + B_{x} \\frac{\\partial}{\\partial y} g{\\left (x,y,z \\right )} = 2 B_{x}^{2}$$"
      ],
      "text/plain": [
       "   ∂                   ∂                    2\n",
       "Bₓ⋅──(g(x, y, z)) + Bₓ⋅──(g(x, y, z)) = 2⋅Bₓ \n",
       "   ∂x                  ∂y                    "
      ]
     },
     "metadata": {},
     "output_type": "display_data"
    }
   ],
   "source": [
    "gammaEq = Eq(dot(BSpecified,grad(gamma)), dot(BSpecified,BSpecified))\n",
    "display(gammaEq)"
   ]
  },
  {
   "cell_type": "markdown",
   "metadata": {},
   "source": [
    "Unfortunately sympy currently (2015.12.10) throws the error\n",
    "\n",
    "\"Right now only partial differential equations of two variables are supported\"\n",
    "\n",
    "When trying run the following code\n",
    "```python\n",
    "print(\"Solving this gives\")\n",
    "gamma = pdsolve(eq)\n",
    "display(gamma)\n",
    "```\n",
    "However, the equation is of such form that the solution of the equation above is the same for $g(x,y)$ and $g(x,y,z)$ up to a constant function $F(z)$. This means that the following is a solution"
   ]
  },
  {
   "cell_type": "code",
   "execution_count": 29,
   "metadata": {
    "collapsed": false
   },
   "outputs": [
    {
     "data": {
      "image/png": "[encoded data removed]",
      "text/latex": [
       "$$g{\\left (x,y \\right )} = B_{x} x + B_{x} y + F{\\left (B_{x} \\left(x - y\\right) \\right )}$$"
      ],
      "text/plain": [
       "g(x, y) = Bₓ⋅x + Bₓ⋅y + F(Bₓ⋅(x - y))"
      ]
     },
     "metadata": {},
     "output_type": "display_data"
    }
   ],
   "source": [
    "gammaTempF = Function('g')(x,y)\n",
    "eq = Eq(dot(BSpecified,grad(gammaTempF)), dot(BSpecified,BSpecified))\n",
    "gammaTemp = pdsolve(eq)\n",
    "\n",
    "gammaTempRHS = gammaTemp.rhs\n",
    "display(Eq(gammaTempF, gammaTempRHS))"
   ]
  },
  {
   "cell_type": "markdown",
   "metadata": {},
   "source": [
    "Where $F$ is also a function of $z$."
   ]
  },
  {
   "cell_type": "markdown",
   "metadata": {},
   "source": [
    "## Specifying equations for determining $\\gamma$\n",
    "\n",
    "We are now choosing the function\n",
    "\n",
    "<span style=\"color:red\"><span style=\"font-size:150%\">Note: Manual insertion in cell below!</span></span>"
   ]
  },
  {
   "cell_type": "code",
   "execution_count": 30,
   "metadata": {
    "collapsed": true
   },
   "outputs": [],
   "source": [
    "f1 = bx*(x-y)**2 + bx*(x-y)\n",
    "f2 = z\n",
    "f = f1+f2\n",
    "gamma = bx*(x+y) + f"
   ]
  },
  {
   "cell_type": "code",
   "execution_count": 31,
   "metadata": {
    "collapsed": false
   },
   "outputs": [
    {
     "data": {
      "image/png": "[encoded data removed]",
      "text/latex": [
       "$$F = B_{x} \\left(x - y\\right)^{2} + B_{x} \\left(x - y\\right) + z$$"
      ],
      "text/plain": [
       "              2                 \n",
       "F = Bₓ⋅(x - y)  + Bₓ⋅(x - y) + z"
      ]
     },
     "metadata": {},
     "output_type": "display_data"
    }
   ],
   "source": [
    "display(Eq(symbols('F'), f))"
   ]
  },
  {
   "cell_type": "markdown",
   "metadata": {},
   "source": [
    "Which gives"
   ]
  },
  {
   "cell_type": "code",
   "execution_count": 32,
   "metadata": {
    "collapsed": false
   },
   "outputs": [
    {
     "data": {
      "image/png": "[encoded data removed]",
      "text/latex": [
       "$$\\gamma = B_{x} \\left(x - y\\right)^{2} + B_{x} \\left(x - y\\right) + B_{x} \\left(x + y\\right) + z$$"
      ],
      "text/plain": [
       "              2                              \n",
       "γ = Bₓ⋅(x - y)  + Bₓ⋅(x - y) + Bₓ⋅(x + y) + z"
      ]
     },
     "metadata": {},
     "output_type": "display_data"
    }
   ],
   "source": [
    "display(Eq(g,gamma))"
   ]
  },
  {
   "cell_type": "markdown",
   "metadata": {},
   "source": [
    "## The set of equations"
   ]
  },
  {
   "cell_type": "code",
   "execution_count": 33,
   "metadata": {
    "collapsed": false
   },
   "outputs": [],
   "source": [
    "# Check if a solution is found\n",
    "check = simplify(Eq(gammaEq.rhs, gammaEq.lhs.subs([(Function('g')(x,y,z), gamma)]).doit()))\n",
    "if check != True:\n",
    "    display(check)\n",
    "    raise RuntimeError (\"Gamma is not a solution\")"
   ]
  },
  {
   "cell_type": "markdown",
   "metadata": {},
   "source": [
    "We now have the set of equations"
   ]
  },
  {
   "cell_type": "code",
   "execution_count": 34,
   "metadata": {
    "collapsed": false
   },
   "outputs": [
    {
     "data": {
      "image/png": "[encoded data removed]",
      "text/latex": [
       "$$\\alpha = \\frac{1}{B_{x}} \\left(- B_{x} x + B_{x} y\\right)$$"
      ],
      "text/plain": [
       "    -Bₓ⋅x + Bₓ⋅y\n",
       "α = ────────────\n",
       "         Bₓ     "
      ]
     },
     "metadata": {},
     "output_type": "display_data"
    },
    {
     "data": {
      "image/png": "[encoded data removed]",
      "text/latex": [
       "$$\\beta = B_{x} z + \\frac{1}{B_{x}^{2}} \\left(- B_{x} x + B_{x} y\\right)^{2}$$"
      ],
      "text/plain": [
       "                         2\n",
       "           (-Bₓ⋅x + Bₓ⋅y) \n",
       "β = Bₓ⋅z + ───────────────\n",
       "                   2      \n",
       "                 Bₓ       "
      ]
     },
     "metadata": {},
     "output_type": "display_data"
    },
    {
     "data": {
      "image/png": "[encoded data removed]",
      "text/latex": [
       "$$\\gamma = B_{x} \\left(x - y\\right)^{2} + B_{x} \\left(x - y\\right) + B_{x} \\left(x + y\\right) + z$$"
      ],
      "text/plain": [
       "              2                              \n",
       "γ = Bₓ⋅(x - y)  + Bₓ⋅(x - y) + Bₓ⋅(x + y) + z"
      ]
     },
     "metadata": {},
     "output_type": "display_data"
    }
   ],
   "source": [
    "# Setting the functions\n",
    "curvFuncsBUnspecified = [alpha, beta, gamma]\n",
    "invCoordBUnspecified = OrderedDict.fromkeys(curvCoords)\n",
    "for coord, func in zip(invCoordBUnspecified.keys(), curvFuncsBUnspecified):\n",
    "    invCoordBUnspecified[coord] = func\n",
    "    display(Eq(coord, func))"
   ]
  },
  {
   "cell_type": "markdown",
   "metadata": {},
   "source": [
    "# Metric tensor equations and Christoffel symbols\n",
    "\n",
    "We would now calculate the metric tensors, and check that the Christoffel symbols are non-zero."
   ]
  },
  {
   "cell_type": "markdown",
   "metadata": {},
   "source": [
    "Unspecified, the metric tensor gives"
   ]
  },
  {
   "cell_type": "code",
   "execution_count": 35,
   "metadata": {
    "collapsed": false
   },
   "outputs": [
    {
     "data": {
      "image/png": "[encoded data removed]",
      "text/latex": [
       "$$g^{\\alpha \\alpha} = \\left(\\frac{\\partial}{\\partial x} \\alpha{\\left (x,y,z \\right )}\\right)^{2} + \\left(\\frac{\\partial}{\\partial y} \\alpha{\\left (x,y,z \\right )}\\right)^{2} + \\left(\\frac{\\partial}{\\partial z} \\alpha{\\left (x,y,z \\right )}\\right)^{2}$$"
      ],
      "text/plain": [
       "                          2                   2                   2\n",
       "          ⎛∂             ⎞    ⎛∂             ⎞    ⎛∂             ⎞ \n",
       "g__α__α = ⎜──(α(x, y, z))⎟  + ⎜──(α(x, y, z))⎟  + ⎜──(α(x, y, z))⎟ \n",
       "          ⎝∂x            ⎠    ⎝∂y            ⎠    ⎝∂z            ⎠ "
      ]
     },
     "metadata": {},
     "output_type": "display_data"
    },
    {
     "data": {
      "image/png": "[encoded data removed]",
      "text/latex": [
       "$$g^{\\alpha \\beta} = \\frac{\\partial}{\\partial x} \\alpha{\\left (x,y,z \\right )} \\frac{\\partial}{\\partial x} \\beta{\\left (x,y,z \\right )} + \\frac{\\partial}{\\partial y} \\alpha{\\left (x,y,z \\right )} \\frac{\\partial}{\\partial y} \\beta{\\left (x,y,z \\right )} + \\frac{\\partial}{\\partial z} \\alpha{\\left (x,y,z \\right )} \\frac{\\partial}{\\partial z} \\beta{\\left (x,y,z \\right )}$$"
      ],
      "text/plain": [
       "          ∂              ∂                ∂              ∂                ∂   \n",
       "g__α__β = ──(α(x, y, z))⋅──(β(x, y, z)) + ──(α(x, y, z))⋅──(β(x, y, z)) + ──(α\n",
       "          ∂x             ∂x               ∂y             ∂y               ∂z  \n",
       "\n",
       "           ∂             \n",
       "(x, y, z))⋅──(β(x, y, z))\n",
       "           ∂z            "
      ]
     },
     "metadata": {},
     "output_type": "display_data"
    },
    {
     "data": {
      "image/png": "[encoded data removed]",
      "text/latex": [
       "$$g^{\\alpha \\gamma} = \\frac{\\partial}{\\partial x} \\alpha{\\left (x,y,z \\right )} \\frac{\\partial}{\\partial x} g{\\left (x,y,z \\right )} + \\frac{\\partial}{\\partial y} \\alpha{\\left (x,y,z \\right )} \\frac{\\partial}{\\partial y} g{\\left (x,y,z \\right )} + \\frac{\\partial}{\\partial z} \\alpha{\\left (x,y,z \\right )} \\frac{\\partial}{\\partial z} g{\\left (x,y,z \\right )}$$"
      ],
      "text/plain": [
       "          ∂              ∂                ∂              ∂                ∂   \n",
       "g__α__γ = ──(α(x, y, z))⋅──(g(x, y, z)) + ──(α(x, y, z))⋅──(g(x, y, z)) + ──(α\n",
       "          ∂x             ∂x               ∂y             ∂y               ∂z  \n",
       "\n",
       "           ∂             \n",
       "(x, y, z))⋅──(g(x, y, z))\n",
       "           ∂z            "
      ]
     },
     "metadata": {},
     "output_type": "display_data"
    },
    {
     "data": {
      "image/png": "[encoded data removed]",
      "text/latex": [
       "$$g^{\\beta \\alpha} = \\frac{\\partial}{\\partial x} \\alpha{\\left (x,y,z \\right )} \\frac{\\partial}{\\partial x} \\beta{\\left (x,y,z \\right )} + \\frac{\\partial}{\\partial y} \\alpha{\\left (x,y,z \\right )} \\frac{\\partial}{\\partial y} \\beta{\\left (x,y,z \\right )} + \\frac{\\partial}{\\partial z} \\alpha{\\left (x,y,z \\right )} \\frac{\\partial}{\\partial z} \\beta{\\left (x,y,z \\right )}$$"
      ],
      "text/plain": [
       "          ∂              ∂                ∂              ∂                ∂   \n",
       "g__β__α = ──(α(x, y, z))⋅──(β(x, y, z)) + ──(α(x, y, z))⋅──(β(x, y, z)) + ──(α\n",
       "          ∂x             ∂x               ∂y             ∂y               ∂z  \n",
       "\n",
       "           ∂             \n",
       "(x, y, z))⋅──(β(x, y, z))\n",
       "           ∂z            "
      ]
     },
     "metadata": {},
     "output_type": "display_data"
    },
    {
     "data": {
      "image/png": "[encoded data removed]",
      "text/latex": [
       "$$g^{\\beta \\beta} = \\left(\\frac{\\partial}{\\partial x} \\beta{\\left (x,y,z \\right )}\\right)^{2} + \\left(\\frac{\\partial}{\\partial y} \\beta{\\left (x,y,z \\right )}\\right)^{2} + \\left(\\frac{\\partial}{\\partial z} \\beta{\\left (x,y,z \\right )}\\right)^{2}$$"
      ],
      "text/plain": [
       "                          2                   2                   2\n",
       "          ⎛∂             ⎞    ⎛∂             ⎞    ⎛∂             ⎞ \n",
       "g__β__β = ⎜──(β(x, y, z))⎟  + ⎜──(β(x, y, z))⎟  + ⎜──(β(x, y, z))⎟ \n",
       "          ⎝∂x            ⎠    ⎝∂y            ⎠    ⎝∂z            ⎠ "
      ]
     },
     "metadata": {},
     "output_type": "display_data"
    },
    {
     "data": {
      "image/png": "[encoded data removed]",
      "text/latex": [
       "$$g^{\\beta \\gamma} = \\frac{\\partial}{\\partial x} \\beta{\\left (x,y,z \\right )} \\frac{\\partial}{\\partial x} g{\\left (x,y,z \\right )} + \\frac{\\partial}{\\partial y} \\beta{\\left (x,y,z \\right )} \\frac{\\partial}{\\partial y} g{\\left (x,y,z \\right )} + \\frac{\\partial}{\\partial z} \\beta{\\left (x,y,z \\right )} \\frac{\\partial}{\\partial z} g{\\left (x,y,z \\right )}$$"
      ],
      "text/plain": [
       "          ∂              ∂                ∂              ∂                ∂   \n",
       "g__β__γ = ──(β(x, y, z))⋅──(g(x, y, z)) + ──(β(x, y, z))⋅──(g(x, y, z)) + ──(β\n",
       "          ∂x             ∂x               ∂y             ∂y               ∂z  \n",
       "\n",
       "           ∂             \n",
       "(x, y, z))⋅──(g(x, y, z))\n",
       "           ∂z            "
      ]
     },
     "metadata": {},
     "output_type": "display_data"
    },
    {
     "data": {
      "image/png": "[encoded data removed]",
      "text/latex": [
       "$$g^{\\gamma \\alpha} = \\frac{\\partial}{\\partial x} \\alpha{\\left (x,y,z \\right )} \\frac{\\partial}{\\partial x} g{\\left (x,y,z \\right )} + \\frac{\\partial}{\\partial y} \\alpha{\\left (x,y,z \\right )} \\frac{\\partial}{\\partial y} g{\\left (x,y,z \\right )} + \\frac{\\partial}{\\partial z} \\alpha{\\left (x,y,z \\right )} \\frac{\\partial}{\\partial z} g{\\left (x,y,z \\right )}$$"
      ],
      "text/plain": [
       "          ∂              ∂                ∂              ∂                ∂   \n",
       "g__γ__α = ──(α(x, y, z))⋅──(g(x, y, z)) + ──(α(x, y, z))⋅──(g(x, y, z)) + ──(α\n",
       "          ∂x             ∂x               ∂y             ∂y               ∂z  \n",
       "\n",
       "           ∂             \n",
       "(x, y, z))⋅──(g(x, y, z))\n",
       "           ∂z            "
      ]
     },
     "metadata": {},
     "output_type": "display_data"
    },
    {
     "data": {
      "image/png": "[encoded data removed]",
      "text/latex": [
       "$$g^{\\gamma \\beta} = \\frac{\\partial}{\\partial x} \\beta{\\left (x,y,z \\right )} \\frac{\\partial}{\\partial x} g{\\left (x,y,z \\right )} + \\frac{\\partial}{\\partial y} \\beta{\\left (x,y,z \\right )} \\frac{\\partial}{\\partial y} g{\\left (x,y,z \\right )} + \\frac{\\partial}{\\partial z} \\beta{\\left (x,y,z \\right )} \\frac{\\partial}{\\partial z} g{\\left (x,y,z \\right )}$$"
      ],
      "text/plain": [
       "          ∂              ∂                ∂              ∂                ∂   \n",
       "g__γ__β = ──(β(x, y, z))⋅──(g(x, y, z)) + ──(β(x, y, z))⋅──(g(x, y, z)) + ──(β\n",
       "          ∂x             ∂x               ∂y             ∂y               ∂z  \n",
       "\n",
       "           ∂             \n",
       "(x, y, z))⋅──(g(x, y, z))\n",
       "           ∂z            "
      ]
     },
     "metadata": {},
     "output_type": "display_data"
    },
    {
     "data": {
      "image/png": "[encoded data removed]",
      "text/latex": [
       "$$g^{\\gamma \\gamma} = \\left(\\frac{\\partial}{\\partial x} g{\\left (x,y,z \\right )}\\right)^{2} + \\left(\\frac{\\partial}{\\partial y} g{\\left (x,y,z \\right )}\\right)^{2} + \\left(\\frac{\\partial}{\\partial z} g{\\left (x,y,z \\right )}\\right)^{2}$$"
      ],
      "text/plain": [
       "                          2                   2                   2\n",
       "          ⎛∂             ⎞    ⎛∂             ⎞    ⎛∂             ⎞ \n",
       "g__γ__γ = ⎜──(g(x, y, z))⎟  + ⎜──(g(x, y, z))⎟  + ⎜──(g(x, y, z))⎟ \n",
       "          ⎝∂x            ⎠    ⎝∂y            ⎠    ⎝∂z            ⎠ "
      ]
     },
     "metadata": {},
     "output_type": "display_data"
    }
   ],
   "source": [
    "# Make a vector out of curvFuncs\n",
    "curvFuncsAsVec = OrderedDict(zip(curvCoords, curvFuncs))\n",
    "G = getMetricsContra(curvFuncsAsVec)"
   ]
  },
  {
   "cell_type": "markdown",
   "metadata": {},
   "source": [
    "Using the specified functions, we get"
   ]
  },
  {
   "cell_type": "code",
   "execution_count": 36,
   "metadata": {
    "collapsed": false
   },
   "outputs": [
    {
     "data": {
      "image/png": "[encoded data removed]",
      "text/latex": [
       "$$g^{\\alpha \\alpha} = 2$$"
      ],
      "text/plain": [
       "g__α__α = 2"
      ]
     },
     "metadata": {},
     "output_type": "display_data"
    },
    {
     "data": {
      "image/png": "[encoded data removed]",
      "text/latex": [
       "$$g^{\\alpha \\beta} = \\frac{1}{B_{x}} \\left(- 4 B_{x} x + 4 B_{x} y\\right)$$"
      ],
      "text/plain": [
       "          4⋅(-Bₓ⋅x + Bₓ⋅y)\n",
       "g__α__β = ────────────────\n",
       "                 Bₓ       "
      ]
     },
     "metadata": {},
     "output_type": "display_data"
    },
    {
     "data": {
      "image/png": "[encoded data removed]",
      "text/latex": [
       "$$g^{\\alpha \\gamma} = B_{x} \\left(- 2 x + 2 y\\right) - B_{x} \\left(2 x - 2 y\\right) - 2 B_{x}$$"
      ],
      "text/plain": [
       "g__α__γ = Bₓ⋅(-2⋅x + 2⋅y) - Bₓ⋅(2⋅x - 2⋅y) - 2⋅Bₓ"
      ]
     },
     "metadata": {},
     "output_type": "display_data"
    },
    {
     "data": {
      "image/png": "[encoded data removed]",
      "text/latex": [
       "$$g^{\\beta \\alpha} = \\frac{1}{B_{x}} \\left(- 4 B_{x} x + 4 B_{x} y\\right)$$"
      ],
      "text/plain": [
       "          4⋅(-Bₓ⋅x + Bₓ⋅y)\n",
       "g__β__α = ────────────────\n",
       "                 Bₓ       "
      ]
     },
     "metadata": {},
     "output_type": "display_data"
    },
    {
     "data": {
      "image/png": "[encoded data removed]",
      "text/latex": [
       "$$g^{\\beta \\beta} = B_{x}^{2} + \\frac{8}{B_{x}^{2}} \\left(- B_{x} x + B_{x} y\\right)^{2}$$"
      ],
      "text/plain": [
       "                                2\n",
       "            2   8⋅(-Bₓ⋅x + Bₓ⋅y) \n",
       "g__β__β = Bₓ  + ─────────────────\n",
       "                         2       \n",
       "                       Bₓ        "
      ]
     },
     "metadata": {},
     "output_type": "display_data"
    },
    {
     "data": {
      "image/png": "[encoded data removed]",
      "text/latex": [
       "$$g^{\\beta \\gamma} = B_{x} + 2 \\left(- 2 x + 2 y\\right) \\left(- B_{x} x + B_{x} y\\right) - \\frac{2}{B_{x}} \\left(- B_{x} x + B_{x} y\\right) \\left(B_{x} \\left(2 x - 2 y\\right) + 2 B_{x}\\right)$$"
      ],
      "text/plain": [
       "                                               2⋅(-Bₓ⋅x + Bₓ⋅y)⋅(Bₓ⋅(2⋅x - 2⋅y\n",
       "g__β__γ = Bₓ + 2⋅(-2⋅x + 2⋅y)⋅(-Bₓ⋅x + Bₓ⋅y) - ───────────────────────────────\n",
       "                                                                  Bₓ          \n",
       "\n",
       ") + 2⋅Bₓ)\n",
       "─────────\n",
       "         "
      ]
     },
     "metadata": {},
     "output_type": "display_data"
    },
    {
     "data": {
      "image/png": "[encoded data removed]",
      "text/latex": [
       "$$g^{\\gamma \\alpha} = B_{x} \\left(- 2 x + 2 y\\right) - B_{x} \\left(2 x - 2 y\\right) - 2 B_{x}$$"
      ],
      "text/plain": [
       "g__γ__α = Bₓ⋅(-2⋅x + 2⋅y) - Bₓ⋅(2⋅x - 2⋅y) - 2⋅Bₓ"
      ]
     },
     "metadata": {},
     "output_type": "display_data"
    },
    {
     "data": {
      "image/png": "[encoded data removed]",
      "text/latex": [
       "$$g^{\\gamma \\beta} = B_{x} + 2 \\left(- 2 x + 2 y\\right) \\left(- B_{x} x + B_{x} y\\right) - \\frac{2}{B_{x}} \\left(- B_{x} x + B_{x} y\\right) \\left(B_{x} \\left(2 x - 2 y\\right) + 2 B_{x}\\right)$$"
      ],
      "text/plain": [
       "                                               2⋅(-Bₓ⋅x + Bₓ⋅y)⋅(Bₓ⋅(2⋅x - 2⋅y\n",
       "g__γ__β = Bₓ + 2⋅(-2⋅x + 2⋅y)⋅(-Bₓ⋅x + Bₓ⋅y) - ───────────────────────────────\n",
       "                                                                  Bₓ          \n",
       "\n",
       ") + 2⋅Bₓ)\n",
       "─────────\n",
       "         "
      ]
     },
     "metadata": {},
     "output_type": "display_data"
    },
    {
     "data": {
      "image/png": "[encoded data removed]",
      "text/latex": [
       "$$g^{\\gamma \\gamma} = B_{x}^{2} \\left(- 2 x + 2 y\\right)^{2} + \\left(B_{x} \\left(2 x - 2 y\\right) + 2 B_{x}\\right)^{2} + 1$$"
      ],
      "text/plain": [
       "            2             2                          2    \n",
       "g__γ__γ = Bₓ ⋅(-2⋅x + 2⋅y)  + (Bₓ⋅(2⋅x - 2⋅y) + 2⋅Bₓ)  + 1"
      ]
     },
     "metadata": {},
     "output_type": "display_data"
    }
   ],
   "source": [
    "curvFuncsBUnspecifiedAsVec = OrderedDict(zip(curvCoords, curvFuncsBUnspecified))\n",
    "GBUnspecified = getMetricsContra(curvFuncsBUnspecifiedAsVec)"
   ]
  },
  {
   "cell_type": "markdown",
   "metadata": {},
   "source": [
    "# Specifying the undetermined coefficients in B"
   ]
  },
  {
   "cell_type": "markdown",
   "metadata": {},
   "source": [
    "We now set\n",
    "\n",
    "<span style=\"color:red\"><span style=\"font-size:150%\">Note: Manual insertion in cell below!</span></span>"
   ]
  },
  {
   "cell_type": "code",
   "execution_count": 37,
   "metadata": {
    "collapsed": false
   },
   "outputs": [
    {
     "data": {
      "image/png": "[encoded data removed]",
      "text/latex": [
       "$$B_{x} = 1$$"
      ],
      "text/plain": [
       "Bₓ = 1"
      ]
     },
     "metadata": {},
     "output_type": "display_data"
    }
   ],
   "source": [
    "replacement = [(bx, 1)]\n",
    "display(Eq(replacement[0][0], replacement[0][1]))\n",
    "invCoordBSpecified = OrderedDict.fromkeys(curvCoords)"
   ]
  },
  {
   "cell_type": "markdown",
   "metadata": {},
   "source": [
    "This gives the coordinates"
   ]
  },
  {
   "cell_type": "code",
   "execution_count": 38,
   "metadata": {
    "collapsed": false
   },
   "outputs": [
    {
     "data": {
      "image/png": "[encoded data removed]",
      "text/latex": [
       "$$\\alpha = - x + y$$"
      ],
      "text/plain": [
       "α = -x + y"
      ]
     },
     "metadata": {},
     "output_type": "display_data"
    },
    {
     "data": {
      "image/png": "[encoded data removed]",
      "text/latex": [
       "$$\\beta = z + \\left(x - y\\right)^{2}$$"
      ],
      "text/plain": [
       "               2\n",
       "β = z + (x - y) "
      ]
     },
     "metadata": {},
     "output_type": "display_data"
    },
    {
     "data": {
      "image/png": "[encoded data removed]",
      "text/latex": [
       "$$\\gamma = 2 x + z + \\left(x - y\\right)^{2}$$"
      ],
      "text/plain": [
       "                     2\n",
       "γ = 2⋅x + z + (x - y) "
      ]
     },
     "metadata": {},
     "output_type": "display_data"
    }
   ],
   "source": [
    "curvFuncsBSpecified = []\n",
    "eqs = []\n",
    "for coord in invCoordBSpecified.keys():\n",
    "    invCoordBSpecified[coord] = simplify(invCoordBUnspecified[coord].subs(replacement))\n",
    "    eqs.append(Eq(coord, invCoordBSpecified[coord]))\n",
    "    curvFuncsBSpecified.append(invCoordBSpecified[coord])\n",
    "\n",
    "    \n",
    "printVec(invCoordBSpecified)"
   ]
  },
  {
   "cell_type": "markdown",
   "metadata": {},
   "source": [
    "With the inverse"
   ]
  },
  {
   "cell_type": "code",
   "execution_count": 39,
   "metadata": {
    "collapsed": false
   },
   "outputs": [
    {
     "data": {
      "image/png": "[encoded data removed]",
      "text/latex": [
       "$$x = - \\frac{\\beta}{2} + \\frac{\\gamma}{2}$$"
      ],
      "text/plain": [
       "      β   γ\n",
       "x = - ─ + ─\n",
       "      2   2"
      ]
     },
     "metadata": {},
     "output_type": "display_data"
    },
    {
     "data": {
      "image/png": "[encoded data removed]",
      "text/latex": [
       "$$y = \\alpha - \\frac{\\beta}{2} + \\frac{\\gamma}{2}$$"
      ],
      "text/plain": [
       "        β   γ\n",
       "y = α - ─ + ─\n",
       "        2   2"
      ]
     },
     "metadata": {},
     "output_type": "display_data"
    },
    {
     "data": {
      "image/png": "[encoded data removed]",
      "text/latex": [
       "$$z = - \\alpha^{2} + \\beta$$"
      ],
      "text/plain": [
       "       2    \n",
       "z = - α  + β"
      ]
     },
     "metadata": {},
     "output_type": "display_data"
    }
   ],
   "source": [
    "sol = solve(eqs, cart)\n",
    "replaceToNewSystem = []\n",
    "for coord, RHS in zip(cart, sol[0]):\n",
    "    replaceToNewSystem.append((coord, RHS))\n",
    "    display(Eq(coord, RHS))"
   ]
  },
  {
   "cell_type": "markdown",
   "metadata": {},
   "source": [
    "### The resulting jacobian"
   ]
  },
  {
   "cell_type": "code",
   "execution_count": 40,
   "metadata": {
    "collapsed": false
   },
   "outputs": [
    {
     "data": {
      "image/png": "[encoded data removed]",
      "text/latex": [
       "$$J = \\frac{1}{2}$$"
      ],
      "text/plain": [
       "J = 1/2"
      ]
     },
     "metadata": {},
     "output_type": "display_data"
    }
   ],
   "source": [
    "J = getJacobian(list(curvFuncsBSpecified))\n",
    "display(Eq(symbols('J'), J))"
   ]
  },
  {
   "cell_type": "markdown",
   "metadata": {},
   "source": [
    "### The resulting contravariant metric coefficients"
   ]
  },
  {
   "cell_type": "code",
   "execution_count": 41,
   "metadata": {
    "collapsed": false,
    "scrolled": true
   },
   "outputs": [
    {
     "data": {
      "image/png": "[encoded data removed]",
      "text/latex": [
       "$$g^{\\alpha \\alpha} = 2$$"
      ],
      "text/plain": [
       "g__α__α = 2"
      ]
     },
     "metadata": {},
     "output_type": "display_data"
    },
    {
     "data": {
      "image/png": "[encoded data removed]",
      "text/latex": [
       "$$g^{\\alpha \\beta} = - 4 x + 4 y$$"
      ],
      "text/plain": [
       "g__α__β = -4⋅x + 4⋅y"
      ]
     },
     "metadata": {},
     "output_type": "display_data"
    },
    {
     "data": {
      "image/png": "[encoded data removed]",
      "text/latex": [
       "$$g^{\\alpha \\gamma} = - 4 x + 4 y - 2$$"
      ],
      "text/plain": [
       "g__α__γ = -4⋅x + 4⋅y - 2"
      ]
     },
     "metadata": {},
     "output_type": "display_data"
    },
    {
     "data": {
      "image/png": "[encoded data removed]",
      "text/latex": [
       "$$g^{\\beta \\alpha} = - 4 x + 4 y$$"
      ],
      "text/plain": [
       "g__β__α = -4⋅x + 4⋅y"
      ]
     },
     "metadata": {},
     "output_type": "display_data"
    },
    {
     "data": {
      "image/png": "[encoded data removed]",
      "text/latex": [
       "$$g^{\\beta \\beta} = \\left(- 2 x + 2 y\\right)^{2} + \\left(2 x - 2 y\\right)^{2} + 1$$"
      ],
      "text/plain": [
       "                      2              2    \n",
       "g__β__β = (-2⋅x + 2⋅y)  + (2⋅x - 2⋅y)  + 1"
      ]
     },
     "metadata": {},
     "output_type": "display_data"
    },
    {
     "data": {
      "image/png": "[encoded data removed]",
      "text/latex": [
       "$$g^{\\beta \\gamma} = \\left(- 2 x + 2 y\\right)^{2} + \\left(2 x - 2 y\\right) \\left(2 x - 2 y + 2\\right) + 1$$"
      ],
      "text/plain": [
       "                      2                                  \n",
       "g__β__γ = (-2⋅x + 2⋅y)  + (2⋅x - 2⋅y)⋅(2⋅x - 2⋅y + 2) + 1"
      ]
     },
     "metadata": {},
     "output_type": "display_data"
    },
    {
     "data": {
      "image/png": "[encoded data removed]",
      "text/latex": [
       "$$g^{\\gamma \\alpha} = - 4 x + 4 y - 2$$"
      ],
      "text/plain": [
       "g__γ__α = -4⋅x + 4⋅y - 2"
      ]
     },
     "metadata": {},
     "output_type": "display_data"
    },
    {
     "data": {
      "image/png": "[encoded data removed]",
      "text/latex": [
       "$$g^{\\gamma \\beta} = \\left(- 2 x + 2 y\\right)^{2} + \\left(2 x - 2 y\\right) \\left(2 x - 2 y + 2\\right) + 1$$"
      ],
      "text/plain": [
       "                      2                                  \n",
       "g__γ__β = (-2⋅x + 2⋅y)  + (2⋅x - 2⋅y)⋅(2⋅x - 2⋅y + 2) + 1"
      ]
     },
     "metadata": {},
     "output_type": "display_data"
    },
    {
     "data": {
      "image/png": "[encoded data removed]",
      "text/latex": [
       "$$g^{\\gamma \\gamma} = \\left(- 2 x + 2 y\\right)^{2} + \\left(2 x - 2 y + 2\\right)^{2} + 1$$"
      ],
      "text/plain": [
       "                      2                  2    \n",
       "g__γ__γ = (-2⋅x + 2⋅y)  + (2⋅x - 2⋅y + 2)  + 1"
      ]
     },
     "metadata": {},
     "output_type": "display_data"
    }
   ],
   "source": [
    "curvFuncsBSpecifiedAsVec = OrderedDict(zip(curvCoords, curvFuncsBSpecified))\n",
    "GBSpecified = getMetricsContra(curvFuncsBSpecifiedAsVec)"
   ]
  },
  {
   "cell_type": "markdown",
   "metadata": {},
   "source": [
    "Written in our new coordinate system"
   ]
  },
  {
   "cell_type": "code",
   "execution_count": 42,
   "metadata": {
    "collapsed": false
   },
   "outputs": [
    {
     "data": {
      "image/png": "[encoded data removed]",
      "text/latex": [
       "$$g^{\\alpha \\alpha} = 2$$"
      ],
      "text/plain": [
       "g__α__α = 2"
      ]
     },
     "metadata": {},
     "output_type": "display_data"
    },
    {
     "data": {
      "image/png": "[encoded data removed]",
      "text/latex": [
       "$$g^{\\alpha \\beta} = 4 \\alpha$$"
      ],
      "text/plain": [
       "g__α__β = 4⋅α"
      ]
     },
     "metadata": {},
     "output_type": "display_data"
    },
    {
     "data": {
      "image/png": "[encoded data removed]",
      "text/latex": [
       "$$g^{\\alpha \\gamma} = 4 \\alpha - 2$$"
      ],
      "text/plain": [
       "g__α__γ = 4⋅α - 2"
      ]
     },
     "metadata": {},
     "output_type": "display_data"
    },
    {
     "data": {
      "image/png": "[encoded data removed]",
      "text/latex": [
       "$$g^{\\beta \\alpha} = 4 \\alpha$$"
      ],
      "text/plain": [
       "g__β__α = 4⋅α"
      ]
     },
     "metadata": {},
     "output_type": "display_data"
    },
    {
     "data": {
      "image/png": "[encoded data removed]",
      "text/latex": [
       "$$g^{\\beta \\beta} = 8 \\alpha^{2} + 1$$"
      ],
      "text/plain": [
       "             2    \n",
       "g__β__β = 8⋅α  + 1"
      ]
     },
     "metadata": {},
     "output_type": "display_data"
    },
    {
     "data": {
      "image/png": "[encoded data removed]",
      "text/latex": [
       "$$g^{\\beta \\gamma} = 8 \\alpha^{2} - 4 \\alpha + 1$$"
      ],
      "text/plain": [
       "             2          \n",
       "g__β__γ = 8⋅α  - 4⋅α + 1"
      ]
     },
     "metadata": {},
     "output_type": "display_data"
    },
    {
     "data": {
      "image/png": "[encoded data removed]",
      "text/latex": [
       "$$g^{\\gamma \\alpha} = 4 \\alpha - 2$$"
      ],
      "text/plain": [
       "g__γ__α = 4⋅α - 2"
      ]
     },
     "metadata": {},
     "output_type": "display_data"
    },
    {
     "data": {
      "image/png": "[encoded data removed]",
      "text/latex": [
       "$$g^{\\gamma \\beta} = 8 \\alpha^{2} - 4 \\alpha + 1$$"
      ],
      "text/plain": [
       "             2          \n",
       "g__γ__β = 8⋅α  - 4⋅α + 1"
      ]
     },
     "metadata": {},
     "output_type": "display_data"
    },
    {
     "data": {
      "image/png": "[encoded data removed]",
      "text/latex": [
       "$$g^{\\gamma \\gamma} = 8 \\alpha^{2} - 8 \\alpha + 5$$"
      ],
      "text/plain": [
       "             2          \n",
       "g__γ__γ = 8⋅α  - 8⋅α + 5"
      ]
     },
     "metadata": {},
     "output_type": "display_data"
    }
   ],
   "source": [
    "mCon = transformMetrics(GBSpecified, replaceToNewSystem)"
   ]
  },
  {
   "cell_type": "markdown",
   "metadata": {},
   "source": [
    "### The resulting covariant metric coefficients"
   ]
  },
  {
   "cell_type": "code",
   "execution_count": 43,
   "metadata": {
    "collapsed": false
   },
   "outputs": [
    {
     "data": {
      "image/png": "[encoded data removed]",
      "text/latex": [
       "$$g_{\\alpha \\alpha} = \\left(\\frac{1}{2} \\left(- 2 x + 2 y\\right) \\left(2 x - 2 y\\right) - \\frac{1}{2} \\left(- 2 x + 2 y\\right) \\left(2 x - 2 y + 2\\right)\\right)^{2} + 1$$"
      ],
      "text/plain": [
       "                                                                        2    \n",
       "               ⎛(-2⋅x + 2⋅y)⋅(2⋅x - 2⋅y)   (-2⋅x + 2⋅y)⋅(2⋅x - 2⋅y + 2)⎞     \n",
       "gₐₗₚₕₐ ₐₗₚₕₐ = ⎜──────────────────────── - ────────────────────────────⎟  + 1\n",
       "               ⎝           2                            2              ⎠     "
      ]
     },
     "metadata": {},
     "output_type": "display_data"
    },
    {
     "data": {
      "image/png": "[encoded data removed]",
      "text/latex": [
       "$$g_{\\alpha \\beta} = \\frac{1}{2} \\left(- 2 x + 2 y\\right) \\left(2 x - 2 y\\right) - \\frac{1}{2} \\left(- 2 x + 2 y\\right) \\left(2 x - 2 y + 2\\right) - \\frac{1}{2}$$"
      ],
      "text/plain": [
       "           (-2⋅x + 2⋅y)⋅(2⋅x - 2⋅y)   (-2⋅x + 2⋅y)⋅(2⋅x - 2⋅y + 2)   1\n",
       "gₐₗₚₕₐ ᵦ = ──────────────────────── - ──────────────────────────── - ─\n",
       "                      2                            2                 2"
      ]
     },
     "metadata": {},
     "output_type": "display_data"
    },
    {
     "data": {
      "image/png": "[encoded data removed]",
      "text/latex": [
       "$$g_{\\alpha \\gamma} = \\frac{1}{2}$$"
      ],
      "text/plain": [
       "gₐₗₚₕₐ ᵧ = 1/2"
      ]
     },
     "metadata": {},
     "output_type": "display_data"
    },
    {
     "data": {
      "image/png": "[encoded data removed]",
      "text/latex": [
       "$$g_{\\beta \\alpha} = \\frac{1}{2} \\left(- 2 x + 2 y\\right) \\left(2 x - 2 y\\right) - \\frac{1}{2} \\left(- 2 x + 2 y\\right) \\left(2 x - 2 y + 2\\right) - \\frac{1}{2}$$"
      ],
      "text/plain": [
       "           (-2⋅x + 2⋅y)⋅(2⋅x - 2⋅y)   (-2⋅x + 2⋅y)⋅(2⋅x - 2⋅y + 2)   1\n",
       "gᵦ ₐₗₚₕₐ = ──────────────────────── - ──────────────────────────── - ─\n",
       "                      2                            2                 2"
      ]
     },
     "metadata": {},
     "output_type": "display_data"
    },
    {
     "data": {
      "image/png": "[encoded data removed]",
      "text/latex": [
       "$$g_{\\beta \\beta} = \\frac{3}{2}$$"
      ],
      "text/plain": [
       "gᵦ ᵦ = 3/2"
      ]
     },
     "metadata": {},
     "output_type": "display_data"
    },
    {
     "data": {
      "image/png": "[encoded data removed]",
      "text/latex": [
       "$$g_{\\beta \\gamma} = - \\frac{1}{2}$$"
      ],
      "text/plain": [
       "gᵦ ᵧ = -1/2"
      ]
     },
     "metadata": {},
     "output_type": "display_data"
    },
    {
     "data": {
      "image/png": "[encoded data removed]",
      "text/latex": [
       "$$g_{\\gamma \\alpha} = \\frac{1}{2}$$"
      ],
      "text/plain": [
       "gᵧ ₐₗₚₕₐ = 1/2"
      ]
     },
     "metadata": {},
     "output_type": "display_data"
    },
    {
     "data": {
      "image/png": "[encoded data removed]",
      "text/latex": [
       "$$g_{\\gamma \\beta} = - \\frac{1}{2}$$"
      ],
      "text/plain": [
       "gᵧ ᵦ = -1/2"
      ]
     },
     "metadata": {},
     "output_type": "display_data"
    },
    {
     "data": {
      "image/png": "[encoded data removed]",
      "text/latex": [
       "$$g_{\\gamma \\gamma} = \\frac{1}{2}$$"
      ],
      "text/plain": [
       "gᵧ ᵧ = 1/2"
      ]
     },
     "metadata": {},
     "output_type": "display_data"
    }
   ],
   "source": [
    "curvFuncsBSpecifiedAsVec = OrderedDict(zip(curvCoords, curvFuncsBSpecified))\n",
    "GBSpecifiedCov = getMetricsCov(curvFuncsBSpecifiedAsVec, J)"
   ]
  },
  {
   "cell_type": "markdown",
   "metadata": {},
   "source": [
    "Written in our new coordinate system"
   ]
  },
  {
   "cell_type": "code",
   "execution_count": 44,
   "metadata": {
    "collapsed": false
   },
   "outputs": [
    {
     "data": {
      "image/png": "[encoded data removed]",
      "text/latex": [
       "$$g_{\\alpha \\alpha} = 4 \\alpha^{2} + 1$$"
      ],
      "text/plain": [
       "                  2    \n",
       "gₐₗₚₕₐ ₐₗₚₕₐ = 4⋅α  + 1"
      ]
     },
     "metadata": {},
     "output_type": "display_data"
    },
    {
     "data": {
      "image/png": "[encoded data removed]",
      "text/latex": [
       "$$g_{\\alpha \\beta} = - 2 \\alpha - \\frac{1}{2}$$"
      ],
      "text/plain": [
       "gₐₗₚₕₐ ᵦ = -2⋅α - 1/2"
      ]
     },
     "metadata": {},
     "output_type": "display_data"
    },
    {
     "data": {
      "image/png": "[encoded data removed]",
      "text/latex": [
       "$$g_{\\alpha \\gamma} = \\frac{1}{2}$$"
      ],
      "text/plain": [
       "gₐₗₚₕₐ ᵧ = 1/2"
      ]
     },
     "metadata": {},
     "output_type": "display_data"
    },
    {
     "data": {
      "image/png": "[encoded data removed]",
      "text/latex": [
       "$$g_{\\beta \\alpha} = - 2 \\alpha - \\frac{1}{2}$$"
      ],
      "text/plain": [
       "gᵦ ₐₗₚₕₐ = -2⋅α - 1/2"
      ]
     },
     "metadata": {},
     "output_type": "display_data"
    },
    {
     "data": {
      "image/png": "[encoded data removed]",
      "text/latex": [
       "$$g_{\\beta \\beta} = \\frac{3}{2}$$"
      ],
      "text/plain": [
       "gᵦ ᵦ = 3/2"
      ]
     },
     "metadata": {},
     "output_type": "display_data"
    },
    {
     "data": {
      "image/png": "[encoded data removed]",
      "text/latex": [
       "$$g_{\\beta \\gamma} = - \\frac{1}{2}$$"
      ],
      "text/plain": [
       "gᵦ ᵧ = -1/2"
      ]
     },
     "metadata": {},
     "output_type": "display_data"
    },
    {
     "data": {
      "image/png": "[encoded data removed]",
      "text/latex": [
       "$$g_{\\gamma \\alpha} = \\frac{1}{2}$$"
      ],
      "text/plain": [
       "gᵧ ₐₗₚₕₐ = 1/2"
      ]
     },
     "metadata": {},
     "output_type": "display_data"
    },
    {
     "data": {
      "image/png": "[encoded data removed]",
      "text/latex": [
       "$$g_{\\gamma \\beta} = - \\frac{1}{2}$$"
      ],
      "text/plain": [
       "gᵧ ᵦ = -1/2"
      ]
     },
     "metadata": {},
     "output_type": "display_data"
    },
    {
     "data": {
      "image/png": "[encoded data removed]",
      "text/latex": [
       "$$g_{\\gamma \\gamma} = \\frac{1}{2}$$"
      ],
      "text/plain": [
       "gᵧ ᵧ = 1/2"
      ]
     },
     "metadata": {},
     "output_type": "display_data"
    }
   ],
   "source": [
    "mCov = transformMetrics(GBSpecifiedCov, replaceToNewSystem, cov=True)"
   ]
  },
  {
   "cell_type": "markdown",
   "metadata": {},
   "source": [
    "### Checking the result\n",
    "We should have that\n",
    "$$g_{ij}g^{jk}=\\delta_i^k$$"
   ]
  },
  {
   "cell_type": "code",
   "execution_count": 45,
   "metadata": {
    "collapsed": false
   },
   "outputs": [
    {
     "data": {
      "image/png": "[encoded data removed]",
      "text/latex": [
       "$$M^{\\alpha}_{\\alpha} = 1$$"
      ],
      "text/plain": [
       "M_α__α = 1"
      ]
     },
     "metadata": {},
     "output_type": "display_data"
    },
    {
     "data": {
      "image/png": "[encoded data removed]",
      "text/latex": [
       "$$M^{\\beta}_{\\alpha} = 0$$"
      ],
      "text/plain": [
       "M_α__β = 0"
      ]
     },
     "metadata": {},
     "output_type": "display_data"
    },
    {
     "data": {
      "image/png": "[encoded data removed]",
      "text/latex": [
       "$$M^{\\gamma}_{\\alpha} = 0$$"
      ],
      "text/plain": [
       "M_α__γ = 0"
      ]
     },
     "metadata": {},
     "output_type": "display_data"
    },
    {
     "data": {
      "image/png": "[encoded data removed]",
      "text/latex": [
       "$$M^{\\alpha}_{\\beta} = 0$$"
      ],
      "text/plain": [
       "M_β__α = 0"
      ]
     },
     "metadata": {},
     "output_type": "display_data"
    },
    {
     "data": {
      "image/png": "[encoded data removed]",
      "text/latex": [
       "$$M^{\\beta}_{\\beta} = 1$$"
      ],
      "text/plain": [
       "M_β__β = 1"
      ]
     },
     "metadata": {},
     "output_type": "display_data"
    },
    {
     "data": {
      "image/png": "[encoded data removed]",
      "text/latex": [
       "$$M^{\\gamma}_{\\beta} = 0$$"
      ],
      "text/plain": [
       "M_β__γ = 0"
      ]
     },
     "metadata": {},
     "output_type": "display_data"
    },
    {
     "data": {
      "image/png": "[encoded data removed]",
      "text/latex": [
       "$$M^{\\alpha}_{\\gamma} = 0$$"
      ],
      "text/plain": [
       "M_γ__α = 0"
      ]
     },
     "metadata": {},
     "output_type": "display_data"
    },
    {
     "data": {
      "image/png": "[encoded data removed]",
      "text/latex": [
       "$$M^{\\beta}_{\\gamma} = 0$$"
      ],
      "text/plain": [
       "M_γ__β = 0"
      ]
     },
     "metadata": {},
     "output_type": "display_data"
    },
    {
     "data": {
      "image/png": "[encoded data removed]",
      "text/latex": [
       "$$M^{\\gamma}_{\\gamma} = 1$$"
      ],
      "text/plain": [
       "M_γ__γ = 1"
      ]
     },
     "metadata": {},
     "output_type": "display_data"
    }
   ],
   "source": [
    "I = matrixMul(GBSpecifiedCov, GBSpecified)"
   ]
  },
  {
   "cell_type": "markdown",
   "metadata": {},
   "source": [
    "### The resulting Christoffel symbols"
   ]
  },
  {
   "cell_type": "code",
   "execution_count": 46,
   "metadata": {
    "collapsed": false
   },
   "outputs": [
    {
     "data": {
      "image/png": "[encoded data removed]",
      "text/latex": [
       "$$\\Gamma^{\\alpha}_{\\alpha \\alpha} = 0$$"
      ],
      "text/plain": [
       "Γ_α_α__α = 0"
      ]
     },
     "metadata": {},
     "output_type": "display_data"
    },
    {
     "data": {
      "image/png": "[encoded data removed]",
      "text/latex": [
       "$$\\Gamma^{\\alpha}_{\\alpha \\beta} = 0$$"
      ],
      "text/plain": [
       "Γ_α_β__α = 0"
      ]
     },
     "metadata": {},
     "output_type": "display_data"
    },
    {
     "data": {
      "image/png": "[encoded data removed]",
      "text/latex": [
       "$$\\Gamma^{\\alpha}_{\\alpha \\gamma} = 0$$"
      ],
      "text/plain": [
       "Γ_α_γ__α = 0"
      ]
     },
     "metadata": {},
     "output_type": "display_data"
    },
    {
     "data": {
      "image/png": "[encoded data removed]",
      "text/latex": [
       "$$\\Gamma^{\\alpha}_{\\beta \\alpha} = 0$$"
      ],
      "text/plain": [
       "Γ_β_α__α = 0"
      ]
     },
     "metadata": {},
     "output_type": "display_data"
    },
    {
     "data": {
      "image/png": "[encoded data removed]",
      "text/latex": [
       "$$\\Gamma^{\\alpha}_{\\beta \\beta} = 0$$"
      ],
      "text/plain": [
       "Γ_β_β__α = 0"
      ]
     },
     "metadata": {},
     "output_type": "display_data"
    },
    {
     "data": {
      "image/png": "[encoded data removed]",
      "text/latex": [
       "$$\\Gamma^{\\alpha}_{\\beta \\gamma} = 0$$"
      ],
      "text/plain": [
       "Γ_β_γ__α = 0"
      ]
     },
     "metadata": {},
     "output_type": "display_data"
    },
    {
     "data": {
      "image/png": "[encoded data removed]",
      "text/latex": [
       "$$\\Gamma^{\\alpha}_{\\gamma \\alpha} = 0$$"
      ],
      "text/plain": [
       "Γ_γ_α__α = 0"
      ]
     },
     "metadata": {},
     "output_type": "display_data"
    },
    {
     "data": {
      "image/png": "[encoded data removed]",
      "text/latex": [
       "$$\\Gamma^{\\alpha}_{\\gamma \\beta} = 0$$"
      ],
      "text/plain": [
       "Γ_γ_β__α = 0"
      ]
     },
     "metadata": {},
     "output_type": "display_data"
    },
    {
     "data": {
      "image/png": "[encoded data removed]",
      "text/latex": [
       "$$\\Gamma^{\\alpha}_{\\gamma \\gamma} = 0$$"
      ],
      "text/plain": [
       "Γ_γ_γ__α = 0"
      ]
     },
     "metadata": {},
     "output_type": "display_data"
    },
    {
     "data": {
      "image/png": "[encoded data removed]",
      "text/latex": [
       "$$\\Gamma^{\\beta}_{\\alpha \\alpha} = -2$$"
      ],
      "text/plain": [
       "Γ_α_α__β = -2"
      ]
     },
     "metadata": {},
     "output_type": "display_data"
    },
    {
     "data": {
      "image/png": "[encoded data removed]",
      "text/latex": [
       "$$\\Gamma^{\\beta}_{\\alpha \\beta} = 0$$"
      ],
      "text/plain": [
       "Γ_α_β__β = 0"
      ]
     },
     "metadata": {},
     "output_type": "display_data"
    },
    {
     "data": {
      "image/png": "[encoded data removed]",
      "text/latex": [
       "$$\\Gamma^{\\beta}_{\\alpha \\gamma} = 0$$"
      ],
      "text/plain": [
       "Γ_α_γ__β = 0"
      ]
     },
     "metadata": {},
     "output_type": "display_data"
    },
    {
     "data": {
      "image/png": "[encoded data removed]",
      "text/latex": [
       "$$\\Gamma^{\\beta}_{\\beta \\alpha} = 0$$"
      ],
      "text/plain": [
       "Γ_β_α__β = 0"
      ]
     },
     "metadata": {},
     "output_type": "display_data"
    },
    {
     "data": {
      "image/png": "[encoded data removed]",
      "text/latex": [
       "$$\\Gamma^{\\beta}_{\\beta \\beta} = 0$$"
      ],
      "text/plain": [
       "Γ_β_β__β = 0"
      ]
     },
     "metadata": {},
     "output_type": "display_data"
    },
    {
     "data": {
      "image/png": "[encoded data removed]",
      "text/latex": [
       "$$\\Gamma^{\\beta}_{\\beta \\gamma} = 0$$"
      ],
      "text/plain": [
       "Γ_β_γ__β = 0"
      ]
     },
     "metadata": {},
     "output_type": "display_data"
    },
    {
     "data": {
      "image/png": "[encoded data removed]",
      "text/latex": [
       "$$\\Gamma^{\\beta}_{\\gamma \\alpha} = 0$$"
      ],
      "text/plain": [
       "Γ_γ_α__β = 0"
      ]
     },
     "metadata": {},
     "output_type": "display_data"
    },
    {
     "data": {
      "image/png": "[encoded data removed]",
      "text/latex": [
       "$$\\Gamma^{\\beta}_{\\gamma \\beta} = 0$$"
      ],
      "text/plain": [
       "Γ_γ_β__β = 0"
      ]
     },
     "metadata": {},
     "output_type": "display_data"
    },
    {
     "data": {
      "image/png": "[encoded data removed]",
      "text/latex": [
       "$$\\Gamma^{\\beta}_{\\gamma \\gamma} = 0$$"
      ],
      "text/plain": [
       "Γ_γ_γ__β = 0"
      ]
     },
     "metadata": {},
     "output_type": "display_data"
    },
    {
     "data": {
      "image/png": "[encoded data removed]",
      "text/latex": [
       "$$\\Gamma^{\\gamma}_{\\alpha \\alpha} = -2$$"
      ],
      "text/plain": [
       "Γ_α_α__γ = -2"
      ]
     },
     "metadata": {},
     "output_type": "display_data"
    },
    {
     "data": {
      "image/png": "[encoded data removed]",
      "text/latex": [
       "$$\\Gamma^{\\gamma}_{\\alpha \\beta} = 0$$"
      ],
      "text/plain": [
       "Γ_α_β__γ = 0"
      ]
     },
     "metadata": {},
     "output_type": "display_data"
    },
    {
     "data": {
      "image/png": "[encoded data removed]",
      "text/latex": [
       "$$\\Gamma^{\\gamma}_{\\alpha \\gamma} = 0$$"
      ],
      "text/plain": [
       "Γ_α_γ__γ = 0"
      ]
     },
     "metadata": {},
     "output_type": "display_data"
    },
    {
     "data": {
      "image/png": "[encoded data removed]",
      "text/latex": [
       "$$\\Gamma^{\\gamma}_{\\beta \\alpha} = 0$$"
      ],
      "text/plain": [
       "Γ_β_α__γ = 0"
      ]
     },
     "metadata": {},
     "output_type": "display_data"
    },
    {
     "data": {
      "image/png": "[encoded data removed]",
      "text/latex": [
       "$$\\Gamma^{\\gamma}_{\\beta \\beta} = 0$$"
      ],
      "text/plain": [
       "Γ_β_β__γ = 0"
      ]
     },
     "metadata": {},
     "output_type": "display_data"
    },
    {
     "data": {
      "image/png": "[encoded data removed]",
      "text/latex": [
       "$$\\Gamma^{\\gamma}_{\\beta \\gamma} = 0$$"
      ],
      "text/plain": [
       "Γ_β_γ__γ = 0"
      ]
     },
     "metadata": {},
     "output_type": "display_data"
    },
    {
     "data": {
      "image/png": "[encoded data removed]",
      "text/latex": [
       "$$\\Gamma^{\\gamma}_{\\gamma \\alpha} = 0$$"
      ],
      "text/plain": [
       "Γ_γ_α__γ = 0"
      ]
     },
     "metadata": {},
     "output_type": "display_data"
    },
    {
     "data": {
      "image/png": "[encoded data removed]",
      "text/latex": [
       "$$\\Gamma^{\\gamma}_{\\gamma \\beta} = 0$$"
      ],
      "text/plain": [
       "Γ_γ_β__γ = 0"
      ]
     },
     "metadata": {},
     "output_type": "display_data"
    },
    {
     "data": {
      "image/png": "[encoded data removed]",
      "text/latex": [
       "$$\\Gamma^{\\gamma}_{\\gamma \\gamma} = 0$$"
      ],
      "text/plain": [
       "Γ_γ_γ__γ = 0"
      ]
     },
     "metadata": {},
     "output_type": "display_data"
    }
   ],
   "source": [
    "C = getChristoffel(cov = GBSpecifiedCov, con = GBSpecified)"
   ]
  },
  {
   "cell_type": "markdown",
   "metadata": {},
   "source": [
    "### The resulting stream lines"
   ]
  },
  {
   "cell_type": "code",
   "execution_count": 47,
   "metadata": {
    "collapsed": false,
    "scrolled": true
   },
   "outputs": [
    {
     "data": {
      "application/javascript": [
       "/* Put everything inside the global mpl namespace */\n",
       "window.mpl = {};\n",
       "\n",
       "mpl.get_websocket_type = function() {\n",
       "    if (typeof(WebSocket) !== 'undefined') {\n",
       "        return WebSocket;\n",
       "    } else if (typeof(MozWebSocket) !== 'undefined') {\n",
       "        return MozWebSocket;\n",
       "    } else {\n",
       "        alert('Your browser does not have WebSocket support.' +\n",
       "              'Please try Chrome, Safari or Firefox ≥ 6. ' +\n",
       "              'Firefox 4 and 5 are also supported but you ' +\n",
       "              'have to enable WebSockets in about:config.');\n",
       "    };\n",
       "}\n",
       "\n",
       "mpl.figure = function(figure_id, websocket, ondownload, parent_element) {\n",
       "    this.id = figure_id;\n",
       "\n",
       "    this.ws = websocket;\n",
       "\n",
       "    this.supports_binary = (this.ws.binaryType != undefined);\n",
       "\n",
       "    if (!this.supports_binary) {\n",
       "        var warnings = document.getElementById(\"mpl-warnings\");\n",
       "        if (warnings) {\n",
       "            warnings.style.display = 'block';\n",
       "            warnings.textContent = (\n",
       "                \"This browser does not support binary websocket messages. \" +\n",
       "                    \"Performance may be slow.\");\n",
       "        }\n",
       "    }\n",
       "\n",
       "    this.imageObj = new Image();\n",
       "\n",
       "    this.context = undefined;\n",
       "    this.message = undefined;\n",
       "    this.canvas = undefined;\n",
       "    this.rubberband_canvas = undefined;\n",
       "    this.rubberband_context = undefined;\n",
       "    this.format_dropdown = undefined;\n",
       "\n",
       "    this.image_mode = 'full';\n",
       "\n",
       "    this.root = $('<div/>');\n",
       "    this._root_extra_style(this.root)\n",
       "    this.root.attr('style', 'display: inline-block');\n",
       "\n",
       "    $(parent_element).append(this.root);\n",
       "\n",
       "    this._init_header(this);\n",
       "    this._init_canvas(this);\n",
       "    this._init_toolbar(this);\n",
       "\n",
       "    var fig = this;\n",
       "\n",
       "    this.waiting = false;\n",
       "\n",
       "    this.ws.onopen =  function () {\n",
       "            fig.send_message(\"supports_binary\", {value: fig.supports_binary});\n",
       "            fig.send_message(\"send_image_mode\", {});\n",
       "            fig.send_message(\"refresh\", {});\n",
       "        }\n",
       "\n",
       "    this.imageObj.onload = function() {\n",
       "            if (fig.image_mode == 'full') {\n",
       "                // Full images could contain transparency (where diff images\n",
       "                // almost always do), so we need to clear the canvas so that\n",
       "                // there is no ghosting.\n",
       "                fig.context.clearRect(0, 0, fig.canvas.width, fig.canvas.height);\n",
       "            }\n",
       "            fig.context.drawImage(fig.imageObj, 0, 0);\n",
       "        };\n",
       "\n",
       "    this.imageObj.onunload = function() {\n",
       "        this.ws.close();\n",
       "    }\n",
       "\n",
       "    this.ws.onmessage = this._make_on_message_function(this);\n",
       "\n",
       "    this.ondownload = ondownload;\n",
       "}\n",
       "\n",
       "mpl.figure.prototype._init_header = function() {\n",
       "    var titlebar = $(\n",
       "        '<div class=\"ui-dialog-titlebar ui-widget-header ui-corner-all ' +\n",
       "        'ui-helper-clearfix\"/>');\n",
       "    var titletext = $(\n",
       "        '<div class=\"ui-dialog-title\" style=\"width: 100%; ' +\n",
       "        'text-align: center; padding: 3px;\"/>');\n",
       "    titlebar.append(titletext)\n",
       "    this.root.append(titlebar);\n",
       "    this.header = titletext[0];\n",
       "}\n",
       "\n",
       "\n",
       "\n",
       "mpl.figure.prototype._canvas_extra_style = function(canvas_div) {\n",
       "\n",
       "}\n",
       "\n",
       "\n",
       "mpl.figure.prototype._root_extra_style = function(canvas_div) {\n",
       "\n",
       "}\n",
       "\n",
       "mpl.figure.prototype._init_canvas = function() {\n",
       "    var fig = this;\n",
       "\n",
       "    var canvas_div = $('<div/>');\n",
       "\n",
       "    canvas_div.attr('style', 'position: relative; clear: both; outline: 0');\n",
       "\n",
       "    function canvas_keyboard_event(event) {\n",
       "        return fig.key_event(event, event['data']);\n",
       "    }\n",
       "\n",
       "    canvas_div.keydown('key_press', canvas_keyboard_event);\n",
       "    canvas_div.keyup('key_release', canvas_keyboard_event);\n",
       "    this.canvas_div = canvas_div\n",
       "    this._canvas_extra_style(canvas_div)\n",
       "    this.root.append(canvas_div);\n",
       "\n",
       "    var canvas = $('<canvas/>');\n",
       "    canvas.addClass('mpl-canvas');\n",
       "    canvas.attr('style', \"left: 0; top: 0; z-index: 0; outline: 0\")\n",
       "\n",
       "    this.canvas = canvas[0];\n",
       "    this.context = canvas[0].getContext(\"2d\");\n",
       "\n",
       "    var rubberband = $('<canvas/>');\n",
       "    rubberband.attr('style', \"position: absolute; left: 0; top: 0; z-index: 1;\")\n",
       "\n",
       "    var pass_mouse_events = true;\n",
       "\n",
       "    canvas_div.resizable({\n",
       "        start: function(event, ui) {\n",
       "            pass_mouse_events = false;\n",
       "        },\n",
       "        resize: function(event, ui) {\n",
       "            fig.request_resize(ui.size.width, ui.size.height);\n",
       "        },\n",
       "        stop: function(event, ui) {\n",
       "            pass_mouse_events = true;\n",
       "            fig.request_resize(ui.size.width, ui.size.height);\n",
       "        },\n",
       "    });\n",
       "\n",
       "    function mouse_event_fn(event) {\n",
       "        if (pass_mouse_events)\n",
       "            return fig.mouse_event(event, event['data']);\n",
       "    }\n",
       "\n",
       "    rubberband.mousedown('button_press', mouse_event_fn);\n",
       "    rubberband.mouseup('button_release', mouse_event_fn);\n",
       "    // Throttle sequential mouse events to 1 every 20ms.\n",
       "    rubberband.mousemove('motion_notify', mouse_event_fn);\n",
       "\n",
       "    rubberband.mouseenter('figure_enter', mouse_event_fn);\n",
       "    rubberband.mouseleave('figure_leave', mouse_event_fn);\n",
       "\n",
       "    canvas_div.on(\"wheel\", function (event) {\n",
       "        event = event.originalEvent;\n",
       "        event['data'] = 'scroll'\n",
       "        if (event.deltaY < 0) {\n",
       "            event.step = 1;\n",
       "        } else {\n",
       "            event.step = -1;\n",
       "        }\n",
       "        mouse_event_fn(event);\n",
       "    });\n",
       "\n",
       "    canvas_div.append(canvas);\n",
       "    canvas_div.append(rubberband);\n",
       "\n",
       "    this.rubberband = rubberband;\n",
       "    this.rubberband_canvas = rubberband[0];\n",
       "    this.rubberband_context = rubberband[0].getContext(\"2d\");\n",
       "    this.rubberband_context.strokeStyle = \"#000000\";\n",
       "\n",
       "    this._resize_canvas = function(width, height) {\n",
       "        // Keep the size of the canvas, canvas container, and rubber band\n",
       "        // canvas in synch.\n",
       "        canvas_div.css('width', width)\n",
       "        canvas_div.css('height', height)\n",
       "\n",
       "        canvas.attr('width', width);\n",
       "        canvas.attr('height', height);\n",
       "\n",
       "        rubberband.attr('width', width);\n",
       "        rubberband.attr('height', height);\n",
       "    }\n",
       "\n",
       "    // Set the figure to an initial 600x600px, this will subsequently be updated\n",
       "    // upon first draw.\n",
       "    this._resize_canvas(600, 600);\n",
       "\n",
       "    // Disable right mouse context menu.\n",
       "    $(this.rubberband_canvas).bind(\"contextmenu\",function(e){\n",
       "        return false;\n",
       "    });\n",
       "\n",
       "    function set_focus () {\n",
       "        canvas.focus();\n",
       "        canvas_div.focus();\n",
       "    }\n",
       "\n",
       "    window.setTimeout(set_focus, 100);\n",
       "}\n",
       "\n",
       "mpl.figure.prototype._init_toolbar = function() {\n",
       "    var fig = this;\n",
       "\n",
       "    var nav_element = $('<div/>')\n",
       "    nav_element.attr('style', 'width: 100%');\n",
       "    this.root.append(nav_element);\n",
       "\n",
       "    // Define a callback function for later on.\n",
       "    function toolbar_event(event) {\n",
       "        return fig.toolbar_button_onclick(event['data']);\n",
       "    }\n",
       "    function toolbar_mouse_event(event) {\n",
       "        return fig.toolbar_button_onmouseover(event['data']);\n",
       "    }\n",
       "\n",
       "    for(var toolbar_ind in mpl.toolbar_items) {\n",
       "        var name = mpl.toolbar_items[toolbar_ind][0];\n",
       "        var tooltip = mpl.toolbar_items[toolbar_ind][1];\n",
       "        var image = mpl.toolbar_items[toolbar_ind][2];\n",
       "        var method_name = mpl.toolbar_items[toolbar_ind][3];\n",
       "\n",
       "        if (!name) {\n",
       "            // put a spacer in here.\n",
       "            continue;\n",
       "        }\n",
       "        var button = $('<button/>');\n",
       "        button.addClass('ui-button ui-widget ui-state-default ui-corner-all ' +\n",
       "                        'ui-button-icon-only');\n",
       "        button.attr('role', 'button');\n",
       "        button.attr('aria-disabled', 'false');\n",
       "        button.click(method_name, toolbar_event);\n",
       "        button.mouseover(tooltip, toolbar_mouse_event);\n",
       "\n",
       "        var icon_img = $('<span/>');\n",
       "        icon_img.addClass('ui-button-icon-primary ui-icon');\n",
       "        icon_img.addClass(image);\n",
       "        icon_img.addClass('ui-corner-all');\n",
       "\n",
       "        var tooltip_span = $('<span/>');\n",
       "        tooltip_span.addClass('ui-button-text');\n",
       "        tooltip_span.html(tooltip);\n",
       "\n",
       "        button.append(icon_img);\n",
       "        button.append(tooltip_span);\n",
       "\n",
       "        nav_element.append(button);\n",
       "    }\n",
       "\n",
       "    var fmt_picker_span = $('<span/>');\n",
       "\n",
       "    var fmt_picker = $('<select/>');\n",
       "    fmt_picker.addClass('mpl-toolbar-option ui-widget ui-widget-content');\n",
       "    fmt_picker_span.append(fmt_picker);\n",
       "    nav_element.append(fmt_picker_span);\n",
       "    this.format_dropdown = fmt_picker[0];\n",
       "\n",
       "    for (var ind in mpl.extensions) {\n",
       "        var fmt = mpl.extensions[ind];\n",
       "        var option = $(\n",
       "            '<option/>', {selected: fmt === mpl.default_extension}).html(fmt);\n",
       "        fmt_picker.append(option)\n",
       "    }\n",
       "\n",
       "    // Add hover states to the ui-buttons\n",
       "    $( \".ui-button\" ).hover(\n",
       "        function() { $(this).addClass(\"ui-state-hover\");},\n",
       "        function() { $(this).removeClass(\"ui-state-hover\");}\n",
       "    );\n",
       "\n",
       "    var status_bar = $('<span class=\"mpl-message\"/>');\n",
       "    nav_element.append(status_bar);\n",
       "    this.message = status_bar[0];\n",
       "}\n",
       "\n",
       "mpl.figure.prototype.request_resize = function(x_pixels, y_pixels) {\n",
       "    // Request matplotlib to resize the figure. Matplotlib will then trigger a resize in the client,\n",
       "    // which will in turn request a refresh of the image.\n",
       "    this.send_message('resize', {'width': x_pixels, 'height': y_pixels});\n",
       "}\n",
       "\n",
       "mpl.figure.prototype.send_message = function(type, properties) {\n",
       "    properties['type'] = type;\n",
       "    properties['figure_id'] = this.id;\n",
       "    this.ws.send(JSON.stringify(properties));\n",
       "}\n",
       "\n",
       "mpl.figure.prototype.send_draw_message = function() {\n",
       "    if (!this.waiting) {\n",
       "        this.waiting = true;\n",
       "        this.ws.send(JSON.stringify({type: \"draw\", figure_id: this.id}));\n",
       "    }\n",
       "}\n",
       "\n",
       "\n",
       "mpl.figure.prototype.handle_save = function(fig, msg) {\n",
       "    var format_dropdown = fig.format_dropdown;\n",
       "    var format = format_dropdown.options[format_dropdown.selectedIndex].value;\n",
       "    fig.ondownload(fig, format);\n",
       "}\n",
       "\n",
       "\n",
       "mpl.figure.prototype.handle_resize = function(fig, msg) {\n",
       "    var size = msg['size'];\n",
       "    if (size[0] != fig.canvas.width || size[1] != fig.canvas.height) {\n",
       "        fig._resize_canvas(size[0], size[1]);\n",
       "        fig.send_message(\"refresh\", {});\n",
       "    };\n",
       "}\n",
       "\n",
       "mpl.figure.prototype.handle_rubberband = function(fig, msg) {\n",
       "    var x0 = msg['x0'];\n",
       "    var y0 = fig.canvas.height - msg['y0'];\n",
       "    var x1 = msg['x1'];\n",
       "    var y1 = fig.canvas.height - msg['y1'];\n",
       "    x0 = Math.floor(x0) + 0.5;\n",
       "    y0 = Math.floor(y0) + 0.5;\n",
       "    x1 = Math.floor(x1) + 0.5;\n",
       "    y1 = Math.floor(y1) + 0.5;\n",
       "    var min_x = Math.min(x0, x1);\n",
       "    var min_y = Math.min(y0, y1);\n",
       "    var width = Math.abs(x1 - x0);\n",
       "    var height = Math.abs(y1 - y0);\n",
       "\n",
       "    fig.rubberband_context.clearRect(\n",
       "        0, 0, fig.canvas.width, fig.canvas.height);\n",
       "\n",
       "    fig.rubberband_context.strokeRect(min_x, min_y, width, height);\n",
       "}\n",
       "\n",
       "mpl.figure.prototype.handle_figure_label = function(fig, msg) {\n",
       "    // Updates the figure title.\n",
       "    fig.header.textContent = msg['label'];\n",
       "}\n",
       "\n",
       "mpl.figure.prototype.handle_cursor = function(fig, msg) {\n",
       "    var cursor = msg['cursor'];\n",
       "    switch(cursor)\n",
       "    {\n",
       "    case 0:\n",
       "        cursor = 'pointer';\n",
       "        break;\n",
       "    case 1:\n",
       "        cursor = 'default';\n",
       "        break;\n",
       "    case 2:\n",
       "        cursor = 'crosshair';\n",
       "        break;\n",
       "    case 3:\n",
       "        cursor = 'move';\n",
       "        break;\n",
       "    }\n",
       "    fig.rubberband_canvas.style.cursor = cursor;\n",
       "}\n",
       "\n",
       "mpl.figure.prototype.handle_message = function(fig, msg) {\n",
       "    fig.message.textContent = msg['message'];\n",
       "}\n",
       "\n",
       "mpl.figure.prototype.handle_draw = function(fig, msg) {\n",
       "    // Request the server to send over a new figure.\n",
       "    fig.send_draw_message();\n",
       "}\n",
       "\n",
       "mpl.figure.prototype.handle_image_mode = function(fig, msg) {\n",
       "    fig.image_mode = msg['mode'];\n",
       "}\n",
       "\n",
       "mpl.figure.prototype.updated_canvas_event = function() {\n",
       "    // Called whenever the canvas gets updated.\n",
       "    this.send_message(\"ack\", {});\n",
       "}\n",
       "\n",
       "// A function to construct a web socket function for onmessage handling.\n",
       "// Called in the figure constructor.\n",
       "mpl.figure.prototype._make_on_message_function = function(fig) {\n",
       "    return function socket_on_message(evt) {\n",
       "        if (evt.data instanceof Blob) {\n",
       "            /* FIXME: We get \"Resource interpreted as Image but\n",
       "             * transferred with MIME type text/plain:\" errors on\n",
       "             * Chrome.  But how to set the MIME type?  It doesn't seem\n",
       "             * to be part of the websocket stream */\n",
       "            evt.data.type = \"image/png\";\n",
       "\n",
       "            /* Free the memory for the previous frames */\n",
       "            if (fig.imageObj.src) {\n",
       "                (window.URL || window.webkitURL).revokeObjectURL(\n",
       "                    fig.imageObj.src);\n",
       "            }\n",
       "\n",
       "            fig.imageObj.src = (window.URL || window.webkitURL).createObjectURL(\n",
       "                evt.data);\n",
       "            fig.updated_canvas_event();\n",
       "            fig.waiting = false;\n",
       "            return;\n",
       "        }\n",
       "        else if (typeof evt.data === 'string' && evt.data.slice(0, 21) == \"data:image/png;base64\") {\n",
       "            fig.imageObj.src = evt.data;\n",
       "            fig.updated_canvas_event();\n",
       "            fig.waiting = false;\n",
       "            return;\n",
       "        }\n",
       "\n",
       "        var msg = JSON.parse(evt.data);\n",
       "        var msg_type = msg['type'];\n",
       "\n",
       "        // Call the  \"handle_{type}\" callback, which takes\n",
       "        // the figure and JSON message as its only arguments.\n",
       "        try {\n",
       "            var callback = fig[\"handle_\" + msg_type];\n",
       "        } catch (e) {\n",
       "            console.log(\"No handler for the '\" + msg_type + \"' message type: \", msg);\n",
       "            return;\n",
       "        }\n",
       "\n",
       "        if (callback) {\n",
       "            try {\n",
       "                // console.log(\"Handling '\" + msg_type + \"' message: \", msg);\n",
       "                callback(fig, msg);\n",
       "            } catch (e) {\n",
       "                console.log(\"Exception inside the 'handler_\" + msg_type + \"' callback:\", e, e.stack, msg);\n",
       "            }\n",
       "        }\n",
       "    };\n",
       "}\n",
       "\n",
       "// from http://stackoverflow.com/questions/1114465/getting-mouse-location-in-canvas\n",
       "mpl.findpos = function(e) {\n",
       "    //this section is from http://www.quirksmode.org/js/events_properties.html\n",
       "    var targ;\n",
       "    if (!e)\n",
       "        e = window.event;\n",
       "    if (e.target)\n",
       "        targ = e.target;\n",
       "    else if (e.srcElement)\n",
       "        targ = e.srcElement;\n",
       "    if (targ.nodeType == 3) // defeat Safari bug\n",
       "        targ = targ.parentNode;\n",
       "\n",
       "    // jQuery normalizes the pageX and pageY\n",
       "    // pageX,Y are the mouse positions relative to the document\n",
       "    // offset() returns the position of the element relative to the document\n",
       "    var x = e.pageX - $(targ).offset().left;\n",
       "    var y = e.pageY - $(targ).offset().top;\n",
       "\n",
       "    return {\"x\": x, \"y\": y};\n",
       "};\n",
       "\n",
       "/*\n",
       " * return a copy of an object with only non-object keys\n",
       " * we need this to avoid circular references\n",
       " * http://stackoverflow.com/a/24161582/3208463\n",
       " */\n",
       "function simpleKeys (original) {\n",
       "  return Object.keys(original).reduce(function (obj, key) {\n",
       "    if (typeof original[key] !== 'object')\n",
       "        obj[key] = original[key]\n",
       "    return obj;\n",
       "  }, {});\n",
       "}\n",
       "\n",
       "mpl.figure.prototype.mouse_event = function(event, name) {\n",
       "    var canvas_pos = mpl.findpos(event)\n",
       "\n",
       "    if (name === 'button_press')\n",
       "    {\n",
       "        this.canvas.focus();\n",
       "        this.canvas_div.focus();\n",
       "    }\n",
       "\n",
       "    var x = canvas_pos.x;\n",
       "    var y = canvas_pos.y;\n",
       "\n",
       "    this.send_message(name, {x: x, y: y, button: event.button,\n",
       "                             step: event.step,\n",
       "                             guiEvent: simpleKeys(event)});\n",
       "\n",
       "    /* This prevents the web browser from automatically changing to\n",
       "     * the text insertion cursor when the button is pressed.  We want\n",
       "     * to control all of the cursor setting manually through the\n",
       "     * 'cursor' event from matplotlib */\n",
       "    event.preventDefault();\n",
       "    return false;\n",
       "}\n",
       "\n",
       "mpl.figure.prototype._key_event_extra = function(event, name) {\n",
       "    // Handle any extra behaviour associated with a key event\n",
       "}\n",
       "\n",
       "mpl.figure.prototype.key_event = function(event, name) {\n",
       "\n",
       "    // Prevent repeat events\n",
       "    if (name == 'key_press')\n",
       "    {\n",
       "        if (event.which === this._key)\n",
       "            return;\n",
       "        else\n",
       "            this._key = event.which;\n",
       "    }\n",
       "    if (name == 'key_release')\n",
       "        this._key = null;\n",
       "\n",
       "    var value = '';\n",
       "    if (event.ctrlKey && event.which != 17)\n",
       "        value += \"ctrl+\";\n",
       "    if (event.altKey && event.which != 18)\n",
       "        value += \"alt+\";\n",
       "    if (event.shiftKey && event.which != 16)\n",
       "        value += \"shift+\";\n",
       "\n",
       "    value += 'k';\n",
       "    value += event.which.toString();\n",
       "\n",
       "    this._key_event_extra(event, name);\n",
       "\n",
       "    this.send_message(name, {key: value,\n",
       "                             guiEvent: simpleKeys(event)});\n",
       "    return false;\n",
       "}\n",
       "\n",
       "mpl.figure.prototype.toolbar_button_onclick = function(name) {\n",
       "    if (name == 'download') {\n",
       "        this.handle_save(this, null);\n",
       "    } else {\n",
       "        this.send_message(\"toolbar_button\", {name: name});\n",
       "    }\n",
       "};\n",
       "\n",
       "mpl.figure.prototype.toolbar_button_onmouseover = function(tooltip) {\n",
       "    this.message.textContent = tooltip;\n",
       "};\n",
       "mpl.toolbar_items = [[\"Home\", \"Reset original view\", \"fa fa-home icon-home\", \"home\"], [\"Back\", \"Back to  previous view\", \"fa fa-arrow-left icon-arrow-left\", \"back\"], [\"Forward\", \"Forward to next view\", \"fa fa-arrow-right icon-arrow-right\", \"forward\"], [\"\", \"\", \"\", \"\"], [\"Pan\", \"Pan axes with left mouse, zoom with right\", \"fa fa-arrows icon-move\", \"pan\"], [\"Zoom\", \"Zoom to rectangle\", \"fa fa-square-o icon-check-empty\", \"zoom\"], [\"\", \"\", \"\", \"\"], [\"Download\", \"Download plot\", \"fa fa-floppy-o icon-save\", \"download\"]];\n",
       "\n",
       "mpl.extensions = [\"eps\", \"jpeg\", \"pdf\", \"png\", \"ps\", \"raw\", \"svg\", \"tif\"];\n",
       "\n",
       "mpl.default_extension = \"png\";var comm_websocket_adapter = function(comm) {\n",
       "    // Create a \"websocket\"-like object which calls the given IPython comm\n",
       "    // object with the appropriate methods. Currently this is a non binary\n",
       "    // socket, so there is still some room for performance tuning.\n",
       "    var ws = {};\n",
       "\n",
       "    ws.close = function() {\n",
       "        comm.close()\n",
       "    };\n",
       "    ws.send = function(m) {\n",
       "        //console.log('sending', m);\n",
       "        comm.send(m);\n",
       "    };\n",
       "    // Register the callback with on_msg.\n",
       "    comm.on_msg(function(msg) {\n",
       "        //console.log('receiving', msg['content']['data'], msg);\n",
       "        // Pass the mpl event to the overriden (by mpl) onmessage function.\n",
       "        ws.onmessage(msg['content']['data'])\n",
       "    });\n",
       "    return ws;\n",
       "}\n",
       "\n",
       "mpl.mpl_figure_comm = function(comm, msg) {\n",
       "    // This is the function which gets called when the mpl process\n",
       "    // starts-up an IPython Comm through the \"matplotlib\" channel.\n",
       "\n",
       "    var id = msg.content.data.id;\n",
       "    // Get hold of the div created by the display call when the Comm\n",
       "    // socket was opened in Python.\n",
       "    var element = $(\"#\" + id);\n",
       "    var ws_proxy = comm_websocket_adapter(comm)\n",
       "\n",
       "    function ondownload(figure, format) {\n",
       "        window.open(figure.imageObj.src);\n",
       "    }\n",
       "\n",
       "    var fig = new mpl.figure(id, ws_proxy,\n",
       "                           ondownload,\n",
       "                           element.get(0));\n",
       "\n",
       "    // Call onopen now - mpl needs it, as it is assuming we've passed it a real\n",
       "    // web socket which is closed, not our websocket->open comm proxy.\n",
       "    ws_proxy.onopen();\n",
       "\n",
       "    fig.parent_element = element.get(0);\n",
       "    fig.cell_info = mpl.find_output_cell(\"<div id='\" + id + \"'></div>\");\n",
       "    if (!fig.cell_info) {\n",
       "        console.error(\"Failed to find cell for figure\", id, fig);\n",
       "        return;\n",
       "    }\n",
       "\n",
       "    var output_index = fig.cell_info[2]\n",
       "    var cell = fig.cell_info[0];\n",
       "\n",
       "};\n",
       "\n",
       "mpl.figure.prototype.handle_close = function(fig, msg) {\n",
       "    fig.root.unbind('remove')\n",
       "\n",
       "    // Update the output cell to use the data from the current canvas.\n",
       "    fig.push_to_output();\n",
       "    var dataURL = fig.canvas.toDataURL();\n",
       "    // Re-enable the keyboard manager in IPython - without this line, in FF,\n",
       "    // the notebook keyboard shortcuts fail.\n",
       "    IPython.keyboard_manager.enable()\n",
       "    $(fig.parent_element).html('<img src=\"' + dataURL + '\">');\n",
       "    fig.close_ws(fig, msg);\n",
       "}\n",
       "\n",
       "mpl.figure.prototype.close_ws = function(fig, msg){\n",
       "    fig.send_message('closing', msg);\n",
       "    // fig.ws.close()\n",
       "}\n",
       "\n",
       "mpl.figure.prototype.push_to_output = function(remove_interactive) {\n",
       "    // Turn the data on the canvas into data in the output cell.\n",
       "    var dataURL = this.canvas.toDataURL();\n",
       "    this.cell_info[1]['text/html'] = '<img src=\"' + dataURL + '\">';\n",
       "}\n",
       "\n",
       "mpl.figure.prototype.updated_canvas_event = function() {\n",
       "    // Tell IPython that the notebook contents must change.\n",
       "    IPython.notebook.set_dirty(true);\n",
       "    this.send_message(\"ack\", {});\n",
       "    var fig = this;\n",
       "    // Wait a second, then push the new image to the DOM so\n",
       "    // that it is saved nicely (might be nice to debounce this).\n",
       "    setTimeout(function () { fig.push_to_output() }, 1000);\n",
       "}\n",
       "\n",
       "mpl.figure.prototype._init_toolbar = function() {\n",
       "    var fig = this;\n",
       "\n",
       "    var nav_element = $('<div/>')\n",
       "    nav_element.attr('style', 'width: 100%');\n",
       "    this.root.append(nav_element);\n",
       "\n",
       "    // Define a callback function for later on.\n",
       "    function toolbar_event(event) {\n",
       "        return fig.toolbar_button_onclick(event['data']);\n",
       "    }\n",
       "    function toolbar_mouse_event(event) {\n",
       "        return fig.toolbar_button_onmouseover(event['data']);\n",
       "    }\n",
       "\n",
       "    for(var toolbar_ind in mpl.toolbar_items){\n",
       "        var name = mpl.toolbar_items[toolbar_ind][0];\n",
       "        var tooltip = mpl.toolbar_items[toolbar_ind][1];\n",
       "        var image = mpl.toolbar_items[toolbar_ind][2];\n",
       "        var method_name = mpl.toolbar_items[toolbar_ind][3];\n",
       "\n",
       "        if (!name) { continue; };\n",
       "\n",
       "        var button = $('<button class=\"btn btn-default\" href=\"#\" title=\"' + name + '\"><i class=\"fa ' + image + ' fa-lg\"></i></button>');\n",
       "        button.click(method_name, toolbar_event);\n",
       "        button.mouseover(tooltip, toolbar_mouse_event);\n",
       "        nav_element.append(button);\n",
       "    }\n",
       "\n",
       "    // Add the status bar.\n",
       "    var status_bar = $('<span class=\"mpl-message\" style=\"text-align:right; float: right;\"/>');\n",
       "    nav_element.append(status_bar);\n",
       "    this.message = status_bar[0];\n",
       "\n",
       "    // Add the close button to the window.\n",
       "    var buttongrp = $('<div class=\"btn-group inline pull-right\"></div>');\n",
       "    var button = $('<button class=\"btn btn-mini btn-primary\" href=\"#\" title=\"Stop Interaction\"><i class=\"fa fa-power-off icon-remove icon-large\"></i></button>');\n",
       "    button.click(function (evt) { fig.handle_close(fig, {}); } );\n",
       "    button.mouseover('Stop Interaction', toolbar_mouse_event);\n",
       "    buttongrp.append(button);\n",
       "    var titlebar = this.root.find($('.ui-dialog-titlebar'));\n",
       "    titlebar.prepend(buttongrp);\n",
       "}\n",
       "\n",
       "mpl.figure.prototype._root_extra_style = function(el){\n",
       "    var fig = this\n",
       "    el.on(\"remove\", function(){\n",
       "\tfig.close_ws(fig, {});\n",
       "    });\n",
       "}\n",
       "\n",
       "mpl.figure.prototype._canvas_extra_style = function(el){\n",
       "    // this is important to make the div 'focusable\n",
       "    el.attr('tabindex', 0)\n",
       "    // reach out to IPython and tell the keyboard manager to turn it's self\n",
       "    // off when our div gets focus\n",
       "\n",
       "    // location in version 3\n",
       "    if (IPython.notebook.keyboard_manager) {\n",
       "        IPython.notebook.keyboard_manager.register_events(el);\n",
       "    }\n",
       "    else {\n",
       "        // location in version 2\n",
       "        IPython.keyboard_manager.register_events(el);\n",
       "    }\n",
       "\n",
       "}\n",
       "\n",
       "mpl.figure.prototype._key_event_extra = function(event, name) {\n",
       "    var manager = IPython.notebook.keyboard_manager;\n",
       "    if (!manager)\n",
       "        manager = IPython.keyboard_manager;\n",
       "\n",
       "    // Check for shift+enter\n",
       "    if (event.shiftKey && event.which == 13) {\n",
       "        this.canvas_div.blur();\n",
       "        event.shiftKey = false;\n",
       "        // Send a \"J\" for go to next cell\n",
       "        event.which = 74;\n",
       "        event.keyCode = 74;\n",
       "        manager.command_mode();\n",
       "        manager.handle_keydown(event);\n",
       "    }\n",
       "}\n",
       "\n",
       "mpl.figure.prototype.handle_save = function(fig, msg) {\n",
       "    fig.ondownload(fig, null);\n",
       "}\n",
       "\n",
       "\n",
       "mpl.find_output_cell = function(html_output) {\n",
       "    // Return the cell and output element which can be found *uniquely* in the notebook.\n",
       "    // Note - this is a bit hacky, but it is done because the \"notebook_saving.Notebook\"\n",
       "    // IPython event is triggered only after the cells have been serialised, which for\n",
       "    // our purposes (turning an active figure into a static one), is too late.\n",
       "    var cells = IPython.notebook.get_cells();\n",
       "    var ncells = cells.length;\n",
       "    for (var i=0; i<ncells; i++) {\n",
       "        var cell = cells[i];\n",
       "        if (cell.cell_type === 'code'){\n",
       "            for (var j=0; j<cell.output_area.outputs.length; j++) {\n",
       "                var data = cell.output_area.outputs[j];\n",
       "                if (data.data) {\n",
       "                    // IPython >= 3 moved mimebundle to data attribute of output\n",
       "                    data = data.data;\n",
       "                }\n",
       "                if (data['text/html'] == html_output) {\n",
       "                    return [cell, data, j];\n",
       "                }\n",
       "            }\n",
       "        }\n",
       "    }\n",
       "}\n",
       "\n",
       "// Register the function which deals with the matplotlib target/channel.\n",
       "// The kernel may be null if the page has been refreshed.\n",
       "if (IPython.notebook.kernel != null) {\n",
       "    IPython.notebook.kernel.comm_manager.register_target('matplotlib', mpl.mpl_figure_comm);\n",
       "}\n"
      ],
      "text/plain": [
       "<IPython.core.display.Javascript object>"
      ]
     },
     "metadata": {},
     "output_type": "display_data"
    },
    {
     "data": {
      "text/html": [
       "<img src=\"data:image/png;base64,iVBORw0KGgoAAAANSUhEUgAAAoAAAAHgCAYAAAA10dzkAAAgAElEQVR4nOxde5yVU9u+Z0pHjU7SWSdKJzqfZzogh0KvIuQtQqQwlZroHCoiFI1DIcogh0ISEWJeFF5SKKccRqe3hmp0mFnfH6vVWs+avfc8677XNpvvvn6//fveL3vuefY8ez/7vu7nuq8LgMFgMBgMBoPBYDAYDAaDwWAwGAwGg8FgMBgMBoPBYDAYDAaDwWAwGAwGg8FgMBgMBoPBYDAYDAaDwWAwGAwGg8FgMBgMBoPBYDAYDAaDwWAwGAwGg8FgMBgMBoPBYDAYDAaDwWAwGAwGg8FgMBgMBoPBYDAYDAaDwWAwGAwGg8FgMBgMBoPBYDAYDAaDwWAwGAwGg8FgMBgMBoPBYDAYDAaDwWAwGAwGg8FgMBgMBoPBYDAYDAaDwWAwGAwGg8FgMBgMBoPBYDAYDAaDwWAwGAwGg8FgMBgMBoPBYDAYDAaDwWAwGAwGg8FgMBgMBoPBYDAYDAaDwWAwGAwGg8FgMBgMBoPBYDAYDAaDwWAwGAwGg8FgMBgMBoPBYDAYDAaDwWAwGAwGg8FgMBgMBoPBYPw/xfEAcC4ATAWAFQCwAwAKjjwWxul3XgIArwNADgDkAcAPAPAkAHSM0+9jMBgMBoPBYBgosB75xsN3A1gGAF6N8Hvyj/zbYQCY5Pl3MhgMBoPBYDAsmM3Y9wDwmvFvvhvAp43abwBAXwBoAwBDAOAb479d5fn3MhgMBoPBYDAMTAaAc0DeCgYAOBHi0wD2NOq+CABJ1n+vAvJWcAEA7AKA4zz+bgaDwWAwGAxGDMSrAVS3fg8AQM0oz7nY+N2jPf5uBoPBYDAYDEYMxKMBPBYA/jxS89UYzzsGAPYced5aT7+bwWAwGAwGg1EE4tEA9jBqji3iuStBTwpLePr9DAaDwWAwGIwYiEcDeL1R87winnuv8dwmnn4/g8FgMBgMBiMG4tEAzjBqti7iuaON557h6fczGAwGg8FgMGIgHg3gPKPmyUU891rjuf08/X4Gg8FgMBgMRgzEowF81KhZr4jnXmE891JPv5/BYDAYDAaDEQM8AWQwGAwGg8H4f4a/gwYwCQBqAUAKP/jBD37wgx/8+Fs9akHhMAhGAuDvsAVcCwAEP/jBD37wgx/8+Fs+agEj4XAiJL4PYAoAiJ9++knk5uYm9OOzz3JFixa5AkA++vfPFT//7FYjJydXXHKJrnHKKbli/Xq3Gnv25IrZs3NFyZKyRoUKuSIry/31vPFGrqhRQx/LuHG5omPHjk41Nm/OFV276ho9euSKb791O46dO3PFiBG6Rp06uWLNGvfX89hjuaJ8eVmjVKlcMX++e40PP8wVjRrpYxk6NFds2+ZW46efckXfvrpG69a54osv3M9x3bodRVKSrFG5cq5Yvtz99SxbJn8WIFckJeWK6dNzxe7dbjU2bMgVbdro19O3b67YutWtxrZtuWLIEF2jUaNc8Z//uL+eefPkuQXIFeXK5YonnnCvsWaNfI+pY7nxRvkeLOrnzM/Gd9/lil69dI0uXXLFN9+4Hcf//pcrxozRNapXl59J19ezZEmuSEmRNUqWzBVz5sj3j0uNTz7JFU2b6mO59NJc8euvbjV++UVeE1WN5s1zxaefur/vZ87MFSVKyBoVK+aKpUtjn4tIj9deyxXVquljufVW+fd2OZavvsoVHTvqGmeckSu+/96txo4duWLYMF2jXr1csXat+zl++OFcUbasrFGmjPz/XWu8/36uaNBAH8uwYbli+3a3Gj/8kCvOOsu8tv2kGsAUT/0FwyPi0QD6TgJJAQCRm5srEhnLlwtRsaIQAEKULCnE/fcLUVDgVmPzZiFatpQ1AIS47DIh9u51q7F3rxCDBukaLVvKui4oKJDHX7KkrHHccfL1CSHE4MGDQ9dZu1aIGjX0sUyaJMThw27H8uuvQnTrpmucdZYQO3e61Th4UIibbtI16tUTYv16txpCCLFkiRDly8saZcoI8dhj7jW++EKIk07Sx3LddUL8+adbjT17hDj/fCEABgsAITp0EGLrVrca+flC3H67EMnJ8jiOP16I1avdagghxOuvC1GliqxRooQQd93l/r7//nsh2rTRf5P+/YVw/bjn5QkxdKiu0aSJEBs3utUoKBDi4YeFKFVK1qhQQYjnngv/8+qz8dFHQtStq49l7FghDh1yO5bt24U4/XRdo0cPIbZtc6tx6JAQGRm6Ru3aQmRnu9UQQogXXhAiJUXWKFVKiMxM93O8aZMQTZvqY7niCiH273er8fvvQlx0ka7RqpUQ330X+bnRrlMFBULcfbd8rwIIUbmyEK+95nYcQgixZo0QJ5wgayQlCTF9uvxMueCnn4To1Em/nr59hdi9263Gn38Kcf31ukajRkL8979uNYQQYtEiIcqWlTXKlRPiqafca3z6qRANGuhjufFGIXbsyOUGMIERjwYQIFwW8EDjd4+KUSuhG8DDh4W45Rb9pq9VS4j333ev89JL+iJ7zDFCPPig+0X266+FaN5cH8u//y3Evn1uNf74Q4hLLtE1TjtNiC1b9H9PT08vskZBgRBz5ugGslIlIV591e04hBDinXeEqF5dX2SnTnW/yP7yixBduujXc+65Quza5VbjwAEhRo7UNRo0kBc7Vzz1lLy4AsiL7aJF7jX++195kZfHki5GjJDH54L//U9+2ajX06mTED//7FYjP1+IadPkeQGQX4Zr1rjVEEJ++VaurBvIe+5xf99/950QrVvr13PxxbJZcMH+/UIMGaJrNG0qxFdfudW46aZ0MX++biBTUmTz5IrsbNmsqWMZP969gfztN9k0qhqnny6bShccOiTEzTfrGnXryubWFc89J8Sxx8oapUsL8cgj7ud440bZ1Ktjueoq2fRHQ6TrVG6uEBdeqGu0bSvEDz+4HUdBgRB33qkbyCpVhFi1yq2GEJJsHX+8rJGcLMQdd7hf27ZuleRPvZ7zz8c1kNdeq2ucfLIkqa547DFJigEkSX76afnvubncACYyMA3g4CM/UwAAk6I8x7wN/CIAJFv/vSoA/HDkObsA4LgYvy9hG8Dt24Xo1Ut/eHr2pLP0OnWE+M9/3I/l+eflxEKx9Iceig9LX7lyZcwaNktv00ZOeFxQUCDE7NlBll7Er42It98Wolo13UDedlvisPTPP3erIYQQTzwRZOnjxrn/USKxdNcGctcuIc45R9fo2lVOal1w+LAQkyfrBrJGDSHefdethhBCvPJKcPJ+333u7/stW4Q49VT9ei65RBIhF+zbJ0SvXiuP1mjRQohvvnGrUVAgxLx5kgCqyfuyZW41hJAEtGZN/XomTHCfvOfkCJGWpmv07o2bvI8aFZy8r1vnVkMIIbKygpP3BQuK/hn7OrVhgxCNG+tjGTYsdgMZCXv2CNGvn67Rvr0QP/7oViM/X4gZM4KT9zffdKshhBBvvCFE1aq6gZw1y/19/8MPQrRrp1/PhRfiJu9XXaXrNGkixJdf6v/ODWBioQvIBk49zC3cd63/NjhKjcHGz0RrAAEAloBuFFcDQF8AaAPS+2+zUWNoEceckA2gzdJvucX9Imuz9DPOEGLHDrcahw4JMWaMrnHiiUJ8/LFbDSGEePbZIEt/9NHIz8uOcQ/pyy+DLP2aa9wvsjZLb9cOx9JnzdIX2apVcSz9zTeDLH3GDDpL79dPfpG44M8/5ReWydI3bIh9LiJh4cIgS8/KcjsOIeQXeL16+lhGj5Zf9C7YuVM2FKpGWppsOFxw+LBsbFSNmjVxk/dly2SjpSbv8+a5f5F+841s+ACyBYAQl1/uPnnfu1eISy/Vr+fUU4OT9zAoKJANsJq8V6woG2RXvPeelm4kJQkxZQpOutG1q34955yDm7zfeGNw8v7JJ+F+1vxsLF6sJ+9lygjx+ONuxyGEPXmXhM5VurF7txDnnRecvP/0k1uN/HxJZBVxqlZNEl1XrFwZnLzffTdt8p6SIiUY9uSdG8DEwmOgm7KiHvlRaoRtAMsAwMtHnpcfofYhAJgY4pgTqgEsKBBi7lw6S1+7NsjSJ07EsfTUVDpLT08Pz9IzMzMj/vvTT/vRx518sj6Wa6/F6eMuuCDI0jH6uDvuoLP0Vau0Pi45Wd46wrD0tm0js/Ro58KGYumqhs3Sw6CgQN66K11a1jj2WDd9nIKtj7v5Zvfbmzt2SLKkamD1cePH6xpYfdyLL2rpRokSmWL+fPdz/NVXQjRrpo9lyBB3fdwff8hb36pGLH1cNBQUyFvwvvVx06a5E6effxaic2f9evr0kdKFsMjMzBQHDggxYoSu0bChEJ995nYcQgT1cWXL4vVxDRvqYxk5EifdOPdcXaNLFylxcUF+vmzoVQNZvTpu8v7qq1Laoybv994b+X3PDWBi4THQDVlRj8NRagw2nhOrAVQYCHLbNwcA8kDe+l0EAB1CHnPCNIB79wb1cViWfu+9QX0chqW/+25QH4dh6bY+DsvSb7ghyNIx+jiTpZctK293usIXS7f1cRiWPn16UB+XCCwdQN6ex+jjrrhC18Do4woK5PKAuWDx/PNuNYSQ8og6dfSxZGS4N5Dbtkm5hqqB1ceNHatr1K0rxIcfutUQQoilS4PSjYcfxunjTjlFH8vQobgFi/79dQ2sdOOuu4L6uNdfd6shRGF93O23J4Y+7qSTcNKNxx/Xk/dy5eQymSvWrw9O3m+6CTd5P+ssXaNbN5x0Y+LE4OR97droz+cGkEFFQjSAmzYFN3SxLP2aa3SN1q1xLD0zk87S33vPzxab+UWK0ccdOBBcosFusT37rJ8tNrOBvOEGHEsfOFDX6NoVx9LvvpvO0letCsfSY2HLFjlFVa8Hq48zl2iaN5cLSy4oKJBTZXPy/tJLbjWEkFO+WrX0sWD0cb/9FpzEnHmmu3Tj4EG51KRqYKUbL70UTroRCxs2BLW/WH2cuUSD1cfdf39QuvHGG241hJBki6qP+/HHoPvAv/6F08eZSzSNG8u/tSsWLw5O3p95xr2G3UCOGePeQO7YId/rqkb37vKzEAvcADKoKPYGUG2xpabSWXrjxrJGUVtskZCbK1l6+fJC1K9P22JLTpbTPypL79iRvsVWq5b8Qr/gApw+7tprZUPcvDl9iy0tLbjF5gJ1kW3ZUh5PejqepVesKNl1aipOH6dYevv2RbP0aFi+XJ6Xbt1k4zV3Lk4f17KlvP1Vtqy0KMJYG112mfwSPOkkvLWR0sd160bXx7VrJ9/3FGujE06Qn7+zz8br45KS5KZ+/frh9XEmliyRhCktDa+P+/xzeV6aNpXvE4y1kdLHVaggJ7wdO9L0cZ060fRxVarIW9AlSsiFNKy10YknytfUvz9u8n7llfI9e8op8oGxNnroIfmdk5qKn7x/+GFw8j5uXLjJOzeADCqKrQG0t9hOPBHnH/fMM0F93OLF7jXsLbbRo3Es3dTHdeni3kCOG5dRaIsNc5G1t9gwzcWPPwa32AYPxrH0q6/WNU45xV0fJ4ScvJgsHTOd+vhj+R5TxzJ1auwGMiMjo9C/2fq4s88umqXbsK2NatbEbabb1kaPPUa3NhoxAmdtZE5l27XDSTdMfVylSoUXiyKdDxu2tdHs2XR93MUXu+njhBAR9XGYyfuTTwb1cc8+617js8+C+rjx43GT9z59zFvyGagGcurUoHTjvffcagghxIoVwck7xpHh22+ljlO9nquuwk3eBw/WNVq2xEk3HnxQT95TUqTuNSy4AWRQUSwNoG1ATGHpqobLFpsJxdJVA+lji234cBxLP/PMnKM1inuLzTQgxrB0Wx83YACepasaTZtKuYALTJYOEJ6l51ijQVsfF5alm9i2LWht1KsXTh83bpyuUacOTh/ny9rIhz5uwABdI5o+zj4fJnxZG731lrY2wurjfvpJTtjU6znvPJw+bvhwXaM49XGffCInoOpYbrpJiK1b3cbmu3bJa7yqgdXH2dZGmAby5Zf9hAqY1kaYUIF9+wqHCrhaG3EDyKDiL28A33nH/xZb375+WDpmi81m6U8+6V7DZulYfZzJ0rFbbCZLr15dni9X2Cx9zhw6S8fq40yWjtXHPfAAnqUr2Pq4W2+lWxth9HF/tbVRLCSStdHMmXR93JtvBifvM2e6X9t+/DGoC8VYG+XlBfXQWH3cggV0fdy6dcHJO0YfZ1sbde+Ok27cequugQ0VsK2NMKEC2tpIPjChAnv3CvHGG9wAMmj4yxpAX1ts8WDp2C22667zy9Kx+rhILB1zkfXB0idN8s/SMbewfbB0X9F/prVRxYry9bnCtjbC6uNMayNs9J9pbYTVx8XD2ggb/WdKN7DRf6a1UbVq8jrlCtPaiBL9Z1obYaP/TGsjrD7OtDaqUEFuZbsikaL/bGsjjHTjhRf0XQDs5F1ZGx17LDeADBr+kgZwzx656aU+PJgttkRj6aY+zhdLf+gh9/tWicLSMVtsNiKx9A8+cKshhNTHUVn6o4+ujEv037ffutWIZG2Eif6zrY18Rf9hJu+mtVHDhuGsjez0Cf/Rf8JL9F/nzrjoP9vaKJGi/+zJe1GJRba1UbNmdGuj4oz+s62NzjiDFv1XqpRcDKJG/x1zDDeADBri2gAWFEjdiXnrC8vSzz9f18Busd1+O52lv/66H5bepo1+PUofl+UQH5GXJzVXVJb+8MNBfRyGpWO32EzYLL24o//KlMkisXQ7+u/KK3H6OB/Rf3ff7Tf6jzJ5N6P/XPRx6rNx4EB8ov8wy2N29B9m8u4j+i8/Pz7Rf9H0cbGuU3b036WX4vRx//63rpFI0X/YUAEf0X+jR+sa9eoJsWYNN4AMGrw2gPn58iIycaK8qCmGDiCnVD5YOtbl3QdLnzbNL0vH6uNslj5wIE4fZ3qLYfVx8+cHWTpWH0eN/ovE0jH6ONNbDKuPM1k6Vh9nGxAXpz7uzjt1A4mdvNsGxJjJu6/oP9OAWEX/uUJZGwHIW9k+/OOw0X+mATE2+s80IMbq45S1kZq8P/AA3tpIHQs2+u+yy3QNH9F/2FABO/pv8mS8tZF6PSpUgJdAGFR4bQDvuUe/Se0HZhKzeHGQpWO22D77jM7Sd+4MmtNiWbq5oYvVx61YQd9i88HS9+4N3ubBbLGpDV2TpS9f7lZDCHmbmMrSf/3VD0s3N3Tr1cNZGy1dStfHbdjgJ/rPlG5g9XGzZwetjVavdqshhPwZU7rhO/ovLPLygtrfJk3cJ+9CSO0vNfpv3brEiP5TG7qqBjb67+WXtbVRqVICFf339df06L/ffw9mR/uK/luxwq2GEHLIoKQo9tIkN4AMKrw2gCtWRG7+brvNrY5i6XXrytuS2C22xx6TP9+0KZ6lr1snv8iVeJ7C0lu1kh/iaFtseTFGPIqlV60qp4+ULbaKFeUXIYWlt2ih/ybYLbbLLpPLM6VLS30clqUfd5xs8qksvWtXHf23d6/buE2xdDWhOvdcvLVRzZryHFGi/1JS5DmiRv+pphijj1MGxC1ayC/CTp1wk/fbbhOiUqU8UasWPfqvQwd69F/XrvJvcvHFeGuj+vXlNYkS/ZeSIq+N1Og/9TkOq48zr1PK2khJWrDRf+PGyXNbtSot+i8lRZ4jbKiAsjZSfxNMqIDv6L/mzaV+116a5AaQQYXXBnDVKn1bRD2qV3f7ANksfcQIugFxt270LbbjjsOJkO0tthkzol9k09PTI/67zdIHDaJvsTVtimPpL74YNCB+/HH8Fps6lnHjcNF/F18cvC1CZenVq2t9XLRzEQlr1gStje67j25tdM01uOg/09qofXuctdGiRXryXr48zoD400+D1kbTpuGkG3ryni4GDMBZG02ZoifvDRvirI1efVVbG5UoIa8NGGuj007Tf5P0dJx0w9TH9epFtzaqUsVtM119Nj74IKjvnj0bZ23UvXtwYoeJ/jP1caeeipNuPPNMULqBibz88stgqABGuhF2aZIbQAYVXhpAe4tNXVjURSEsFEtXF9l4bbEVBXuLjcLSXfRxkSaAtgHx+PF0fRyWpY8dq2vUrYvbYlu6VBsQly4tv0hdYRsQ+2DpdvRfrGmsQiRrIzvBIgxsayNK9J96PZToP1UDG/3nw9po/fqgtdHIkXlkfRw1+g8AH/1nWhtho/82bw7q47DRf6a1EUYft39/nrj/fq2Pw0b/rV2r9XEAtOg/VQMTKnDwoJQGqRqU6D+qdENF/6ljibU0yQ0ggwpyAxhk6fL2iLp4n3xyuObLZunYLTaTpZcsKScxGH2cydKxBsQ+tthMlk7ZYjNZ+oQJuC02k6X72mJbt86thhBBll6mjLTBcYUd/TdsWPxYeizY1kbHHy9tilxhR//NmkWP/sPq40xroyZN/ET/YSaQdvSfD2ujHj2K19rInLxjrI3s6L/Bg+nWRq1a4ayN5syhWxvZ0X8+rI369MFZG40cqWv4ChUoammSG0AGFaQG0N5iGzVKX2QPHQp3gYrHFhuWpdtbbBiWnqhbbFiWHs8tNhf4ZOnU6D+bpWOj/3xYGyVK9F80ayMX2NF/p5zy10X/2fBlbZSo0X9YfVyiWBv5iP7zZW1kpg39ldF/3AAyqEA3gDZLx2yx2fo4X1tsrizd1sdhWbqpj8NssWVlZRXaYsOydFMfh2XpPrbYfEX/+WDpLtF/0bzO4hH9h7U2MifvWGujRI3+s62Nwnhk+or+e/BBP9F/VGsjWx+HtTbyHf1XsmRWsUb/mZN3rLXRrFl+QgWOP15+flq1+uuj/7gBZFDh3ADaLB2jj1OmzOoii2Xpr78evL2ZkUF3eceydFsfh2HpEyas9MLSTX3c0KE4lj5gAJ2lJ2r0XxiWbqcdxCP6D2tt5CP6b9euxI3+i2RtVFT6hK2Pw0T/7dvnP/oPa23kQx+XkxOf6L+5c93Hbb6i/8Lq46LBjv7r2JEe/YeVblBDBbgBZFDh1ADaW2xh9XG//y5H9HfcEfzwubD0/Hw5lZs3T26KqUZJNZAvvRTqJQRgb7HdeiudpZ95ZvGxdHuLDcvSqVtskVg6Rh/ni6X7iP4zWfq//oXTxw0bpmtgrY3M6D+KtZEPfVzv3rrG3z36T1kbqWPBWhuZ/nH/hOg/ZXkD4Cf6D2ttlCjRf7t3B0MFsNZGPqL/du7kBpBBQ+gG8NVXcVtsBw4EtTTmo1q18CzdvLVjPzALFuYWG5alm/o4LEv/9Vc6Sz9woLA+DmNA7IOlu2yxRcPu3X5YeiJF/5nWRv374/RxPqL/HnnET/SfKd3A6OOUf5yqgY3+s/VxGMN5W7qBjf4zpRtXXEHXx7VujbM28hX9Z0o3bruNHv3Xty9OH+cj+s+0NvIV/Xfjje4N5K5dUheuamBDBe65R4h27bgBZNAQugF85RUcSz98OPhloR6lS7tt15q3nc2H62KD2mJTTReWpc+ZIycGpUrRWHrDhnIak5QkxJgxOSiW3rmz9pDDsvSRI/XFGrvF9tRTcvM7JYXG0ps00V+mGJauov+UiTFGH/fLLzli2jSp7UlOpkX/NWggiQLW2kjp49SWLtbaaMgQvYzTrBnO2mj+fCn7KFuWpo9r1EjrIMNYG+VYm2G//Sb1vur1UKL/1HQXa2303HOS9FSujLc22rhRnhOV0IOxNlLRf+p9b1sbhYGK/mvZUhLkSNZG9rmIhNWr5fmtXZtmbdS+vZZvUKyN1PURa21kR/9hrY3q1ZPv/XLlgkuTYaGWJkuXFqJBA24AGTQ43QJ+4gkcSzd1NeoxY4ZbnUWL9MjcvO3kAnuLbexYOku/5BI6S2/TRjYKGRkZTnXMLbZy5eSFm8rSr7+eztL79JGNnCtMll6/Pp2lJyXJqSxGH9egQUZgmkM1IO7WDWdt9MorevJeuTJuM92O/hs9GqePM62N+vfHTd7nzdP6uBYtwks3zM/G++/r6L9SpWRzgdHHmdF/w4bRrY1698ZZG2Vl6cl7rVpCLFzoXsO2Nho/HqeP69dP1xg0KLJ0I9Z1Kj9fXtvV5L1DB7q1UYUKOOL0ww9Ba6MbbqCHCviyNsJIluylyXHjuAFk0OA1CcSGYul281exYvgPomLpkaZ/Lpowc4uNoo/zscV24YW6hq8tNowBsdpiA8Dr42wDYpctNoVIBsQYfdzChUGWTon+M5slqgEx1tpowgRdo2ZNfPSfqY+jRP+pY8FaG5n6OB/WRtToP0USpkwpHmsjFf2najRogLM2Wrw4qI+jRP+ZRBAj3TjvPF2jUye6tRE1+g+AHv2nXs9FF+GkG75DBdTSJC+BMKiIWwNosnQA+WWmvgBmzgxXw95i691bTkCSkmRjGeYDbW+x1auH08eZLB2rj9uwQTY36liuvZa+xda+vZ8tttWr3WoIIZtOpY9LTpYTSAxLN/VxWAPiq64KsnRXfZwQwei/4rQ22r5dprWoGj160KP/atemR/9hrI2EKBz9N2QIPfqvVSt69F/lynLy7gpf1kZm9F/fvnRro0aNcJN329oIE4Fm6+N8WBt16YKbvNvWRj5CBe69lx795yNUwFya5AaQQYX3BjAWS8/Pl7dhw3yQ7C02k6V//324CYS9xeaLpWO22BKZpWO22BKVpV98cWKxdFfY0X8+rI18Rf9hrI3M6D+stdHGjf6j/4rT2mj1arq10datQWuj88/HSTd8WBuZ+jistZEd/Zeejpu8+7A2uvvu4OQdGyoQ7+g/bgAZVHhtAG2Wjt1i88HS16wJsvTp0/2wdNeLrAtLz8zMjFrH3mLzwdIxW2yRov+o+jhfLB0T/ReNpcc6FzZisfSwiBT958PaCBP958PayNbH0a2NMtHRf7a1ESb6z7Y28hH958vaCBv9h7U2Up8NWx+HtTbyEf3ny9pIRf+1b4+3NrrlFn0c8Yz+4waQQYW3BtBm6VdfjbvImiwdu8U2Y0aQpWP0cTZLnzGDztKL2mLLjnCPLpI+zscWW4hghUKwWTpli03VSE31E/2H0cfZLH3ePH2RjfaPEOUAACAASURBVHQuIqEolh4GdvQf1oDYtDbCRv+ZBsS+ov/OPpse/VezZjY6+s+UbmCi/2wD4uKM/rOtjTCTd9vayDX6Lzs721v0n2lt1LQpLvrv4Yf9R//dcgs9+i/e1kbcADKo8NIAmgbEZcr42WIbNizcRfbgQWlZsnBhYasYHywd6/Lui6WbW2xYA+J4bLFhWPrHHxdm6ZjoP8XSAXD6OJulY/VxYVh6Ufj6azkxVMeCjf675BJdA6uPmzMnKN3ARv+Z0g2MPu6XX/xE/40cqWtQrI1M6QYm+u+///UT/WcaEGP1cdOm/T2i/8JAWRtRJ++JFP1nLk0WZW3EDSCDClIDaLN07BbbkiX6IuvC0rds0VM6+5GaSmfp2C02Hyx95UoaSxdCFGLp2C02Hyz9oYf8s3SMPs5m6djov4yMIEvH6OOefz6oj8MaEJvWRtjoP9PaCKuPmz3bjwGxj+g/09ooTPSfDdvaCKuPe+KJoHQDo4+zpRvY6L9zztE1sPq4yZPp0X+mtVG06L+iYFsbYaP/TFPmli1x1kYPP0yP/svODi5NTpxYdAPJDSCDCnQD+PPPkqGoL2TsFtv11+MNiD/8MHLzV7my23EIIX9vt256knnDDTiWfsEF+la4K0vftGnT0S025VFGYelpafJiTdli69FDfyFjt9gGD9aNKIWlK3aM1cdlZ8tzrCaZsaL/NkXpcn/7Td7SVF/IlOg/taCE1cc9+6zW6lGsjVJTtVUM1tpowAA9yaRYG6nXY+vjop0PG2++Kd/3JUrQrI169dJfyBhro7w8+bdUOjusPm7hQv2+P/ZYvLVRaqom2Vh9XN++6lb4JtG9O97aSDk7YPVxy5bp94mv6D+KtVHNmrKhPe00nLXRvffKwUeLFm7WRtwAMqhANYBvvaWbgsaNcS7vP/2k9XFly8otTAxLN2+fqYfr0sjjj2t9XGoqjqV/8onWx9WsibvITpo08+gWW3KyvLhgWPqkSZql9+mD22J7+WXN0lu1wi1YmPq4lBR5Wx/D0k0j8QEDcPq4uXM1Sz/9dPn6YmFmBK+itWt1U9CwIU4fZ1oblSoll0cwBsSmtdEFF+Am76a1UefOOGsjUx9XrZpcLKJaGw0cWHjyHul8mLCtjc45Bxf9Z1obNWtGtzY69lg5lXWdvNvWRv37062NevTARf+Z1kZ16wrRvftMkrVRiRLyM021NjrvPD/Rf5mZdGujMWPok/eePd2kG9wAMqhwagAjGRD72GLDsHR7i828fRX2w5yXJ5sS9bMUlq4aSApL97HF1ru3roHdYjMNiClbbKYBsQ+W/u9/0w2IsdF/994b1Mdho/9MfdzUqTh9nGlthI3+M62NGjbEWRvZ+jhs9J9pbYTRx9nWRpjov/x86RRgWhtho/+UtRFWHxfJ2gijjzOtjbDRf6a1UUqKEC+84FZDiMLWRhh9nG1tdMYZfqyNsNF/ZqjAI4/grI3MUAFc9B83gAwaQjeANkv3tcWGYen2FtuECTrRIqz+4vvvgwbEmC02m6Wfcoo7S4+0xUZl6QByk4xqQIzdYrP1cRiW/sILQZaO0cfZLP3KK+kGxFh9nBn9h9XHmdZGWH2cbW3kQx/XqBFOH2dbGxWXPi6StZHr5N22NsLq42xrI6w+zrQ2uvRSevRfixY4fZxtbYTRx73/ftDaKIw+zoYd/de7Nz36r149evQf1tpowwYh7ryTG0AGDaEaQB8s/X//k7cjqSw92hbb1q3htXKJwtL37QtusWFZ+vz5QZb+d9liiwQ7+g+rj7NZOkYf58vayIz+w1ob3XmnbiCxk/fVq4PRf1hrIzP6ryhro0jwFf3ny9rIjP7zYW2Ejf7zZW1kTt5Na6Ow8KWPM62NfET/Ya2NPvjAv7WRj1CB+vWp0X/cADJoKLIB9LHFZurjsCx91y66y3t+fuJusV16qRDTpoXMyDsCX1ts8+b5YemuW2w27Oi/s87CsfRRo4IsHRP9d8klMwMsHWtt5Dv6r0MHXPTfjBmJGf3Xv384ayNTAxjJ2gijj7OtjXxE/40di7M2OuMMXaM4rY3CRP8Vpcf8+ms/0X8DB+oa1Oi/rl1p1ka+o/+w1kZmqED9+twAMmiI2gD6YummPg7L0tetC7L00aP/3ix92bIgS3/gAXmxCrvpKMQ/j6W/916QpU+Z4n6R9cvSNwmAxIv+o+rjfET/UayNsNF/6rNhT96x1kbxiP7zoY/DRv+Z1kY+ov9iWRvFuk75iP7btCk4eR86FBf9N2BA8H2PaSATOfrvxx+5AWTQELEBxLJ0E7Y+DsPSCwqCW2wVKoRn6fn5kok+/XRQ+1GcLN3eYqtdO3G22LAs3dTHUVk6QOJF/1FZeqzov1jwFf1nGhBjrY1MfRzWgDge0X8YayNbH4e1NkrU6L9Y1kbRkJOTiNF/NGsjM1QAY220Zw89+s+evGOlG2+8EXlpkpdAGFQUagApLF2huFn6rFm6QbIfxcnSzS02Hywdu8Xmg6Xb+jgsS/cR/eeLpZv6OCxLj4c+DhP9Z1oblS8viZArbH0cRroRr+g/jLWRqY8rWVJaA1GsjQDw0X+mtZGv6L+irI0iwYz+A5AWUokQ/YfVx9nRfxhro88/D0b/XXcdLlTAnLxjlybvuCM4eTeXJrkBZFARaADz83U8D4WlKysSigGxOb53ZemR7GHUBMQFiqWreliW/v77wRinCRMiX2Rj5c/m5Mi/g5oYYFn6zTfrL3UKS1fLHliWvmGDNNhVf5Nhw3As/YordDNLYenqdrpi6WGzgBXeeEMEPByx0X8XXaQv+Njov5Ej9TQUa2306KN6Goq1Nvr442CyDtba6LLLhChVKlsA0KyN1O10irWR2pKnRP+ZS0EYa6M//pB3V9Q0FGttdM89mqi7WBuZn4133tETYoq10cCBmsRhrY3s6D+MdOPJJ+X7o3p1vLXRZ5/J369iPClLk6qxjrQ0yQ0gg4pCE8AtWyRzobD0EiXkhZrK0nv0wLH0JUsKN38tWrjVMfVxlSrJ6R2GpZv6uB49YuvjMjMzI/67qY9LTaWz9EaN5BczZYutTBl5jqnRfz17ho/+M2Gy9HbtcAsWJkuvXl021YqlRzsXNkx9XFKSPMfU6L/u3enRf82aydvzmMm7ytROSZGvByPdMKP/evakR/81bJiJsjYy9XH16snmAiPdGDdON37du9Oj/3r2pEf/tW6NszYy9XFVq8qm1kW6kZmZWSj6r0cPevRfWpr8LBVX9N/w4cHb4BhrI3PyXr26n6XJqVMjEyduABlUkLKAFWx9HIalR9LHUbfYzIfLBMPeYhs8GMfSfevjEmmLDcvSTX2ca/SfwpNPan1c2bLy/3eFrY/DsnQf+ripUyNbG7lgxYqgPg5jbfTtt0F9HNbaaPBgXYMS/aem3VhrI1sfh7U2MvVxWGujMWN0DUr0n299HNbayNTHUaL/fIQKmNINH6EClOg/VQO7NLlggda8ly8f+3uLG0AGFeQG0NbHYVm6qY/r1Yuuj6tdW9ds3Dj8hd/Wx2FZuq2Po7B0ALwBsamPwxoQm9F/WH2cGf1HYenXXadrnHQSnaX/3a2N7Og/rLWRGf2HtTay9XGXXUaP/sNaG5n6OKy1kQ99nC9rIzP6D2tt9PTTgmxtZEb/AeD0cb6sjczoPx/WRiVKyOslZvLue2kyTKgAN4AMKtANoL3F5oulY7bYbJau9HH798tjDPMF8k/bYvPF0mfOTMzoPx8sHauPM1l6okX/YaQbt96qa9SqhbM2SpTovz/+kFpZVeO003DWRokU/delS3DyjpFu3HCDroG1NopH9N+IEbjJuw9rI9/Rf76WJsNO3rkBZFCBagBt/7h/2hYblqVTt9gyMjK8bLH5YOm7dwcF/FiWHo/oPyxLV/q4MCw9IyOj0L/t3y+nuS4s3Ua8ov8w1kbbtwf943xE/2GtjezoP9vaKNL5sGHq4wDkghBm8n7RRbpG69Y46YYd/YexNjL1cVhrI1sf17cvPfqvYsWMYrU2atBAW3vdeCNdutG1a+JYG913X/hrGzeADCqcG0BbH4dl6abLO3aLbc4cOkt/5x06S//558IsHaOPu/LKnKM1sFtsPli62mKjsnTf0X9Ylm7q40qUkLrKoi6yOdYo7dtv9Ya8C0s3Ea/oP4y1Ubyi/zDSDTP6L5q1kX0+bNj6uEcecScJX34p/UrVsSRK9F+VKvJWpStsfZyv6L+vv3YbM/uyNjKj/1w8YU3EI/rPl7WR6+SdG0AGFU4NoLnFRtHHmSwdu8VmsnQXfVxBgWTFL76op0qKpbvo4/bskQy9UyfdoFD0cb632Bo18qOPW7zYvUY89HFdu/rRx2FYug99XKToP4w+zoz+a9ECp4+bOzcxo/969/ajj1u3zq2GEDKhKBGj/7DWRr71cb6i/y68EKePs6P/vvzSrYYQhaP/nn3WvYY9eR8zpvii/z75hBtABg2hGsBE22IzWXpYfdy2bfK2n7qlYj7q1g3H0gsK5K02U8OiHiVLFt8Wm83Ssfq4YcOCLN1H9B9WH0eN/rP1cdjovwkTdA2sPi5a9J8LfEX/XXqpruEj+q9SJX/Rf64N5C+/SGKgXg8t+k8+Ei36j2pA7CP674QT/vroPwVbHzdggLu10b592toIQA4gHFI3hRDyb2JaG1WogLM28hEq8NtvUq5x/PHcADJoCNUALlxIZ+kTJ+ovDcoWm1qOcNXHPfNM4aZNPcIy0v/9L3oN1wt+fr7UsqnG4PjjhZg5031Fd9UqvV2LZenffx/UdGJZ+tix+ksDG/336KP6AnnssbjbPB99FGz+br7Z/SKblbUysDCCjf6bNk03xFhroxde0M1fqVLyFjAm+s9MXcFG/5k6V6y10X336aWgsPq4ldZ4fs0aPT2kWBuZljUYfdyBA3KJRk3bKNF/DRroBhKrjzNlF9joP/NOQiRrI/tc2MjPl0RWkX1f+jistVGnTvqOxMCBOOnG5ZdrmQ8l+k8RlpQUfPRf27bqe4MbQAYNoRrA/Hx5YcGydPXB6daNvsV28slSfO/K0vftCzIv9XC9xWl6+6nHoEFuNXbv1skgHTpofVxWVlboGuYWW82a8u+CYelqiy05WX6hU1l6airegFhF/7VoIR8UfVzFipIsYFl65cpZR8/P+PE0a6OuXenRfw0ayNeDMSB+7jn5ZVy6tPy7YvRxZvRft27SsoIS/de2rdxMDyvdUJ8NUx93wgly2Yka/demjbxlSpm8p6bKpSmMdEPp45o2lbpQjHRD6eMqVJDkixr917mzvLUeafIe6zpl6uM6dZJ/F4x0w9TH+bA2atyYbm1UqpScylKj/y6+mL40mZYmRFYWN4AMGkJrAF0vjkJIlm4bELs2kLYBcd++7gsW9habejRs6PbFvmiRnuaoR1KS2+0EtcWmfj6RttgwBsQ2S8dE/23ZEjQgdo3+E0I2+P/+t65BYemmPm7ZMrcaQsjbxFRro5ycyNZGLrCtjbD6uGeeCerjFixwr7FhQ9DaCBv9Z8YHUqL/TH3cm2+61RBCyj1Ma6MZM3D6OBUXBoCP/ksUfdzHH/uxNjrzTF0DG/1nWxtho//UZjol+q95c30svqyNvv2Wl0AYdHhJArHha4vNZOnJyXSWrr401P9+5JFwNewttvr1NbMcMCD8sZhbbOXL01k6QHSWHgvx2mKjRv8dcwwu+s/Wxw0ahGPp5m1wrD7Otjai6uMA/FgbYfRxBw8G9XEYayMhgtF/ZcrQo/8A8NZGpj6uY0cd/RcWtj6uWjU/+jhq9J+6FlGi/wDklNdVH2dH/2H1cWb0HwAuVMCXtZGK/gOQx4SxNorH0qRpbcQNIIMK7w1gIrP0WbPkB3DRIjn9CnNxsVm60setWyenimFub4Rl6XlFjETitcWGYen2FhuGpd9yC52lm9F/FJZuR//t2uU2nrKtjVq1wlkb2dF/WGsjH9F/prVRnz44a6ORI4MTd2z0X5kyeQLAn7URNvrPh7WRGf3nw9qIoo8zrY3C6uPM65RtbVSc0X/xsjYqrug/Jd0AiLw0yQ0ggwqvDaC9xTZ8OLN0ly229PT0iP/ui6VnZvrfYsNG/5ks3Uf0X506OH2cHf338MPybxXtXESCHf2HtTbyHf1XpQpOH5eY0X/p3qyNiiv6b+fO+Fgb/dXRf+qzsXmzH2ujQYP0Qg/W2mjePLq10dq1/q2NsKECo0bpGtGWJrkBZFDhrQF88knt8l62rPz/XeGLpZv6OB8sHauPc2XpkSaA334b1Mdht9h86+MoLN3Ux2FZuqmPw7L0WNF/RU1jFXxZG3H0XxB29N955+UlRPQfxdrI1MdhrY1sfVxxRP/l5eXFxdpozJjiszayo/8w0g07+m/KFFz0X1hrI24AGVSQG8AgS5c6neJi6evX+2fp3bq5sfT9+yUjNy/2WJa+fDndgNjcYgOQOjfqFhs2+s+HAbGv6D8fLN00IK5fH2dtlCjRf7YBcceOuOg/04C4uKP/TAPi/v3d9XF5eXLb2Zy8+4j+w1obmdINrD7u9NN1Daw+bvx4XcNX9B/W2siUbmCsjRIp+s9emiwq+o8bQAYVpAbQZunYLTYfLN3Ux/li6WH1cZs3y9t+LVroi4B6dOpUfPq4RNli27s38habC3xF/9ksHRP9Z1obAeCj/0x9HNaA2Ef0ny3dwET/mdZG6n1fXNF/ytpINZBhov9s2NINTPTf/v1BfVzTpn6i/zCT9//8J6iPGz/enTiZ1kYAeGsjO/qPYm2kJu9Ya6O/c/QfN4AMKtAN4KpVWgtGYennn09j6fv3B5slLEs3LV4qVJDasLAwG1jzUbKkG0vPysoS27cHzWmxLH3WLF0Du8W2bJmexGC32L76Kqj3M7fYwuL334MGxFiWPn9+kKXH8rON5nX29ttappCUJLWmGH2cqffDGBD/+acQkyfrGlh93NNP6wkkJfrP3LTHWBvt2hVclLKtjcJ4ZObny2aPGv23YoUmCSVLSuNqjLWReScBa21k6lyx+rgFC3QDSbE20tuoWWLCBJw+Li1Nvx6KtZE6Fkr0n1pko0T/9emj32/Y6L9Bg/Tkz2VpkhvAxEVdALgbADYBwF4A2AUAHwHAGAAo6+l3NAOAuQDwOQDkAsABANgOAG8DQDoAHBuihnMDaLL0Tp3oLL1OHfl/MSxdbbGVLCkvCBiWbm6xpaXJWwquLP299/RtL/PhGng+Z85KUbu2bLpq1MCxdHOLrV07vD5OsfRu3SRL/+gjtxpCaJZ+0knyVnZY2x0TKvqvbFnZeGEMiE2W3q1bOJZupx2YLL19e6lxw1gbqei/GjVkDYq1UVKSvB1/wQXu0X+mtVFamjQSd32/CqGtjZo3l+cYY22kov9SUuSUKpK1UVHpE6a1UceO+Og/ZW3UtSve2kjp45RdFMXaqFQpeVcEG/2nrI1SU+nRf23ayGv11KnuiUW+rY2qV5cDA0r0X1KSfM9gJu+mtVGvXrjoP9PaqFkz9+g/bgATE30BYA8AFABAvvUoAICvAKAh8XeMA4BDMX5HAQD8CACnFlHHqQHctavwFhvmNs/kyf632DAi5C1bgltsgwbhY4Ls5u+CC8LXiKSPe/llt+MQQrJ0c4sNk9xib7FhWXqYLbaikJUV1Mdh/OM2bJDNjToWzGa6rY9r3979No+tjzv+eJw+btUqPZVNTsYlt/zwQ2F9HGbBwocB8SOPBK2NMJvptj4Ok68aydrItYG09XG1auGi/0xrI3Mz3QW2tdGVV7prf//4I5h89E+wNqKGChw4ICUSqgbF2oi6NLlnDzeAiYZWALAPZCOWC7JR6wAA3QEgE3STtgkAyiN/xyWgG788ALgLAM4CgLYAcDEAvAO6EfwVYr85QjeAiqWrNz5mi802IMay9AkTdI2aNd232IQQcdliM7+Ewvo++dpiUyxdXWSpBsRqi604DIhNlg4g9XEYA+LFi4P6OAxLt/VxrixdiMLWRp060a2NTjjBj7URNfoPQIroKdF/AHKCnyjWRpgG0tbH+bA2wurjolkbucC2Nho6FCfdMPOni9PaaPXqoLURdvJuWhtho/98LU2efz43gImGd0E2XgcAoH2E/z4adPM2Cfk7vjBqnBXlOUuN54yKUavIBrCgoDBL97HFdvPN9C22Hj38bLH5YOnz58spymWXSXYaBvYW20UX5ThfZCOxdIw+zmTpvrbYEoWlN2okGzkX5OTkiEWLgiz9qafcaghROPrPh7VRly5+ov8w+jg7+g9jQIyJ/suxmGK8rI1eesmthhCJG/2HNSB+5pnY1kb2uYgEO/oPY220Z09hayPXUAHb2ggbKmBbG6lQARf4X5rkBjCR0A500/VAlOckAcCXR563CwBKOP6OCsbv+DjG81oYz3suxvNiNoCRWDpmi80HS7dd3n2wdOwWmw+Wbm6xKZY+blyGU42NG4MsHauP88HS7S02LEv3Hf2HZemtWmWQWboZ/UexNvId/edqbSRE4eg/irURJvovI0N/Nr75Jmht5CP6D2ttZE7esdZG8Yj+w1obmctW0ayNzHMRCUuWaB1ycVob7d4dXDLEhgrcfnviWBuZ0X88AUws3A666WoX43njjOed7vg7qhg/+0yM55UznrcsxvOiNoC2Pg67xeaDpdsu71iWburjinOLzdTHUVi6qY9bsMC9hs3Shw3DsfREj/5zwY8/BqP/sCzd1Mf5sDbCRv99/DHO2siErY/r3p2tjezoP6y1kS99HNXayI7+w1obmZP3fv2K19rIR6iAaW2EDRXwYW0UKVSANYCJhXdANl2/A0ByjOd1BN2cTUb8np3gNgG8M8bzIjaANkufNw+nj0tEll6xoh993OTJbg3kwYPyVrp5q+jss4tPH2dusWEXLMwtNoB/RvSfydLjHf0XDXb0H1Yf99BDiRn9h7U2GjdO18BG/z3/fFAfh7E2SqTov9mzw1sbRUMiRf8NH65rYK2NnnhCSzewk3dbuoEJFdi1S2qgVQ1s9F+0pUneAk4sbAfZcH1SxPMqgm7OshC/5zbj53tHec5zoLWIJ8eoFWgA46GPw7J0Wx83eDCOpfvWx1WqJNlYGLz8srx10b69/iJWDx/6uD59/t5bbJ9+6j/6D6uP8xH950Mf5yv6z/SSLM7ovw8+SJzovzFj/EzeOfoviHhE/2GsjfLy5F0MVePkk3GT94ULtXSjfHnpRuAKe2ly1Cjc5L13b13DXprkBjBxUBp0U7Y8xPP/OPLc9xG/qxwArIDIW8AXgfQBLACAgwBwVRG1Ag2gyUixW2y33UZn6cuX+2Hp5oYudovNjIJyYek//BBs+MzHkSz1QsjMzIxa75136Cx961atzaGw9IwMXQOrj3v6abo+zm4gsSzdJAlKHxfrXNg4fFhqIFUNrD5u5Uo/0X+mxQs2+u/664OTd4wB8aOP0vVxH3ygpBuZAgCnj8vJCdpXYfVxkybpGlhroxdeoEf/bdgQnEBio/9MeU6HDuGj/9RnI5K10erVji9GSGsj1eAnJ8vPEsbayLxb1L8/TroxerQm602auIcKCCHv9KgGn7I02aePfj2Rlia5AUwcVAXdAC4J8fzfjjz3v8jflwwAVwDAZtC+f+bjOQBoE6JOoAFcsUJ+ADFbbIqlV60qLwTULbY2begsPTWVztIbN5YXBFeWfuhQ8CJtsrhoyI4wblUsPSlJTreoLL1jRzpLr1VLfqH364dj6ddcIyeqzZvj9XELFshzm5YmzzUl+q9lS3k8pj4u0rmIhB075Hu9UiXZqHTvjrM2uvVW+f5Qf1+sPu6442QTS9XHNWokJ7tYfdwll8jzc9JJeH3cvffKBrJbNyEqVMgmRf+1ayff95TovxNOkBKBc8/FSTduuEF+jk87TRIXij4uLY0e/desmXyfuEb/ZWdne4v+mz5d/k0qVpSac4x0w4z+69SJHv3XrZskhRRrowYN5HcYZWmydGl51yqadIMbwMRBbdAN4OMhnv/jked/g/x9nQFgNRQ2gVaPXACYD0W/MQppAF2ZvhDSLd/cYps1i77FduGF9C22evXw+jiTpWOmU59/HhTfq4fLLXV7iy01NTxLV4i0xYa5vWlvsWF8E+0ttiuuwF1khw7VNZo1w0X/PfxwUB+Hicf68MOgPm7aNJy1kamP69MHp48zp7K1avnRxz3+OG7yriPDpF4VM3m/6CJdo317XAN5991BfRyGOL39tp68JyXJ5gKjj+vUSb+eSy7BTd7NqawvfRxmOmXr47DRf6Y+rksXXANpWxv5km64nmOMtZGNSEuTsRpIbgATB3/lBLA/yFu/Sm/YF6SusAQA1AO5Zbz3yPF8CQDVY9RCZwELIS+yc+YEDYiLa4tNsXT14cFusY0cqWtgWbqpjzO1fz17hq/x/2GLDRv9p14PJvpv/34d/acaSAxLf/DBoD7uhRfcaghR2NoIq48zb+ufcQZOumHq46jRfwD4yfvGjfLWmzqWq6+mRf8BhIv+s1FQIImsIk5VquCi/2xroxkz6NZG2Og/Wx9Hif4DkCQZE/0XD2uj1FRa9B8APvoPa21kwg4VCLM0yQ1g4uCv0gBWM372vxA9V7gn6Gkg2gcwFmyWXpxbbCZLp2yxmSzd5xbbjBnyfxelGdp0ZNXz/8sWmwteeYWuj7OtjS69NPpFdlOUtVs7+q9FC5w+zrY2wujjbGujiRPp0X+9e+Mm7/GI/lu4UP+3aOfDhm1tdO21fqL/fFgbYfRxtrURVh9n6kIvvJBqbbQJHf3nw9rIR6hApOg/V2ujSNF/GOkGdmmSG8DEwg6I/xbwDcbPXlzEc1cdee4hADguynNSAECceeaZIj09XaSnp4vly5eL9PR0kWfQ7qysrEAY+5o1OaJyZW2Ue/XVQsydmxnQTW3atEnMnDkz8IadOXPm0Qt5bq4Q3btnCyXuVltsDdftnwAAIABJREFUGRkZAaf5lStXiixjDSsvL+/o8SmWnpSUJQBWHtXH5eTkFDIrzcyMfnyapc8USUmbjrL07OzsQssA0Y5Pb7HlCYB00bdv3lGWbv/9oh3fsGHDDZa+SVStOjOgjzP/fkJEP745c3KOsvTSpVeKG26I/PdTiHR8Q4ZkBFj66adnivfeC39+5d8mWzRtmnm0RlqaECNGhD+/QsiGpl8/eX4VS1++3O38CiEbrDJlZgqATUetjT74IPr5VT9rHt833wjRrJk8vwB54vLLZUMY9vxmZ2cb0X+bBMDMQPRf2PP76685hrXRSlGuXNZRa6Ow5zcjI+OoPk6en0wxdGj20QYyzPnNzs4Ws2Zliq5d9fukQYMMsXFj+PMrhBBPPZUlLrhgpTGBzBFXXBH8+/Xr16/I68vAgTNFmTKbjjaQEyeG//wqfPRRnjjuuPQjn2N52/XJJ8OfXyEkcezRQ55fAK2PC3t+c3Jyjlobyfd91lFrI5fzK1+f0sdliuTk7KPWRmHPb2Zmpvj+e3NBMEM0aXLrUelGmPOblZUlli1baYQK5IgqVTIC1kZFfX6FEGLGjJliypRNR++qlCuXLYYNczu/eXl5YuDAdFG7dp5B9rPEq6+GP79CCLF27SbRsOHMozV69RJiwoTw51cI2UAOGCDPL4CUk7z7buzzu3LlSnHNNdeIdu3aieuvv54bwATCX+EDON/42Vj2LgAAM6BoY2rnCeDTT0dn6WHxxRfyFoRPlu6yxabgi6WvWqX1cb5YOnaLzTQgxmyxxSv6b+xYPyw9kaL/qNZGQ4a46+PiFf0X1trIhB39N316YkT/Ya2NfEX/mdKNG25InOg/qj6uRw+5mEON/sNaG8Uj+q+4rI18RP/xBDCx8Fckgcw1frZpEc+dbTy3VZTnhG4A1RabZvo4fdzixUGX9yeecK+httjUsVx/vftF1jYgpm6xAeAMiBXTV+L7EiWkeN31IvvKK8Evnosuom2xAfiL/sPo42wD4kSJ/sNaGy1dGlywePhhugHx0KHu+rjff/cT/XfXXfTov3gYEGOj/669VtfAWhs9/jhdH/fJJzKCTR0LRroRj+g/H/o4irWRj1CBQYN0DWyowP33062N7KVJbPTfU09xA5hIMLOAH4zyHGoW8Cjjd1xTxHM/OvLcwwBQKcpzQjWA8WDpjRrJRs4VJksvV+7vx9Lz8qSmb/RoyQDVl6hqIN99t+gaBQXS1mXqVNnEKm2cmsT4YOnFGf1nsnRs9J/N0jHWRj5YumltBFC8BsS2Pg5jQLxnT9CAGKOPSzQDYh/Rf9dco2tQrY3U5B1jbeQr+u/MM3UNjv7zF/3nc2myZEluABMN6jbwAQDoEOG/3wy6gZsY4b8PBu3lNynCf28MerljKwDUjHIc1xh13otxvEU2gOvXB7fYsAbEPrbYzAYSu8X21FN0lv7pp8EtNheWbk7Y7Mctt8wsuoCQxxytxtKl7q/n1VeDLB2zxeaDpf/xRzDBAsvS588PRv+9/LJbDSGEuO66mV5YumlthIn+O3hQitxVjfr1cdZGzz4bjP7DGBB/8UUw+g9jQLx7d1C6ETb6z9SD5edLmYVpbfTWW44vRsgGkhr998MPQWuj/v3dJ+92gsUpp+CkGwsXBifvmGuBbW0UKfrP1ubZ2L49aNWEjf6bMYM+eX/xRb0oRQkVMI3Er7gCZ22Unk6fvJvkuFIlbgATDacBwD7QWsAMkI1gdwB4CHRTthEAykf4edUA5kPkBhAA4FGjzjYAGA8AXQHgVADoAwCLjf9+EAC6xTjeIhvA3bvl7V4sS3/jDXmR7dRJXrBnzXL/ACqWrqaQWJZ+9dWSHVeogGfpjz4qf/6UU3As3UyMMB9vvBF+03H9ev3lZz6uvdbtWBRLr1pVarmoBsRt2tBZutpIpRgQn3yynKRgWfo99whRvvwm0aABnaV37Uq3NlLkCWttNGKE/BKsWJFmbVShgtx6phgQN2wol4EA3KyN1GdDWRu1aCGbNqy10dSpUvtYsybd2qhDB7q1kVqkwVgbqei/Bg1kk+/L2iiaPi7WdSo7W15HypaVd3mo1kZdu9Kj/zp0wE/en31WXudr1pSfZ2yoQJMm8prdsiU++k9ZG6Wlye/DL77gBjARcS4A7AbZxNkJHfkgm7/6UX42TANYCqTXoJoERkoCyQfZgBa1KRzqFvCGDeFYugmlbVP6uBNPxLH0lSuDLB0jvrcNiEeOxOnjrrxS10hNxbH0+fP138Ss5YIPP9QTO/UoV87tIrltW9CAeNAgHEsfN07XaNZMavdcYRsQP/EE3YA4IwPH0s04xHPOwS1YmNZGNWvi9HG2AfF999H1ccOG0a2NOnTASTdMa6Py5XH2H7a10bRpOANic5pz0UV0a6OGDcNJN2yY1kYlSsjlK8zk3bQ2Sk93n7zv21dYH4exNpo7NyjdwEze164NWhtNnky3NjrrLJx0w5zYYa2N7KVJjObdXpq87jrZQPISSOKiDsgljE0gfft2AcCHADAaAMrE+LnBoBu7aA2gQhoAPHbkd/wO8rbzDgBYC3K7ONrtYRMkI+ho8LXFNnUqfYvNlwGxjy028/amukUJEL5BsFm6WWPUqPDH4mOLTUX/qRpUlq5IAoWlA9Cj/9SxYFm6qY9T1kYusA2IfenjMAbE2tpIPrDRf7YBMWbyvnBhULphOHuEhor+U8cyejROH9e7t66RloYzIJ4wQdeoWVN6OrpCTd4BxFFrI6oBMWbyvnevnLyrGqedpq2NwsKM/pO3N3GTd9PayGeoADb6T9XATt7tpUlz8s4NIIMK7w2gjy02m6Vjt9gmTaIbEL/8Mt2A2NbHXXaZnPBUqiRfp6oXK382Ektfv15ebGvWDPf3SaQttkgsHWNAHA+W/thj4bOAFXzo43xZG5nRf1hrIzv67667is/a6KqrhADIFgB4ayM7+q+4rI22b5fb6KoG1trIjP7DWhu98ELQ2igzM9w5Nj8btrURRh9nWxu1bu3H2ui119xqCBE/ayPXyXuYpUluABlUeG0AfWyx2Swdu8VmsvTu3XEs/dZbdY1atfywdFMfd+hQ8IJrm4YqxGLphw+Hu0ApfRyzdI1Y1kbRzkUkPPVUdJYeFra10YgR9Og/H9ZGWH3ca68pA2L5pXzPPe4N5HffyWZAvp5McfHFdGsjrD7OtDbCRv/Z1kbjxxeftdHUqfpOgmv0n/ps2NF/mFvYGzcGrY2w0X+mtRE2+u/OO4PWRoke/ccNIIMKLw3g/v3BrS/sFpvN0jFbbDZLj7TFVhS2bw/q47BbbCZLr1MHp4+zWTp2i83Ux2G32HxE/919t9/ov6QkqTWlRv9hWPqff0oPSpOlY/zjbGujxYvda9j6uBtvxOnjqNF/tgFxjRp0fVzJklIDGc/ov2iwrY2w0X+2tdGyZW41hCgc/TdhAm7yrpZwunXzF/23bp1bDSHkgIAaKvD/OfqPG0AGFeQGUG2xqQ8PdottyBA6S58/P8jSMS7v2dnyloo6FuoWGwBeH2faf7iydIUHHtAXWcXSXaG22KgsXW2xUVi6qY/DsvQ33/zrWHos2AbEWGsjWx+HsTZaty5obTRqFN2A2Jc+DmNAvGyZf32civ5zwd69UvKhapjRf2FRUCCM6D/ZGKvoPxe8956WbiQl+bE2Oucc3OT9xhsjT95dsGRJ0NrIR6jA8OE4ayMfoQLm0mSYUAFuABlUkBpAH/o4Xyz98svpLN3eYsPo42yWPnEiXR8XlqXv3y+bmzvvlNusplUMlqVnZflh6b6j/7As/Y47EjP678ILKfo4+WjSRDbrrohH9N/NN/uJ/nM1IE6k6L+vvw7q4wYPxlkb2dF/WGsjqj7unXeC+rhp0/7e0X9PPhmM/nvySfcan33mJ1SgTx9dI+zSJDeADCpQDeChQ370cTZLf+CB4mHpf/whG09VA6uPM1l6pUruLD0jI6MQS58yJVwDWVAQnMSajzJlEoOl+4z+izdLt8PghSjM0k84wT36Twh529vUx2Gi/4L6OHz0n2lthI3+e+ihoHTj+efdaghRdPRfpPNhw5c+zp68YwyIbWsjTPSfrY8bOhQn3fAR/Td/vm4gy5TJQFkbmQ1kcrIkYxjphjllxkb/md9f2Oi/rCw/0X/mLez09PCTd24AGVQ4N4Bqi01NqLBbbOPH6wkIhaU3bCg1E1iW/tVX0oBYfZlSttjU36RVK9wW25QpOaJ5c/laMCzdnCipR3KyuwXPzz/LBkkxdcoWm9LZUaL/TjpJfpmWLYuP/mvcWE9jwrD0HOvepbI2UvoprLXRlCny/ZGcLBdhMPq4V1+VDbmMg8JZG6noPxWDRon+U7cEKdF/TZvKL9OUlMjRf/b5sPH++/JaoKYxlOg/9Xoo0X/KPocS/deokbwO+Ir+GzYMH/1XooQ8v+3bC/Hxx2739c3ov7Q0OXl/80234xBCWxudeqq8RlJCBSpVkkSbGv3Xvj1+8q6WJrt1k5N3V29MbgAZVDg1gP/5j9bHlSwptwWpW2xXX41j6WPHBpk+hqWbW2zK5Z3K0jMy3C+yNku/9FIcSzc99cxbEi4wt9jKlZOmxlR93IgROJZu6uP69sWx9Mce0yy9QQMcS1+/XuvjkpKkOS1VH3fFFThro4kTdY3UVJy10fLlevJeuTIuucW2Nho92l26YevjBgzARf+Z1kYtWtCtjUqVkrpQqj7u2mtxCxbm5P2ss3DWRrY+7vHH3WvY1kajRuGkG+efr2t07ky3NqpWDecJa1sbYSIv7VCByy/HRf+ZS5NNmshFPRcUFAjx/ffcADJoCNUA+txiMw2IsVtspgExhaWrGr622BYscK/hi6X361e4+TvmmPAJLpG22DAs3d5iw7D0H37QkykAWvSfeZHFsPRHHw3q4zAJFh9/7MfayNTHde/uro9T0X+qBiX6T+njKNF/pj4OG/03cKCugdXHzZlDtzZS0X+KJGCsjX7+ubC1UXHp4+JhbeQS/adgWxtho/+mTfNrbYSdvNvSDWyowJAhQjRowA0gg4YiG0BfW2wmS/exxQZQfFtsNkuvX19qOVxhs/TRo909UT7/vLABsTJHvvHGcDVsfVzHjvTovzBbbJFg6+Nmz6az9AED3Fn6smUrA/q4U07BsXQf+rgPPwzq43xYG/XqhZu8m9F/der40ceFsTZaafkF2dZGV15ZfNZGZvQf1trorbe0tVFyspx4UaP/zjuPHv0XSR9nn4tIMKP/ypWT1zpX2NZGPkIFMNZGdvQfNlTAtjbChgropUluABk0xGwAfW2x+WDp5hYbhaX72GIzWXqfPjiWPnJkYZae5ZhvZW+xKZZeUCCXY8I0x/YWG5alm1tsWJZuRv9hWbqv6L969bK8sHRVA6uPM6P//gnWRtjoP/Oz4Sv6z7Q2+rtH/61erWUKyclScxev6L9Y1yk7+q9xYz/Rfz5CBXxE/2FDBUxrI1+hAnfdxQ0gg4aoDeDSpfQttk2bgvo4LEsfMIDO0u+6K+jyjtliSySWft11ugbWgPjxx/VFFsvSfUT/7dzph6UnUvQf1dpo797C0X/FZW20di3d2ujXX3HWRibiGf3nClsf58PaiBr917GjvD699ZZbDSHiF/2H0ceZ1ka+QgV8WBthJ+9m9J+PUAG1NMlLIAwqCjWAhw4F9XHYLTZfLN3UxxUnS1dbbBSWrrbY/gqWHgu2CBnL0h96SOvjipuln3kmnaUnirXR11/LiaE6Fow+bu/e+ET/YaQbdvRfWGsjE/GO/nOBrY/zYW3kI/qvc2ecdCMxo/9woQJ29B/W2siO/sNM3iNF/7m+72NZG3EDyKAi0ADaLP2ss+gsvX59/Babb5Z+3XV0lt6xI46lmwbE0Vh6XhHdLZal79snxf7z5gW/MFxY+uHDsklctCgYf/ZPZek//ujGNCIZEPuI/svMxFkbmdINirWRqtG6Nc7ayI7+wxgQr1kjRLVqeUcbSEz0XyQDYh/Rf1hrI1Mfh7U2sqP/MPo4O/ovjLWReZ3yFf336qtB6YaP6D+KtZGqkcjRf9wAMqg42gDaLB2zxRaJpVP1cb5Yuo8tNgxL37072HTFMiBOT0+P+O+ULbY33tBfNvZj3LhwF9mdO4NNlvlo1AjH0k19HJal+4j+M62NTJYe7VxEQrwMiDHRf6a1ETb6z7Y2uuqq4ov+u/NO1UCmo6P/TGsjrAFxIkf/OUqHhRDymoqN/lOfjZ075TVe1cBG/91+u66Bjf5bsSI4ecdYvGze7Cf6z1wewy5NZmYWvTTJDSCDiqMN4PTpmqVjttjWrJHbtSVL4ln6Tz/JL081Nsey9OHDtc4Oq49btEiL3suVE2LxYvcan36qTT4VS4/VQEaaAO7aJXWCSrAelqUrLFgQuXFr0yZ8jR9+CMbKqUeZMu5Thy1b5C1apaWksHS16Uth6eoc2yy9qGmswgcfyHOsGlGstdFZZ2ktJVYfN3q0JmAUayNls0SxNkpN1V/IWGuj/v31rfC2bfNQ0X8zZujXQ7E2Sk2VnwGKtVHPnnqig43+s62NXCfvQkg5Tpky8vODif7Ly8s7OnlXjgqU6L+TT5ZkhRL9V768HBZgrY1U9F+XLvToP0UUKNF/NWvKz0+spUluABlUHG0A8/Plh5jG0uUXGYalv/mmZulNmtBZetmykolRWfq//oVj6aYBcVoazoB43TrN0mvVkufHteHatk3fNlaPkiXdzvPhw8EJl3q45gKb+rhWrXALFmb033HHyXOFYek+DIjN6L8zzpALJK4wrY0aNsTp40xro1Kl5BcPNfqvXz+ctdHixXry3rkzzoDYnLxXqyYXi6jRfwMH0q2NzjmHbm3UvDluwcJX9J+pj+vQASfdMPVxFSrgbm/a+rgZM+ihAgMH0kMFGjbEWRvZS5OLFtFDBW6+ObZ0gxtABhWoLGAFWx/Xvr1AsXRTH4dl6atW6UYnOVk2pdQtNl8sHWNA/MgjdANiWx+nHkOGhK9hGxCbtyjDNqO2Po7K0tVFlsLS1bFQWLqq4cPaqHJleRvLFb6sjUx9HNbayIcBsW1t9OST7jV8WRuZtzd9WBtVr45LsLD1cffei7M2Ou00/Xp86OMo0X9Ua6MPPgiGCmCi/377jR4q4Gtp8pln3JcmuQFkUIFuAG193PXX01l6p050ln7CCX4MiO+++69n6VlZWRG32DAGxDZLv+MOedEtVSq83s5m6TfdpL9YMzPD1bBZOtaA2GTpdev6YemxrI2ieZ3ZLH3oUJy1kRn993e3Ntq61b+1kW1AHNYj04e10fr1/q2NunWjR/9h9XHLl2trI4o+Tkf/ZYlBg/xYG1Gj/yjWRj5CBXwsTd50k67hsjTJDSCDClQDGI8tthtuoLN0V32cEIW32KpX97PFhmHpCxeujCtL37Ah3NZipC22l16S/23HDjltDfPa7Og/DEuPR/RfGJYeKe0Aw9Jt+Ir+M62NMJN3X9ZGdvQf1tqoqOi/otIn8vKkTZSqgbU2sqP/MNZGvqL/zCWaRIr+GzFiZbFYG/3xR2Fro+KK/kuEpUluABlUODWAvrbYTH1c+fI4fdz69cEttvR0HEs/6yxdIzUVt8Xmi6VTt9i++cZk6QLN0k19HJalm/q4ihXp+jgKSzej/84+Gxf9Z7N0H9F/GH1cpOg/zOT9/PN1DV/RfxgD4pUrg9ZGPqL/MAbE+/eLQtF/GH2cz+i/Vq1kU12c0X+mATE2+s+2NgoT/WcjkaL/bGsjzNLk22/ryTt2aZIbQAYVoRvAMCy9KNj6OF8sHaOP88XSTX1cIrH0Bx8sHgNiO/oPy9J9Rf9RWbod/Ye1NoqHPg5rbcTRf0F8+61sttTrwRgQ79sn9aSRJu9hESn6D2O8nUjRf6a1EVYfZ1sbYSbvGzf6if4zp7K+ov+wS5MjR3IDyKAhVAPog6Xb+rgBA+gsHauP88HSbX0chqVv2xZk6V275qBY+rhxdJb+/PNBfVxYll5QIL9An3suuBBEYek+ov9mz6ax9JycnISK/hs+XNew9XFh8cQTQelGcUX/7drlro/LsUbzhw8LMXlyYkb/XXaZ++R93z4/0X/z5tGj/2wDYnvybp+LSMjJke4HqgZWHzdqVHDyjgkVyMqihwrY0g0foQLY6D+9NMkNIIOGmA1gvLbYsCzd1McNHFh8LD0eW2y33CLE2LEZTjXsLTYsSx8zBsfSFyzQ59V+hF0SMZFI0X/du2f8o6L/hg3TNU4+GTd5X7AgGP2HMSDGRv9lZOjPxo4d0itR1cAaEJvRfzVr4qL/XnqJHv1nWhthJ+9798rMaerkfe7covVx5rmIBHPBgqKP69qVPnk3rY0aNsSFCjz9dOKECphLk+3acQPIoCFmA7hli37jY7fYJk3So3cKS1dZrxSWbo7vMSx97155C1tNQ7Esfe5cfTudssVmJoxg9HE5ObKRVs2sK0u3J37qcf75bschhLzIqltOlOi/fv3oLH3wYD0NxbL022/XX+pYfdyqVXpS5hL9Z+KHH+REVZG4/v1x0o3hw7XdDMaAuKBAWhspuxlK9J+pXxw7FqePu/RSrUPu0UNO411w6JAkbepLvbij/5o21X9bSvRfp06yBjb675575HJfhQq06L/ateVrokb/qSkkJlRASTdatZLHQYn+q11bfn4oS5MNG+rvjRtvFGLHDm4AGTQUeQt48eLwLN3Ejh26aatTR36RUVh6iRJy2oXVxymW3qMHjqWb+rhTT8X7x6kttsqVZeoJhqXfe69m6T160LfYUlPlJrTrRfbttwsnhNSo4dZ0HTggN8BV49e9Oz36r2dPOktv1042PRh9nGrMq1eXkyqMPm76dPmlk5QkzzFGH/faa9raqEcPurVRs2by/UsxIE5JkecHE/1nWhv17CmbJ1eY+rguXeSSA8WAuF49eb6LK/rPtDaqWNHdnF2IwtZGt9ziPnm3rY0uvpgeKtCsGT76T0k31B0nqrXRyJH0UIHevelLkzVq6M10XgJhUEEygo4GtcWm3vg+tth69sSxdHuLDcPSsfo4E//kLTbzcd994Wv89JOeOADg9XHXX69rYKP/bH0cNvrPtDbC6uPOOUfX6NrVffJuWxvVqIGzNnrllaA+7r773N/3W7YE9XGXXorTx5nWRtjoP1sfh0mwsPVxEyfiJu+mPo4S/adq1KuH08c980xQH4dpIG193LXX4ibv5vQeO3mfMSMYKrB6tVsNIQpbG2FDBcylyXhE/3EDyKDCawMYaYsNo49LpC02Ux+HZelht9gyYwjn7C22q6+mb7G1betni03dCq5WLfxUdPVqHf2XnCwv3JToPwB5HBiWbuvjvvgi9rmIhIULg9ZGGH2cbW00ahTd2girj5swQdfA6uNsa6N58yj6uEwBIMTll9P1caeeKhtTF0SyNsJs6JrWRklJ9Og/AEkYMNZGpj6uQYPwk3fzs2FbGz3xhNtxCFHY2uj66+n6uE6dcJN329rIR6iAD2ujSKEC3AAyqPDWAO7bJy/Ovlm6jy02LEs3Xd6xLN3cYiuKpWdnZ0f8d3uLrThZuh39t3WrfJ2PPhruCyTRWHq06L9o58JGUSw9LGxrI6w+zoz+u/lm98m7bW2E1ceZ0X+1a0tS5woz+q9kyWxU9N9XX8Un+g+jj5s7Nzh5x+jj7Oi/6dPp1kZ9+7otWGRnZ8fF2girj7Oj/7ChAqa1UZcuuFABH0uTtrVRtFABbgAZVHhpAO0tNh8s/bTT6Cy9UiUcS7dd3rEs3d5ic2Xp9habC0s3YbL0smVxLD1e0X9Ulp5I0X8XX+zH2oiqj/NlbUTVxwFInevfIfovGjZtCurjrroKr49r0kSS239a9N/559Oj/7ChAmb0HzZUwIe1ka/ov0mT9LWtqFABbgAZVJAbQJOllyolvLB0yhYblaWbBsSULTYfLF1t9SmWjt1iUzUoW2w+ov98sHQz+g/L0hMl+s+2NvId/RcWsaL/XGBbG2Gi/2xro78q+i8S7Oi/BQvca9iT91tv/XtH//myNvIRKuAj+s+0Niru6D+1NAkQLlSAG0AGFegGMB4svXRpaRVRnCxd1fDF0l222DYdcbW2Wfodd9ANiLEsnRL9l5MjG6W6dXXD5Yul+4j+i8XSN0VxGPcV/WcaEGOj/zZv9hP9ZxsQY6L/7r+fHv1n+scBBK2Nop0PG7Y+DmtAnCjRf198QY/+27PHT/Tf7berBnIT2tro9dcTI/ovL0+IoUN1DV/Rf0uXutUQAr80yQ0ggwpUA5iT45+l16snTWJdYbL0MmX8sPRhw4qHpc+YMTPA0o8/XjJuV9gsfdYs94uszdLDbrH98YeUAJgaTPWoVEmaPbvCZul/RfTfzJkzC/2bzdJ79MBF/5kGxIkU/Ue1NlKTd6q1USQD4kjnw4aP6L9ffgnq4/r0wRkQjxypa1D0cVQD4s8+C0o3MNF/u3YF9XF16850lm4cPizEtGl+ov+UdIMSKmBLNzCT9yFDdI1mzdylG/n58o6ZaiBdlya5AWRQ4dwAvvee3q5NSpJxTBh9nPIFA8BvsU2cqL80GjTAs/STT6ax9M8/DzJsrD7OvF3bqROOpd91l24MsFtsr7+ut2td9XHvvVe48VMP18nS/v3BKTM2+u/hh/WtSaw+7sMPg+kTGH3c9u3BhZFevXD6uGnTdENMif5TzR9FH2dOzYcOxVkbmTpX7OR9zhzdGFCsjdT0kBL958PaaPhwvYRGif7r1ElepynRf23b6o19rLXRuefqqR1WHzd5srbPwYYKvPKKJOelStFCBTp21HcksNZGgwZpsoEJFeAGkEFF6AbQ1MdVrSonZitWuL1hhQiy9Hbt5JcZhaWnpuJZumq4GjeWzQVli61cOVkDo4/773+1Pq5rVxxLN7fYOnakb7HVqiUbY1d93KFDwduS6nHXXW51vv1WTpMzBvwRAAAgAElEQVQA5EWfGv3XsqW0/8Do45S1UcWKUsiP0ceZ1kYdOuD1cYp8de1KtzZq0EC+How+TlkblS4tF8CiWRvFgmltlJqKj/5T1kZt28ovd4q10QknyOsBVh9nWhtRo/+Sk+XdCGr0X//+dH1chw706L+KFeV2OEYfZ5KvwYPp1kbnnkuP/mvcmGptJP++I0filibfeIMbQAYNoRrA33+XcVJUlj57Nn2LzTQgTk6WG6GuX6S2Po7C0lUNCks3FyywLN3eYsPc5vGxxTZ5cuHmr3Jlt+bNhwHx5s1BA2JM9J9tbYSN/vNhbbR2bfC2+oQJdGsjrD7OxdooGmxrI2z0n5reA+D1caa1EdaA+I47tHTDlz4OG/1nWhtho/9MfRw2+u/hh4P6OB/WRtjov9NP1zWw1kZmqADW2shX9F+zZkIceyw3gAwaimwAv/wyqI/DsnQfW2y2AXFxbrEplg6A32IzWXrjxkKkpxetc7JhGhBjt9hMlg6A32IzWXqrVvr2/LRp4WrYLJ2ijzMNiDH6uDFjZgasjf79bz/WRvHQx4WBbW2E1cfZ1kaYybt5y7dhw3DWRrYG0Iz+w+rjbGsjzOR99+5gJjfW2khF/wHg9XFm9F+JEvKOTTysjYrSY5rRfwA4fZxtbZSSgov++89/gqEC48cnjrURNVTgmGO4AWTQELMBXLLED0v3scVmsnT6Fps/lo7dYrNZ+u+/h990FEI2kFddpWtgt9hslo7Rx9ksXW2xLV8uL3phdGE2S/cR/Ve7Ni7674UXhChfftNRlo6J/vNhbWRH/7VujbM28hH9Z1sb3XbbX2ttpD4bkaL/fFgb+Yj+u/FG3OTdjv4rLmsje/Iezdoo1nUqHtF/zZvjJu8+rI3sUAHs5D0e0X9r1nADyKAhYgMYaYsNY0CcKCz9f/8LsvTOnXEs3ccWm8nSsVtskVi6qz5u//7gFhvWP46yxaZgs3Rf0X8Yln7zzboG1j8ubPRfLMQj+q9dO5w+7s47dQNZtaqbtZFCIkX/2dZGGH3cY4/Jqf2xx+KtjeIR/Zea6if6D2Nt5Df6Tz6w1kaXXaZrYK2N4hH9h12ajBT9x0sgDCoKNYC+tthslo7Rx8WLpWO22GyW7qqPs1k6ZYuNqo+LB0vHRv/ZLH3ZMrcaQiQ2S8dYGyVS9F+/frqGiv5zQaToP4y1ka/oP4y1kQk7+u+CC3DWRokc/edqbRSP6D9foQLFGf1nhwpglybNybu5NMkNIIOKQAPoY4vNZun9+hUfSzf1ceXL47fYTJY+ejSdpaelRWbpsfJnI7F0zBbbsmVBlv7AA3SW7hr9t3u31CqqSSiAbEhdov/+/FN+AZpNji+WPmWKEGvXun2DRWPpLogU/YexNlq8OHGj/zDSjdtuEwIg++jkPVGi/y66CBf9Z+rj/o7Rf+Z16p8W/bdxYzBUAGttFI9QAXtpkhtABhUpACB2784NbLEdf7y8ZeOKVau0Po7C0k19HJalm/q4Jk1wLP2RR/5alp6ZmRnx331tsRUnS1+7Vn5hmnFwJksPc5H95RepIW3VSk8N1aNxY7/Rf9HORSTEYulhYevjqNZGavKO0ccpayPVQGKsjT77LHiusdINHf2XSbY2AvAX/YeRbmzZkpjRfykpbvo49dl4/3169F88QgUo0X9q8o6VbtiTd8zSpB0q0K5d5KVJbgAZVKQAgJg6NTfA0jH6uPvuC+rjsCxdacEoLN3U+2FZutksYVn644/rBpLC0s1pG8aAeNu24JcGlqXPmIFn6aaswHzUrRv+HE+ZErkGgPttnt9/l3nEVJb+4IN0a6O33tIyBawB8datwakDNvpv0iRdA2tttHix/iLFWhutXx+8XYuN/jNv12KtjczoP6x0Y/lyfReAEv3Xt69u3LD6uCuu0KSUEv2nJt6U6D9TWmNG/4XFr7/Ku0xq8keJ/mvaVNagRP+p2+mUpck+ffR3aaylSW4AGVSkAIDYujVXNGqE22IzWXrnzvQttk6d6Cy9Th05zYm2xRYLiqWXLCkvCFSWnpZGZ+mnnSZfD3aLrVYt2ZzUqIHXxymW3q4djqVnZhZu2ipUcJvubtyoG2rz4aopUyy9bFk5paJG/3XrhrM2MvVxHTrIyTvG2kjp42rWlDUo0X9JSbIpwFobXXONft83boyTbih9XPPm8vNMif5LSZGkEmttZEb/de+Oi/675RZd46yz6NF/3bvjo/+UPq5RIyGuvBKnjxs4UDc5556LszaaM0cvWJx5Js7ayJy8d+iAszb6+WcdKlCjhhwYUKL/kpLkOcaECphLk716Fb00yQ0gg4qjGkDXi70QhbfYMBdZWx/ni6Vj9HH2FhtGhPzNN8EkjMsvd28g47XFhrnImvo4AHl7E8PSTf84k/GHha2PU4+OHd3O0ZIl+iJbpoy83emKzz8PWhv50Md17IhbsLjtNj0twEb/rVwZtDbC3N78/nsd9QUgjeNdryn798umRNU45RRc9N9DDwX1cZjN9A8/DOrjlLWRC7Zvl1/kqgY2+m/cOF2DEv1n6uMw1kabNukpGYA8V1RrIx/6OKy10VtvBUMFijv6T9UIuzTJDSCDCucsYAV7i43C0ikNpL3F5oOlUwyIFUvHGBBnZGQEWDoAzoDYZOkAUjOHYemmPg5rQGyydAD9v8uXD3+rxtbHme+ZsLeebH1cw4axWXpGRkbEf7f1cRhrI1/6OBX9p6bvGOmGqY/DWhutWEHXx5nRfwCFo/+inQ8TZvQfAH7yrqL/APDWRmb0H4A/ayNK9J/67GD0cc8+q62NSpTIQOnjvvwyaG3kI1QAa23kK1SgOJcmuQFkUOHcANosvWlTPyzdxxYbhqVv25Y4LP2RR3K8sHQfW2w+ov8isfTvvpMsOezkLRJLV7ca09PD/X0w0X851pq2r+i/xx/Xm+k+o/8w1kY+ov8mTaJbG738ctDa6P77C59X+3zY8BX9N2hQcPKOsTaaO5ce/WdbG02cSI/+w1obpafrGvXqCfH6645Gg8Jf9J85ecdaG/mO/iuupUluABlUODWA334b3GKzWXoY+GLp9hYbhqV/8AF9i+2334JbbBiW7nOLjWpAHI/oPyxLnzkzMaP/MNZGpj4OAG9ttGCBnryXL+8n+g9jbWTr46JZG8XC4cPyM+dj8u7D2igtTX8h+4r+c7E2EqKwdKNSJZy1kR39N2WK+7UtUvSfD2sjH6ECPqyNRozARf/Z1kaYybsp3cAuTe7cyQ0gg4bQDeDy5UWz9KKweXNQH4dh6b70cfffry+yWJa+dm1QH4fdYjP94yhbbKpG/fpSn+mKRIn+271bbrGqGlh9XDyi/+66i66P698fp48bOlTX8BX958PaaOxYuj6uuKP/lHSjXTu5sFQc0X+2AbGv6D9lbeSC4o7+U/inRf8FrY1oS5Pt2nEDyKChyAYwUfRxQshJYfPm+liw+rhLLgmydOoWG0UfZ7L0yy9f6XyR/eUXvcWmWDpliw2g+KP/KPq4w4flNNhcTsLo41asWOkl+s/Ux5UoIXWVVH2cj+i/Zs1w1kZ29N8LL7jVEAKnj1tpqfx9Rf/ZBsQffeT4YkTh6L9HHnGvYRsQX3UVPfqvbVt69F+VKoWj/+xzEQl29N8ddyRO9N8XX7jVEEKSYTNUwEf0H9baSC9NcgPIoCFmAxgPll6nDo6l/9O22GbPLqyPy3KMKnn77b/3FpuNJ57AsfS335aefl266J9XD6w+7rTTsgIsHaOPmzw5qI/DWBvZ0X+Yybuv6L/LL9c1sNF/8+bh9HHmZ8OXPi5Rov9MA+IyZeRtflfYBsRYayM7+i+StVGs61S8ov8w1kbxiP7Dhgr4WJq0J+8jR3IDyKAhagO4e7efLTZTL4HdYps2TdfA6uOWLaPr4zZuDE4gr74ax9LNJRosS3/gAbo+bs2aIEufMQOnjzO/SDEsPS8vOIlx0cft3asnsfbj3HPdjkMIuWBh3uYZNQqnjzOXaLD6uFmzdA1s9N+KFUF93Lx5OH2cGYHmGv0nhDxPJklwjf4TQh73I48ErY18RP9NnoyTbpgTVUz038GD0nBeNX9YA+LFi7U2u0wZuWjkis8/D+p2hw/HSTfMaVvHjrjov5kz9e1nirWRui6VKCEJN0a6YcqNBgzAhQqMGqWn5lhro8xMeV0E0EuTvATCoCLmBDA9nb7F1rq1bC4oW2zHHy8fWH2c2mJr00aydIw+Tm2xpabKi+zChe41lD6uSRN5QaBssZUvL18LZYstKUlOzbBbbEof17GjvMhSov9q15a3FDH6OLMBNZm667Go6L+0NHr036mnyr9JrOi/aFDRf5UqyUaFGv3Xvj0++k/p47p2dYv+M6H0cY0ayQntkCF4fVzp0vIz1KqVn+i/FSvcaggRtDbq2pUe/dexIz36r1Yt2QRiDIiVtVGJEnJihvHGNK2N0tLo0X8tW0ptNMXaqGJF+Tl85x23GkIEpRudO9Otjbp1oy9NNmwoz49amuQGkEFFzAbw4EHcdMreYsPEY9lbbHfd5X6RtbfYBgxInC22SHdR8ooYJ9pbbBkZ9C22tDQcS58+PaiPw9zefO01+SWsWDqmufjuu2BUnnq4aNP275eiffWzzZsL8dlnbqNdxdLNBQtMPJZtbXTbbThro549dY2+fen6uDp1cPq4pUu1dKN0adlcuJ7jjRuFaNw47+ixpKe7T97jYW1UpYo/A2JXcrx1a2FrI9cG8s8/5ZKWqhHW2si+TtnWRpgFi/XrC1sbuV7bdu4sbG3kumARydoIc22zrY3uu8/9+8temhw0KNhAcgPIoAJtBB0J9hYblqXHY4tt+vTi2WI7cCD8Flt6enrUOvYW21NPuR2HEIW32G64wf0iu2tXML+zSxda9B8APfpPNZDqlnizZuHPtW1tpKL/Yp0LG2b0n2ogqdZGxx2Hi/7zYW1k6+Mw0X8+9XFSupEuSpfG6eN8WBuZ0X8AchLjGv3ny9rI1sdhrY1MfZxL9J/6bNjWRtToPwC8tZGvUAEf0X++rI2KWprkBpBBhbcG0NcWmxloH68ttjBYvTrI0n1ssZ1/fuwGMtIE8J+9xSZvqWP0cWb0X82a0pJnwQLZ4IYVnZvWRsccIw181UW2qGmsgh39N2hQYlgbVayIm0Da0X8+rI3OPhunjzOtjU48MQ+lj/unWRvZ0X/FYW2Ul5cX0doIo4+zo/8w1kZ2qMDSpW41hIhP9B92adIOFYi2NMkNYOKiLgDcDQCbAGAvAOwCgI8AYAwAlPX8u/4FAM8CwHcAsP/I79oIAE8CwBAASIrxs14aQHOLDcvSI22xYfRxYbbYYiGRt9hcWLpCIm+xjRnjfpFNpOi/F1/0Y21k+scNHkyP/sNaG/mO/ktKwuvjfFgbpafrRbbitDZKpOg/H9ZGpnTDV/Qfxtpo377gIg528m5bG/1dov+4AUxM9AWAPQBQAAD51qMAAL4CgIYefk8dAHgvyu/JN/491puD1ADa+jjsFtuSJfoiS9liM1k6dovN1Mdht9h8sPSVK4P6OOwWm8nSsVts8WDpmOi/RGLptj4OE/2XSNZG8Yr+c0UkfRzF2qhxY0mcisvayIc+Lh7Rf76sjXxE/913Hy5UIFGsjezov2XL3GoIIe9guFobcQOYeGgFAPtANl65ADAOADoAQHcAyATdnG0CgPKE31Mb5MSvAAAOAsACAOgHAK0BoC0ADACAhwBgG8SpAbT1cdQtNsXSKVtsiqVTt9goLN10eXdl6VlZWYEtNgCpj6NusVFYeqJE/z34IC36T3nQqalsUSw9mteZj+i/Q4fk9FPVwFobPfvsPyv6b9as6Pq4sB6Zb77px9qIo/+C2LFDeiXKGlleov+w1ka+ov/M5TGstZEZKoC1Nrr3Xlz0HzeAiYd3QTZlBwCgfYT/Phr0ZG4S4fe8c6TOTgBoF+N5yUXUQTWAvli6ucVWlD4uErBbbDZslr5kiXsNHyz9uedWFtpiw7B0e4vNB0svrui/ffukrk7VCKuPO3hQaoHGjZOWKmr6qCaQRVkbRUo78BH9p6yNVA2qtREA3tro6acTQx+nrI1UjUjWRkWlTyhrI1O6QbE2UpN3bPRf27b69WCsjfLyEjf6b8CAlWhrI1UDa23kO/qvVCk/0X8YayM7VMA1+o8bwMRCO9DN3QNRnpMEAF8eed4uACiB+D2DjN/TD/HzJpwaQLWhS91ie/ttP1tsPli6uaGL3WJbtIjO0j/5xM8Wm7lg0b07jqVPmaJr1KqFY+mvvBJk6Rh93ObNQZbuEv2nPPAiPTBfpA8+SI/+W7s2aG00dSrd2ujcc3HWRuYEEmtt9MwzdH3c558HrY1GjKBbG3XqhNPH3XOPvrZRov/UnQRs9N933wUnqtjoP/MzgI3+W7BAkwRK9J95rR4/HmdtZEpRsNF/d9yha2Cj/5Yu1URQRf9hrI3MazUuVIAbwETC7aAbs1hTuXHG805H/J7sIz+/EfGzNkI3gGqLrVkz+UWINSC+/XY5WapTh7bFVrmyvNBTWbq6jY1h6fv3S5Z+4omSXTdpgmfpFSpIlo/dYlMsXU2Xxo7F6+NatZINCoWlV60qzy+Vpbdpg2PpTz31f+x9d5gUVdb+IUoWBBSRIRgRBQQcScMAIphADCQxwAqKioCjCC0GUFTGgIKgjLoEV5ExIWLYcRVRVxxXxKzjuror+1sZV8SPIIxKuL8/Lnfq1p3qnrrvuU2XbJ3nqefbD3tuV3d1V5/33DcEN3+2Bt4KpR9zjLzZ26J0ITzgdOCBstniWhvl5ODWRoofp9TpiLXRL79I4NS8uXxNqayNUtWf/iS3sNu3j461Ue/e8v1FrI0UP65TJwmcONF/jRvL7w7Cj9Oj/048EefHKWuj3FxJ3eBE/x11lPzsItZGKlSgdm35WbvxRp61UU4OHv13zTXelJob/de8uQSESKjAZ58JcdddcQMYpVLbslsp9dZrN/IawOmWz5Gl/e2d2r9XJ6JWJLmB1S3WC9UAfvyxnx83fTrGjxs0yFvjvPP4KrbWrfkqtmrVMPK9qWKbNAkTWOgqtu7dSyGUrqvYGjXCSMimiu3OO+0bSFPFdvHFGEq/7jpvjeOPxwQWTz1VMSLumGPC/3CUlpaKL76QTb0+uUD4ceed560xcCDf2qh5c9zaSOfHzZvHtza64gr7ybtpbdStW+XUjdKAUXY6rI0QflyQtRFC3TCtjZDJ+8qV/Ml7ZdZGQdfCrCBrI6SB1EMFGjbEJu9m9N+MGW6sjWwbyKBQAZ5oMm4Ao1Q/kGzMPqjkcQ3Ja+IKLZ9jiPa3FxLRIUS0mKTVzJ69x89EtJyIOoZYr9IG8NFH/QbEiIrNROmoik03IEZUbDpKJ8Jd3hVKJ8JVbDpKJ5Io/dprE1ZrmAbEqIpNoXQiXMWmULo6FzT6Tzcg5qJ09SOo/reNunzw4ISPH4eidF1ggUb/RdXaCI3+062Nzjsv3OQ9kfC+G+myNnLBj0Oi/0xrI270HxEe/adbGyWL/tOvRVCZ/DjU2shFqICL6D8zVIAb/acm71zRZJs2cQMYlTqAvMZsZYjHb9v72DWWz3Oz9jyTSDadyexmfiWiCypZL2kDWFYmvfjUhw01IF60yI/SQ4r5fPX++36Ufs01fJSOqthuvJGP0p9/3o/S58/PnIpt5EhvDVTFZqL0sCo2vUyUPn06H6WfcYacHh56qNxKDvOZcRX9t3Sp39ro0Uft1zCj/6JkbbR6td0aQrixNvrnP+U2vHo9w4bxrY3atcP4cWb0H2JtZEb/JRL86L9TTnET/YdM3vXov5o1Jb0FsTbSQwXGjIlO9B8Sa5oO0eRZZwmxfn3cAEalmpDXiD0R4vHf733sx5bPM0d7nh17/+8SImpHcuv3UCKaQkRlex/3C0lrmmQV2AB++61fxRYWpetVVibTQHSUbsuPE0ISbKOA0l2p2PYVSq+s/pdQ+s6d4d6fdKD0TFobmZN3F9ZGaPSfC2ujl17y7kuurI1U9J9N7W/Rf6a1kYvoP9TayIv+y6y1UVD0H0LdcBH999prwaLJWAQSnWpBXmO2JMTj1+99/FeWz/MI+Sd+Dyd53AjtcS+lWK9CA2jy42bP5qP04cMxlP6HP8QoXS8TpbdsmTmU7iL6b+tWf/QfitLN6D8EpbuK/ouKtZHOj0Otjdat81sbodF/LqyNFD8uK0vuRriwNtKj/8KWC2ujn3/GrI30chX958LayJy8o9ZGevQfGioQJWsjM/oPmbzffrvXQJqiybgBjE7tqwngPPK4fr8SUdMUj31v7+N2UvIPSHkDuHu3JMfqKB3hx730kt+AGOXH7U8ofc0aP0pPpmIrKChIukZpabRQun6TdRX9h6B0Lj9u1y5JKVCfe8WPS3UtguqJJzzghEb/rV/vPvoPtTZyEf23dq0ba6MBA4QgKhBEePSfbkCMRv+tWOEm+u/4471zsbE2UrVtm9+AGI3+Mw2Iwwos9O/Gm2+6sTZyEf03caJ/8p6p6D+TuoFO3nXRZFCoQNwARqf2FQfwDu15/lbJY2dqj+2b5DENiEj8619bKqjYEH6cqWJ7+227NYSoqGJDULrJjzNVbGEqSMWGoHQbflxxkv1gnR/nCqWffjrmHxeV6D/zJhsWpf/0k/yMzZjh54SaKD3ZtRBCNjFvvCG3rkeO9BolhdJRfpxuQOyCHzdkiJvov5ISuzXSE/1XnNHov6lTvTVQa6N0RP/94Q/73oC4uLhY7NkjP6Pc6L/Vq73Je5UqkmvKif4jwq2NzOg/xNooHaLJSZOCgVPcAEarNlL6VcBXaH/7TCWPvUx77LAkj2lAROKAAwYIojxBlCfOPnulmDQpT5Rp45jCwkKfE39paalPCbZxoxDHHlsgiIoFkeTH/fWvJSI/P9/3gc3Pzxcl2q9JcXFxOZr0+HEJQVRajtKLiop8MVBlZWUiLy/5+T33nBD16pUKooQPpRcUFPh+1EtKkp/f3/+u+HHFgqjAx49LJBI+G4Rk57dxY5kYMUJ9iQvFEUcUlaN08/0TIvj8Zs3KF/fd5zWQtWvni4KC4PdPVdD5TZ9eWM6PIyoT3bvnie3bw19f+d4UiPbti8tvSn36lIjp08NfXyFkA9m5s7y+CqU/+KDd9RVCiPnzS0X16gkfSg9zfWfMyBcNGpRoTV9x+WSpbVt5fmGub+vWeYKoTFunUBAVCSKJ0sNe3/z8fMPaKF80blxSbm0U9voWFhZq0X9lokqVPHHXXWXlzUWY61tQUCCeeaZYszYqER075vsm75VdXyGkkn3YsFJtylwk7rvP7vpu2FAqTj01Ud5ANmggxOWXh//+qvrjH4tF48YF5ecybZoQU6aE+/6q8/v+eyFOOsm7vv37C/Hpp+GvrxDy3nb77fL6EpWUT95trq8QcgJZt26ZIMoTNWuWlfPjwl7f4uJi8fnnCiSUCKJ8nwFxmOubSCTEV1+VajF3ReLwwwvL+XFhrm9paamYOjUhHnzQ296sW7dAzJ1rd32Li4tFXl6Bj7rRu3dCfPdd+OsrhBDz5xeKTp2Kyj8np51WKvLywl9fIWQD2adP/t73VdIUli61u75CCPHoo2WiWjV5f1GiSf39KyoqEpdddpnIzs4W48ePjxvACNW+8AHM1f72uUoeqzeL5yZ5TAMiErVrb2Hx4444Qn7giXB+XL9+nolxv344P06RxDkqtiOOkNMYjortuOM8n8AxYzCUPnSo955wVGzHHy+nqShKf/11Oe1r1YqnYuva1RNZnHUWzo9TaN+WH7d9u0dP0I8GDew+szq3Rz9sp6GbNslJrLK+4UT/deokrw0n+u/ww6WQhhP917Gjt42NRv9ddJF/8s6xNsrNlTsKlUX/BdXbb8udjLZt5ZQXtTbKzZXb6K1a4fw4ZW3Uowce/VdYKKkb3bvj1kaffirv9VlZ8nvDif6rVk3eJ9FQAWVt1Ls3Hv33l7/Ie33HjvJ+j1obnXiivL82a4ZH/ynqRnZ2ONFkPAGMVu2LJJA6RLSdwvEH79Gep2uSxzQgIvHUU1vY/Lh27eT0zbZ0FVv16rK5QG6yOj9u3Dg+P65/f76KrVkzO36cQremig0xIDZVbBdcwFexZWfzVWx160phERL9p/PjJkzAov/MbV+iYKVhSYp9z9mzK64xdKjdubz/vsePU+a0OD9OHpdcglE3dH5cnz44P05RNxo3xvJVTeqGzo9LdT30CrI2QqgbOj+uYUMMOL31lp8fh0RemtF/gwe7MSDm8eNKRO3amPG2Sd2YPJlvbdSzJyawmDnTb22EcN5N0eQDD/CpGxdfHI66ETeA0So9C/jBJI9xkQX87N6/30VER6R4nn/sfdw2IqqR5HFWWcCq0qFi46D0qKrYbFF6fn5+pFVsaPRfMhVb2HrlFT8/Do3+69KlYuOWlRVM0Da3n4SQDeSYMcHTv7A/qCr6T+fHIdZGfn4cHv2nWxuh/LhEwlsD5ceZ1kZmAxl0PcwyrY1Gj+bz41Bro9mz/fw4TvSfaiCR6D9X1kZ6Znrjxvlw9J/Oj4tC9J9qIBFro3SIJufMCX9vixvA6JXaBv6Vgqdu15HXJN4U8N9HkafyvTnJc+iNZhEFR7/dqD1mborztW4Ao6Ri0/lxNio2vWIVW8XaVyq2ysqM/jvkEH70X/Xq8sdZeduFndAGWRvl58v/PWxYuDVMa6PjjsOsjfTovwYNZG6ybZnRf9Om2QMn09qof3831kbvvWe3hhB+a6MDDpD+oZmwNtqyxW9tdOKJ/Oi/xo3dRP+h1kZ69N/ZZ/Oj/9BQgXRE/6HWRlEQTcYNYPTqBJJbtIoLmCDZCPYhoofIa+6+IKK6AX+vGsDdlLwBJPLbwbxLRMNJGj4PIKLHtP/2LyI6KMU6Vg3g/qJiE0L8T6jYEP+4faliS1WKH6fWyMnBULoZ/af4cbt2hZ9apwa580kAACAASURBVIr+++c/wzXHQdF/XH5clKL/klkbparvv/fvJKDRfzp1o3Vrub1uW4ofpxpIV9ZG+1P0H2JtZEb/ubA2chX9h1gbmaECkyfzo/9Qa6MPPogbwCjWmUT0f+RFsunHbpLNX5skfxu2AaxKMgNYj34zn+dLIjqyknMN1QDu3CnTM9QHFvWPe/ppNy7vbdt656Kr2MLWli0y3UStgbq86yi9SRM3KH3WrOigdMQ/zkTpv/foPxOl/96j/3RroyhE/zVtKie7M2b8vq2NzOg/F9ZGcfRfxcn70KH8UIFjj7VPpUpXqABibaQm702bxg1gVCuLpAijhCQHbxNJ375riahWir8bRV5Tl6oBVDWAiJ4ion+TjH/bSERvENFVRFQzxN9X2gAqFRsXpSsVmyuUjqrYPvvMUywTyaYHVbHpKJ2jYlMofezYynlOZikVm2ogOSo29XrQ6D8XKN2M/nOB0pHov5tuyvehdDT6T9/ezGT0n2dtJA+EH7dtm9CsjdxF/4VJbjE5gG++mTz6L2yZ/LiBA3//0X9HHOGdS7qi/yrjY7qK/vOsjdxF/40YEY1QgQYN+KJJorgBjItXKRtA3YBYKRW5KP2MM/go/fDD+Si9dm253WlbJkofP56P0rt3lyg9rNJRiIoo/ZBD3KB0F9F/w4a5if5DDIhdofRmzTy/wLDWRmVlsvksKPA3SkQ8ayO1Riaj/0pK/Pw4jrWRWsPG2kh9N5S1kevoP8Ta6H81+i/VfcpV9N/NNwdTN2xq5Uo/dQO1NtKj/9BQgXSIJgsL4wYwLl4FNoBBKN2Fii0qKB11eddVbLVr4yq2fYHSK6t0qdgQlG5G/0UJpYeN/lu3ztvmNY9hw/jWRpmO/nNB3dD5cZddhlE39MY6Oxvjx913nzd5b9IEszZavZrPj1u/Xu4eqNeD8uMmTPDWQKP/HnuMP3lft85N9J+u0EX5cTNnemug0X8vvsiP/vvqKzeiydGjvTWUaDIWgcTFrcAGcOdO78eHY0Cs1uCg9F69ZGPBQen9+nm8CxSlX365h/ZRlL5kidxK5KL0nBzvBxlVsQ0a5HEpOShdmRhzUHpurmxEOShdmcFyUbqyirFF6S+/HNz8tWpldx5CSDVgTo43yUStjQYM8CY6qLVRXp6ncEesjYSQn3NX1kYKDCLWRmry3rq1/P6g1ka33SZfR9u2fGuj3Fy+tVHnzvL7w4n+a9JEvhaUH/fQQ7KB7NJFTpufecZuDSE8ayNFOeJE/x1zjDwfTvRf3bryM5+VxYv+U99ljmhS/fboosm4AYyLW0m3gEtL5fYT14B4xAi+iu300zGUrqvYjj1W2nYgKF2p2GrXlltfCEr3opMkxy4IpafKnxXCr2Lr3RtD6WvXeii9eXN5jTkGxFWrSmEBgtKnTfPek0GDcANihdI7d8YEFrq10YEHyuZi9Wo7st7Wrf7phzpsuK6mtVH//nxroyOO4Fsb1awpJxDI5F2fTqH8uMcfF+KAA4rLv4NPPmm/xkcf+SfvN9+MTd4HDvR/ZrnWRs2bY5N3nR9XrRrWXHzzjdCi/+QuSZjJu36f2r7dP53q1g2jbujWRvXry2Qa2zKtje68E1OmK5BOJO3KbCfvpmjyqKMwa6OnnvJP3k1eaNwAxsUtyAg6WX3yCd+AOGoqNt2AGFGxmQbEqVC6mRupSqF0tcaxx2I32Yce4vPjTANiVMXWr5+3BgelqzXQ6L9k1kbJrkVQmfw4dZx6avjz4PDjVEXN2kjnx6HRf561UQFsbbRkiZ8fh1gbffCBnx939dVurI0yxY974QWcH6e+G1GyNpo3z721ESf6T78HoJN3tUYy0WTcAMbFLWcNoKliQwyITZSO8uN0lI4aEOsqNtSA2JWKTUfpKD9u1ChvDZQf9+CDfBVbcbGuYsMMiE2U3r8/htInT/Zv1SL8OBOl33abbCirVAlv7GpaG6H8OBfWRnfe6efHIdZGevRf1apYBJppbXTOOVj037hx3hqotdGiRX5rI2QCaVobXXstNnk/9VRvDdTa6MYbvTUOO8yNtRESgebK2siM/uNaGzVqxLM2UsAJEU2a0X+pRJNxAxgXt9gNoGlAzOHHcVVs6UDpmVSxcVC6qn/8w4/SL7iAj9I7dHCD0tHoPx2lI/w4E6Vz+HE6Slf8uK+/Dj+NdBX9p1sbodF/urVR164YP27uXL+10apVdmsI4cba6F//8lsbDRmCUTfGjvXWaNsW48eZ1kZI9J8LayMz+g+1Nrr+em+NTFobuYj+27ZNpvqoNVxZG+0L0WTcAMbFLVYDaKrYUJSu8+NQFdvChf6bLIrSXajYFD+OSAphEJR+ww1+lI7y43SUjqrYdJTuKvoPQelz5vCj/956Kz3Rf4i1UVSj/666Co/+q19fbsd3745N3mfO5Fsb6dF/1arJH2eutdHw4W6sjbjRfxxrI50fd/31uAGxWuOUUzJnbWSGCmQq+m/rVn/0H0rdMKP/wogm4wYwLm7BDaBSsambLEfFxkHpO3ZIYYZaA1WxPfyw/ybLUbGpc5kyxe4mm0gkylVsag2UH5dI+FE6omJbvtyP0gsKft/Rf7Nnh0fpiUQi8N9NftzMmZmL/hs/3lvDhbVRnTq4tZEe/TdtGt/ayIz+S3Y99EqXtZEe/Re2TGuj88+PhrURhx/nUTcSUPRfaannGkDkxtoIDRV48kn/5N1V9B8imkSj/+IGMC5uWTeAporNBT8ORekmP274cPub7I4dfhXbccfxUXqDBrJ5sq0XXyz1oXRX/DgEpesqtpYtMRWbK5TuOvrvxBMr58eVGmNbkx/XuHF4ftzOnfLH4tFH/U1B1KL/Pv3Ubg0hKvLjli2zX2PdOj8/LsjayLweZpnRf7m5bqL/wvI49Vq50j95nzePP3lHrY1cRP/pBsQNGwrx2GOWb6zw8+OIcGsjbvTfb7+5if574gl+9B9XNBk3gHFxy6oB3LTJb9KJqtimT/fz4xCU/uKLfH5clFRs8+fz+XGuVGw6St8fov90lO4q+i8sSp861ZuwmQfCj9OtjTjRf8raiCiz0X8mdYNrbUSE8+N06kbfvpi1kSmwQKgbzz/PNyD+8ku/AfGoUfbUja1b/dSNTp0k6LYpRd1Qk3eUuuEq+k+nbiChAr/84s7aiCuajBvAuLgVugF8/31poqw++Ndcg/HjLrjAQ04cFZv6UW/eHFexqazXGjUw/7ivvvJ7HqIqtrFjve10jopNkd4bNsRVbEpBXaWKbNQRFduwYV4zi0b/XXONR3o//HCMH7d0qWdGXqsWHv2nN39XXmnXQOqqdv2YPdvuPJS1kfpR51gbqUkZam3kKvrvkku8zyxqbVRQIGkXjRvz+HEtW3q7CRxrIwWeONF/7drJ7w9qbfTMM/K+2KoVL/qvbVvPePuSSzDqxpAh3hqcUIHDD5fXFw0VeP112ZC3a4eHCihrI3WNUWujK66QOwFVqgjY2ujRR4U4++y4AYyLV6EaQF3FdvLJfBVb9+58FVtWluQMcVRs1apJpI+o2HR+3Mkn81VsHTsKMWBAEUvFdtBB8v3hqthOPllu0duWrmLLzeVH/x15pGywOdF/tWrJa2yL0ouKinz8uH79Khqxhqm5cys2f3372q2h8+OaNZMNHBL9p6yNqlSR5/Dmm3ZrCOEm+u+bb/xb4ddcUzl1o8gwNDT5cWedxefHtW4dPvpPL9PaKD8fo27o0X+XXopZG+n8uNxcvrVRw4YVlenmtQgqM/rvhhsw6oYZKoBYG+Xne9SN447jWxspXqjtvc0UTU6cyLU2ihvAuHiVsgF0pWIrKHCjYtMFFr93Fdszz3gGxIoft2xZodUav3cVm1mrVnkCi6pVhbjjDowfpxsQo9F/p5xSWL4Gam20eLHHj9MPm+iwdev81kZo9J8LayOdH7evrY0KC73vxj/+Ia2I1Llwov/UGrbRf0K4tTZywY9zbW2ULPpPvxZB5TL6T52LC2sjNPrvjju8BpIb/acGD6hoUrc2Gjw4bgDj4lXSBjDKKjYEpb/zjh+l33DD71/FpgssXKjYEANijopNlYnSmzaViNu2TAPiO+/kRf8RyQkElx93zDGe6rdHj/DnpEf/ueLHubI2QvhxrqyNuPw4PfqPyJ21EcKP06P/OPy4dFgbcaP/UOpG1KyN1BqotZEL0aRubaQm75s3xw1gXLwKbABdqdhcoHRdxYaidFPFhuRMRknFdvXVfpTuQsWGoHRX0X86txSN/rv9dj5KN6P/XFgbDR0qp6xbtsjvUZjX5srayIz+Q6yN1q7lR/+5sjYyo/8Qa6Nk0X82FSVroyhF/7mwNtJDBTj8ON3aCIn+M62NJk2ybyBdRP/t3l1RNKkm77EIJC5u+RrAXbuk9QgXpesu7xyUrru8Iyq2bdskb4SL0nV+XDpVbGWVjN9MFRuK0hU/jghXse3v0X+vvGI5ChXpif5DrI3M6D/U2ujBB2WzdMwxvOg/F9ZGubll5Wug0X+6tREa/WdaG/3xj/ZrmNF/LqyN0Og/nboRNvrPvE+99pqc2qvJuwtrIyRUIMjaCAkV0KkbdetKNwLbMqP/ENGkaW1kiibjBjAubpU3gErFxkXpOj8OVbGlA6WjKrahQ701OCq2MCg9Ly8v6Tqvv+7nx3FUbOr1cFRsao39LfpPofRU18KsKEf/ubA26tcvCtF/efDk3VX0n2ltFMSPq6zM6D/E2ijT0X/qu2Hy41xE/6GT92+/dRP9Z1obRSX6LyhUIG4A4+JWAyISr722xcePQ1G6rmJDUfrkyXyUrqvYOCidy48zVWyVofSgCaBpQNykifSCsy2TH5efz1exodF/nooNj/4zDYhdRP9de63XQFY2jVW1caP0SlRr2ET/7dkjt/2WLfMAj5q821gbbdwoSebt2nlNaI0akjvLNSBGrI1MfhxqbaRH/zVsWOYk+m/GDIwfl5PjvR7U2kiP/osSP278eLvJe1lZmTN+nBn9x+XHVasmLZYyZW2UDtFkslCBuAGMi1sNiEhUr76FjdK5/DhXKF1XsblC6VFRsdmgdFUmPw5F6S5UbK5Q+tixfJSuR/+lE6UH1bffyu17tV2sHx06hJu879wpt7v051dHrVp8ayNX0X+jR2OTd2VtRITx43bvtov+S1arV/upG66i/xADYhfRfyY/Don+++ADPz9u4kR76saPP1YMFbC1Ntq1y03034sv+qkbc+bwJ++IaPLnn+1Ek3EDGBe3GhCRINoiTjgBQ+nz5nlbkyg/7q23vPgyjopNR19nnomh9Btu8KYOHJSumj8OSj/rLO/1oCo2nVSNovQ77/QmVByUrjg+aPTfP/8ptzTV6xk+HEPpOhcMRekPPeSlrthG/z3wQMWmTU1mw25hf/118BpE9grqIGsjNPqva1d5fTnRf9nZHm+Qw49TdIcw0X9mKX6cEm3ZRP/ptWqVfP66dXnWRr16ebxBTvSfAtlo9N/ixZ5PJyf678QTPd4gyo87/XRPcMWJ/lPODpzov+xsCZo4oQJdu3q8wTCiybgBjItbDYhIXHDBFpaKrXNn+YVGVGwKpTdpIrcDEZSuGxCfeCIfpefm4io2hdKPOUaS721QuvLXUgbEdevKBgVB6bqKrWdPDKXr0X/dumEoffduD6Ufdpj84UFQujIgrlZNinkQlK5H//XunRqlJ/M6062NOnSQ69ny4zZt8qap+mHTYOzZ45mi64cFdVEIkZ7ov8GD+dF/7dv7rY0q855TpVsb1akjzwuZvOvWRhdeaG9ttHu3FEOoyfspp2DWRnr0X8uW/Oi/qlVlI8jjxxWKIUOw6D/d2qhrV8zaSJ+8N2woQbutMn3jRi8JSk2qba2N9FABNXRAJu+6aLJt2/DUjbgBjItbDYhIbN5sdzf44gv3KjYOSndhQKyr2G6/3X4L21SxISj9hReKKqjYEJRu8uNQlO5axZabyzcg5qB03dqoMoFFUNqByY9zYW2kjuzs8D/sKvpPfe7VccABdu+vbm2ERv9t2ODnxyHWRr/+Km021BqHH17R2ihM+oRpbbRkid15CFHR2sg2+k8ICRz16T1qbXTbbd72Jif6T+fHuYj+69WrCI7+0yfvSPSfaW2EhAr87W98ayMzVIAT/afWsBVNxg1gXNwKnQWsSkfpqIrNNCC+/HI+SkcMiE2UjhoQ6yi9alU+SieSzbELFRsXpbvixyHRfyZK79uXj9JdWBvVrIlF/5nWRmorjSi8ubke/UckPQJV03PFFeHWCLI24kb/JbM2qqz06D8ijB+XLmsjJPrvww/dWBup6D81wedE/xFJflxUov/QUAHd2ggNFXjwQU+ZjlobuQgVMEWTSKhA3ADGxa3QDWAQSkf4cUuX+lVsjz5qv0aQio2L0rt356P0Qw5xg9L3NxWbi+i/RCIaKN1F9F/NmlKEsmePbCTDCmrM6L8xY+Q1e+staYETpnFKh7UROnk3rY0QfpxpbYRG/0XV2giJ/jOtjaIS/YeGCkQp+s9FqIAr0eTSpXEDGBevQjWAQSjd9iZronRUxab4caqB5PLjMo3SdRVb06alLH4cB6VHNfqvQQMs+m/NGh5KLy0tFaWlfJRuRv+h1kZPPulN3lFro88+kw2k4kGi0X+mtdG+iP4rDWD4Ryn677LLvDVQa6OFC/nRf6a1UTqi/4KuhVkuo/906sbvPfpPtzbiiCabNRN73TviBjAuvCptAE1+HKpi0/lxKErX+XEoStdd3lGUbvLjEJRu8uN69RLiqqsSVmu4Qukuov/2N5R+4YUJ59F/qLWRPnlv0wazNtL5cS1aYPw4V9ZGSPRfIuF9N1xF/7mwNkoW/WdTZWVuov90ayM0+i8MP06/FkH1ww9+gRIaKpBIeGtEKfoPDRXQo//QybtubdSoUdwAxsWrpA1guvhxmUTpOj8ORekmPw5B6WvXukHpOj/OROlhylX034oVbqL/XKB0F9F/993HR+lvvuk3IEasjdIV/RcVA2J08q4bEKPRf7fe6taAGJ28m9SNESPsJ+8mdQOdvC9Y4DWQmYz+M6kbv/foP5O6gYYKDBnin7x/+mncAMbFq8AGMGoqNh2lu1CxDRmC8eN0Fduxx2ZOxWby41AVmx79h/Ljpk71o/RMRv/pN9lMRv/dc0+46L9UpfPjqlSR36VMRf/pXpLo5N00IEYm7yZ1w0X0H8qPmz6dH/334ov86D/d2ohIKsy50X8dOmDRf/Pn86P/1qzx/DXRyXs6ov/QybspmkRCBUzRpJq8xyKQuLgV2ADqvCcUpetxXyhKnzPHDUpXXDCOik3n+yEofft2f7OEovRFi9ygdH3ahkb/6T8aKEq/4w4+Sn/2WY8DyYn+0z/3KEqfMMGP0hFro/nz/dF/iAGxi+i/f/9bbteqxg2J/lMNpNo6Rifvixd7ZvGc6D89fUKP/gtbP/4ot/IUKLWJ/lO1a5cQN94oRKdOvMn7ypVeDCEn+m/QIG/ijUT//fyznEAqUIpO3ufO9SgT6OT9r3/1rjEa/bdhg/ysK1CKTt6vvtrbOkZFk0884W2nm5P3uAGMi1uBDWBxsfwCclRs9evLH3QuSu/RA0fpN98sbwI9evBVbC1bymkOgtJVTFD16vKGkAylFxQUJF1D58f17o2j9Hnz5I9Fp07y9aDRf82byx/BZs34KP3EE/nRf7m5OEpX0X9HHSU/94sXp74WQfXpp9K3sXZtuc3Kjf7LyXET/Yfy4/7yF6/J6dkTtzZS0X9ZWfJzj1M3CkT16vK+gPDjHnnEo27078+3NurUiW9tdNBBks6C8ON0a6PTTsP4cbq1UZ8+4aP/9O/Gl1961kZHHSVjGm0n77q1Ua1aQgwciIUK6NZGp57KDxXo1g0LFdBFk4ceKgcGHNFklSryc2+KJuMGMC5uJeUA2t6ohaioYkNIyKaKbcoUvoqtd2+sgTRVbIjLu6liS3WTLU7yBCY/btQo+22eIBUbEv1nqtiQm6xSsXG2N7/7zs+PO+MMzIB44kRvDR2lJ7sWQWXy45YutTsPISry4yZOtG8gN23yT6rR6L+ZM6PIjysWw4fz+XHHHce3NkIn7yZ1wxU/zoW1kU30n/pu6NZGrvhxaKiAzo9zESqATt5XrfJbG82ahU3edepGslCBuAGMi1vWRtBBFWUV25Qp9ig9HSq2Fi3cqNjConS9TBXbH/7AV7F17syL/lMTEKSBXL3aDT9ORf8R4dZGKvqPCLc2MvlxYa2NtmyRzdns2f5mmEgqhznRf2oKybU2QifvprXR3Ll8ftzIkRg/Trc2at8em7zr1kYHHijE88/brSFERQPiG2/EJu8uov90a6PWrbHovyef9AQWrkIFxo1zEypgO3lHrI2CykY0GTeAcXGL3QCaAgsUpY8ezUfppopt+XK7NYRIn4oNQem6is0WpatKh4otKtF/HJSuWxuhKJ0b/WdaG9lE/y1eXDEKTh3INU5H9F/v3hg/zoz+W7PGbg0hKlobzZ+P8eN0ayOUH6dH/3XsiE3eTWujF1+0W0MId9F/urURMnn/7TdJDdIn72b0X5hKR/QfGiqgWxu5CBUII5qMG8C4uMVqANOhYkNRui5IQFF6OlRsN90U/iZbsldWbKrYUJSuq9hat8b4cboBcaaj/xQ/jgjnx5nWRqtWBT+2JIXE21X0n+LHEdlH/+n0BP0YOtTuPIRwY22Urug/NXlPdT30MvlxLVpg1I10RP+NHo3x43Rro06d+Py4gw7Cov/efFPx40pY0X/6tHrgwOhE/yGhAh99lLnov7gBjItbUAPoCqU//7wblN6+fTRQ+ty5PJSen58fGZSejui/WrXcRf/Z3mSDov9S8ePy8/Mr/JtLayM9+g+xNvr0U8/QXB2NGtlN34Oi/xBro30R/Rd0Pcz6PUT/2ZRpbaSi/2xq61Y/P85F9F+dOvlOov9uv53Pj0OtjaIa/WcjmowbwLi4Zd0ApkLpYStdKB3hx+2/KF02KlwVG5Hkx0UBpdvw4/QyUfrEiRhKHzjQHqXrtXu3NIRWDWSzZvJ62ZbOj9OPW2+t/G83b5Y/xDrlggi3NopK9J/Jj7ON/hNCWhtxo/927nQT/ffUU3zqxuef+yfvqLWR6+i/Jk3kFN22XFgbrV8vOX7q9UQl+g+xNoobwLi4ZdUAmij9+usxA2IdpZ9yyr5XsakyVWyPPMJH6WPH2t9k04HSGzfG+HEmSkej/3SUjkb/6Sjdhh+nl47S69aVli+2ZaJ0NPrPhQGxOXm/9VYPMKRq0h991D9F1Q9EYBHV6D+UuvH228JJ9J8LA2JlbUTEi/7jGhC7iv7TqRvdumXO2shV9J9O3UBDBVyIJr/9Nm4A4+JV6Abw9df5KrbiYr6K7fvv/ZMYlB+nfjiJcBXbihV+FdvChfZrfPaZX6E7bhyG0vWtvJNOwlC6bkCMqthWr+ZH/337rf+H1JYfJ4R8D3URTdu2ciJiW088wefHvf++v4FEo/90ayM9+u9vf6u8cTJVwuo44wz717Nihaeg5kT/Ke83Ijz676qrPNCDGhDPmeMJYDjRf8qUGY3+++47afGk3hPUgDiR8Jo/zuRdcbM50X/69DCToQK33+4BW461kVJQc0IFRo70Xg8imty+XW4VH3ts3ADGxavQDeCOHXJrk6ti69ULV7EplN6li2wuOPy4pk1lo8JVsXXuLH/cOSq23FzZQA4dWjnPySyF0tu2ldvgV16JofTBg+WPRqtW/Oi/Hj1wfpxC6d274/y4f/1LfkaysuSW4tCh9ih95sx8MWaMPIfjjuNH/+Xm4vw409oIif57+umKzV9Wll0jqkf/NW0qGy5u9F+3buGi/0wOoD55z83FrY1U9F/btvJcONF/devKeyQS/adbG/XqxY/+69aNH/3XooW8v5n8uDB8TGVtVK2a3DZGvDH1yXvv3pKTzAkV6NgR94RV0X+NGsnPPSdUgEje39DJu2rMu3ePG8C4eGW1BfzddxhK1/lxXbpgDeR993nbPAcdhG1vvvmm34B49my+AfGwYRhK1yPDFEoPq3RUZRoQI9MpU2Bx/fV8flzfvhhKv/VWPz8OucmaBsQIL/Sbb4Q49tiS8tczdiyG0nWeXfv2WAP54IN+fhwa/adP3tWxYEH4Nb7/3otiI8KtjSZP9tZo1So8dUP/bpj8uIcftjsPIeQ0uG1b71wuvdS+gTStjbKzsQbyzjv9/DhEYGHy4xBrI5Mfd845wQ1kqvvUL7/4J3YodcPkxyHUDTNU4Npr7e9tP/7oTXZVI8oNFWjeXA4zbMsUTd51V9wAxsUrJ0bQycqVik2hdNVAclA6kZwwITdZHaWjKjYdpRPxUToRrmIzDYj3tYpNlY7S1QSEg9KJcANiF9ZGOkonSh79l6q2b3fDj1PRf6qBzM723p+wVAMV/afOhRv9R+SGH4daG6noPyIeP+7oo71zccGPQ62N7rjDbfQfyo8zrY2GDMGoG2PHemu0bcuP/qtfnx/9R+QmVMCVaPLdd2MRSFz8SlsDqLu87w8qNhOl/95VbDpKz5SKTYiKKB3lx+koXefHha1duyQnVa1x2GFSWWpbZvTfAw/wrY1QflxQ9N+WLTKpI0wqTVD0H8KPM6P/ZsyIXvSfTZmTd5Qfx7U2+uknqdBXa0Ql+q9aNbm7wov+k7sriMDCtDbiRv/Vr+8mVMC0NgpTqUSTcQMYF7ecN4CmyzuqYnOF0n9PKrbK8mddqNiCULrtTTZK0X8mSkf4cUHRfy+9ZOdL5Cr6b/ly71zi6D9Zq1cL0ahRcXkDiVgbRSn6709/4lsbffihbGDVuezL6D/9PmVG/zVrJht+2zIn73Pm8EMFzj8/c9ZGZqgAYm1khgqYosm4AYyLW04bQBOloyo2HaWjKrZ0oPSrruKj9FQqtoKCgsB/TxdKv/dePkpHo/90lI5G/+koncOP01H69dfL0PxlmwAAIABJREFUm2yyaxFUrqP/atSQU0wX0X+ItZGr6D/d2ogf/VcAWxvtD9F/ei1e7Lc2Kiy0X4MT/ae+G2b0X26um+g/hB+Xjug/1NpIDxVAqRthQgXiBjAubjlrAHV+XJUquIpNR+koP85E6Qg/zkTpiIrNROkoP85E6bb8OBOlH3qoG5SOqNhcRf/pKN1V9B9ibcSJ/lNVWurZSxC5i/6zsTbasUMqejt08CbVrqL/xo3jT94Ra6Og6D/E2siM/kOtjfTJO0rduPRSbw3U2igd0X+TJ/Oj/xDqRjpCBVBroy+/9IcKjBqFUTd0e6RUoQJxAxgXt9gNoMmPi1G6rEWLMovSVZkovXdvDKXr/LhMo3QX0X+6F1emov+EEE6i/777TgID9XrC8uO2bpVq9A4dvG1adTRqhFkbmdF/S5bYr2FO3hFro6DoP461ERFubWRO3hFro3Tx46IS/YdQN9IR/ZeV5Sb6L4y1kVnm5L0y0WTcAMbFLVYDuHmzX2CBovR77vGj9FWr7M9l1So/Sr/rLgylK5UkEW5ArCt0ERWbEPKHU0fpiIrNFFhcdx3Gj9MNiPv2xQQW06fzUfoLL/ij/xYs4Ef/ISh961b/Nk8mo//eeMPbtrLlx61Y4W/69MPWUPnXX/3XGKVuLF3qNUu1a0tDYtv68EO/ZQ0a/ad/j9HoP/3exon+UzsJKD/um2/892qUH6fzXFF+3COPeCABpW68847/Xo1G/+kNMRL999tvEiSoNdDov6ef9oRSYUWTcQMYF7fgBlChdGXtMH48jtKPO07e2FAV2223yQlMVpbkxyEovahITj2UATFHxaZydIcPt0PpiUSiHKW3aiUbP46KrV49iSi5KF1dY46KrXNn2aBwov+aNJFTmJYtcZTeoIG0EqpZU4pQkl3jRCIR+O8Kpav3JJPRf4of166dnCLaTt63bfNPYdQxd67dOnr0X/fuePSfmrz36FHR2ijZ9TBL8eNatpQ/qIh/3Lp1UrxWvbp8b9HoPzV5792bH/3XqZMETujkvWFDuTvTooW0BuJE/zVrlmDz43Jz+dF/Rx0l7/cvvGC3hhBeqEDt2vJ3DI3+69VLvp6cHNzaSIkmu3aVjX7YyXvcAMbFLagBNPlxiP2HyY+75RYMpZ95pn9ih6B0nR/Xpg3Gj3vpJdlAKpSeqrlIVu++WypOOMF7PVdfzVex9e2LofQHHvD4cY0aYTfZd97xGxDffTeG0vv08U/sEJR+7bX+yUVlAovSgH1y09oIUW+a/DjE2mjzZmnSy5m879kjbYjU514dBx9spxg2rY2Qyfv69f5pzrnnVqRuBF0PvUx+3DHHuOHHIZP3tWsrTt5dRv+FrV27hJg2zVvjsMOwyfuKFX5+3J13lkKT9+OP987loovsG8ggayMk+k8PFWjUCFOmm6ECt97KtzayFU3GDWBc3LJqAE1+HGpAbKrYOChdnQsXpRPxUToRjx+nBBY1avBROlFmVWwKpRPJ18VB6epcuCidiI/SFUjgRP8R4dZGn3zitzZC+XGDB3tr6Hy7EClfQojw1kaVVVER39pIRf+p14BE/+3Y4cbaSEX/EeHWRi6i/374QXLi1Bonn4wZEKvoPyJ5Toi1kR79h/LjTGujSy7hWxu5CBU46CB+9B8aKhA3gHFxK3QDGITSf88qNhOlowbELvhxJkpHDYi5KjYTpbswIO7UyQ1KRwyITZR+yy18lD5wIGZtdNVV3hooP+6xx7zJO8qP++gj+fzqXCZMkOc3b56cRoa53mb0Xypro2S1e7e8Hlxro5df9k/e77sP48d16uS9HsTaaPt2OZ1Wa6DWRq6i/3Rro2nTsMm7Gf1nO3kPiv5D+HFm9B8aKmBG/3FDBVBrIxehAqtWCTFxYtwAxsWrUA2gidIRFVu6UDqiYjNROsKPSwdKP+GEIogfpxOzURVbjNL9VVRU5Cz6T9+SR62NrriCP3lfssSbvEcp+i+MtVGRcQF37ZITYW703wsvuIn+0yfvqLWRGf2HWBvp0X8HHih3FmzLjP4zrY3MaxFUZvQfam3kIvqvsNAfKoBYG5mhApdfnrnoP8/aKG4A4+JVygYwyih9xAg+SkdVbOlC6U88YecVs7+jdFfRfwhKHzmy0Gn0X5cubqL/zjnH3trIVfSfaW3kIvrv2mvDNZCFmo9SUPQf19rosMOkp6NtRSX6z7Q2UtF/NhUU/RdkbVRYiadVUPQf19rozDOx6L9Jk7w1XEX/Pfqo/RouQgVMa6Ps7LgBjItXSRtAE6Wj/LgooXTdgPiCC9ygdIQf5wKlmwbECD/OROkoP05H6Wj0n4nSf+/Rf3fc4efHIdZG6Yr+s6Fu7NwpuX361M/W2mjPHgngevXy3pP69TGBhWlAPGUKP/qvb1+MH2dG/yECi+XL/dZGSPSfaUCMRP/ZGBAnK1fRf2+8IYcNqoFEov/+8x/PjYFo/4j+06kbEycKsXFj3ABGtVoS0WwiKiGin4loExG9R0STiah2mp6zGRH9HxHt2Xu8HuJvAhtAE6Wj/DgTpSP8OBOlo/w4HaUj/Lh0oXSEH6cbEKP8OBOlo/w4E6Uj/DgdpR9xhBuU7iL6T/HjbMom+i9ZZTr6b+1a2Tx37epxbdUR1tro++/lVLt/f6+J1X9IXUT/LV9ut4YQFQ2Ir7+eb0DMsTZSa7RsiUX/6QbErqL/EGsj99F/vFABnbpxxx38UAGutRGRu+g/JZqMRSDRrEFEtJlkE7bbOPYQ0ZdEdEQanvcZ4zmhBnDhQr6KzUTpKD9OR+kuVGwtWmAqNj0mCOXHhUHpZZXcdU2U3rmzGwNiFygdif6LEkrXBRZ16gixeLHlL6CoaG00aRLGj9M5gzk5mLXRffd5DWSzZnbWRnozoB8tW4b/3OuqafOw5f5u3y7EhAll5X9//PEYP27xYv/kfcUKuzWEkABUv7chBsSlpX4bH5QfN3Omt4Zt9J+q557zJu8HHCDv/5WVeZ/67DPhs68aNw6zNtIFgqi10fz5/Og/M5UKif5bv97/+4WKJvUpsymajBvA6FUnItpOsgHbQkRTiagrEfUhogLymrMSIqrr8HkHkWz+SslrAqEGsKBAfthQFVtBgfyg1qmD8+PefVf+kB99tDwXRMWmULqyAOnfH0fpSv2M8uOeeUZOtho3Ts2Py8vLS7rGF1/Ia6J4kKiKbcgQb9uXg9Lbt5c/pk2a4Ci9TRv5nnKi/046yWsiOdF/KoP66KPlD1qqaxFUJkrnRP+1aSPX4ET/1awpuX65ufb8OD1bVR0NGthRJlavrugxSGSfhPHVV5JqUbt2nmjShG9t1LkzTt1Qk/fcXNzaSEX/tW0rPy9I9J+yNqpXT35/Tj+dx4/r0cPO2kj/bihro+7dJYBCov+UtVFWlvyccayNqlWT98lu3XjRf7m5fGujjh3l95AjmjzoIAnggkSTcQMYvXqLZAP2KxGdFPDfryWvQbvZ0XPWJaJ/713zAmI2gHv2SBNjhB+nTy6GDMFQum5A3K6dEM8/b7eGEH5+XI0acgsAQem9e3uv5/LLMZSuGxAPGJAapSebAD75pIfSDz0U48eZBsTTpmH8OH1yceGFXBWbbOAQlP7qq57Aol49TFhkRv9NmuSh9MqmsarSZW2ETKfMyftNN9lP3jdu9CvT1XHbbeHX2LkzuIns1cvuXPTJe40aZWLhQn703+WXY9ZG+uQdFViYk/dXXrFbQwjZQOuT97vu4k/ezznHroEsKysLtDZClOmmtRECnExroylT+KECOTlYA6mLJps1wzjvpmgyGWUpbgCjVdnkNV8PJHlMFSL6fO/jNhFRNQfPe//e9V7d+/+zGkCkTH7cRRdh/DjdgLhjR+wmq/PjGjYMVrFVVgqlq5vsjBn2N1nTgPiMMzKnYlu61G9A7ELFNn48X8XGif5TN9mDD8aj/3R+HCf6T72eYcMwayM9j5QT/ce1NjL5cUrV3aBB+K15kx+n8//CNjwmPw61NtL5cZVF/yUrkx+HWhu5iP67+24/Pw5pIE1+HGJtpEf/EeH8uKhYG5mhAoi10Y8/7nvRZNwARqtuJ6/5yk7xuKna405hPudJRLSLiMqI6Mi9/7ZPG0CTH4eo2EyUPnp05lRsLvhxJkp3pWKLggExqmIzUfrEiXyU3rMnxo8zUbqL6D/U2kjnTp1/Pj/6D7U20ifvirrx7ruSJhDWN82M/rvhBkm7OO00aekT5v0xo/8GDMCsjfTJO0rdMKP/UGsjbvSfK2uj/Hy+AbEZ/ZdJa6PLLvPWQK2N9Mm7K2sjF6ECYayN4gYwWvUmyeZrKxFVTfG4buQ1adMZz1eNiD4OWGefNIDpULG5QuljxtjfZE2UjvLjOChd+WtFFaWjKjYdpbuK/nOB0lPx45J5ne3aJUGCWgO1Noqj/ypWqui/yrznVG3Y4MbayIz+Q6yNnngiGtZGZvQfam3kRf8Vwvw4F9ZG//pXRWujTEX/Pfxw5kSTcQMYrfqBZOP1QSWPa0hek1bIeL4Eearimtq/p70BLC3lo3STH8dB6bqKDUHpJj8OVbHpKB1Rsf35z0VOULrOj+Oo2FxE/7lG6fXqYSjdNvovKO1AR+nduuHWRlGK/tMn72j034gR3hqotVFl0X9h0idcRP/95z/+6D/U2mjCBP7k3YW1kTl5RwyIzei/Y48tgqgbt96aOWsjvVxF/40e7a2BiiYXLPBbG9mIJuMGMDp1AHmN18oQj9+297FrwOc7gjy1cT/jv6W1AdRRepUqPBWb+vIgKrbffvPz42xUbHopFZtC6YiKzUTpHBWbjtI5KjYinB9novRMRv9dcgkfpacj+m/aNMw/ThdYuLA2ysrCrI1cRf9x+XF/+5vfoD1T0X9CyImWmryj1kb/7//5J+9o9N+VV3prHHmkG37c0qX2a2Qq+s+sXbvkb43Oj0OoG+kIFUCj/y66yFujfXt70WTcAEanmpDXeD0R4vHf733sx+Dzvbr375cG/Le0NIBBKP3ll+0+sEJUROm33rp/ofTHHrNfw0TpqAGxjtJRA2IdpTdrZm/bIYQfpbuK/nOB0jMd/afz4xBro/0h+u/99+Vk7qyzvGZLHSg/7rzzvDVc8eMQa6Oo8uOUtZFtLVzonh8XNvpPrx9/9IcK9O6NRf/dcIN/8o5E/z3/vPvoP1Q0+dprcQMYlWpBXuO1JMTj1+99/FfAc12892//j4gOCfjvzhvArVvlBCdqKB3lx6UDpbtQsdWuXQqp2NKB0lEVm4nSf6/Rf6WlpRVQeocOmLXRI4/wo/+Ki/nRfxs2+KkbKD9Ot3ix4cf9979ek2Uegwen/tvSgF/8zz7zvEKJ8Og//d7WtSvGj7v3Xn/0H8KPe/319PDjEOqGLh4zJ+9B18KsPXvklrVqINHov/ff50f//fe/8rOu1kCj/2691VsDDRV48UV3osl69eIGMCq1ryaAjcnjGl6R5DHOG8D1670bE4rShwzxfpA5KF39gHFUbDk5srHgoPSTT/a2BFGUfumlXiN69NFCjBmTsFtESJSu3hMOSu/Z05voICh940Y5iW3blo/Slf9i8+YYSl+xQgoBqlTBUfpllyXYKH3bNqnsbdZMAh6UHzdnjvyx6NgRj/5Tk3f1viDWRt99Jz8nxx0nvz+2k/edO/1UCb3BqOz6JBL+78bjj8uJuzIg5kT/KbU9Ym2kov9at5bfH9TaaOZMCQTbtuXz43Jz+dZGnTvLz0nQ5N28FmYpa6MmTWQzzLE2OuAAOXCoXx+L/isuls2aEgZxov+OOUZ+DznRf3XrStCEiiafflqu0bOnEDVqxA1gVGpfcQD/tPd53k3xmLRsARcV8VVsjRvL6RSC0nV+3IgRXBWbnHatWmW3hhB+ftyxx0ojVg4/rk4dmb2JoHRdxTZkCF/F1qcPhtJ1Fdthh2E3WT36r2pVqWhFULoenXTWWRhKX76cj9JLSuQPnzqXyZMx/7hhw/yTC8TayJy8I9ubq1f7+XFz52KTd30qqw4br04z+u/44zHqxqOP+q2NnnrKfg0z+m/GDPsGctMm6RGqf2YRayN98n7YYRg/7sUX/ZP3P/7R/nP/9df+azxhAt/aqHt3rIGcP98/eUeAkx4qQCSnstxQgQsuwEST11zj39ZfvTpuAKNUGym9KuBDtb+bRUTDA44R2mM+0/49KJWEaG8DOGDAAJGXlyfy8vLEypUrRV5eni8JobCw0KfCKy0trYACCwoKRHFxcfn/X1JSIoYPz/fx44YNyxclJSXljykuLhYFBQW+dRKJhG+L4cEHi8QhhxSWf/Avv7xMTJxod34//SRE+/YFgqhYEEnE/8YbJSI/P9/33Pn5yc9PoXSihCAqLUfpRUVFPouKsrKylO/fn/8sRMOGpYIo4VOxBb1/yc7PMyAuFkQFPpRuvn/Jzu+nn8o0A+JC0apVUflNNuz1nTUr32dAfMAB+eL+++2ub1FRkZg5s1C0aKHOpUxkZ+eJbdvsPn93310gunQpLv+c9OhRIm68Mfz1FUI2kF27yutLJJvauXPtrq8QQjz8cKmoUSOx9z2RP6Q211cI2cy3bi2vL5EX/Rf2+paVlWn8uEJBVFRubRT2+ubn55dH/8kGMl80bFhS3kCGvb6FhYVavmqZIMrb+3/lVHTZsnD3lxUrikXXrupzUiLatcv3Td4ru75CCDF5ckJcfHFp+efksMOKxN13213f0tJSccYZCZ+10dixdtdXCCGWLCkWjRsXlJ/LNdcIcd114a+vEHILv2NHeX2J5KTr44/DX18hZENz003y+hKVlE/eba6vEJLa0KCBvL7Vq5eJ+fPlvc3m90NF/xGVCKJ8n7VRmOubSCTEN9+UatZGRaJly8LyUIGw13fq1IQvVKB27QJxzz1217e4uFhMnlzgE0327JkQ//lP+OsrhBALFhSK448vKn89WVmXiU6dssX48ePjBjBClW4fwFZ7/w45FiVZ00kSiFm//OJH6UceKbdbbMtE6YgBsYnSJ03C+HE6Ss/JsUfpJj8ONSA2UfrcuXyUjqrYTANihB9nonRu9B+REDfeyEfpp56K8eN0lN66derov2SlWxvVqhXeiFkvkx83bhw2eT/7bG+Nk07iR/81bSppGNOmyW29sDQOF9ZG337r58eh1kbpiP5DJpCmf9zkyVj0X//+PH6caW3UooXcerUtf/SfG2sjNFRAtzZyESrAEU3qoQK6aDJWAUer0p0E0mrv31R2qKZP/7eFSdZ03gD++99CQ+nyB8SWH/fLL/IHSx93IwbEixb5DYiRnMl16+QPuY7SuSq2ZAbEJprVa9cu2dioNVB+3MqVfhWbQuk2ZarYUAPikSO9NTIZ/bdmTUVrowcfTH4tgipd0X+ItZEZ/YdYGwVF/yHWRmb0H2ptpCahrqL/EGsjV9F/urVRu3aSLmBT6Yr+SyTCNZD6fcq0NurXD+fHqTUyGf1nWhuNGYNRN1yIJvVQgSDRZNwARqv0LOAHkzwmHVnAZu3zLGBVJkpH+HEmSj/vPDco3ZYfJ0RFlM7lxxEJcd11yW+yxUlgswuUvnOnX73pAqXXrCmNTG2v8Zdf+lH6qFGYwMJl9F+vXvImq1B6smsRVKlQetgyo/8GDoxG9F/t2m6i/1BrIy/6r9hZ9B9ibfTyy26i/3RroxEjohP9t2JF+L9X3w3T2uiGGzBrI12ZjlobuQgVQK2N9Pr8c08IR5Te6L+4AYxeqW3gX4moa8B/v468Bu2mgP8+irwJ3s3gOezzBtA0ID7kEAylmy7vHBWb+vIMH46hdI8fx1OxuUbpHBWbWoOjYlNrtGyZOZRuRv+NHcuP/uvWDWsgOdF/qlxYG5nRf6i1kR7958LaqE4dAVkbvfii0HihbqL/UGujm2+OjrWRHv1na20khHz8hRd6a6DRf/Pm8a2NUkX/hS1X0X95ed4aaPTfsmX7NvovbgCjVyeQTOhQXMAEyUawDxE9RF5z9wUR1Q34e9UA7qbfSQPoR+kCRukzZvD5cS+95Efpc+Zg/LgTTvBez/nnRwOlH3igHUpXtWYNH6VHOfpv4UL7NT7/3B/9h6B0M/ovO9s++i/IgNhF9B9qbZSp6L/duyVgvOsuORVTAEE1kPsi+i+o9Og/Ijz6zzQgdhH9h1gb/f3v8l6kzgWN/jv/fG+NdEX/hSkX0X/K2ki9HjRUYOJEb43DD5fcc9uyjf6LG8Bo1pkkTZp1Pp7Oy/uCiNok+VtXDeAe2gcNoMmPy8vDULpu0omidKlik0fz5hJd2pbJj5s3b9/y45SC7OefhaZiw1H6/ff7+XEvvGC3hhDuUHqUov/CoPSSFMQsG5SerIKi/xCBxR13+KP/EAPiv/zFjQGxHv03ZEj4ybsunDEPJR5LdT30Usbb+uT9mWfsXosQFakbU6fyrI2I8Og/k7qBWBs995yb6D9pbVQiiOQuCdfaqHNnvsACDRV44w030X/du3uvZ9AgN9F/YUSTcQMY3coionuIqISk598mIvobEV1LRLVS/N0o8oQbaAOo/n5ViMfCDeAf/yjVsES4im3tWj9JHEXpI0d6yKlvXxylq6kQitKfe87j6iEqtvz8fPH3v/snSyg/bswY70e9UyccpaupEAelqwkxhx83bJg3DUX5cTbRf6bFg6rHH5cAo3lzngHxEUd4YilO9J/6DnKi/446Sn5/OAbEhx4q10H4cbNmBTd/uvo52fXQS0X/qc8sOnlfsEDSLho35kX/tWzpcf440X9Knd6/P0bduO462bjVqIFP3p9+Wn7mW7YUolq1fJgfd8wxHtdVWRvZlLI2UmugoQJ33SUndfXr49F/q1bJ34p27eTkfdYsjLrRtat3jW1Ek3EDGBe3rBtAXcVWr55UfXFVbP368flxPXpgKF1XsWVlSQTH4cdVqyZv2lx+3Mkn81VsHTvyVWwHHSR/eLgqtpNP5vPjcnPx6D8dpbuI/uvfH+PH6dZGBx+M8ePM6L9bbsEMiHV+3MUX86P/unTBBBYrVnifE3Ucf7zddTaj/yZPxqyN9Oi/wYP51katW2PWRm+/7bc2uvNOjLqh8+PGjeNbG/XujVkb6fy4Ro0wZfqnn/qtjW66iW9tdP75fGuj44+X1ka2pU/ea9Sw54XGDWBc3LJqAKOsYkNRus6PQ1F6rGLzV1gVW6pyxY977TVlQMzjx510kvd6kOi/IGujMPw4sxYu9JTpqLXR++/7+XFI9J9pbcSJ/lNr6DnBNo3x88/7qRsIP86kbiDRf66sjebM4VsbvfWWnx83YwZG3VATZiLc2sjkx3GtjWrXlkDKtqJkbTRzpp+6gYgmf/wxbgDj4lXoBjBWsVWsWMVWsVzw40yUzuHH6QbESPSfC36caW00ZAgmsBg71lsDsTZS/DjVQNav78baaMoUPj+ub185CaxTR4LMMN8jl/w4bvSfaW2EGhC7tDZSE/w//9luDSEkFUC3Npo5k29tNGgQ39oIDRX405/chwpMnMi1NuKJJrOz4wYwLl5V2gCmS8WGurxzVWw//xwdFZuJ0k85Jf9/SsUWVCZKv+oq+5usKbDo3t2eHzdrVr4PpXP4ca6tjVAD4nRYGy1fbreGEHLyrlu86AbEP/0UPHE2OYDpsjZ67z371xMVa6MtW/zWRir6z6b80X/B1kZh+Jhe9B/P2shFqMDll/sn70iowOLF/lCBZcvs13AvmowbwLh4lbIB/OEHv8s7qmJLJPgofflyP0pHVGwmSs+kim327IoqtrBKR1UmSs+kis2M/kP4cSZKX7rUfg2F0hWpGkHpmzYJkZtbUv56kOg/V9ZGZvQfam2k8+MyaW1kRv+FtTbSvxvpiP7LpLVRYaF/8o5YG332md/aaNw4zNronHO8NU46KdjaKNV9yuTHubI2QqP/XFgb6aECYa2NzHIR/WdaG02YEDeAcfEqaQNoovTrr8dVbGoNjoqNi9KfftrPj3vkEfs1vvjCz49DUfp557lH6aiKTUfpd9yx/6B0NLnFVfSfbm2ULPovVQVF/7mwNopK9B9K3cjP5/PjXnnFP3mfPj0z1kZm9B/H2ogb/ffJJ37qxpVX8vlx3brh0X9cflw6ov+GDuVH/x17LCaafOihiqECsQgkLm5VaACDUDqiYjNR+k038VH6qadi/DgdpbdujanY0oHSL78c48eFQempykTpTZtiKjZX0X86SncV/ff553ZrCLHvo/+SVVD0n6210f4Q/bdjh6SbzJvn5/0ShefH7d4tv3d/+pOcBqvvsJq8q+g/m9rfo/8ee8x+jQ8/dB39h/PjXET/maECaPSfHiqAiiZHjQqevMcNYFzc8jWArlRsc+fyUfpf/+oJLDgqNh2loyo2HaWnU8VWWf5slFRsLqL/TJTugh+HoPTt2/0ovV07IQoL7bolV9F/xcX+6D/E2uj77/n8uN9+8/PjsrIwa6Onn8b4cRs3ek2WPIp91yfs5F23utGPqlXtrY1273YT/bdqlfvov8GD7akbZWVY9J95n9In72j037p1fmujTEX/7dzpDxVAo/9WruSLJr/6KrVoMm4A4+KWrwGcPt37sKEqNr1ZQlVsc+d6W5Ooiu3NNz17Fg5KHz2aj9KnTfN+NFKp2AoKCpKu89hj3hZN7dq4im3QID5K1380UJQ+a5bXGKD8uJdfdoPSu3XzpheKH5fqWpil+HEKbHCsjZSgB7U2eucd2RCr9wWJ/lMNpPrx4fDj1ATflh+3YYO3CyGPgvLJrM33WE8n0Q9bGsmWLXLyrpoujrWR+pxwrI26dJHTTI61UU6OR2mxsTZS3w01eVcuBhx+nOIh16uHRf+9/7783KvfDTRU4NRTPUDZpw9G3Zg2zfvcc0ST2dkSNCUTTcYNYFzc8jWAZWVyW4KrYsvNxfhxW7d6KrbOnSU/jmNA3KSJvMFxUXp2Nh+l5+ZiKP2XX7yG65hjZHOBCCxbw06kAAAgAElEQVQUSq9bV27HcVF6z564ik2h9G7d5PuCGBDffLM3gXSB0o88km9tVKOGbKoRfpwe/TdiBD/6r1cvfvRf06ZyO407eR87FqNu6Pxhddgqy/PzK65xwQV2a+jWRnXqyOaCG/130UXY5P322z3qRv/+WPTfK6941kYtW2L8OD36r2pVeY+ypW7s2CGN6vXpPWJt9PDD3uS9Wzcs+u9vf/Mm740aSf4tYm2kiyYvuYQvmhw4MLloMm4A4+JWBQ6gbZMjhERsiluDGhCb/DjEgHjzZr4BcbpUbLNm2d9k16+vqGKzFVikS8WGoHRTxYai9AEDvDX69MGi/6ZN89b4vVsbbdsWHWujN9/0CyxuucX+nmJaG6mjTZvwP8pm9J9+2Hz+XVkbueDH6dN7TvQf19pIn7xXqyZ9B5HJux4qMHy4PT9uxw7/Ds1xx2HWRg8+6CZUQBdNcqL/1BqVhQrEDWBc3IKzgIWQP97pULFlyoA4SMWGGBCbKjYuSkcNiHWUTiSnqy5UbAhKN1VsXJROhPHjXFkbTZ3qrZGVhVkbPfusnx+HWBuVlEhOnD514FobdemCTd7vuaeitZFtrV7t58dNn+4pkMPeF4Ki/9SkacSIcGuY0X+otZEe/Yfy40wDYoQft2mT5ECrNXJy+NF/hx7qxtoImbyb1kYjR/Kj/9q350f/oaECiGgybgDj4hbcAP7nP36UjvLjdJSOqthcoPSPPnKD0gcOxFF6IpFIC0rn8ONcRP/pKB3lxy1YsG9ReiKRCPx3W5QeVDt3yumnWiNK0X+XXsqP/kOtje68M3jyvnWrEBddFHw9zDKj/2bNkqBszx75IxtmuurC2qiszE3036JFfgNiNPqPa22k+HFyjQQc/WdaG61ZY7eGEBWj/1xYG2Uy+g8VTcYNYFzcghrA11/nq9j+3//zq9jOOgvjx+koPayKzawlS/gqtg8+4KvYvviilK1ic8WPcxX9p6N0JPpPoXTFKevQAUPpttF/pQG/bm+/7cbayHX0X+vWWPSfaW20aJH9GubkHbU20qP/unatOHkPuh56pSP6j2NtFIXoPyH80X+urI2uuKLUSfQfMnl3YW1khgq4sDbKRPRf3ADGxS2rBlCp2Lj8uNde8/PjUBXbSSd5Xx4bFZuqsjLJNVRroPy4hQu9m2zduriKTefHXXstnx+HonRX0X86Sn/gAT5KnzyZj9JPOAFD6XPm+PlxiLWRGf03YwbGj8vJ8V7PmWe6sTZyEf0XZG1UWbmK/jOtjRB+nBn9h1gbmdF/CD/OtDYaPjw60X+ItdG77/qpG9dfb0/dSFf0H2JtpEf/qVCBzET/xQ1gXLwK3QBu3uxXsaH8OF3F9nvnx5WV+VVsKD9OV7HVr4+hdJMfN2UKxo/TUXqUov8KCjIT/cdF6UIER/8h1kZm9N/MmXwDYiT679dfK0b/JbM2SlVm9B9qbaTz48JG/+3ZI6/j00/7XwsRbm3kIvrPNCBGov9MA+JMRv898AAW/afXO+9IIKrOBbE2Skf0Hxoq8OSTfuoGEirw+edC3H133ADGxatQDaCJ0jOpYjNROsKPSxdKR1RsOkpv1aoIQukLFngNZIMGsnmyLRcqNhOlo9F/JkpHov+4KL2oqMgRSvesjYgyH/2nUzdcRP+h1ka20X9FAYoS3YC4bl0hli0L9/xr13pWN+YxbFjmov90A2JO9J+ibtSoIakPXANiM/ov6FqYZVobodF/urVRw4aYtZEeKkAkKTKZiP777TdJDVJrcESTkroRN4Bx8arSBnDjRg+t1KkjEy1s68MP/Xy/SZMwFZu+XZuTY4/Sd+2SzR5Xxfbyyx4XrHp1SeJFVGx67NHIkUIsWWLH8N6+3Z+TfPzxGD9u4UKvgUSj/95+2z9tu/HGzEb/qa1jFKVPnFhYHseGovTPPpOiIDXxHjcO48eNHOn9gHGi/9R3kBP9pxqdqlWlaAPhx511ljf5O/fccPy4Qk39UFYmG0jFPbSN/lu0KLj5a97c7rUIIZtJXV07eTIW/TdkiAdKOdZGSrSFUjeee84TeySzNiqsRIny97/Lz71q3MJG/+m1bZv8O7WrgVob3XuvR5ngWBspbjYnVODss73f0jPPxESTEyd6oLRNm7gBjItXoSaAd9zBV7G1aye/gIiKbd06+UNev77kySEqth9/9G5s3bvj/DilYuvRA1exrVwpG62WLeVNn6Niq15dvrcmSg9TOj+ud2++iq1TJzmdchH9N306D6Ufcog0luXy4047jW9t1K+fFBrZ1iefeE1Ou3ZS8MSxNqpXT/5vbvTfaadh1A09+i8nh29AnJUlp0y21I0tW8yYOXnYbGOb1kYDBmD8OJ260akTRt347389a6PGjSUfGqFu6JP3007jWxv17cu3NjrqKDl5R6yNhg6Va9SuLRtShLqhR/+deipmbaSLJrt3l98ljmiyeXPpyLB+fdwAxsWrUA3g7t3225umATGqYjMNiJGbrKliQ0jIGzeK8omQurnZovQgFRtCQn7uOT8/DkluMflxl1yCoXQX/Lh77/Xz415+2W4NISRK1/lxKErX+XGotdFVV3lroNZGjz3mTclq15b/v225sjbSJ9UodeOWW/z8uDfftFtDCHfWRjo/Th2DBoVfY/t2OZ3SJ+8IP86VAbHOj0MNiFVsJtH+YW3EDRUwrY3Q6L9k1kY2lUw0GYtA4uIWywg6WZn8uGHDoqNiQ/hxpootkUiPiq2skruUidKzsvgqNrSBLCnx8+PGjMGi/xRKJ8INiHWU3rgxP/qvalUhZswoY0X/EfGj/9QEJFPWRnr0HxFmbaRH/xHh1kbTppU5jf6rXl02xOrHOey0S4/+I8KsjX7+WU7s1RooP87W2iio9Og/onD8OPM+tWFDdKyNPH5cZkMFwlgbVVaVWRvFDWBc3HLeALpQsX399f+mii0vLy/pGqWlfpTuQsWGonRTxeYCpY8blzmUHmRtlOpaBNX+Zm2kT95dWRvxov/yBJH8DiDUDTP6T1E31qwJz4eMcvQfQt1Ao//074ZpbeQi+g+1NtJDBVxZG6HRf1xrI1M0GWRtFDeAcXHLWQPoUsWm+8elQ8UWpjKhYks2AdzfVGzLlnnNbK1aGD/OVfRfMmujyqaxqqJmbWQaECOT93RYGyHRf37qRllGo/90ayM0+s+0NnIR/YdYG5nRf50721E3ysrKAq2NEH6caW2E8uP06D/E2uiXXypaGyGTd9PaCBVN6tZGkyYFN5BxAxgXt5w0gKYBMUfFpqN01IDYNUpHVWwmSkdVbOomy1Gx6Sgd4ccFoXRUxaZPuP6Xo/+EEM6i/3RrI1fRf4i1kcvoP93aKN3Rf8nKVfSfrtbPND/ORfTfeefxJ++6tVGTJpi1UbLoP5syrY2QyXuQtVG6o//iBjAubrEbQNOAGEHpuoqNg9KnTvWjdIQfp6vYXKH0Sy7hqdiIcH7cPffwUfrq1W6i/3SU7iL6D0XpJj8OQekuov82bfLz43JyMH7c9OnRjP4bORKP/lNrtG/vJvrPxtqotFQCLX1iTuQm+g+1NjL5cYi10bJlbqL/jj7aOxcX0X8nneSGH4dYG6Uj+u+889xE/1VmbRQ3gHFxC24Ao6Zic4HSXajYnn4aR+nKXytKKN2Fim3VKj9Kjwo/LhVKT+V1FpXoP93aiMhd9B9ibfT88+6j/y66yJu8V+Y9p+rnn/2Tdxtro5tu8mc9q6NKFXfRf7b3NjP674wzMH6cPnlH+XFLl6rJe6Gz6L/x4zHqhsmPQ6yNXET/6dZG1arJbXFuqEBY0WTcAMbFLagB3L7db3XRoQNuQMxVsb3zjv+mjfDjSkv9Zq6oiu2WW/wo3VbFVlRUJJYvd4PSdYUuqmLTrS5QFdusWXx+3F/+4jX4HH6czukcMiQ1Sg9KOygrkx6UqvlD+XGPPOJdHzT67733/D+CaPSfzvdDJ+/Tp3vCLzT677nnvAlxUPRfmPSJL7/0c9tGjw4/ed+zx2tgzSM/3+61KIGFavA50X/KeooT/aeL4dDovylTvPvSoYcWwdF/akLMif7Tp4dho//0+uknfqiA8sZUOyOc6D81abYVTcYNYFzcsm4AFUpv00beEHSUHrYUP65mTalSRA2I58yRX5rcXJwfp1B6ly7K/gPjx+XkyClXkyZ8lN65M1/FlpvLV7G1bSuv0fjx9jdZ3YBYoXRO9F+DBpKfxuXH9ezJR+k5Ofzov9at5bYRx9qoRg35ueVG//XuLf0pOdF/Xbrwo/+aNpXXGIn+0yfv3bph1kb6JFTfsrUpPfqvbVv5uefw4+rWle8Jam2kJu85Ofzov27dZPPF4ce1aCG/R5VF/wWViv6rVk3uaISN/tNLhQqoz31eHi/6r2NHXJmuRJONGslrbCuajBvAuLhl1QCaKrYlS/j8uAkT+Cq27GzMgNhUsSEcElPFNns2nx83fDgmsDBVbChK11VsyHQqrIotVW3a5J/K5uRgDaTOj0MNiF980c+PmzvX/hp//bWfH5dJa6P58/nWRmvW+CfvN95oP4E0o/8GDLBvIH/7TU5l1RocayMlLNIPmx/lzz7jWxsF8eNsG0hz8t60KUbdePVVv7XRnXdi1I3sbO/1nHsuRt3QQwVcWBvVq4dRN9audWNtpIcKoA3khx/GDWBcvArVAJoGxC1b8lH6AQfIrTDbBvKLL/zbmyg/TqF0IjmJ4arYGjfGVGw6Sq9SpZSN0on4KJ1I8uM4KJ1ITi+4KJ0Ij/5TKJ1ITkRtbrKlpaWB1kac6D8i2Xih0X+urY240X9EsjHeF9F/pQEXz4W1kRn917q1B1569w6/jh79h1obmfw4bvSfmrxzo/8OPtjPjwu6FkFVVOS3NkKi/0x+3NChmLXRJZd4a7RrJwcRNmVG/9Wvj6VSmaECHGujgw+OG8C4eFVpA2iidFTFpqN0VMVWWMjnx5ko3ZWKbf16uzWCUPqIEQm7RURFlI6q2HSUjqrYzOi/ylRsQWWidJQfp0f/XXed/U124sREheg/W36caW3UooXcerUtM/pvwQLM2kiP/rPhx6natk1mkKo19mX0XyLh/26kI/pv0CA5ef/3v+V1C6O6j3L0H8qP062NevasyI8zr4VZUYv+062N0Mm7i+g/PVTAjbVR3ADGxauUDaAtSg8qVyo2HaXzVWyygXShYosqSg9bpooNQen/+pecqKpzQaP/TJTuIvrPBUpHo/90a6Og6L/KKo7+q1iuov9ef92NtVEUo//QyXs6rI3Q6L+bb3ZvbYSECpjWRlGJ/mvYUIgnn4wbwLh4FdgAoijdLJMf5xKl25QrlK7z41CUbvLjUAPiM89MjdIrq3Sg9L59M4vSoxL9Z1obJYv+S1Xff8+P/tu50030XzoMiC+7LFrRf7a1v0X/6dZGKD/ObfSfPNBQAdPaCAkVMK2NMhX9Z1obqVCBWAQSF7cqNIBbt/r5cShKN/lxqIpNR+koP84FStf5cShK1/lxdepI3pBtrVvnR+moii2KKB2N/vvHP9zw49KB0lNF/yWrt992E/2nGxCj0X+6ATEn+k+nbixebL+Gi+g/k7rRrZvd5H3zZtn46c29rbXRL7/IRqlnT+/+6Cr6D+HHmQbEHGsj1UC6if7D+XGnnOKtgVobXX+9f/Keqei/L7/0Uzf0UIG4AYyLW74G0OTHISh982aJZHWU7oIfhyh0g1RsXH7cuefy+XHJUHpBQUHKdUx+3FNP2Z2HEO5UbFFB6emK/rv//tTXwiwz+q9TJyz67777PIFFlKL/Bg7kR/+hk/fHHxeiRo2C8sk7x9rIdvK+fr0EBvrfqqN9+3DKdOWj17mzBw7UUatW5qL/TIHFiBHhJu/6fUq3NuJM3qMS/adbGxFlNvqvslCBuAGMi1vlDWBRkZ8fh6D0Tz7ho/SffuKhdCHkj91dd/n5cagBsc6PQ1F6ly7hUHpxEoXAjh3SUoKL0hct8vPjEJTuIvrvhx/8U4d+/TB+3KxZfpSO8OOWL/cmOjo/Ltm1CKovv/RvyaPRf/q0DZ28P/CAd43Ryfvq1V4iB8qP+89//IpjNPpv+nS1RjEc/ff449732HbyPnNmxcZPHWGpG++9l3wNW9rF7t2Sp8udvL/0kkdFsY3+U9+Nb77xg300+k/nuaKhAo884v1+cUIFdLCPRv/pWdioaPK227w1koUKxA1gXNwqbwD//W/5g8FRsdWrJwmzKEpXKjalOkb5cQMHyrF59eqSP4j4x91yi7yRZGVJHiOC0hU/rnt3vopN8SDDonS9tm+XN6VWreQ1QlG6q+i/Fi0koj36aH70X69efJSenS1vshyUfsghspHk8OOqVJH8HpQfp6L/evfG+XGKutGunbS94UT/1a8vt40RfpxubdS9O8aP06kbPXpg/Lh//jPYH9BGcLVzp5+ioI7rrrM7F93aKDeXb0DcqZO8v3GsjRo3lt9nbvRfly44P04Bjdxc+f3hWBsdfbScnnOsjerUkRNjJPpPtzbKyZHAMhl1I24A4+KWbwt47Vq+ii07GzMgNlVsiP2HqWK79VY+P27oUD4/7ogj3KjY/vhHvootLw9D6RddxEfppgExyo9zEf2n8+PQ6D/T2sg2+k+Iivw4xD/u00/lD5c+eecaEHft6oa6sWqV3RpCyMk71z/u22/9/LjKov+CyqRuqKNnz/Dno6ZTaiqrjtq17bhpJj8OUaabBsQnn2xP3TD5cZzoP50fhyjTTX7c6NFYKtXw4d4anTtj1A1TNBkiubBCmaLJyibvcQMYF7egLGBVUVWx1a3rRsV27bVu+HFhUXrJXnfSIH4cgtJNFRsXpRNh0X8//yy3h9QaSsVmU3r0HxE/+k/dZG+5JfgmW5LCKXbDBr+10Zln8vlxLqyNXPHjrroq89F/RP7Je6rrYZZpbXTvvXx+nG6BE9YRweTHtWrlNceTJoVbw7Q2QifvprURL/qvRBC5sTZCQwV0ayMVKmBbprXR2LGYtZGLUAHT2ihMqEDcAMbFLbgBfOUVP0p3oWIbMiRzKraHH/bz41wYENvy4/Lz89OiYkNRuqliKyjgo/Q//AEzIDZRugsD4lQoPT8/P/DfTZR+221urI1sJ++mtRHKjzOj/5YutV/DRfSfaW2Uk+O3Nkp2PfTavVtuu+n8uLfesnwxQgIL3YB47lz5nZo6VU6cw3wHvv5aAh31epS10dKlEkSFUWSb1kbt22OTd9Pa6Pnn7dYQQgJQT/2cL268EZu869ZGKD9OtzZCQwWefNITWNSqJQcItuUq+k+3NrIJFYgbwLi4Zd0A7t4tt1aDULpN6So2Vyh9+HB7ftyOHX7SLmpA7ELF9u67fhUbD6ULFkqfMcObqGYSpe/P0X8ca6M4+s9fZvRf7948fhyRpBrYZAGrMqP/EGsjM/oPnby7iP67//59H/0XVGb0HxIq8Ntv0uBarYFaG7mI/jNFk7ahAnEDGBe3rBrATZvkly4ZSg9T6UTptjfZr7/28+NcGBBHB6ULGKUrEU5OTmZRepSi/3S1o6voPxfWRvtb9B9ibeQi+s/kx/Xty+fHodZG6Yj+GzUK48eZ0X8u+HFIqICr6D8X1kZRif6LG8C4uBW6ATRROmpAvL+hdBf8uKiidNSAmIvSg6L/XKB0JPqPi9KFqMiPQ62NohL9Z07eEQPioOg/C5qfEEKe90MP8aP/XFgbmZN3W2ujXbvkPVYHK6i10bPPuo/+Q62N9ufoP9TayEX036OPCnH22XEDGBevQjWAMUqvWOlA6Z0758coPSLRf/n5+U5Q+ocfyudX5/J7j/4zJ++otVEQPy5VmRzA7dvlVEutkUlro3fe8U/ew1oblZRIIVDPnhWtZlBro8mTvTVQA2KdHxdkQByGj/n55/xQAVfRf3feuX9F/3mesHEDGBevUjaAv/4aHZRuqtgQG4Tvv+ehdCEqury3bOkOpX/xhd2b+8UX8pqocxkzBkPpLqL/Fizgo/Q33vAUuhyUrtv4oNF/48aVsFH6smVuov/0DF1k8r5pk9/GB43+u+cebw3UgPjll/3WRmEn77oK+Kuv/CpsNPpP54Kh0X8LF3qTd1sD4n79/E2fOurXxybvOk0BtTa65RZvjTZtgq2NKlNkP/usm+g/nZ6DRv/pAsFu3SR/1qZ275a7K6qBREMF9AaSI5rUBYKDB8cNYFy8StkA7tnjITDUgPjii72bNYrSH3hAosk6dSRKX7HCbg0hJEo//HBvO++GGzAD4j59PA+5AQMwlH7ttR4Hi4PSDz9cNltBKD1MuYj+Uyi9alX5I4pE/+3ZIxF11aqSFsBF6e3by/cEif5TKP3AA+VUhxv917Urbm2kJu85OfjkXVkbtWkjf5Q50X81a0qxCBr9N22afE9yc/nRf126yPeGE/138MHy84IYEOvRf506YdZG8+dXbP5q1LCnxShro7ZtZcOVzNooVanov3r15OcFtTaaMEG+jh49eNF/depIKyGutVFWlvy8INZGP/0kdyCqV5c7Nai1kRJN9u7NF0127Ci/h/feK8TmzXEDGBevKt0C3rJFolzEgFhXsU2ejKH0Cy/01hgyBEPpOj/uuOMwgcXbb3v8uBo1ZMOCoHTdgPjyyzGUrk8uTj0VMyA2+XEoStf5cXl5GD9u8GBvje7dMZR+++1+lI5sb5rWRjbxWKrM6L8LL7RvIHfskNNctUbbttjk3bQ2QoCTyY+bPh2L/tOnXQMGYNSNRMJbIysLU6ab1kaLFmH8OH3yfsUVfH6cOsaPD7/Gnj1CzJ7tp24gwGn1ao8fV6WKnE4hk/fu3f33amTyPn68t8aRR2LKdNPaCAFOprVRImHfQJqiydxcN6JJ5Qkbi0Di4hbLCDpZKZSumiUOSldfHhSl6/w41ID4vvv4BsRvvlm5AXFl+bMKpavXw0XpRHyUTsRD6S74cYMGeWug0X+mtdEDD4TPAlalov/U9iYn+k+9HmTyblobRSH6T50LGv3XuXNx+Rrc6D/O5F1F/xHhk/cvvvBv6+tb4uE94LzoPyJ3/Lgw1kbmfcq0NuJG/xHxo/+I5LQambwvWuS3NiostF/DFE0ioQKViSbjBjAubjltAJVZqo7SEQNikx/30EN8FRtiQOxKxXbPPeEMiAsKCpKuY6J0xIDYlYrtyiv9KB1VsekoHeHHmSj96qsxfpxpbbRhQ+prYdauXXIypqN0hB/34ov+ZgCZQJrWRiNH8qP/UGsjM/rPhh+nas0aFf1XIIikAwDH2khNzTMV/WdaGy1eLH1He/SQk7cw5craSI/+O+mk8JN39d1wFf3nytpIDxVwZW1kGyogREXRpItQgSDRZNwAxsUtZw3g999LVS4XpbtQsT31FB+lf/65H6Wj/LhMoXSzVq3ycpKrVpU37syr2HB+nInS0eg/LkrfuFE2FMlQepjatUt6Nqo19sfoP8TaaO5c/+TdhbXRjBn2DeR33/lFJ66sjVxE/yHWRmb03/jxfGsjlB+nWxsdcogba6PZs/nWRsOGYdZGevQfGiqgR/+lEk3GDWBc3HLSAL79tkLp8kD840pL/fw4VMWWl8dH6cuWuVGxHX20dy6oik1H6V27Yvy4O+6QTV/XrnKKiKD0v/yFH/1novRMRf8JIVNJFEp3Ff03ZQrGj4uj//yVrui/P//Zbg0hKkb/zZwZnei/jz+2W0OIivy4xx+3X2NfRP+FKZMf16yZm1CBOXP2jbWRWWaoQGXUjbgBjItbrAZwzx75ZeHy45SKTUfpqIqNi9InTuSjdFf8OBOlc/lxqMBi5sz9K/ovHSh9+XK7NYSoaG2Uyei/KVO8NaIU/Td2rP3k3bQ2ynT0n25AbBv9t2eP3NFQ03siLPrv73/3izQyHf2nvx4XoQK5uZkNFVDUDTRUwBRNhrE2ihvAuLgFN4Bbt8oxORelmyo2BKWb/DgEpZsqNhSlmyo2G5SeSCSEEOlB6RMn8lVsv/foPxuUrq6FWbYoPahcRf+ZBsTc6D8izNrIVfSfbkBcq5Z0H1CV7HqYZRoQjxtn30C6iP7TrY2Iwkf/7dkjtzSnTpU0GvV+qCOstdHnn0tl/Hnn+UU4RHxrI6JERqP/1q6V9CD1ejjWRmoNJFRAtzYi4lsbqQYyrGgybgDj4hbUAJoo/dJLMX5clFC6rmJD+HGmig1B6d9+W1pBxYagdJMfh6D0Dz/08+OuuQZD6QMHemug/Lg77vCjdIQf9+c/+1H6/Pmpb7KlASf69df2KN2sn3/2W7yg0X8PP8yP/nvnHT8/bvp0zNpIbyCRyftvv/ktXoKi/4Kuh1mmAfGSJXbnIURFayOUH6eLx7p3Dx/998Yb/mZNP+bPD7fGr79674N5dOiAWRvp1I1Bg0ohfpy+hY2GCixezA8VWLuWHyrw3//6ub9oqIBuvG0b/Rc3gHFxy7oBLCz0bvi1aslmw7Y++0xOk9REB1WxnXuu94OMoHSlYuvTx0PpqIotJ0c2ohwVW9++Hlp3pWLjoPTsbL6KTeUCI/w4Ff135JFyItq3rz0/TqH0OnXkOi1aSGsS21LRfzk5/Og/JaQZPRrjx40YISkTBx0kLWNQflzNmrIB5Ub/5eby+HE9e8r3pXp1PPpvwgR5fbKycGsjFf3XrRs+ef/oI/n8io5iO3nfsMGbBunH0KF256GLVtRx8MH230FlbZSby+PHdeokd4mqVMH5caNGyXt006Y8a6MDDpCODgceiHljKmsjxVlHQwX69pXT6po1scl73ADGxa3QDaCpYjvnHIwfpxsQd+/OV7E1bowbEOsqtvPPD4/SVZkqtjPO4KvY2rWTtjFcftzQoZiKTY/+y852E/2H2H+YBsT5+RhK1w2Ihw3j8+OOOMJN9N9jj/ENiKdMwfhx+nSqXz/M2ujuu/2Td8SA+PXX/fy4++/nWxuNGYNZG11xhX9KhlgbLVnij/575hCq7p8AACAASURBVBn7NT74wHtP1FGtmp1/6aZNHqjVj4cfDr/Grl1SzKfubVlZGD/uhRf81kYuQgUmTcKsjfRQgZ49MWujefP81A0EOHnWRvK45x6MurF0adwARrVaEtFsIiohop+JaBMRvUdEk4moNnPtBkQ0kogWEdFHRLSZiH4joh+I6HUiuoaIDrRYq9IGMEjFhqB0fQsARek6P652bflDalsffug3IEb4caaKrWdPPj+uUaMiKMHC5MehBsQuVGyjRnlruDAg5qB0nR9ni9KLiorKo//UGmj0X5SsjVxF/6k1UH6caW1UWQNZFGCeqeerogbEprURyo9zbW2kPv9EsnEJWyr6z2z+DjssPEg2rY3M6L+ga2FWkLURyo/TrY2QUAHT2ggJFQiyNkJCBUxrI45osnr1uAGMYg0i2ZTtIaLdxrGHiL4koiPAtU8jol/2rhO0vnqODUTUJ8R6lTaAJkq3VbEJURGlDx6MoXSdH3fUUXyUjvLjPvjAvYqtVy8hFiyws5w3VWyoAbGuYqtefd+p2Mwyo/86dMCi/3SU3rChnELY1i23FJbz44gwayMz+u/00zF+nG5t1KZNRX5cmHriCTfWRjo/zoW1Ubdu4SbvhVocg25tRCTvT6+/bvliRMXoP2TybvLjXFkbffKJbEYPOyzcdyAo+u+ZZ+SWbb164e9zprXR1KkVJ++FlURjuLI20nmhrqyNkFCBKFkb6aLJRo3iBjBq1YmItpNsxLYQ0VQi6kqyGSsgr0krIaK6wPoXkGzwdhLRy0Q0kYh6E1FHIjqTiJ4grwncRkQdKlkvaQOIqtjMMlF6WBWbXuvXy+1ILkq/7DJvDZQft3BhdFRsusm0idLDVKZVbHq5iv47/3w+St9X0X+VVbqi/6JibRSl6D+utRE6eXdhbbR9uz/677jjMGujBQu8BjLT0X9mqABC3YhS9J8L0aQZKvDpp3EDGLV6i2Tz9SsRnRTw368lb3J3M7D+MCJ6kIgOS/GY8dpzvFbJeoEN4P/9n5zS2aJ0vXbvljYEXJReVOQGpXfp4r0elB+nqzcRA+IgfhzCE1L+cR07yvckCKVXVj/84OfHoSjdjP5zwY9Do/90ftwll2DRf7q1Ubqj/1KVbm1Utar8LnGtjVxE/6GT9yhF/51+un/yvmGD3Rq7d+/f0X8dOkQh+k8eaPSfi1ABF9F/Tz7pn7yjosmg6L9YBBKtyiav8XogyWOqENHnex+3iYiqpelc3iNvUnhQisdVaAA//tjPj8skSr/lFr/LO8KPUyo2DkpXKjb1ekaMSA8/rqwSWGj6xzVogNl/pAulI/w4Fyg9HdF/l1xSlrHoP93aKAw/Lqhee829tRES/WdSN44+GuPHPfRQmY+6UckuZGC5iP4zqRuotZFpQOwi+q8ya6Og+utf/dv6YaL/zPvUzz8LccEF3hqotZHOj0OtjYKi/2w/9xs2eO4FRNGN/osbwGjV7eQ1gNkpHjdVe9wpaTqXu7Tn6JLicb4GcH9C6bt2RQel/+MffpR+wQXBKD0vLy/pGkH8OBcqNgSl/y9E/6W6FkEVxeg/ItzaKF3Rfwh1Q/Lj8gSRbNKRyXtUov+UtZFaA7E2Cor+C2NttGePbDTvu0/eSxQ1RzWQYaP/9O+GyY9DrY10fhzH2iiq0X9c0WRQqEDcAEar3iTZdG0loqopHteNvOZseprOZa72HCekeFwDIhI//LDFuYqtbl05/rYtU8WG8ON+/DG1ii1MuVKxmSj9gQeS32STTQBNflwYlG6WyY9DUfq8eXx+3F//6ib6T/c6c43SK5vG6rVsGZ8f98kn6Yn+Qybvt9/O58fp1kbVqknyOo8fVyaGDbOnbpj8ODT6zxRYINF/prURakCMRv/dc4/3d+ZhY1+lvhvLl/upGw8/bH+NTX7cmDGZCxXQBRaNG0uRkG25oG6Yk/dkosm4AYxW/UCy4fqgksc1JK85K0zTuXy09zl+IaJ6KR7XgIjEq69uKZ8YoCq2K6/0pkIoP+6RR7wfdZQf9957fn8/hB+3caNsltQ0FOXHTZvmTYVcqdjConS9vvxS/vApQQEHpSs1N6piu/deOak78EAeSj/sMNkUc1G6MjVHo/+uukpOY6tWtY/+U/WnP8kJdfPm/Og/ZWnCsTZS21+c6L+jjpKvpVkzPPqvWTO5DmpA/PXXUgikXg9qbXTxxZ4IjRP9l5UlGwvU2mjNGrmGsmuytTZasiS4+Zsxw+48VPRfu3YS1KLUjSeflJ/7li1x6sZnn8l7rOK6otF/557rTe040X+HHy5/u1DqxquvyvtAu3aViybjBjA6dQB5Td3KEI/ftvexa9JwLmdq57KikseWbwHfc4/8ceag9GOPldubtjfZHTuktJ5Icrn69cNQekGBh9L79cNUbEpgQSRvCNdfb7+9qaP0rCzZkHJVbC1byubWtnQVW4MGcnuTi9KnTeOj9GHDMIGFzo9r2xYTWOjRf9WqyeaCi9InTODz4wYMwKL/Fi/2Ju+HHILx49at8/Pjbr2Vz48bNYrPjzvxRMyAeOVKb/Jepw4mLPrqK7+10XXXYdZGOj/u7LMxayOdH9emDUbdeOst73OijkMPtfsum/y4yy/nT95798atjdTk/aCDME/YTz7xcyBvvhkLFdBFky5CBdq3r5y6ETeA0akm5DVdT4R4/Pd7H/ux4/NoRET/2nsuvxHDBiZMmQbEc+dmTsV28cXeGu3bY/w4XWBx4IFy+9a2TBXbjTeGbyCVv1ZpqT9f9dRT3ajY3n/fbg15Tu5VbOPG8flxnOi/MNZGqbzOXn2Vb2307bdurI1cRv8pAIZYG5n8uMmT+fw4nbpRmfecKpQfZ5aK/iPiWRvp/LhRozDqhs6PQ62NdH6c+vwTyW3PsKWi/4gKRZUqEiRw+XGotZGLUAEV/UeEhwqo6D8dCHJDBcKKJuMGMDrVgrwGcEmIx6/f+/ivHJ5DVSL6s3YeN4X4G6gBdKVi01F6Zfy4ZGW6vCP8uKio2IqKiiqo2KZPxwyIdX4cYkAcxI/jovRateQ2lG2Z/nFXXsmP/uvePTVKD0o7MFH6wQfzo/9Qa6N0RP+1a+cm+u/ZZ+3WEMI/eSeqSN0Ikz5h8uP69eNH/6HWRs8848baSJ+8o9ZGevRfly6S29aokZwkhgHbZvRfvXpF0OTdDBVArY30UAHU2kiP/nMRKoCKJs1QARvRZNwARqeiMAF8iPxbv1VC/I11A5hJFZtZOkqvWVMamXJReiZVbPPm+VVsSM6kqWJzgdLj6D930X8urI32t+g/09oIoW688w4v+k8I4ST6T/Hj1Bocflw6o/+2bAkHlM3oP9TaSA8V4FgbuY7+Q6yNzFABVDSphwogosm4AYxOZZoDOEt7/tV7zydMWTWAJkrf1yo2VSZKb9nSDUp3pWJDUPqQIfJGcsABuAGxzo9DVWyrVrlRsUUl+k/nx6HRf+vW4Shd1Y8/urE2imr0XzJro1RlTt7R6L/77/dP3pHov7ffFk6i/3R+HGptdPXV3hpt2mDWRlGJ/jP5cai1kYtQATP6D7E2MkMFEGsjV6EC334bN4BRqo2UGRWw7iv4HqVW/ZrVgIjEgAEDRF5ensjLyxMrV64UeXl5PhuMZcsKxfjxReUovX79UnHeeQnfB7KgoEAUa2O8kpISkZ+f73vMFVfki4MPLtGmbcXiwQcLfI9JJBKiVGOOFxUV+fg/335bJlq0yBNEZeUo/eGHC31bRKWlpSKRSH5+O3cKMXp0iSDK96H0/Px8UaLtgRUXF4uCguTn9+STQtSqVSSICstRellZWYX3r7Aw+fl5/LgCQfSiuOEGiTCD3r9k57d5s0Sy8n1NiBNOKC1H6eb7l+z8Xn65SOPHlYratRM+lB7m+ubn54uFC0vKUXqVKsXinHMKfA1kZde3rKxMjBmTJ7p0KdOmDoXi2WfDX18hhPjooxKRnZ3vQ+l5eeGvrzrHq68uEtWrF+7d+hLiscfsrq8Q8rN10EEFgv5/e18eJlVxtX8GGHaGKKDIYhAUERFkGZA4zqAgBFwQxd2gKBpZREZAxrgv4CigoEbGJOCCIi5R3McFjcZ8EKNGRR0V81MxcVRAbZRNmanfHzVFnVtzu/vWqeplZs77PPf58jnddbup7tvnPfc97wtrBIDUx733XvT9FQJ33ksEQOVufVzU/S0vL0fRf5UCoCRgbRR1fysqKlD03xrRqFFZQB8XZX+Li4vFe+9tR533lWL48PLdHamw/b3ppptqvb5rry0Vp52GC+JS8cIL0b+/Qgjx3HPlYsKElaiA3C5OOMFuf4UQYubMMrHnnmt2d96nTasQN94YfX+FkJ33zp1LavZHdpwfeST6/gohO9vnnltZ8znR0X82+yuEvGXdrNkaAVAWsDYqKSkR76JR90SfP62PWykAysW0afL1Rfn+qtf33XdCHHus2uNSceihFbv1cVH2t7y8XKxYsRJF/20XLVsWi+eft9vfsrIyccsta3ZLNxo1qhDHHFMaKCCj/H5ceGGJ6NOncvdntrCwXNxzT/T9LS8vF+eee4Fo1y5ftG07lQvALEImfACnoLXWQeLUjzAk7QCmiqVTXN59sXRsQEzRx4WxdB/6uDFjSpI/yYA5xUZl6VgfR43+M/Vx1Og/rI/zwdIp+rhZs0oC+rhMRv+Z/nHZFP1HsTaiRP+ZP8j1LfrPlz6OEv23c6ckKXfdFexMAUjtrdl5N/ciDKY+7oEH7N6LEG76OAUzVKCgwE+oAMXa6KmnfEf/cQcwm5DuJJDf1axRBXKYpCNhjYQFoKmPmzCBNsWGWXr//rQptltvdTcgfvXVoAHxtdfS9HHKT0+xdIo+7qKL9Bq+9HEUA2JTH0eZYtu8GbN0WvTfrl1BfRzVgNiHPu7TT/1E/2ED4kzr41yj/yor3aP/fv5Zdj/VGpnUx73/fjD6D+vjokL5x+lOtb0+rqpKTpH70Mfh6L+o+rjt24Pff3x06EDTx+FQAWr039KlfkIFXKP/Nm4MhgpQov9++SUYKuAr+m/+fC4Aswk4C/jOOI/xlQV8Isic3yoA+BwAuhLXiVsAVldrnzOXKTbs/UZl6XgalcrSFy3SF0gqS3/lFW3PkpMjO16ZnGJTncwwlh4F99wjX0tOjtsU24ABevDERR+nbFGoLP2qq/T+UPVxTz0lP2PNm7tF/w0Zon9YKdZGKvpPTXO7RP8pwuIS/de/vy6sr7yS1nkfNkzrBqnWRsXFeo9dov8GD5ZdOxd93MCBevDkwgtp1kZjx+rrrEv0n7oW2Eb/bd2qiwp85Obak57PPpMdSDV4ctJJ9Og/9X5cov9UN7R1a3r034ABevBk9mxa533kSD2x7zI0qT73amiSh0CyD+o28E4AGBLy99mQ2Kbl7Jq/VwPAVXHOMRJkwkcVAHwFAPs7vN6EHcAPP5SdCwpLf/hh+cXLzZUXfeoUm2LphYU0lh6LyQsRgPwSDh5Mm2JTLL1DB/maXnjBbg0h/E+x5eTIHx7XKbbx492n2PLzaQbEOPovL09e6CgsfeRI/X7OOYdmQHz55XqNMWPcWfoBBwhxxx20yXQV/ZebK6eWKdZGOPrv9NNp1kaLFunOe2EhTbrx2mu6877XXjK5xbaA/N//gp3388+nWRtNn67XOOEEHf1ng/vv19KNfv3crY1atZJDbbad9++/D0b/TZhAi/7DnxN1GPLApHjuOS3d+PWv3aP/GjeWcYgUayMVKgAg5R+UUIElS7R0Y+hQurWR6rzvuackqK5Dk+eeq4cmuQDMPhwKAFtBawFLQBaCw0DbtFQDwIcA0Crk+aoArILwAnAIAPxU8/cdAHAaAByc5Gib4PUm1QDaFiiKpasPLNWA+MEH3Q2I163TUWyKpVNu82AD4iFDaAbEUabYTMGwCV9TbIMGBYs/SvTfpEl6Dao+zsxXpbJ0bEBM1ceNGKHXOOooIebPT7wXJsKsjXxE/1E67x99FJRuTJzobm1Ejf7D+aou0X9t2pQ5dd7DrI0onfepU/UaLtF/SrpB1cep6D/1Wi6+2N3aSB2/+lXizh2+TqnoP2xtRI3+8xEq4MPaCIcK+JBuuIQKYGsjM1SAC8DsxDEA8D3IIq3aOKpAFn/7xXlusgLw6pA1kx0TErxWpyQQEyZLp+rjMEvv3t2dpVP1caYBsZpis8F33wVZeiJ93Jo4ZohVVQJNsdH1cZilN27sHv0HIIsESvQf1sf17u3O0qn6OMzSAXT0X7y9CIMvayPf0X/NmslbYbYwrY0mTXLrvANI0kHpvGtrozWiXTta5x1H/zVqJG+Zukb/nXCCe/Rfz57u0X8u1kZYH3fxxdoDce7cxM9V3w0z+q+w0D36r1Mn9+i/3FyatZEZKnDWWe7WRtRQgShDk1wAZi+6AsACAKgA6fm3GQD+CQAzAaB5guedDXqwI14BWGVx7II0FYCmAXGmWPrOnalh6fffb7/G22/XZumUKbYxY/QaBQU0A2LM0qlTbKmI/vPB0utq9J+Cr+g/bEBM7bw/9FCw8750qf0aYdF/lM67tjZKffRfIqQi+o+qj0tl9N+OHbL4inLdDov+o0g3zFABFf0XFdraSB7Y2sgG2RT9F3VokgtAhiucC0DTgLh9ez8s/cYb6zZLX7ZMasDatJE/qBR9nMnSL7mENmCBWTplii2bWXpdjv4TQniL/sMGxGPG0KyN8LCVL2sjij7OtDbyEf3ny9ooU9F/PqyNzOi/gw7KXPRfKqyNMhn9Z1obUUIFbK2NuABkuMKpADRZOnWKzWTpNlNsCiZLv/nm7GDpY8dG18dhE9F4LN0GJkunTLH5YOmmPs4HS/cV/RePpVck+GUMi/6jWBvdcot79N+rr/qJ/sPSjWOPzVz03/Ll4dF/ifbDhDYglgfF2sjUx1GsjXxF/z37rJ/oPx/WRrLzLs38M2lttGaNu7WRGf1HsTb65Rc/1kZqaBIgurURF4AMV5ALQFMfN3UqbYoNs/ShQ2kX2VSwdNcpNgBpMmvD0ktLS2tNsfXuTWPpZWXuLN2M/qOwdFMfl0mWbhP9Z6YkKFRUBPVxVGsjbI9EtTaaP989+s+HAbEZ/edibaTWMKP/4u2HCdOAmGJtlE3Rf1ddFZRuUK2NKAbEu3bJ2/n33Rck+gClkaP/qqvl52PVqmChBEAPFbj99qB0g2pthEMFqNZGOFSAGv1nDk1GtTbiApDhClIBiFk6VR9nsvTp091Z+uGH0/RxJkv3oY9btIjG0rNxis3FgBhPsflg6SNH0lg61sdl0oD4gw+C+jiqtZGrAXF1tbT68GFA7NPaCEAWG67WRgceSLM2wp13FwNiZW0EQNfHYWujYcPcrY06d45ubYQ7UuYR9e7K+vXBQhofQ4e6WxsdeihNumGGCrhaG1FDBcKGJm2kG1wAMlxhVQDu2CE1SuoDS9XH4aBylyk2/KNRXExj6fh2baan2JTjPFUft369vIiozh91im3iRK09dIn+U+zYhaXjARhq9N8JJ+hbxy4sXXnz7bcfzYB4xQptN+NiQDxmjC7cKNF/P/wgf0hVB+Sww2jSjblzdeePGv33/PNao+pibXTccZqUUqyNtm2TBaS6q+FibaQSU6jRf2+8EfzcU/VxJ52k72rYRv/hrhQ+jjwy+hrl5eFrtGljXyx99JG8tqnCjWJttGWL1Ayruxou1kbKoJ0aKvC3v+kOMXVokgtAhisiF4BffCE7DTk5knmdeCJNH6dYemGh+xRb797yC0jRx/3rX5Klt2kjdXKzZtH0cSZLd51iGz2apo9btUoXOUVFsoPnYkDcvbvMBXWZYmvWTOrJXKP/Ro1yj/4bPFhOQrvo4/beW97Wd43+GzOGpo/D1kbDh7tbG/XuTdfHqei/Nm2kzpUi3cDWRqNHu1sbFRTQrI2wPm7ffWWR4BL916SJLFZcrY1GjnTXx/XvL0RJiT1x+uAD3QlVR16eXWf255+DwzzqsJUqYGujI4+kWRvhUIEDDnAPFWjRQpION2sjSX6oQ5PTp3MByHBDpALQNCCmiJDDpthsC8hUTbFRLrKpmGLr0aOUFBM0Z45eo2tXmgGxOcVGjf7DU2xUln7KKXoNqj5uwYLggIUtSy8tLQ3o41yi/1QkFQBdHzdlil6DGv13773uBsRvvx28rUcxIN68OaiPixL9Z2oAq6rk3QhXayNTH+fD2ogS/bd1qyw81RpUa6M77vBvbaSOyy+Xf4+ix6ysDOrj1DFoUPR/359/ls4H6rlUa6OVK/1YG5mhApTOOw4VcLc24gKQ4YaEBaDJ0qlTbJilZ3qKDRsQU/Vxd96Zmim299+3q2a//lrfbgKgT7FhA+J0TrGZwCwdwJ2lA9D1cTNnVgT0cdToP2xtRNHHmdZGFH3cjh3Si0+t0bMnTR+3bFnQgJga/YetjWbOjCbdwFPAvqyNrrhCr9Gpk3v0X24urfPuy9rojDP0Gj6sjfbYQxOP1q31tSXZRLZpbTR5su5cRy1IfVgb7dwZtDbq3p1mbfTAA8FQgXvvtV8jbGjS1dpo0CAuABluiFsAmiydOsVmsvR0TrFhrF8fZOlRp9gwTJbety+NpfuaYsMsnTLFZrJ0qgExdYoNw4z+o+rjUsHSKfq4efPcrY1eeEF33l2sjXD0H9XaCEf/9epF08f9+c9BayMf0X8UayMz+u/II+30cUKER/9ZhMfshg9rIzP675xz3KP/+veX+rjqajkkEaVwCrM2UtF/77wT/TpnhgpQrY1wqIAPayMfoQItWtCGJs3ov4suEmLjRi4AGW4ILQB9TLFt2qSHGgDSP8WGYbJ0isv7J5/IYkl1dKgs3ccU26JF/qfYrrnGvoB0nWITwl/0XzaxdBz9R7U2uv76YPQfxdrIjP7zYW106qm0AQvT2oiij/NlbYQ77yUl7tZG1Og/bG20776ptzaKBx/Rf9lkbWSGClCtjXDnfexYmnQDhwqY1kZRgaP/sLURD4EwXBEoAE2W7jLFhln6pZdmD0un6OMee0yz9IED/bD0MH1csvxZk6VTp9jisXQbmCz9+uszF/3nm6W3bCnENdfYt3NMlk7Rx5nWRj6i/zJpbfTpp36sjUaPXrN7DR/WRm3bysEpW/zjH0FrI2r0n6u1kRn952JtZKuPM69TvqL/sLWRj+g/qrWRj+g/NTSp3g91aBK7VJjWRlwAMlyxuwA0WfrBB7uz9Lw8WTzZwtTHXXaZO0s/+mg/LP2NN+zWECI4xZZIH1dWVhZ3DZOln38+TR+HWfqgQe5TbO3a1c/ov0R7EQbM0rMp+i/T1ka4837HHbTOe9++QgCUCQC6tRGO/qNaG2Vr9N/o0enVx+Hvhkv038aNssM3dqx+HQD1I/oPD01Sov/MzntY9B8XgAxX5AGA+Pe/Y16m2LABcTZNsVH1cUVFeg2qPi4VU2zLltmvEcbSMz/FJovAl16yW0MIPyzd1Mf5YOmu1kYA/qL/qNZGvqP/fOjjqNINs/MeL/ovEeLp42xgdt732IMW/Zet+jib6L/Fi4OfU3yo6D8b/Pvf/qP/fIUKUIYmzc57vKFJLgAZrsgDAJGXF3Ni6evXBy1eqPo4bHVBnWL7y1+yh6Xjgpg6xVZSojU+1Cm2FSs0m7Rl6Qrvvhu8RUPVx11wgb5ADh1KY+nz5un9cWHp6jacC0vHk5e20X9CSBnAjBm6+KNG/y1Zogt8F32c8vcDoOvjsFUTNfrvyiv1j6BL9J/qELtYG518sn4/551HszaaPFkXf1R93MKFunCiGhC//LIu8Kn6uC+/DA7D2VobYSKKj0mT7F6HELLzriaoqdF/b78d7EJSov82bw4SQerQ5HXX6TsjyYYmuQBkuCIPAMTxx8ecWXpBgfsU2377yU6XC0tv2lTexvPB0vfc052lFxa66+MGD5b6OBeWvs8+8oeHYkCs9HE5OfIHlTrFplh6UZF79F+fPnIdF31cXp78nLiy9IIC9+i/ggL36L/99pOfFRd9XNOmsitK0cfh6L+iIjnA5RL9N3Cg7Ly76OM6dJDkxzX6b+hQ9+i/wkKatRHWx/XqJa8LLtF/rVrJfxPX6L+CApq10ZIltYu/Qw6x+/7gUIEuXeRnlmJttHSpJF+NG0vNnmv0X1GRe/Rfv35SvpRMusEFIMMVeQAgvvwy5qyP69KFpo8zp9juvdd9iu3ii7Nnis2GpZeUlAghRMCAWLF02x/SDRt0TBeAZLi2BaSvKbZ77glOsfkwIJ4xw76ANPVxRxwRv4BUe2HC1Mf5tDay/SFdv17p4+Rx5pn2BeRPP0ldnVqDam10223BzjvV2kh1dgFk9J/qQMbbDxOmPu63v6UVkDNm6DWo0X+mtRFFurFuXTBNY/JkWgGJO1wu0X9SulEi9tqLZm2EQwXwYSN5MEMFxo+nZUefd55e46CD7KUbKvoPT6ZTrI3MUIFLL41WQHIByHCFVRawAmbpAJmfYnM1IDb1ca4sXXXtbPVxX31VuZulA9Cn2DBLpxoQ+5piUywdoPYUW1Qolg4g95rC0lX0n3otyVh6ZQj99hX9Z1obuUb/UfVxOPoPQHYSKZ1309qIEv1nWhuZ0X9h+2ECR//l5Eg9lu3nPszaiNJ5x9ZGPXrQrI1w9F+LFu7RfwB0fRy2Nho0qNI5+m+vvbQv64EHRie4prURJfovzNrIljj5GprE0X+2Q5NcADJcYV0AhrF01ym23/6WNmBhsnSqPg5PsVEMiN97rzZLp+jjTJZO0cdpli4vsi+/bLeGEH6m2MJYOkUfZ7J0igGxGf1HsTZKRfTfUUfRrI1w9B/V2ihbo/+o1kau0X9CSC2p7+g/irVRWPQfxdrIR/RfmLURRR83ZoxeQ1kbbdokfz/WrUu+RlioAMXa6OmnszP6r08f+847F4AMV0QuAKur5TRSIpYeBa++Gpxio7D0//43yNKpU2wzZmhRtc0UHFXX5QAAIABJREFUG8by5UGXdypL9zHFhgX8v/kNzYAYT7HtvbfUM9ri2WejTbElghn9R2HpW7dKPakrS09V9B9FH2dG/1GkG7NmuXfeo1obJcKHHwaj/6jWRj6i/266SThH//mwNvriC3n3QL0fqrVRtkb/Ua2NcKhAJqP/fFkb4eg/qrXRSy9xAchwQ6QCcMuW4CScD32cyxSbqY+jsHSlj9t/f9mdcmXpVH0cZunNmpWTp9hMfRyFpWdL9J/J0n1E/9my9PLycm/Rf6a1UbZE/1E776a1EUUfZ2ttVB5ysUhF9N+QITR9nGltlC3Rf+PH+7E2wp33sL0IQ7ZE/4VZG9WH6L/WrbkAZLghaQH4wQdBlk7Rx8ViQX0claVnkz4Os/Rx4/yw9Pnz7Sm2L5aO9XEzZ9Ztlm5G/1FY+q23rgywdKq1EbaJoVobYX0c1dooLPrP9nP/1Vfy9p16P1RrI9OAOIo+bqXxwU5V9J9t5900IPYR/edibeQ7+i/M2sjcCxOu0X8//ijvFHXvrv9NXKyNsHQjW6L/XKyNlHQjN5cLQIYbEhaA5hQbRR8XNsXmytKpU2zz5rnr4zBLb9xYdjUzxdInTYrP0qMgLPrPB0unRP9lM0svK3M3ID7nHHt9XCoMiLMt+s/VgNhX9J+rtRGAu7URAN2AuK5H/23cKK9nvXrp94G/x5mK/sPWRgA0a6NURf+98goXgAw3xC0A//AHe5Zu4qGH3KfY3nsvyNKnTaOxdDzFRmXp+IeUqo977jldELuwdGxZQzUgLimhs3Qh5OteulQz0jZtaNF/a9cGLWuoLB0PjFBZ+rx5eg1q9N9f/6pv1zZtKq0iKNZGWDh/3nm0zjvutlGj/26/XQ/RtGsnrTxs8fLLeuKYKt3YsCE4cUzVx2EbHxX9Z4vly3W3rVUrSZZt8dZbwbQhinRj06bgnQRq9N/8+brwokb/PfWU1vs1aSI/N1E/90uXBos+fNjKc376Sd4qVs+nRv/ddZf+/frVr+T7s8Xf/x4chqMOTeJQASXd4CEQhiviFoCPP65ZOlUf17GjvEi6TLG1aiVvnfmcYrMtIPEUW1GRnmKzAWbp/fpJVmuy9O0RfuGVPm6PPeRtBCpLV/q4wYPdDYiPOEL+uLuw9P33l58XCktX0X/NmskfdCpLVz/GRxwhxPDh251Yen6+/DGkWhu1aiVJRqdObtZG6vP2+9/TrI3GjdOfe4q1EZZuHHywfD8U6cYzz2wX7dvLzmy3brToP2xtNHSoe/Tfb35DtzZS0X+//rX83LtYG+Xmygl5VwPiwsJo1kbmdWrXLt0wGDBAXpdsrY02bgz3B7S95mNro4ED3a2NCgvp1kaqYXDggXKPqUOTHTvK378ePYJDk1wAMlyR8Bbwyy/TWLqKXwKQwmwKS8cGxEOG0AYs7r47qI+jsnQfU2zYgLiwMHzAori4OO4apgExlaWbU2x//CNtis00IKZMsZ15pjtLX7w4NdF/F18cfy/CYFobjR5tP2Bh6uN8WRtR9HGmtdGUKfYFZJi1EUW6ccMNQgAUCwA3fRyWblA676a10ckn2xeQ27YFo/IOOogW/WdaG1E676a1UdTOO75OffNNbWsjSnY0tjZSxwEH2BE509qI0nn3ZW2EhyZ9WRuZnXcuABmuIBlBx0MqpthOOsnPFJuty7sQmqUDyCk2G7d6BVMfN2tW/ItsvA6gqY+jGBCnQh/nYkCM9XEu0X9qjf793Vg6gOyqqui/KN1YBdPa6Lrr3PVxVANirI/zZW20fLn9Gu+848faSOvjtpP1cdjaqGNHWvSfL2sjrI/zYW1E7by7WBup74apj6NaG2F9HB44XLo02hq+rI0eftjd2ghH/wHQrY2iDE1yAchwhZcCULH0ujLFlgwmS+/d2w9L9zHFRjEgNqfYhg/Pjik2FwNiHP137rnuLL0+WRsByMlUinRj8uRgB8ZH9F9dtza66ip3a6Ow6D+KtZFr533rVv/Rfy7WRmHRf/PmCVFcHG2/fVkbFRfrNajWRqmK/os3NMkFIMMVzgVgNk2xPfustmfxxdKp+jgfLB1PsVENiH1MsdW36D+TpbO1kR9ro2yK/jOtjaj6OGxtNGwYbcDCjP6jWButWhWUblA676YBsa/oP1drI2qogGltRI3+w9ZGxxxDszbC0X/UoUnb6D8uABmucCoATX1cVNaGEaaPo1xkFUvv3Fn+8FBY+pNPapaem2s3xaZgsnQbl3flr+VLH4dZOnWKLZuj/ygsfcWKaNZGibzOfFgb+dLH+Yj+e/55d2ujVEf/JfOeU6iultov1+g/U7qRyeg/PK3ftSst+u+xx4LWRm7RfysFgJ/oP2rnfeFC9867aW2Uyei/qVP1GvvvH63zzgUgwxXkAtCHPk5NsbmydDXF5sLSse1N5872U2xCSJbuoo8rLy+vpY+jsvTTTguydIo+zlf0nytLN6P/qPq4iy7SayTTx8VLO7Bl6WEw9XEUayNf0X/XXec3+q9xY6mr9B39FyV9YutW6beo1qBG/y1ZogtIX9F/l13mJ/rPtvP+yy9BSxSqtRHWx+Xmlos//9l+DTNUwFYft2NH0GIJwN7aqKpKfiawTKhdO1r030svBaP/5s1zH5q0sTbiApDhCusCMGyKjWJA7EMfZ06xZZKl4yk2Kks3p9jcWLo8qPo4HyzdnGLLpD4Os3SqPg5H/0Vl6SZMfRzF2igV+riCAj/RfxTphg99HLY2ArCP/hNC1Ir+O+QQmj7u9tuDBsRPPGG3hhDa2ki9Fh/Rf6NG+dHHvfmm3RpC2Ef/Kfztb7Ir3L+/JqPqiBr998UXUn5SVKQJujoGDLC3NjJDBTp0kMWgLVyHJrkAZLjCqgA0Wfppp9H0cZilU/Vxvlg6voVNnWLDpsxUlj53rl6Dqo9btcpdH/f++0F2TNXHYXNaqj7uj39018e98oq+zUPVx23YENSCUfVxeAq7Z0+aPm7FiqC1EVUfhzWQlOi/jRuDMgVq9N+CBcHOO0Uf98wz7tZGH38c7DJTo/+wFowa/feXvwQ77xRro9df1+RYRf/ZXtv+97+gTIEa/XfNNXoNG31cdbXusJnHwIHRXwMeesFHo0Y06QZugAwdKgmmDaqqpH0V7rxThiY3beICkOGGyAWgcnnv1Ml9ik21vH2wdOoUm2LphYVuU2ydOskf8xYtaCz9q6/ka2jRQoh99610ZukFBe5TbEOGuEf/deokuzpRWTqGiv5r1Eh2YYYMcYv+KyqSPySrV0d/fmVNNaNY+iGHyKKaYm302WfyVlXbtvLfhWptpKL/hgxxj/4rKJBkwSX6r3t3+XmZPZvWeR8xQpt3J4v+qwypLrG1UWGhu7XRoEHy9SxZQo/+22sv+Xlxjf7r3989+q+oyD3676CD5LUAWxuF7UUYlLVR69aS1FL0cdjOSx2dOtl93h57LLwAtCVgKlSga1d5p8bF2qhJE3mnxsXaKD+fC0CGG5IWgOYUW2EhjaU/8YRm6XvsQbvImlNsVJaOp9ioLN2cYqPc3jSn2IqKSkgsHXcuTjiBZkBsTrFR/ONMfRzFePvdd4PRf7NmuUf/HX64fQE5Z06JuP76IEun+Mc991zQ2uiOO9ytjX73O9qAxcSJeo2DDnLXx7VpQyNOa9cG9XHXXpv8B72kpCTw/5vWRqNGuVsbUfVxjzyiO+9Nm8rb/JToP2xtNHWqfed9y5bg3YiBA2kF5M03a+lGu3a1b2+aexGG1auD+rhbbqF13lVyCz7uuiv6GmaogDpOPNHuteBQgZYtacTJHJr8wx9oQ5NausEFIMMNCQtAxdLVB5aqjzMNiH1MsZWV0Vm6ei2UKTbTgJjq8m5OsbmwdFVAUqbYTANiX1NslOi/++7TBsSZjP4zrY1co/8A6NZGzzwTNCBevJimj/NhbYTzSH1YG7no47C10RVX0PRx2WRthPVxUQ2QMVT0n3otrtF/ALTov6oqIW680V0f9+KL2tooJ0cXX507R7+jgKP/VDGr/ndUHaMZKuAa/Qfgb2hy2jQuABluiFsAmlNsFH2cydKPPjo7WHqzZoI0xWay9EmTaPq4k07Sa9hOsQkRztIpU2wmS0/3FJuCydJ79pS3km2Riui/TFobpSL6j2JtZHbebayNFExrI2rn3bQ2co3+A/BjbTR6tL0+7uefUxP9d8899muY0X9Ua6Pjj9drHHYYTR8XFiqwerXsaEbVepvRfwsWSLI7fLgc2IuCsOg/11ABX9F/jz7KQyAMd9QqAKur5W0q31NsVJaOBbxUfRxm6dQpNmbptYFZeqNGQtx0Ey36D7P0hhT9Fw9m9N+RR9pH//myNsqm6D9sbeQr+o9qbeQj+g9LN449NvXWRvFgRv/5sDai6uN8WBvh6D8f1kYuoQK+hyaxtREXgAxXBApAXyx98WJ/LL1dO/l/r77anaVTptjSydLLysoSrmGy9ClTsoul28KM/luwwN2A2BdLv+aaxHthIputjTIZ/WdaG/3pTzRro332Kdv9Wjj6z5+1EY7+i2ptZF6nsjX6j2ptlC3Rf8msjbgAZLhidwFo6uNcp9gUS3eZYlMX2eeft1tDiOxi6dOmRWPpaxKMMJosfflyu9chhD+WjvVxPlh6x460AYtUsvREe2HCV/TfnXe6R//5kG6Y0X9Ua6NZs/QaVH2cNiBeUy+i/266yU/0H5ZupDv6T303tm8P2j1R9XHLlvmxNsL6OFtro+pq+TuDjaqpoQJXXBHsvLsOTcazNuICkOGKPAAQ990Xc2bppj7uvPNoU2y+WXq7drQC0gdL37BBdth8svQDDvBjQExh6W+95c7Sg1NsskNbl1m6Gf135pk0fRyWOlCj/0wDYqq1kQ99HDYgpkb/YQPiVEf/JYKP6D9lbYQ77y7WRqrznsnov0GD9PuhRP9hayPVeadYG5nRf1EndF97TTpcjB6tiaQ6Lr2Ubm2k1vA1NBmPi3IByHBFHgAIOU7uNsXmakDsi6Vji5f8fHt9nLqF7cOAGOvjqCwdD1iceCJNH4dvYVNZ+vLlWh9HZelvveUn+g93IIcNo+njbrghyNIp+jjTgJiij/vkE9kxVK+FEv33009Bixdq9N+SJe7Rf//4h3v03//+F5RuUKP/cDqPjQExxsMPu0f/rVsXtDaiRv/h4bGhQ2md95tvdtfHvfhiULpBif4zrY3M6L8o2LYtSI57945ubfTxx8GCDx/Tp9u9DiGk9tdH9B+ONR0xIrF0gwtAhit2F4DUKbYZM/TF2kUf54ulK12MC0tXRp9Ulj53riyWlDFsVJZegcbDFEsvKnJn6f36ySKUwtK3bZPd3D33lD/sLiy9WTNZlKspNluoAQv1eaPq40aMkD/IzZvHZ+kVCUb1fvlFiJISWRj06EGP/lPWRkccQY/+U9INdTuPYm2kov/22UcWfi7WRk2byg4mVR+nrI2KioLWRon2w4TSx/XpIwtaF2ujvDz5w06N/rvvPvk5O+wwd2sjJUehWBtt3iw10N26SbLuYm3UtGmF6NWLHv2nrI0KC92sjfr1k3eJcnLsrY1+/DE4pKiOggK716GsjZo2la/F1dpIdc6jDE1yAchwRR4AiCuvjDnp43Jz5Q9PpqbYTANiSnfKNCC+8kr3KbYxY+xYemlpqaiqknpF13xV04CYUlyY+rgpU9yn2IYModkgmAbETz1lt4YQtfVxpaXxC8jS0tLQ//7113IqV61x2mk0fdzs2cHPvQ9rI4ou9IMPgrqnOXPcrY2GD3e3NmrfPjiZHm8/TJj6uNtvd7c2mjTJ3dqoXz8/1kaUwaI33wxaG113nau1Uak44QR3a6OuXf3o45YupXXesV+oOmyInDk0WVBAS6XCQ5Nt20ptcxRwAchwhVUWsEI2TbFNmaLXoLL0e+91NyA2p9ioLN11iq2qSk5MuxaQpj7OhaWr9+Mj+u+QQ2gX2VRYG1Gi/yorg/o4qrXRJZfoNajWRitX+rE26tlTvxaX6D+1BtXaCOvjqNZGKvpPXdso0X+ffx7Ux2XS2khF/wH4szaiRP/5sDYy9XE+rI0U4VC3XKPCl7WROTRpI93gApDhCqsC0NcUm2lATNHHmSzdZopNwZxi69nTzxTbypX2a5gs3XaKTYjaBsRFRe5TbJ06pW6KLRl8Rf+dcUawE+NqbbTHHu4GxDk58nZaJqyNdu4M6kK7d6dJNx54INh5v/de+zXMzvvUqe7WRkOHulsb7b23H2ujhQvd9XGnnOIe/de7N63zXlbmbm20dm3Q2qikxL6ANEMFfFgb7buvfG2TJ8uiP6r+/dFH3a2NwoYmbaUbXAAyXBG5ADRZ+pAhNH3cbbe5T7Fhlk7Vx5ksffx4GkvHU2y9etH0cZil20yxYZgs3ccU25FHZi76D7N0X9F/PqyNqPo409rIR/Tf9df7if5ztTbyFf13//32a5jRf9On16/ov0WL6lf036pVdmsIUTv67/LL6370n+vQpBBcADLcEakANFk6ZYpNsfRWreQXh+ofd/317lNspj7OB0s/9VR3lr7XXqWRp9gUwlj6Y4/ZrSFEbX2cD5aebIotDL6i/1xZemlpqbfov/Hj9Rq+ov8o1kZm551qbZSJ6L8wDSBH/9WGr+g/bG1kRv9F0WOa+jiqtZEZKkDR/mZT9N+MGXoN6tCkAheADFckLQBTwdIvv5w+xZYNLP3pp/3r404/XYg337S7R+OLpZv6OCpL9xH9V1SUHSz9llsq6m30H1W64SP674svgtF/Ua2N8BSwqY+jWhv5iP7717/8WBth+w+qtZGP6L9Vq5JH/yWbyP74Y3drIzP6j2pt5CP6b/lyTZyo1kZmqADF2sgEF4AMV8QtACksPQwmS6fo40yWfskl9Yul33GHf5YeBali6T70cT6i/ygs3Zc+Lkr0XzLUx+g/LN2gRP+ZnXcf0X9UfVy2RP99842f6D/sm+gr+o/iPlBREey8pzP67+ef5ed07lxJThRBUAVkpqL/wsAFIMMVoQXg558HWXomp9iWLfPD0rE+btYsmj7OdYpt1y7Z/VRrJHJ5T4QnnkjO0pPB1MdRpti2bAmydGr03+LFQZYe1QYBw0f035dfBvVxlOi/HTv8WRtlQ/Tf5s1Ba6PDD6d13nEBSY3+e+459+i/Tz8Nj/6zgWltRO28l5X5if7D+jhK9F9lZdDaiBr9h62NqJ1309oo3aEC+I6KeVBSqW6+2b3zHg9cADJcEVoAXnedX5ZOnWI791y5Tk6O2xRb586SgblOsQ0cKN+Piz5OWYCEsfRk+bNKH9erl2TXVJb+6KPyR3i//dxYeq9e+rYGZYpNsXQVl+cS/detm+yqUg2IX35ZdnT79JEX7N//fg2pgDzsMH0b2yX6r29f+Tpcov/22Ue+J2r0n7I2UibTlOg/ZW2kOrPU6L+JE9eIAw6QxbBL9F/HjvLf1DX6T70fSvTf1q2yY69Idt++NGuj226T14B27dyi/7p00UMjUfRx5nVKWRupzz01+m/GDHmdz82V32dK9N+DD8o97tqVFiqA86vxYau5/eEHIcaO1YSSMjSZDFwAMlwRWgDu2iUvbBSW/uyz7lNs//lPcIpt5kz3KbbjjnOfYtt3X5o+7v/+L8jSb7op/CJbVlYWd42vvw5OsZ1/vrs+rqDAfYqtbVva7U2TpV9xBU0fd+KJQaJBGbAoLdUsvXdvydIT7UUYXnpJ6+OULpQS/aeKLQA50UqxNrrgAr3GqFE0fdzSpbrz3rEjrfP+5ptBfdwNN7jo48oEgOy8UaQbuPOen0/XxynpRsuWNPsP09ro0ktp+jgceTluHE0ft2iRlm507x5duoG/G6+9Foz+W7iQFv2H9XGTJ9OkG9OnB+/QUKL/li3TnWp1FBXZrWEOTV59tX3nPQq4AGS4gmQEHYZduyR7VF8eqj4OGxBTp9gUS1dfQKo+7qyz9BpUfdxtt7lPsb3+uv8pNheWrtagTrE9+KC/6D/8o0ExIB47Vq9B1cfNnetubaSi/1TnnRr9p7rUALTov+3bZTdXreES/Yf1cZToPx/6ONPaKF70XyKo6D+1hmv0H4Bb5713b/1aqPq4U07Ra1A77wsXBq2NKJ33V17R+jgc/WcDH6ECO3dKD0q1hvo+A9jdtvURKhAVXAAyXOGlAPQ1xYZZeiqn2JLBnGKjurxjlk6dYsMsnTrF9uqrQZZOmWIzWTplis1k6b6i/+67z34Nk6VT9HHffSc7y2oNqrURjv7zYW1E1ceFWRvZdt5Na6ODDxYkayMc/eeij8PWRhR9nGlt5EMfR7U28qGPM62Nzj8/e6yNXnjBbg0halsb3XijH2ujlSvl52/EiGjfI19DkzbgApDhCucC0BywoLJ0PMVGZenmFBuFpfuaYssWlr5ggV+WXh+j/yj6ONPayEUfp9agRP/t2lU7+o+ijzOtjSj6uGyO/qPo47I5+o+ijzOj/5Yts1/DtDbKZPQftjbq0EEWg7YwrY1w9N/mzdG+0z6i/yjgApDhCnIBqFh669aSUWaSpX/9tZ8pNiwAzsQUW0lJiRBCsvRevfRrsZliU4jF5IVIrZGfT2Pp2RL9Z+rjKNF/O3YEo/8S+cepvQiDGf330EN2r0MIf9F/o0bpNXxE/3XuTIv+M62NfEf/JdoPDDP679BD6370X0FBsPPuw9qIoo/T1kYlWRf9R+m8Z0v0HxVcAGYv9gWAhQBQAQA/AcBmAHgDAGYBQAuP5zkdAJ4HgEoA2A4AnwPAcgA4LOLzSQWgydKPOipzLP311/2zdKo+zpWlV1ZW1mLpVH1cz576tVD1cT6i/3ywdBz9Z7L0qLCN/qsMqaTCrI1co/9at85c9N/GjbWtjXxE/1GsjczovyVLgnscth8mTGujiRPdo/+o1kbZHP1H0cfh6L9u3Sqdo/9atKCHCmBrIx/Rf1Rrozlz3EMFXMAFYHbiOAD4AQCqAaDKOKoB4CMA6OF4juYA8EyCc+wCgKsirGNdACZi6VHhi6Wb+jgKSzen2Cj6uGxi6Q884F8f5xL958rSzeg/Hyz9lluyI/qvd2+aPg5H/+Xl0aL/lLWRei2XXZY90X9UayMl3WjWTBbZrgbElOi/LVuC+jgXayNXfZxpQDxvHk26oWyaAOTQFEW6gfVxLtZGrtF/ytpIvZao0X8//ii11LfeGryzAkCzNvIBLgCzD/0BYCvIQiwGAHMAYAgADAOAMtBFWgUAtHI4z4Ogi78XQRadAwHgHAD4BP1tUpJ1rApAc4qtrMzdgJjC0rdsCbL0AQPsWXpVVW2WTtHHmSydOsXmytJ37AiydKo+zoz+o0yxmSz94otpBsSYpVOi/3btCkb/7bMPPfoPWxtRo/+wtdHpp9sPWPz0U9DaiKKPq6qq3Xl/4gm7NYSQt4mxtRE1+g9bG/mI/uvWTd5etwW2Nsp09B+2NqLq47C1UYcO0qbIFj6i/8xQgajRfxjbtgWtjaihAtTov08/1fIG8xg2zF664QtcAGYfXgNZfO0EgMEhf58JujiL0qELw1FojccBIMf4ezuQt4KrQd56bptgrUgFYBhLp0yxPfqovBjk5rpNsQ0apG9/UafYTjpJDyVQ9XE336w7f+3b06fYBgyQ3YucnHLyFFtBgR48oerjLrxQ3wrv2ZPmH3f33fJ2cU6OW/TfgAG6sHaJ/lO3fW31ceXl5buj/9S/SadOdH3cwIHyM+8S/Td4sB48oXbezzxTf2b79aN13m+7TU+Eu0T/9e8vnx8l+q88hJ199ZXcV3VHYswY+867sjZSJsYu0X+DB0tC6RL9N2CALqxd9HFqqnXoULq1kbKNMqP/wvYiDOXl8v20bEkPFfjsM/keVGFNDRU47zz9fmxDBT78sLY3oLojkS69Xxi4AMwu5IMuzP4Y5zE5APAB6OKsMeE86tbvTgDoFOcxp6LXMjPBWkkLwMpKfXEEoE+xYZZ+/PF0lq70cQcf7M7SmzeXgx8Ufdy4ccHb4K76uOHDhbj8cvtqCbP0Ll1o/nFffKFZek6O1Ay6Rv+NH+/O0vPz6dF/yoA4L092p2xvb/7pTysD1kYTJ9Ksjf7wh6A0gKKPw9ZGBxzgbm2UmyuLHoo+DlsbnX66uz6usDBa9N9Kg0lga6O996bd3jStjS64gGZthDvv48bRrI2WL9ed90MPpUs3VOe9VSupUaPo43D034QJtTvv5l6YqKqSUhpVNI0a5R4q0K0bzdroP//R0X+NG8u9ooQK4O69OiiRlT7BBWB2YS7oois/wePmoMeNsDxHawDYUfPcZxI8LhekDrEKAF5P8LiEBaA5xZaMpYfBNCCmsPQwfRyVpWN9HGWK7b33ggbEvqbYKCzd1xQbNiCmTLGZBsQu0X9qDWr03113BQ2IKdF/pgExNfoPWxuFRf8lg2ltRNXHmdZGlAQL09rIJfpPreHD2qhdO/uYLiH8WRthfZwPayOqPs6HtZGpj/NhbUSN/ssWa6P164PWRuoYMCCz3T8huADMNrwKsrDbAgCNEjzuMNAF4NWW5zgSPffSJI8tB90pjNdpDC0Aw6bYKGzn1VdTM8XmytL331+QptgwS2/ZkjbF9s472TPFhlk6dYotFdF/FH3c1q3SsFut0acPLfrvzjuD+jgf0X+XX06zNnLVx/myNnr4YXcDYjP6j2pthPVx+fn2+jhf1kY4+s+XtRFFH7d9e3Rro0TA1katW9OtjXD036xZtOg/bG1EDRUwrY1co/9yc+XdFVUgUxwrfIMLwOzCtyALs7eTPO5XoIu4lZbnmIqee3ySxy5Cj+0V5zG1CsCtW/2wdHOKjcLSV692Z+kbNviZYps8Wa9BdXlPNsW2PcIv4ltv0abYMDZt8sPSfUT/PflkkKVnS/Rfnz7b63z0nw9ro+JivQY1+m/FCndrozff3O4l+g9bG9WH6D/T2ogS/Tdpkl4jSvSfeZ3yFf0sIcWeAAAOfElEQVRnWhtlS/Rfly46VGDzZtp3IBXgAjB70Ax0sfVkhMf/WPPYf1ie50Z0ngFJHosHTo6O85haBeCuXfrWlQ+WTpliq64OTrH5YumUKTZfLB1PscVj6cXFxQnXoU6xYfhi6T6i/7A+Lpui/yZMEGLatMR7YcJX9N+tt7pH//mwNvIV/XfRRXqNHj1o1kb33y9EkybFAoCj/xRw9J9Pa6MonXd8ndq2TYhzztFrZDL6b+3a1IQK2Eo30gUuALMH7UEXWysiPP7rmse+a3meO9B5eiZ57IXosePiPCb0FvC339LsP9atC+rjpkyh6ePGjs1Olk6dYsP6uJNPjs/Sn4xzX0FNsdmwdBPZxtJ9RP9hlk6N/jOtjVT0X7y9CEM2Rf8tXOjX2ijT0X9Tp6o1nvRmbZTJ6L8xY/QalOi/qip/1kZUfZz6bviK/nO1Nqqulskz2RD9l05wAZg96AK62LonwuO/qHn8J5bn+Qs6T7ckj52IHntGnMc4ZwEr3H9/cMBi+XL7NUx9HJWl4yk2Hyy9Y0f3KbYmTZJPsYV1APEUmw1Lx9i6NXtYejZF/82erdcw9XHJurEKvvRxOPrPxdpIrTFoEN3aSBWQLp13HP1HtTZSViaye1hMtjZSa1CtjczoP4q1kRn952JtpNbwEf1HsTYqLi4WTzwR1MdRrY18hAqceaZeg2pthKP/qNZG6QYXgNmDetUBtIGvKTasj6sPU2xYHxd1is0sOp56yn2KzRdLx9F/ffvSWPrtt2cHS48S/ZesADT1cZToPyFErei/Zcvs13j//WD034UXZi76b9681ET/zZhhd0veNvovDKY+jhL9J0Rqov9mz3bXx1Gj//Lzi3evkarovyj4+ONgqMA552Qm+i9T4AIwe1CnNYBffvmliMVipOPtt2OiZcuYAIiJY4+NiQ0b7NfYtCkm+vaVa/ToERNr19Jey7Rpco2WLWNi2TLaGo89JtcAkOtt2mS/xqefxkSHDnKNww+PiU8+ifa8kSNH7v7fP/wQEyNGyDU6doyJF16gvZ958+QaTZrExPz5cl3bNV57LSZyc+U6p54aE5WV9mtUVsZE9+5yjT59YuLf/6a9n7POkmu0bRsTDz9MW+Puu/Uel5TExPffJ96LsGPdupjIy5NrHH10THz2mf3r+O67mMjPl2t06xYTf/877f1ceqlco1mzmCgro63x7LMxkZMj1zn//JjYuNF+jc8/j4lOneQa+fkxUVFBey3HHivXaN8+Jp5+Otp+mMett8o1GjWKiblzaZ/7tWtjonlzuc64cTHx3//ar/HttzFx0EFyjQMPjIk336T9m1xwgVyjdeuYWL6ctsbKlfpzX1wcE5s326/x0Ucx0aTJSAEQE8OGxcR//mO/xg8/xMQRR8jX0blzTKxeTXs/V18t18jNjYnFi2l7vHp1TDRuLNf53e9i4ptvaK8lE8eXX37JBWAWYSPUvSngziA/QHzwwQcffPDBR907OgMj46iLPoA5ID88eXzwwQcffPDBR506OkPtOFhGBlAXk0AYDAaDwWAwGA7AWcB3xnlMurKAT0Ov5RLCORgMBoPBYDAYEaFuA+8EgCEhf58NujC7MuTvZ9f8vRoAropzDnwb+HGofbu5PQB8DrrIbGvzBhgMBoPBYDAYdjgUALaC1gKWgCwEhwHAXaCLuw8BoFXI81UBWAXxC0AAaTWj1nodZCH4Gejbw6Lmbxc6vh+M0wHgeQCoBIDtIIvM5SA1jQyJfQFgIQBUAMBPIAvwNwBgFgC0cFw7D6Sf4zIAeAfkLf6fQUYQvgyy08vFvkYq9yIeOgLA96C/my+n6Dx1DencixMB4GEA+H8AsK3mXB+CvFadA6yXAkjPfhwMALcDwHsAEAPZFPkWAF4BgGKQcqaGig4AcAwAXAsAz4IcIFXXjGUpOif/fqcJx4D8EagCvanqqAJ5MdovznOjFoDNAeAp0MVe2FENAB8BQA+ndyPPpW47VxlHNQDsSvJaGwqOA1mUxft3ctmL34Is7vHnKOwcX4EkGw0dqdyLRHjUOCcXgOnbi64A8Pc456lC/z3Pw7nqMtKxH3MA4JcE56gGGYbQz/E8dRVhdYE6fBeA/PudAXQFgAUgGdaPIBnWP0F68zVP8LyzQW9Osk3pD7IoUMXeLyALgOcB4DG0TgWEdxuj4kHQH54XQV5ABoJk05+gv01yOEddR3+Qnd8qkGx3DujObxm478WZoPf4WQCYDgBFIC+gx4DsCKsv9I8A0Jf8Tuo+Ur0X8XAcyH//StDfiYZeAKZrL7qA7PhVg+yKLwVpfj8AAAYBwMkg78B8Aw27AEzHfpwO+vO/HQDmgySwgwDgVJAyKUxYG+J+4GLsMwB4Dv033wUg/37XU7wGWm84OOTv2AiaWuEfhdZ4HGrfPmkHrDcESP1enAJysCiR3xP2iHyJcI76gnR8L0y0AoANNWuqYp0LwPTthdJeb4LEDgyJ7LkaAtKxH+vQGr+N8xjcKW+IQ4pXA8AYkLeCAQB+DakpAPn3u54CTxz/Mc5j0jVxfCp6LTMJ56jrSNdeRMEboDuFe6boHNmMTO3FbTXrvVjz/3MBmL69OAudJ17kJSM9+9EGneNfCR53CHrcI5bnqI9IVQHIv9/1FOw5mD1Ix15Exc3oHANTdI5sRib2YjBIHc12ANi/5r9xAZi+vVgDerCOER/p2I926LkPJXhcS/S4JyzPUR+RigKQf7/rMepi6kh9RTr2IioWo3McmqJzZDPSvReNAeDdkHW4AEzPXnRFz70J/fcmIH9Uu9T8b0b6vhubwK4DeDPhHPUNqSgA+fe7HuNbkBv7dpLHZVPucH1FOvYiKt6pOccOaJg2C+neixLQk5NN0X/nAjA9ezEePfcsANgbAO4GaW2iJix/AjkU11AnThXS9d24AT1/VJzHPAK64OhJOEd9QyoKQP79rqdoBnqznozw+B9rHvsPy/PciM4zIMljsXj4aMvz1GWkay+i4Bj0WlalYP1sR7r3ogfoicrhxt8aegGYrr24Cp3nYpBFDp6wxHYXO0EO6DREpPO70RKkU0HYFPApIH0Aq0FOa/PkqUQqCkD+/a6naA96s1ZEePzXNY991/I8d6DzJGNpF6LHNiQhdrr2Ihn2AGknoC6sDdEGJt178WLN8x8I+VtDLwDTtRe4c7Gt5v/eAwC9Qd763Qfk7a/toDvj/S3PUR+Q7u9GIwCYCADrQXdi8fEINEyNcjykogDk3+96ii6gN+ueCI//oubxn1ie5y/oPN2SPHYieuwZluepy0jXXiRCIwj6SF3pce26hHTuxYSa534P8rajiYZeAKZrL/6MzlMFAH+K8zicjZ5IEF9fke7r1G8AYDXU7sSqIwYAS6BhegCGIRUFIP9+11NwBzB7kA0dQBUxqG79NtSoq3TtRTvQeqrJcR7T0AvAdO3F7aC7SjtB+6qFAVskNbTCI53XqfEgO65Kb3gcSF1hY5CFyBzQGs0PQMYnNnRwB5ARGawBzB5kWgOI9+iVmtfTUJGuvbiv5jxrEzymoReA6dqLeeg8/0zy2OvRY4+0PE9dR7r2Yy/03Hchfq7wUaC7gewDyBpAhiU2Ak8BZwvSsRdhwH5db0DDnPo1keq92Ac970aQJqrmgW83vo/+e1jyQn1GOr4Xk9FzH03y2AvQY0+xPE99QDr2Yzp67qlJHvsC6I5sQ0+g4ClghhXYBzB7kAkfwClorXXQMFM/wpDqvVAXasrh68JeV5CO70Uheu7jSR6Li8UTLc9TH5CO/ViCnpvstiPuUCUypm4IYB9AhhU4CSR7kO70id+Bvn3yCbCGBiPVe/FriC9sx4cq+vB/W2pxnvqAdHwvWoK24kmmV1uAzjPE8jz1AenYD6XJrAI5iZ0IeD8a4mQ2BieBMKyAcx3vjPOYdGUB41teDTHYO117ASA7F7/UnOtzkEkIDI107kUiNHQNIED69uKvNc/fBdKbMd55lCXJjyB/9Boa0rEfl6BzXJDksWooZxdIG6uGjExmATf03+86C9XS3wnhjHY26I29MuTvZ4PuVFwV5xy4jfw41L510B5kIaIuGA1Vy5GOvRgJmtF9BTp3lhFEOvYiGbgAlEjHXuDCphzCo9+uQI9ZHP3l1zukej8OBN3x3gDxiw6lx6wGgL9Hf/n1FpQCkH+/GzgOBXn7Q+k6SkB+qYeBtgapBhmS3irk+eoDVAWJf+hWoLVWgxzrHwhBo88qADjP8f3UZaR6L4aAtE6oAlkEngYAByc5GuqXOV3fi0TgAlAiXXuB7WDWghxA6A+SNC1Hf/sMGrZeNh37ofznqgHgGwC4DAAKQEbxHQvSOF39/WcAOML5XdU9HA7y31IdeAr3NeNvZ8dZg3+/GXAMSDNarDvC+qMPAWC/OM+N+gFqDgBPQW19k3ruL9BwzYcxUrkXV4esmeyY4OE91VWk43uRCOpcDb0ABEjPXjQCmQEcdo1Sz/8IuGsOkPr9aAqy6Ii3F+r5WyD5pHB9xd0Q/TpeFWcN/v1mAIDUgS0AgAqQ+pbNID2xZoLc/Hg4G/SHIsoP3Wkgb7FUgjT6/BykJ1pDFFTHQ6r24mr09yjHLmjYBSBA+r4XYVDPX018fn1DuvZiJAA8DPL243aQ1id/A4BpIAsThkQ69qMIZKFTAbLY2wlyP14HeT2Ld3u4IQCTlSjX8jDw7zeDwWAwGAwGg8FgMBgMBoPBYDAYDAaDwWAwGAwGg8FgMBgMBoPBYDAYDAaDwWAwGAwGg8FgMBgMBoPBYDAYDAaDwWAwGAwGg8FgMBgMBoPBYDAYDAaDwWAwGAwGg8FgMBgMBoPBYDAYDAaDwWAwGAwGg8FgMBgMBoPBYDAYDAaDwWAwGAwGg8FgMBgMBoPBYDAYDAaDwWAwGAwGg8FgMBgMBoPBYDAYDAaDwWAwGAwGg8FgMBgMBoPBYDAYDAaDkRb8f/K4Z0+POOgXAAAAAElFTkSuQmCC\">"
      ],
      "text/plain": [
       "<IPython.core.display.HTML object>"
      ]
     },
     "metadata": {},
     "output_type": "display_data"
    }
   ],
   "source": [
    "# Complex number denotes number of points\n",
    "Y, X = np.mgrid[0:1:100j, 0:1:100j]\n",
    "# Specifying the vector\n",
    "U = V = X\n",
    "fig1, (ax1) = plt.subplots(ncols=1)\n",
    "ax1.grid()\n",
    "sp = ax1.streamplot(X, Y, U, V)"
   ]
  },
  {
   "cell_type": "markdown",
   "metadata": {},
   "source": [
    "## Concluding remarks\n",
    "\n",
    "The sytem found here will exercise all the Christoffel symbols (although $\\Gamma^\\gamma_{\\alpha\\alpha}=0$). \n",
    "\n",
    "If we interchange\n",
    "$$\\alpha \\to -\\beta$$\n",
    "(minus due to the cross product $\\nabla \\alpha \\times \\nabla \\beta$) and\n",
    "$$\\beta \\to \\alpha$$\n",
    "we will get the same system, but we will exercise other derivatives."
   ]
  },
  {
   "cell_type": "markdown",
   "metadata": {},
   "source": [
    "# Copyable when verifying in BOUT++"
   ]
  },
  {
   "cell_type": "code",
   "execution_count": 48,
   "metadata": {
    "collapsed": false
   },
   "outputs": [],
   "source": [
    "def printBOUTinpCon(mCon, replacements, inpReplacements):\n",
    "    for firstCoord in mCon.keys():\n",
    "        for secondCoord in mCon[firstCoord].keys():\n",
    "            c1 = str(firstCoord)\n",
    "            c2 = str(secondCoord)\n",
    "            formula = str(mCon[firstCoord][secondCoord])\n",
    "            for replacement in replacements:\n",
    "                c1 = c1.replace(replacement[0], replacement[1])\n",
    "                c2 = c2.replace(replacement[0], replacement[1])\n",
    "            for replacement in inpReplacements:\n",
    "                formula = formula.replace(replacement[0], replacement[1])\n",
    "            print(\"g{0}{1} = {2}\".format(c1,c2,formula))"
   ]
  },
  {
   "cell_type": "code",
   "execution_count": 49,
   "metadata": {
    "collapsed": false
   },
   "outputs": [],
   "source": [
    "def printBOUTinpCov(mCov, replacements, inpReplacements):\n",
    "    for firstCoord in mCov.keys():\n",
    "        for secondCoord in mCov[firstCoord].keys():\n",
    "            c1 = str(firstCoord)\n",
    "            c2 = str(secondCoord)\n",
    "            formula = str(mCov[firstCoord][secondCoord])\n",
    "            for replacement in replacements:\n",
    "                c1 = c1.replace(replacement[0], replacement[1])\n",
    "                c2 = c2.replace(replacement[0], replacement[1])\n",
    "            for replacement in inpReplacements:\n",
    "                formula = formula.replace(replacement[0], replacement[1])\n",
    "            print(\"g_{0}{1} = {2}\".format(c1,c2,formula))"
   ]
  },
  {
   "cell_type": "code",
   "execution_count": 50,
   "metadata": {
    "collapsed": false
   },
   "outputs": [],
   "source": [
    "def printChristoffel(C, replacements):\n",
    "    for firstCoord in C.keys():\n",
    "        for secondCoord in C[firstCoord].keys():\n",
    "            for thirdCoord in C[firstCoord][secondCoord].keys():\n",
    "                c1 = str(firstCoord)\n",
    "                c2 = str(secondCoord)\n",
    "                c3 = str(thirdCoord)\n",
    "                for replacement in replacements:\n",
    "                    c1 = c1.replace(replacement[0], replacement[1])\n",
    "                    c2 = c2.replace(replacement[0], replacement[1])\n",
    "                    c3 = c3.replace(replacement[0], replacement[1])\n",
    "                symb = \"G{0}_{1}{2}\".format(c1, c2, c3)\n",
    "                print(\"{0} = {1}\".format(symb ,C[firstCoord][secondCoord][thirdCoord]))"
   ]
  },
  {
   "cell_type": "markdown",
   "metadata": {},
   "source": [
    "## Using the original system"
   ]
  },
  {
   "cell_type": "code",
   "execution_count": 51,
   "metadata": {
    "collapsed": true
   },
   "outputs": [],
   "source": [
    "replacements = [(\"alpha\",\"1\"), (\"beta\",\"2\"), (\"gamma\",\"3\")]\n",
    "inpReplacements = [(\"**\", \"^\"), (\"alpha\", \"geom:xl\")]"
   ]
  },
  {
   "cell_type": "markdown",
   "metadata": {},
   "source": [
    "The covariant metric tensor is inserted in the BOUT.inp file"
   ]
  },
  {
   "cell_type": "code",
   "execution_count": 52,
   "metadata": {
    "collapsed": false
   },
   "outputs": [
    {
     "name": "stdout",
     "output_type": "stream",
     "text": [
      "g11 = 2\n",
      "g12 = 4*geom:xl\n",
      "g13 = 4*geom:xl - 2\n",
      "g21 = 4*geom:xl\n",
      "g22 = 8*geom:xl^2 + 1\n",
      "g23 = 8*geom:xl^2 - 4*geom:xl + 1\n",
      "g31 = 4*geom:xl - 2\n",
      "g32 = 8*geom:xl^2 - 4*geom:xl + 1\n",
      "g33 = 8*geom:xl^2 - 8*geom:xl + 5\n"
     ]
    }
   ],
   "source": [
    "printBOUTinpCon(mCon, replacements, inpReplacements)"
   ]
  },
  {
   "cell_type": "markdown",
   "metadata": {},
   "source": [
    "The contravariant metric tensor is inserted in the BOUT.inp file"
   ]
  },
  {
   "cell_type": "code",
   "execution_count": 53,
   "metadata": {
    "collapsed": false
   },
   "outputs": [
    {
     "name": "stdout",
     "output_type": "stream",
     "text": [
      "g_11 = 4*geom:xl^2 + 1\n",
      "g_12 = -2*geom:xl - 1/2\n",
      "g_13 = 1/2\n",
      "g_21 = -2*geom:xl - 1/2\n",
      "g_22 = 3/2\n",
      "g_23 = -1/2\n",
      "g_31 = 1/2\n",
      "g_32 = -1/2\n",
      "g_33 = 1/2\n"
     ]
    }
   ],
   "source": [
    "printBOUTinpCov(mCov, replacements, inpReplacements)"
   ]
  },
  {
   "cell_type": "markdown",
   "metadata": {},
   "source": [
    "The Christoffel symbols can be checked by saving the Christoffel symbols into an output file in a BOUT++ run, and compare the output with the Christoffel symbols found here."
   ]
  },
  {
   "cell_type": "code",
   "execution_count": 54,
   "metadata": {
    "collapsed": false
   },
   "outputs": [
    {
     "name": "stdout",
     "output_type": "stream",
     "text": [
      "G1_11 = 0\n",
      "G1_12 = 0\n",
      "G1_13 = 0\n",
      "G1_21 = 0\n",
      "G1_22 = 0\n",
      "G1_23 = 0\n",
      "G1_31 = 0\n",
      "G1_32 = 0\n",
      "G1_33 = 0\n",
      "G2_11 = -2\n",
      "G2_12 = 0\n",
      "G2_13 = 0\n",
      "G2_21 = 0\n",
      "G2_22 = 0\n",
      "G2_23 = 0\n",
      "G2_31 = 0\n",
      "G2_32 = 0\n",
      "G2_33 = 0\n",
      "G3_11 = -2\n",
      "G3_12 = 0\n",
      "G3_13 = 0\n",
      "G3_21 = 0\n",
      "G3_22 = 0\n",
      "G3_23 = 0\n",
      "G3_31 = 0\n",
      "G3_32 = 0\n",
      "G3_33 = 0\n"
     ]
    }
   ],
   "source": [
    "printChristoffel(C, replacements)"
   ]
  },
  {
   "cell_type": "markdown",
   "metadata": {},
   "source": [
    "## Using the $\\alpha \\to -\\beta$ and $\\beta \\to \\alpha$ system"
   ]
  }
 ],
 "metadata": {
  "kernelspec": {
   "display_name": "Python 3",
   "language": "python",
   "name": "python3"
  },
  "language_info": {
   "codemirror_mode": {
    "name": "ipython",
    "version": 3
   },
   "file_extension": ".py",
   "mimetype": "text/x-python",
   "name": "python",
   "nbconvert_exporter": "python",
   "pygments_lexer": "ipython3",
   "version": "3.5.1"
  }
 },
 "nbformat": 4,
 "nbformat_minor": 0
}
