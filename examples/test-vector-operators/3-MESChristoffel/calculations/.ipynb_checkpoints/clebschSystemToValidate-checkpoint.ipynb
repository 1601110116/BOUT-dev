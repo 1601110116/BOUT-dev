{
 "cells": [
  {
   "cell_type": "markdown",
   "metadata": {},
   "source": [
    "# The Clebsch system\n",
    "\n",
    "From equation (5.21) in D'Haeseleer we have that\n",
    "\n",
    "$$\\mathbf{B}=\\nabla \\alpha \\times \\nabla \\beta$$\n",
    "\n",
    "We are here looking for a way to determine $\\alpha$ and $\\beta$, given $\\mathbf{B}$. In order to easily validate the parallel advection, we will look for a $\\mathbf{B}$ which\n",
    "\n",
    "1. Does not have any variation in the $z$ coordinate\n",
    "2. Varies in a simple way, so that a gaussian perturbation is easy to follow.\n",
    "\n",
    "Further, we would like to describe this in a coordinate system where\n",
    "\n",
    "* Makes $g_{ij}$ and $g^{kl}$ vary with $x$ (or $y$).\n",
    "* We would like $g^{ij}$ and $g_{ij}$ to vary with $\\alpha$ and $\\beta$, so that the Christoffel symbols are non-zero."
   ]
  },
  {
   "cell_type": "markdown",
   "metadata": {},
   "source": [
    "# Initialization"
   ]
  },
  {
   "cell_type": "code",
   "execution_count": null,
   "metadata": {
    "collapsed": false
   },
   "outputs": [],
   "source": [
    "%matplotlib notebook\n",
    "\n",
    "import matplotlib\n",
    "import numpy as np\n",
    "import matplotlib.pyplot as plt\n",
    "\n",
    "from collections import OrderedDict, deque\n",
    "\n",
    "from sympy import init_printing\n",
    "from sympy import symbols\n",
    "from sympy import Eq, Derivative, Function\n",
    "from sympy import sqrt\n",
    "from sympy import solve, simplify\n",
    "from sympy.solvers.pde import pdsolve\n",
    "from sympy.utilities.lambdify import lambdify, implemented_function\n",
    "from sympy import Rational as R\n",
    "from IPython.display import display\n",
    "\n",
    "init_printing()"
   ]
  },
  {
   "cell_type": "code",
   "execution_count": null,
   "metadata": {
    "collapsed": true
   },
   "outputs": [],
   "source": [
    "title_size = 30 \n",
    "plt.rc(\"font\", size = 30)\n",
    "plt.rc(\"axes\", labelsize = 25, titlesize = title_size)\n",
    "plt.rc(\"xtick\", labelsize = 25)\n",
    "plt.rc(\"ytick\", labelsize = 25)\n",
    "plt.rc(\"legend\", fontsize = 30)\n",
    "plt.rc(\"lines\", linewidth = 2) "
   ]
  },
  {
   "cell_type": "code",
   "execution_count": null,
   "metadata": {
    "collapsed": false
   },
   "outputs": [],
   "source": [
    "s = symbols('s', real = True)\n",
    "xi = symbols('xi', real = True)\n",
    "x, y, z = symbols('x, y, z', real = True)\n",
    "a, b, g = symbols('alpha, beta, gamma', real = True)\n",
    "alpha = Function('alpha')(x,y,z)\n",
    "beta  = Function('beta')(x,y,z)\n",
    "gamma = Function('g')(x,y,z) # Looks like gamma is predefined\n",
    "cart       = [x, y, z]\n",
    "curvCoords = [a, b, g]\n",
    "curvFuncs  = [alpha, beta, gamma]\n",
    "bx, by, bz = symbols('B_x, B_y, B_z', real = True)\n",
    "BElements  = [bx, by, bz]"
   ]
  },
  {
   "cell_type": "code",
   "execution_count": null,
   "metadata": {
    "collapsed": true
   },
   "outputs": [],
   "source": [
    "def dot(a, b):\n",
    "    \"\"\"Returns the dot product of two vectors in cartesian coordinates\"\"\"\n",
    "    \n",
    "    return a[x]*b[x] + a[y]*b[y] + a[z]*b[z]"
   ]
  },
  {
   "cell_type": "code",
   "execution_count": null,
   "metadata": {
    "collapsed": true
   },
   "outputs": [],
   "source": [
    "def cross(a, b):\n",
    "    \"\"\"Returns the cross product of two vectors in cartesian coordinates\"\"\"\n",
    "    crossVec = OrderedDict([(x, a[y]*b[z] - a[z]*b[y]),\n",
    "                            (y, a[z]*b[x] - a[x]*b[z]),\n",
    "                            (z, a[x]*b[y] - a[y]*b[x])])\n",
    "    return crossVec"
   ]
  },
  {
   "cell_type": "code",
   "execution_count": null,
   "metadata": {
    "collapsed": true
   },
   "outputs": [],
   "source": [
    "def grad(func):\n",
    "    \"\"\"Returns the gradient in cartesian coordinates using diff\"\"\"\n",
    "    gradVec = OrderedDict([(x, func.diff(x)),\n",
    "                           (y, func.diff(y)),\n",
    "                           (z, func.diff(z))])\n",
    "    return gradVec"
   ]
  },
  {
   "cell_type": "code",
   "execution_count": null,
   "metadata": {
    "collapsed": false
   },
   "outputs": [],
   "source": [
    "def matrixMul(A,B):\n",
    "    \"\"\"Returns the matrix multiplication between covariant and contravariant tensors\"\"\"\n",
    "    M = OrderedDict.fromkeys(A)\n",
    "    \n",
    "    for firstCoord in A.keys():\n",
    "        M[firstCoord] = OrderedDict.fromkeys(A)\n",
    "        for secondCoord in A.keys():\n",
    "            M[firstCoord][secondCoord] = 0\n",
    "            for thridCoord in A.keys():\n",
    "                M[firstCoord][secondCoord] += A[firstCoord][thridCoord]*B[thridCoord][secondCoord]\n",
    "            M[firstCoord][secondCoord] = simplify(M[firstCoord][secondCoord])\n",
    "            display((Eq(symbols('M_' + str(firstCoord) + '^' + str(secondCoord)), M[firstCoord][secondCoord])))\n",
    "    \n",
    "    return M"
   ]
  },
  {
   "cell_type": "code",
   "execution_count": null,
   "metadata": {
    "collapsed": true
   },
   "outputs": [],
   "source": [
    "def printVec(vec, string=None):\n",
    "    \"\"\"Prints the vector components given the vector and a string to place on the LHS\"\"\"\n",
    "    if string == None:\n",
    "        string = ''\n",
    "        separator = ''\n",
    "    else:\n",
    "        separator = \"_\"\n",
    "    for coord in vec.keys():\n",
    "        display(Eq(symbols(string + separator + str(coord)), vec[coord]))"
   ]
  },
  {
   "cell_type": "code",
   "execution_count": null,
   "metadata": {
    "collapsed": false
   },
   "outputs": [],
   "source": [
    "def getMetricsContra(curvFuncsAsVec):\n",
    "    \"\"\"Returns the contravariant metric tensor the new coordinates described in cartesian coordinates\"\"\"\n",
    "    G = OrderedDict()\n",
    "    \n",
    "    for firstCoord in curvFuncsAsVec.keys():\n",
    "        G[firstCoord] = OrderedDict()\n",
    "        firstFunc = curvFuncsAsVec[firstCoord]\n",
    "        for secondCoord in curvFuncsAsVec.keys():\n",
    "            secondFunc = curvFuncsAsVec[secondCoord]\n",
    "            G[firstCoord][secondCoord] = dot(grad(firstFunc), grad(secondFunc))\n",
    "            display(Eq(symbols('g^' + str(firstCoord) + '^' + str(secondCoord)) ,G[firstCoord][secondCoord]))\n",
    "    \n",
    "    return G"
   ]
  },
  {
   "cell_type": "code",
   "execution_count": null,
   "metadata": {
    "collapsed": false
   },
   "outputs": [],
   "source": [
    "def getMetricsCov(curvFuncsAsVec, J=None):\n",
    "    \"\"\"\n",
    "    Returns the covariant metric tensor the new coordinates described in cartesian coordinates.\n",
    "    There are several ways of finding this, since the gradient is already implemented, we will use \n",
    "    equation (2.5.25) and (2.5.26) in D'Haeseleer.\n",
    "    \"\"\"\n",
    "    if J == None:\n",
    "        # Obtain Jacobian\n",
    "        curvFunc = curvFuncsAsVec.values()\n",
    "        J = getJacobian(list(curvFunc))\n",
    "    \n",
    "    coBasisVectors = OrderedDict.fromkeys(curvFuncsAsVec)\n",
    "    # Deque is used for cyclic permutations\n",
    "    coords = deque(curvFuncsAsVec.keys())\n",
    "    for _ in range(len(cart)):\n",
    "        coBasisVectors[coords[0]] = cross(grad(curvFuncsAsVec[coords[1]]), grad(curvFuncsAsVec[coords[2]]))\n",
    "        for coord in coBasisVectors[coords[0]]:\n",
    "            coBasisVectors[coords[0]][coord] *= J\n",
    "        # Cyclic permutation (rigth rotation)\n",
    "        coords.rotate(1)\n",
    "    \n",
    "    # Initialize the OrderedDict\n",
    "    G = OrderedDict()\n",
    "    \n",
    "    for firstCoord in curvFuncsAsVec.keys():\n",
    "        G[firstCoord] = OrderedDict()\n",
    "        for secondCoord in curvFuncsAsVec.keys():\n",
    "            G[firstCoord][secondCoord] = dot(coBasisVectors[firstCoord], coBasisVectors[secondCoord])\n",
    "            display(Eq(symbols('g_' + str(firstCoord) + '_' + str(secondCoord)) ,G[firstCoord][secondCoord]))\n",
    "    \n",
    "    return G"
   ]
  },
  {
   "cell_type": "code",
   "execution_count": null,
   "metadata": {
    "collapsed": false
   },
   "outputs": [],
   "source": [
    "def getJacobian(curvFuncs):\n",
    "    \"\"\"Returns the Jacobian (equation (2.5.26) in D'Haeseleer)\"\"\"\n",
    "    J = R(1)/(dot(grad(curvFuncs[0]),cross(grad(curvFuncs[1]), grad(curvFuncs[2]))))\n",
    "\n",
    "    return J"
   ]
  },
  {
   "cell_type": "markdown",
   "metadata": {},
   "source": [
    "The Christoffel symbols reads\n",
    "\n",
    "$$\n",
    "\\Gamma^i_{kl}=\\frac{1}{2}g^{im}\n",
    "\\left(\n",
    "\\frac{\\partial g_{mk}}{\\partial x^l} + \\frac{\\partial g_{ml}}{\\partial x^k} - \\frac{\\partial g_{kl}}{\\partial x^m} \\right)\n",
    "$$"
   ]
  },
  {
   "cell_type": "code",
   "execution_count": null,
   "metadata": {
    "collapsed": false
   },
   "outputs": [],
   "source": [
    "def getChristoffel(cov, con):\n",
    "    \"\"\"\n",
    "    Returns the Christoffel symbol of second kind given the co- and contravariant components of the metric tensor\n",
    "    \"\"\"\n",
    "    C = OrderedDict.fromkeys(con)\n",
    "    \n",
    "    for firstCoord in con.keys():\n",
    "        C[firstCoord] = OrderedDict.fromkeys(con)\n",
    "        for secondCoord in con.keys():\n",
    "            C[firstCoord][secondCoord] = OrderedDict.fromkeys(con)\n",
    "            for thirdCoord in con.keys():\n",
    "                C[firstCoord][secondCoord][thirdCoord] = 0\n",
    "                for fourthCoord in con.keys():\n",
    "                    C[firstCoord][secondCoord][thirdCoord] +=\\\n",
    "                        R(1/2)*con[firstCoord][fourthCoord]\\\n",
    "                        *(\\\n",
    "                            cov[fourthCoord][secondCoord].diff(thirdCoord)\\\n",
    "                          + cov[fourthCoord][thirdCoord].diff(secondCoord)\\\n",
    "                          - cov[secondCoord][thirdCoord].diff(fourthCoord)\\\n",
    "                         )\n",
    "                C[firstCoord][secondCoord][thirdCoord] = simplify(C[firstCoord][secondCoord][thirdCoord])\n",
    "                display(Eq(symbols('Gamma^'+str(firstCoord)+'_'+str(secondCoord)+'_'+str(thirdCoord)),\\\n",
    "                           C[firstCoord][secondCoord][thirdCoord]))\n",
    "    return C"
   ]
  },
  {
   "cell_type": "code",
   "execution_count": null,
   "metadata": {
    "collapsed": false
   },
   "outputs": [],
   "source": [
    "def transformMetrics(m, r, cov=False):\n",
    "    \"\"\"Transform the metrics 'm' using a list of replacements 'r'\"\"\"\n",
    "    \n",
    "    if cov == False:\n",
    "        binder = '^'\n",
    "    else:\n",
    "        binder = '_'    \n",
    "    for firstCoord in m.keys():\n",
    "        for secondCoord in m[firstCoord].keys():\n",
    "            m[firstCoord][secondCoord] = simplify(m[firstCoord][secondCoord].subs(r))\n",
    "            display(Eq(symbols('g' +binder+ str(firstCoord) +binder+ str(secondCoord)), m[firstCoord][secondCoord]))\n",
    "\n",
    "    return m"
   ]
  },
  {
   "cell_type": "markdown",
   "metadata": {},
   "source": [
    "# Pathlines of B\n",
    "\n",
    "The pathlines are equal to the streamlines when the velocity does not vary with $t$. These lines will be the \"rails\" which the vectorfield is advected with if it is advected along the field lines.\n",
    "\n",
    "The definition of a streamline is\n",
    "\n",
    "$$\n",
    "\\frac{\\text{d}\\mathbf{x}_s(s)}{\\text{d}s}\\times\\mathbf{u} = 0\n",
    "$$\n",
    "\n",
    "We are here only interested that the direction of the streamlines should be parallel with the magnetic field, so we will instead calculate\n",
    "\n",
    "$$\n",
    "\\frac{\\text{d}\\mathbf{x}_s(s)}{\\text{d}s}\\times\\mathbf{B} = 0\n",
    "$$\n",
    "\n",
    "We can assign a pathline $\\mathbf{x}_s(s)$ (parametrized by $s$) of $\\mathbf{B}$, and calculate $\\mathbf{B}$ from that"
   ]
  },
  {
   "cell_type": "markdown",
   "metadata": {},
   "source": [
    "## Specification of the pathlines\n",
    "\n",
    "We now use\n",
    "\n",
    "<span style=\"color:red\"><span style=\"font-size:150%\">Note: Manual insertion in cell below!</span></span>"
   ]
  },
  {
   "cell_type": "code",
   "execution_count": null,
   "metadata": {
    "collapsed": false
   },
   "outputs": [],
   "source": [
    "vecX_s = OrderedDict([\n",
    "                    (x, s),\n",
    "                    (y, s),\n",
    "                    (z, 0*s),\n",
    "                    ])\n",
    "\n",
    "printVec(vecX_s, 'x_s')\n",
    "\n",
    "print(\"\\n and \\n\")\n",
    "    \n",
    "dds_vecX_s = OrderedDict.fromkeys(cart)\n",
    "for coord in dds_vecX_s.keys():\n",
    "    dds_vecX_s[coord] = vecX_s[coord].diff(s)\n",
    "    display(Eq(Derivative(symbols(\"x_s_\" + str(coord)), s) ,dds_vecX_s[coord]))"
   ]
  },
  {
   "cell_type": "markdown",
   "metadata": {},
   "source": [
    "## Solve pathlines for B\n",
    "\n",
    "Using\n",
    "\n",
    "$$\n",
    "\\frac{\\text{d}\\mathbf{x}_s(s)}{\\text{d}s}\\times\\mathbf{B} = \\mathbf{p} = 0\n",
    "$$"
   ]
  },
  {
   "cell_type": "code",
   "execution_count": null,
   "metadata": {
    "collapsed": true
   },
   "outputs": [],
   "source": [
    "# Make the B vector\n",
    "BVec = OrderedDict()\n",
    "for coord, elem in zip(cart, BElements):\n",
    "    BVec[coord] = elem"
   ]
  },
  {
   "cell_type": "markdown",
   "metadata": {},
   "source": [
    "We find that"
   ]
  },
  {
   "cell_type": "code",
   "execution_count": null,
   "metadata": {
    "collapsed": false
   },
   "outputs": [],
   "source": [
    "streamLineEqVec = cross(dds_vecX_s, BVec)\n",
    "printVec(streamLineEqVec, 'p')"
   ]
  },
  {
   "cell_type": "markdown",
   "metadata": {},
   "source": [
    "Solving $\\mathbf{p}=0$ gives"
   ]
  },
  {
   "cell_type": "code",
   "execution_count": null,
   "metadata": {
    "collapsed": false
   },
   "outputs": [],
   "source": [
    "eqs = []\n",
    "for coord in streamLineEqVec.keys():\n",
    "    eqs.append(Eq(streamLineEqVec[coord], 0))\n",
    "    \n",
    "sol = solve(eqs, [BVec[coord] for coord in BVec])\n",
    "replacements = []\n",
    "for elem in sol.keys():\n",
    "    replacements.append((elem, sol[elem]))\n",
    "    display(Eq(elem, sol[elem]))"
   ]
  },
  {
   "cell_type": "markdown",
   "metadata": {},
   "source": [
    "The resulting streamlines can be seen below, after further specification of the system."
   ]
  },
  {
   "cell_type": "markdown",
   "metadata": {},
   "source": [
    "# B-field equations\n",
    "\n",
    "Based on the streamlines, we will now specify the $\\mathbf{B}$-field through specification of $\\alpha$ and $\\beta$ "
   ]
  },
  {
   "cell_type": "code",
   "execution_count": null,
   "metadata": {
    "collapsed": false
   },
   "outputs": [],
   "source": [
    "B = cross(grad(alpha),grad(beta))\n",
    "\n",
    "printVec(B, 'B')"
   ]
  },
  {
   "cell_type": "markdown",
   "metadata": {},
   "source": [
    "The equation above is a statement of the $\\mathbf{B}$-vector in cartesian coordinates. From condition number 1 of the B-field above, we have that $B_i = B_i(x,y)$, meaning that $\\alpha$ and $\\beta$ can only vary linearly with $z$"
   ]
  },
  {
   "cell_type": "markdown",
   "metadata": {},
   "source": [
    "## Solve the B-field for $\\alpha$ and $\\beta$\n",
    "\n",
    "Unfortunately, sympy cannot currently (2015.12.10) solve sets of PDE.\n",
    "\n",
    "```python\n",
    "eqs = []\n",
    " for LHS, RHSkey in zip(BElements, B.keys()):\n",
    "    eqs.append(Eq(LHS, B[RHSkey]))\n",
    " pdsolve(eqs)\n",
    "```\n",
    "\n",
    "However, MAPLE can (not succeeded in Mathematica), and one of the solutions for the equations above reads"
   ]
  },
  {
   "cell_type": "markdown",
   "metadata": {},
   "source": [
    "<span style=\"color:red\"><span style=\"font-size:150%\">Note: Manual insertion in cell below!</span></span>"
   ]
  },
  {
   "cell_type": "code",
   "execution_count": null,
   "metadata": {
    "collapsed": true
   },
   "outputs": [],
   "source": [
    "def getAlphaBeta(f1, f2, f1diff):\n",
    "    \"\"\"Returns alpha and beta\"\"\"\n",
    "    alpha = f1\n",
    "    beta  = (bx*z/f1diff) - (bz*x/f1diff) + f2\n",
    "    display(Eq(a, alpha))\n",
    "    display(Eq(b, beta))\n",
    "    return alpha, beta"
   ]
  },
  {
   "cell_type": "markdown",
   "metadata": {},
   "source": [
    "<span style=\"color:red\"><span style=\"font-size:150%\">Note: Manual insertion in cell below!</span></span>"
   ]
  },
  {
   "cell_type": "code",
   "execution_count": null,
   "metadata": {
    "collapsed": false
   },
   "outputs": [],
   "source": [
    "arg = (bx*y-by*x)/bx\n",
    "\n",
    "f1  = Function('f_1')(xi)\n",
    "f2  = Function('f_2')(xi)\n",
    "f1diff = f1.diff(xi)\n",
    "\n",
    "alpha, beta = getAlphaBeta(f1, f2, f1diff)\n",
    "\n",
    "print(\"Using\")\n",
    "display(Eq(xi, arg))"
   ]
  },
  {
   "cell_type": "markdown",
   "metadata": {},
   "source": [
    "## Specifying the equations for determining $\\alpha$ and $\\beta$\n",
    "\n",
    "We choose\n",
    "\n",
    "<span style=\"color:red\"><span style=\"font-size:150%\">Note: Manual insertion in cell below!</span></span>"
   ]
  },
  {
   "cell_type": "code",
   "execution_count": null,
   "metadata": {
    "collapsed": true
   },
   "outputs": [],
   "source": [
    "# Just chosing the functions to something simple\n",
    "f1 = arg\n",
    "f2 = arg**2 # Square this to make sure g^ab is non-zero\n",
    "f1diff = 1"
   ]
  },
  {
   "cell_type": "code",
   "execution_count": null,
   "metadata": {
    "collapsed": false
   },
   "outputs": [],
   "source": [
    "display(Eq(symbols('f_1'), f1))\n",
    "display(Eq(symbols('f_2'), f2))"
   ]
  },
  {
   "cell_type": "markdown",
   "metadata": {},
   "source": [
    "So that"
   ]
  },
  {
   "cell_type": "code",
   "execution_count": null,
   "metadata": {
    "collapsed": false
   },
   "outputs": [],
   "source": [
    "alpha, beta = getAlphaBeta(f1, f2, f1diff)"
   ]
  },
  {
   "cell_type": "markdown",
   "metadata": {},
   "source": [
    "## Specifying the coefficients for determining $\\alpha$ and $\\beta$\n",
    "\n",
    "From solving for the pathlines, we have"
   ]
  },
  {
   "cell_type": "code",
   "execution_count": null,
   "metadata": {
    "collapsed": false
   },
   "outputs": [],
   "source": [
    "display(Eq(replacements[0][0], replacements[0][1]))\n",
    "display(Eq(replacements[1][0], replacements[1][1]))"
   ]
  },
  {
   "cell_type": "markdown",
   "metadata": {},
   "source": [
    "Which gives"
   ]
  },
  {
   "cell_type": "code",
   "execution_count": null,
   "metadata": {
    "collapsed": false
   },
   "outputs": [],
   "source": [
    "alpha = alpha.subs(replacements)\n",
    "beta = beta.subs(replacements)\n",
    "\n",
    "display(simplify(Eq(a, alpha)))\n",
    "display(simplify(Eq(b, beta)))"
   ]
  },
  {
   "cell_type": "markdown",
   "metadata": {},
   "source": [
    "$$\n",
    "\\nabla \\alpha \\times \\nabla \\beta\n",
    "$$\n",
    "now yields\n",
    "\n",
    "<span style=\"color:red\"><span style=\"font-size:150%\">Note: Check solution below!</span></span>"
   ]
  },
  {
   "cell_type": "code",
   "execution_count": null,
   "metadata": {
    "collapsed": false
   },
   "outputs": [],
   "source": [
    "B = cross(grad(alpha),grad(beta))\n",
    "\n",
    "printVec(B, 'B')"
   ]
  },
  {
   "cell_type": "markdown",
   "metadata": {},
   "source": [
    "## Calculate $\\gamma$\n",
    "\n",
    "From D'Haeseleer equation (5.3.9) we have\n",
    "$$\n",
    "\\mathbf{b}\\cdot\\nabla\\gamma = 1\n",
    "$$\n",
    "which means that\n",
    "$$\n",
    "\\mathbf{B}\\cdot\\nabla\\gamma = B\n",
    "$$\n",
    "\n",
    "We can use this to solve for $\\gamma$.\n",
    "\n",
    "As our $\\mathbf{B}$-field reads"
   ]
  },
  {
   "cell_type": "code",
   "execution_count": null,
   "metadata": {
    "collapsed": false
   },
   "outputs": [],
   "source": [
    "BSpecified = cross(grad(alpha),grad(beta))\n",
    "printVec(BSpecified, 'B')"
   ]
  },
  {
   "cell_type": "markdown",
   "metadata": {},
   "source": [
    "We get the following equation to solve"
   ]
  },
  {
   "cell_type": "code",
   "execution_count": null,
   "metadata": {
    "collapsed": false
   },
   "outputs": [],
   "source": [
    "gammaEq = Eq(dot(BSpecified,grad(gamma)), dot(BSpecified,BSpecified))\n",
    "display(gammaEq)"
   ]
  },
  {
   "cell_type": "markdown",
   "metadata": {},
   "source": [
    "Unfortunately sympy currently (2015.12.10) throws the error\n",
    "\n",
    "\"Right now only partial differential equations of two variables are supported\"\n",
    "\n",
    "When trying run the following code\n",
    "```python\n",
    "print(\"Solving this gives\")\n",
    "gamma = pdsolve(eq)\n",
    "display(gamma)\n",
    "```\n",
    "However, the equation is of such form that the solution of the equation above is the same for $g(x,y)$ and $g(x,y,z)$ up to a constant function $F(z)$. This means that the following is a solution"
   ]
  },
  {
   "cell_type": "code",
   "execution_count": null,
   "metadata": {
    "collapsed": false
   },
   "outputs": [],
   "source": [
    "gammaTempF = Function('g')(x,y)\n",
    "eq = Eq(dot(BSpecified,grad(gammaTempF)), dot(BSpecified,BSpecified))\n",
    "gammaTemp = pdsolve(eq)\n",
    "\n",
    "gammaTempRHS = gammaTemp.rhs\n",
    "display(Eq(gammaTempF, gammaTempRHS))"
   ]
  },
  {
   "cell_type": "markdown",
   "metadata": {},
   "source": [
    "Where $F$ is also a function of $z$."
   ]
  },
  {
   "cell_type": "markdown",
   "metadata": {},
   "source": [
    "## Specifying equations for determining $\\gamma$\n",
    "\n",
    "We are now choosing the function\n",
    "\n",
    "<span style=\"color:red\"><span style=\"font-size:150%\">Note: Manual insertion in cell below!</span></span>"
   ]
  },
  {
   "cell_type": "code",
   "execution_count": null,
   "metadata": {
    "collapsed": true
   },
   "outputs": [],
   "source": [
    "f1 = bx*(x-y)**2 + bx*(x-y)\n",
    "f2 = z\n",
    "f = f1+f2\n",
    "gamma = bx*(x+y) + f"
   ]
  },
  {
   "cell_type": "code",
   "execution_count": null,
   "metadata": {
    "collapsed": false
   },
   "outputs": [],
   "source": [
    "display(Eq(symbols('F'), f))"
   ]
  },
  {
   "cell_type": "markdown",
   "metadata": {},
   "source": [
    "Which gives"
   ]
  },
  {
   "cell_type": "code",
   "execution_count": null,
   "metadata": {
    "collapsed": false
   },
   "outputs": [],
   "source": [
    "display(Eq(g,gamma))"
   ]
  },
  {
   "cell_type": "markdown",
   "metadata": {},
   "source": [
    "## The set of equations"
   ]
  },
  {
   "cell_type": "code",
   "execution_count": null,
   "metadata": {
    "collapsed": false
   },
   "outputs": [],
   "source": [
    "# Check if a solution is found\n",
    "check = simplify(Eq(gammaEq.rhs, gammaEq.lhs.subs([(Function('g')(x,y,z), gamma)]).doit()))\n",
    "if check != True:\n",
    "    display(check)\n",
    "    raise RuntimeError (\"Gamma is not a solution\")"
   ]
  },
  {
   "cell_type": "markdown",
   "metadata": {},
   "source": [
    "We now have the set of equations"
   ]
  },
  {
   "cell_type": "code",
   "execution_count": null,
   "metadata": {
    "collapsed": false
   },
   "outputs": [],
   "source": [
    "# Setting the functions\n",
    "curvFuncsBUnspecified = [alpha, beta, gamma]\n",
    "invCoordBUnspecified = OrderedDict.fromkeys(curvCoords)\n",
    "for coord, func in zip(invCoordBUnspecified.keys(), curvFuncsBUnspecified):\n",
    "    invCoordBUnspecified[coord] = func\n",
    "    display(Eq(coord, func))"
   ]
  },
  {
   "cell_type": "markdown",
   "metadata": {},
   "source": [
    "# Metric tensor equations and Christoffel symbols\n",
    "\n",
    "We would now calculate the metric tensors, and check that the Christoffel symbols are non-zero."
   ]
  },
  {
   "cell_type": "markdown",
   "metadata": {},
   "source": [
    "Unspecified, the metric tensor gives"
   ]
  },
  {
   "cell_type": "code",
   "execution_count": null,
   "metadata": {
    "collapsed": false
   },
   "outputs": [],
   "source": [
    "# Make a vector out of curvFuncs\n",
    "curvFuncsAsVec = OrderedDict(zip(curvCoords, curvFuncs))\n",
    "G = getMetricsContra(curvFuncsAsVec)"
   ]
  },
  {
   "cell_type": "markdown",
   "metadata": {},
   "source": [
    "Using the specified functions, we get"
   ]
  },
  {
   "cell_type": "code",
   "execution_count": null,
   "metadata": {
    "collapsed": false
   },
   "outputs": [],
   "source": [
    "curvFuncsBUnspecifiedAsVec = OrderedDict(zip(curvCoords, curvFuncsBUnspecified))\n",
    "GBUnspecified = getMetricsContra(curvFuncsBUnspecifiedAsVec)"
   ]
  },
  {
   "cell_type": "markdown",
   "metadata": {},
   "source": [
    "# Specifying the undetermined coefficients in B"
   ]
  },
  {
   "cell_type": "markdown",
   "metadata": {},
   "source": [
    "We now set\n",
    "\n",
    "<span style=\"color:red\"><span style=\"font-size:150%\">Note: Manual insertion in cell below!</span></span>"
   ]
  },
  {
   "cell_type": "code",
   "execution_count": null,
   "metadata": {
    "collapsed": false
   },
   "outputs": [],
   "source": [
    "replacement = [(bx, 1)]\n",
    "display(Eq(replacement[0][0], replacement[0][1]))\n",
    "invCoordBSpecified = OrderedDict.fromkeys(curvCoords)"
   ]
  },
  {
   "cell_type": "markdown",
   "metadata": {},
   "source": [
    "This gives the coordinates"
   ]
  },
  {
   "cell_type": "code",
   "execution_count": null,
   "metadata": {
    "collapsed": false
   },
   "outputs": [],
   "source": [
    "curvFuncsBSpecified = []\n",
    "eqs = []\n",
    "for coord in invCoordBSpecified.keys():\n",
    "    invCoordBSpecified[coord] = simplify(invCoordBUnspecified[coord].subs(replacement))\n",
    "    eqs.append(Eq(coord, invCoordBSpecified[coord]))\n",
    "    curvFuncsBSpecified.append(invCoordBSpecified[coord])\n",
    "\n",
    "    \n",
    "printVec(invCoordBSpecified)"
   ]
  },
  {
   "cell_type": "markdown",
   "metadata": {},
   "source": [
    "With the inverse"
   ]
  },
  {
   "cell_type": "code",
   "execution_count": null,
   "metadata": {
    "collapsed": false
   },
   "outputs": [],
   "source": [
    "sol = solve(eqs, cart)\n",
    "replaceToNewSystem = []\n",
    "for coord, RHS in zip(cart, sol[0]):\n",
    "    replaceToNewSystem.append((coord, RHS))\n",
    "    display(Eq(coord, RHS))"
   ]
  },
  {
   "cell_type": "markdown",
   "metadata": {},
   "source": [
    "### The resulting jacobian"
   ]
  },
  {
   "cell_type": "code",
   "execution_count": null,
   "metadata": {
    "collapsed": false
   },
   "outputs": [],
   "source": [
    "J = getJacobian(list(curvFuncsBSpecified))\n",
    "display(Eq(symbols('J'), J))"
   ]
  },
  {
   "cell_type": "markdown",
   "metadata": {},
   "source": [
    "### The resulting contravariant metric coefficients"
   ]
  },
  {
   "cell_type": "code",
   "execution_count": null,
   "metadata": {
    "collapsed": false,
    "scrolled": true
   },
   "outputs": [],
   "source": [
    "curvFuncsBSpecifiedAsVec = OrderedDict(zip(curvCoords, curvFuncsBSpecified))\n",
    "GBSpecified = getMetricsContra(curvFuncsBSpecifiedAsVec)"
   ]
  },
  {
   "cell_type": "markdown",
   "metadata": {},
   "source": [
    "Written in our new coordinate system"
   ]
  },
  {
   "cell_type": "code",
   "execution_count": null,
   "metadata": {
    "collapsed": false
   },
   "outputs": [],
   "source": [
    "mCon = transformMetrics(GBSpecified, replaceToNewSystem)"
   ]
  },
  {
   "cell_type": "markdown",
   "metadata": {},
   "source": [
    "### The resulting covariant metric coefficients"
   ]
  },
  {
   "cell_type": "code",
   "execution_count": null,
   "metadata": {
    "collapsed": false
   },
   "outputs": [],
   "source": [
    "curvFuncsBSpecifiedAsVec = OrderedDict(zip(curvCoords, curvFuncsBSpecified))\n",
    "GBSpecifiedCov = getMetricsCov(curvFuncsBSpecifiedAsVec, J)"
   ]
  },
  {
   "cell_type": "markdown",
   "metadata": {},
   "source": [
    "Written in our new coordinate system"
   ]
  },
  {
   "cell_type": "code",
   "execution_count": null,
   "metadata": {
    "collapsed": false
   },
   "outputs": [],
   "source": [
    "mCov = transformMetrics(GBSpecifiedCov, replaceToNewSystem, cov=True)"
   ]
  },
  {
   "cell_type": "markdown",
   "metadata": {},
   "source": [
    "### Checking the result\n",
    "We should have that\n",
    "$$g_{ij}g^{jk}=\\delta_i^k$$"
   ]
  },
  {
   "cell_type": "code",
   "execution_count": null,
   "metadata": {
    "collapsed": false
   },
   "outputs": [],
   "source": [
    "I = matrixMul(GBSpecifiedCov, GBSpecified)"
   ]
  },
  {
   "cell_type": "markdown",
   "metadata": {},
   "source": [
    "### The resulting Christoffel symbols"
   ]
  },
  {
   "cell_type": "code",
   "execution_count": null,
   "metadata": {
    "collapsed": false
   },
   "outputs": [],
   "source": [
    "C = getChristoffel(cov = GBSpecifiedCov, con = GBSpecified)"
   ]
  },
  {
   "cell_type": "markdown",
   "metadata": {},
   "source": [
    "### The resulting stream lines"
   ]
  },
  {
   "cell_type": "code",
   "execution_count": null,
   "metadata": {
    "collapsed": false,
    "scrolled": true
   },
   "outputs": [],
   "source": [
    "# Complex number denotes number of points\n",
    "Y, X = np.mgrid[0:1:100j, 0:1:100j]\n",
    "# Specifying the vector\n",
    "U = V = X\n",
    "fig1, (ax1) = plt.subplots(ncols=1)\n",
    "ax1.grid()\n",
    "sp = ax1.streamplot(X, Y, U, V)"
   ]
  },
  {
   "cell_type": "markdown",
   "metadata": {},
   "source": [
    "## Concluding remarks\n",
    "\n",
    "The sytem found here will exercise all the Christoffel symbols (although $\\Gamma^\\gamma_{\\alpha\\alpha}=0$). \n",
    "\n",
    "If we interchange\n",
    "$$\\alpha \\to -\\beta$$\n",
    "(minus due to the cross product $\\nabla \\alpha \\times \\nabla \\beta$) and\n",
    "$$\\beta \\to \\alpha$$\n",
    "we will get the same system, but we will exercise other derivatives."
   ]
  },
  {
   "cell_type": "markdown",
   "metadata": {},
   "source": [
    "# Copyable when verifying in BOUT++"
   ]
  },
  {
   "cell_type": "code",
   "execution_count": null,
   "metadata": {
    "collapsed": false
   },
   "outputs": [],
   "source": [
    "def printBOUTinpCon(mCon, replacements, inpReplacements):\n",
    "    for firstCoord in mCon.keys():\n",
    "        for secondCoord in mCon[firstCoord].keys():\n",
    "            c1 = str(firstCoord)\n",
    "            c2 = str(secondCoord)\n",
    "            formula = str(mCon[firstCoord][secondCoord])\n",
    "            for replacement in replacements:\n",
    "                c1 = c1.replace(replacement[0], replacement[1])\n",
    "                c2 = c2.replace(replacement[0], replacement[1])\n",
    "            for replacement in inpReplacements:\n",
    "                formula = formula.replace(replacement[0], replacement[1])\n",
    "            print(\"g{0}{1} = {2}\".format(c1,c2,formula))"
   ]
  },
  {
   "cell_type": "code",
   "execution_count": null,
   "metadata": {
    "collapsed": false
   },
   "outputs": [],
   "source": [
    "def printBOUTinpCov(mCov, replacements, inpReplacements):\n",
    "    for firstCoord in mCov.keys():\n",
    "        for secondCoord in mCov[firstCoord].keys():\n",
    "            c1 = str(firstCoord)\n",
    "            c2 = str(secondCoord)\n",
    "            formula = str(mCov[firstCoord][secondCoord])\n",
    "            for replacement in replacements:\n",
    "                c1 = c1.replace(replacement[0], replacement[1])\n",
    "                c2 = c2.replace(replacement[0], replacement[1])\n",
    "            for replacement in inpReplacements:\n",
    "                formula = formula.replace(replacement[0], replacement[1])\n",
    "            print(\"g_{0}{1} = {2}\".format(c1,c2,formula))"
   ]
  },
  {
   "cell_type": "code",
   "execution_count": null,
   "metadata": {
    "collapsed": false
   },
   "outputs": [],
   "source": [
    "def printChristoffel(C, replacements):\n",
    "    for firstCoord in C.keys():\n",
    "        for secondCoord in C[firstCoord].keys():\n",
    "            for thirdCoord in C[firstCoord][secondCoord].keys():\n",
    "                c1 = str(firstCoord)\n",
    "                c2 = str(secondCoord)\n",
    "                c3 = str(thirdCoord)\n",
    "                for replacement in replacements:\n",
    "                    c1 = c1.replace(replacement[0], replacement[1])\n",
    "                    c2 = c2.replace(replacement[0], replacement[1])\n",
    "                    c3 = c3.replace(replacement[0], replacement[1])\n",
    "                symb = \"G{0}_{1}{2}\".format(c1, c2, c3)\n",
    "                print(\"{0} = {1}\".format(symb ,C[firstCoord][secondCoord][thirdCoord]))"
   ]
  },
  {
   "cell_type": "markdown",
   "metadata": {},
   "source": [
    "## Using the original system"
   ]
  },
  {
   "cell_type": "code",
   "execution_count": null,
   "metadata": {
    "collapsed": true
   },
   "outputs": [],
   "source": [
    "replacements = [(\"alpha\",\"1\"), (\"beta\",\"2\"), (\"gamma\",\"3\")]\n",
    "inpReplacements = [(\"**\", \"^\"), (\"alpha\", \"geom:xl\")]"
   ]
  },
  {
   "cell_type": "markdown",
   "metadata": {},
   "source": [
    "The covariant metric tensor is inserted in the BOUT.inp file"
   ]
  },
  {
   "cell_type": "code",
   "execution_count": null,
   "metadata": {
    "collapsed": false
   },
   "outputs": [],
   "source": [
    "printBOUTinpCon(mCon, replacements, inpReplacements)"
   ]
  },
  {
   "cell_type": "markdown",
   "metadata": {},
   "source": [
    "The contravariant metric tensor is inserted in the BOUT.inp file"
   ]
  },
  {
   "cell_type": "code",
   "execution_count": null,
   "metadata": {
    "collapsed": false
   },
   "outputs": [],
   "source": [
    "printBOUTinpCov(mCov, replacements, inpReplacements)"
   ]
  },
  {
   "cell_type": "markdown",
   "metadata": {},
   "source": [
    "The Christoffel symbols can be checked by saving the Christoffel symbols into an output file in a BOUT++ run, and compare the output with the Christoffel symbols found here."
   ]
  },
  {
   "cell_type": "code",
   "execution_count": null,
   "metadata": {
    "collapsed": false
   },
   "outputs": [],
   "source": [
    "printChristoffel(C, replacements)"
   ]
  },
  {
   "cell_type": "markdown",
   "metadata": {},
   "source": [
    "## Using the $\\alpha \\to -\\beta$ and $\\beta \\to \\alpha$ system"
   ]
  }
 ],
 "metadata": {
  "kernelspec": {
   "display_name": "Python 3",
   "language": "python",
   "name": "python3"
  },
  "language_info": {
   "codemirror_mode": {
    "name": "ipython",
    "version": 3
   },
   "file_extension": ".py",
   "mimetype": "text/x-python",
   "name": "python",
   "nbconvert_exporter": "python",
   "pygments_lexer": "ipython3",
   "version": "3.5.1"
  }
 },
 "nbformat": 4,
 "nbformat_minor": 0
}
