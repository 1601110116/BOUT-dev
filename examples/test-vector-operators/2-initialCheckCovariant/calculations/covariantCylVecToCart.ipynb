{
 "cells": [
  {
   "cell_type": "markdown",
   "metadata": {
    "collapsed": true
   },
   "source": [
    "# Covariant cylindrical vector transformed to cartesian\n",
    "\n",
    "We will in this notebook transfor a covariant cylindrical vector to cartesian coordinates.\n",
    "\n",
    "A covariant vector transforms as\n",
    "\n",
    "$$\n",
    "(A')_i=\\frac{\\partial x^j}{\\partial (x')^i}A_j\n",
    "$$\n",
    "\n",
    "where the prime $'$ refers to quantities with in the new coordinate system."
   ]
  },
  {
   "cell_type": "code",
   "execution_count": 6,
   "metadata": {
    "collapsed": true
   },
   "outputs": [],
   "source": [
    "from collections import OrderedDict\n",
    "from sympy import init_printing\n",
    "from sympy import symbols, simplify, solve\n",
    "from sympy import Eq\n",
    "from sympy import exp, sqrt, atan, cos, sin\n",
    "import re\n",
    "from IPython.display import display\n",
    "\n",
    "init_printing()"
   ]
  },
  {
   "cell_type": "code",
   "execution_count": 7,
   "metadata": {
    "collapsed": false
   },
   "outputs": [],
   "source": [
    "rho = symbols('rho', positive = True)\n",
    "theta, z = symbols('theta, z', real = True)\n",
    "x, y, z = symbols('x, y, z', real = True)\n",
    "A_rho, A_theta, A_z = symbols('A_rho, A_theta, A_z', real = True)\n",
    "cylSymb = [rho, theta, z]\n",
    "A_Symb = [A_rho, A_theta, A_z]"
   ]
  },
  {
   "cell_type": "markdown",
   "metadata": {},
   "source": [
    "The transform"
   ]
  },
  {
   "cell_type": "code",
   "execution_count": 8,
   "metadata": {
    "collapsed": false
   },
   "outputs": [
    {
     "data": {
      "image/png": "[encoded data removed]",
      "text/latex": [
       "$$\\rho = \\sqrt{x^{2} + y^{2}}$$"
      ],
      "text/plain": [
       "       _________\n",
       "      ╱  2    2 \n",
       "ρ = ╲╱  x  + y  "
      ]
     },
     "metadata": {},
     "output_type": "display_data"
    },
    {
     "data": {
      "image/png": "[encoded data removed]",
      "text/latex": [
       "$$\\theta = \\operatorname{atan}{\\left (\\frac{y}{x} \\right )}$$"
      ],
      "text/plain": [
       "        ⎛y⎞\n",
       "θ = atan⎜─⎟\n",
       "        ⎝x⎠"
      ]
     },
     "metadata": {},
     "output_type": "display_data"
    },
    {
     "data": {
      "image/png": "[encoded data removed]",
      "text/latex": [
       "$$\\mathrm{True}$$"
      ],
      "text/plain": [
       "True"
      ]
     },
     "metadata": {},
     "output_type": "display_data"
    }
   ],
   "source": [
    "cylToCart = OrderedDict([(rho,sqrt(x**2+y**2)),\n",
    "                         (theta, atan(y/x)),\n",
    "                         (z, 1*z)])\n",
    "\n",
    "for coord in cylToCart.keys():\n",
    "    display(Eq(coord,cylToCart[coord]))\n",
    "    "
   ]
  },
  {
   "cell_type": "markdown",
   "metadata": {},
   "source": [
    "The inverse transform"
   ]
  },
  {
   "cell_type": "code",
   "execution_count": 9,
   "metadata": {
    "collapsed": false
   },
   "outputs": [
    {
     "data": {
      "image/png": "[encoded data removed]",
      "text/latex": [
       "$$x = \\rho \\cos{\\left (\\theta \\right )}$$"
      ],
      "text/plain": [
       "x = ρ⋅cos(θ)"
      ]
     },
     "metadata": {},
     "output_type": "display_data"
    },
    {
     "data": {
      "image/png": "[encoded data removed]",
      "text/latex": [
       "$$y = \\rho \\sin{\\left (\\theta \\right )}$$"
      ],
      "text/plain": [
       "y = ρ⋅sin(θ)"
      ]
     },
     "metadata": {},
     "output_type": "display_data"
    },
    {
     "data": {
      "image/png": "[encoded data removed]",
      "text/latex": [
       "$$\\mathrm{True}$$"
      ],
      "text/plain": [
       "True"
      ]
     },
     "metadata": {},
     "output_type": "display_data"
    }
   ],
   "source": [
    "cartToCyl = OrderedDict([(x, rho*cos(theta)),\n",
    "                         (y, rho*sin(theta)),\n",
    "                         (z, z)])\n",
    "\n",
    "for coord in cartToCyl.keys():\n",
    "    display(Eq(coord,cartToCyl[coord]))"
   ]
  },
  {
   "cell_type": "markdown",
   "metadata": {},
   "source": [
    "Covariant components written in cylindrical coordinates"
   ]
  },
  {
   "cell_type": "code",
   "execution_count": 10,
   "metadata": {
    "collapsed": false
   },
   "outputs": [
    {
     "data": {
      "image/png": "[encoded data removed]",
      "text/latex": [
       "$$v_{x} = \\frac{A_{\\rho} x}{\\sqrt{x^{2} + y^{2}}} - \\frac{A_{\\theta} y}{x^{2} \\left(1 + \\frac{y^{2}}{x^{2}}\\right)}$$"
      ],
      "text/plain": [
       "         Aᵨ⋅x         Aₜₕₑₜₐ⋅y \n",
       "vₓ = ──────────── - ───────────\n",
       "        _________      ⎛     2⎞\n",
       "       ╱  2    2     2 ⎜    y ⎟\n",
       "     ╲╱  x  + y     x ⋅⎜1 + ──⎟\n",
       "                       ⎜     2⎟\n",
       "                       ⎝    x ⎠"
      ]
     },
     "metadata": {},
     "output_type": "display_data"
    },
    {
     "data": {
      "image/png": "[encoded data removed]",
      "text/latex": [
       "$$v_{y} = \\frac{A_{\\rho} y}{\\sqrt{x^{2} + y^{2}}} + \\frac{A_{\\theta}}{x \\left(1 + \\frac{y^{2}}{x^{2}}\\right)}$$"
      ],
      "text/plain": [
       "          Aᵨ⋅y         Aₜₕₑₜₐ  \n",
       "v_y = ──────────── + ──────────\n",
       "         _________     ⎛     2⎞\n",
       "        ╱  2    2      ⎜    y ⎟\n",
       "      ╲╱  x  + y     x⋅⎜1 + ──⎟\n",
       "                       ⎜     2⎟\n",
       "                       ⎝    x ⎠"
      ]
     },
     "metadata": {},
     "output_type": "display_data"
    },
    {
     "data": {
      "image/png": "[encoded data removed]",
      "text/latex": [
       "$$v_{z} = A_{z}$$"
      ],
      "text/plain": [
       "v_z = A_z"
      ]
     },
     "metadata": {},
     "output_type": "display_data"
    }
   ],
   "source": [
    "cartTemplateCyl = OrderedDict.fromkeys(cartToCyl)\n",
    "for coord in cartTemplateCyl.keys():\n",
    "    cartTemplateCyl[coord]  = 0\n",
    "    for cart, A in zip(cylSymb, A_Symb):\n",
    "        cartTemplateCyl[coord]  += A*cylToCart[cart].diff(coord)\n",
    "    display(Eq(symbols('v_'+str(coord)), cartTemplateCyl[coord]))"
   ]
  }
 ],
 "metadata": {
  "kernelspec": {
   "display_name": "Python 3",
   "language": "python",
   "name": "python3"
  },
  "language_info": {
   "codemirror_mode": {
    "name": "ipython",
    "version": 3
   },
   "file_extension": ".py",
   "mimetype": "text/x-python",
   "name": "python",
   "nbconvert_exporter": "python",
   "pygments_lexer": "ipython3",
   "version": "3.5.1"
  }
 },
 "nbformat": 4,
 "nbformat_minor": 0
}
