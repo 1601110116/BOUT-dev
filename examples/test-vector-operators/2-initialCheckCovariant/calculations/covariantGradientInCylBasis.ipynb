{
 "cells": [
  {
   "cell_type": "markdown",
   "metadata": {},
   "source": [
    "# Calculation of the the gradient in cylindrical coordinates using a covariant basis\n",
    "\n",
    "The strategy is to\n",
    "\n",
    "* Calculate the vector in cartesian coordinates\n",
    "* Transform them to a covariantly (the elements) cylindrical vector\n",
    "\n",
    "This way is chosen as the differential geometry package currently misses out the differential operations.\n",
    "We will use a simple stupid approach, as that is what we need for these simple tasks"
   ]
  },
  {
   "cell_type": "code",
   "execution_count": 1,
   "metadata": {
    "collapsed": true
   },
   "outputs": [],
   "source": [
    "from collections import OrderedDict\n",
    "from sympy import init_printing\n",
    "from sympy import symbols, simplify, solve\n",
    "from sympy import Eq\n",
    "from sympy import exp, sqrt, atan, cos, sin\n",
    "import re\n",
    "from IPython.display import display\n",
    "\n",
    "init_printing()"
   ]
  },
  {
   "cell_type": "markdown",
   "metadata": {},
   "source": [
    "Define symbols"
   ]
  },
  {
   "cell_type": "code",
   "execution_count": 2,
   "metadata": {
    "collapsed": true
   },
   "outputs": [],
   "source": [
    "mu = symbols('mu', positive = True)\n",
    "rho, rho0, z, z0 = symbols('rho, rho0, z, z0', positive = True)\n",
    "theta, theta0 = symbols('theta, theta0', real = True)\n",
    "x, y, z = symbols('x, y, z', real = True)\n",
    "x0, y0, z0 = symbols('x0, y0, z0', real = True)\n",
    "A_x, A_y, A_z = symbols('A_x, A_y, A_z', real = True)\n",
    "cart_symb = [x, y, z]\n",
    "A_symb = [A_x, A_y, A_z]"
   ]
  },
  {
   "cell_type": "markdown",
   "metadata": {},
   "source": [
    "## Making a vector template\n",
    "\n",
    "We will here make a \"template\" for the vectors, which we can use to replace components with."
   ]
  },
  {
   "cell_type": "markdown",
   "metadata": {},
   "source": [
    "Define our maps"
   ]
  },
  {
   "cell_type": "code",
   "execution_count": 3,
   "metadata": {
    "collapsed": false,
    "scrolled": false
   },
   "outputs": [
    {
     "data": {
      "image/png": "[encoded data removed]",
      "text/latex": [
       "$$\\rho = \\sqrt{x^{2} + y^{2}}$$"
      ],
      "text/plain": [
       "       _________\n",
       "      ╱  2    2 \n",
       "ρ = ╲╱  x  + y  "
      ]
     },
     "metadata": {},
     "output_type": "display_data"
    },
    {
     "data": {
      "image/png": "[encoded data removed]",
      "text/latex": [
       "$$\\theta = \\operatorname{atan}{\\left (\\frac{y}{x} \\right )}$$"
      ],
      "text/plain": [
       "        ⎛y⎞\n",
       "θ = atan⎜─⎟\n",
       "        ⎝x⎠"
      ]
     },
     "metadata": {},
     "output_type": "display_data"
    },
    {
     "data": {
      "image/png": "[encoded data removed]",
      "text/latex": [
       "$$\\mathrm{True}$$"
      ],
      "text/plain": [
       "True"
      ]
     },
     "metadata": {},
     "output_type": "display_data"
    }
   ],
   "source": [
    "cylToCart = OrderedDict([(rho,sqrt(x**2+y**2)),\n",
    "                         (theta, atan(y/x)),\n",
    "                         (z, 1*z)])\n",
    "\n",
    "for coord in cylToCart.keys():\n",
    "    display(Eq(coord,cylToCart[coord]))"
   ]
  },
  {
   "cell_type": "markdown",
   "metadata": {},
   "source": [
    "Unfortunately, the following gives unsatisfactory results (gives two solution where it should have been only one)\n",
    "\n",
    "```python\n",
    "# As z = z => True, we need to cast the coordinate to symbols(str())\n",
    "eqs = tuple([Eq(symbols(str(coord)), cylToCart[coord]) for coord in cylToCart.keys()])\n",
    "sol = solve(eqs, x, y, z)\n",
    "display(sol)\n",
    "```\n",
    "\n",
    "Instead, the inverse map needs to be inserted manually"
   ]
  },
  {
   "cell_type": "markdown",
   "metadata": {},
   "source": [
    "Manually insert the inverse transform"
   ]
  },
  {
   "cell_type": "markdown",
   "metadata": {},
   "source": [
    "Normal transform"
   ]
  },
  {
   "cell_type": "code",
   "execution_count": 4,
   "metadata": {
    "collapsed": false
   },
   "outputs": [
    {
     "data": {
      "image/png": "[encoded data removed]",
      "text/latex": [
       "$$x = \\rho \\cos{\\left (\\theta \\right )}$$"
      ],
      "text/plain": [
       "x = ρ⋅cos(θ)"
      ]
     },
     "metadata": {},
     "output_type": "display_data"
    },
    {
     "data": {
      "image/png": "[encoded data removed]",
      "text/latex": [
       "$$y = \\rho \\sin{\\left (\\theta \\right )}$$"
      ],
      "text/plain": [
       "y = ρ⋅sin(θ)"
      ]
     },
     "metadata": {},
     "output_type": "display_data"
    },
    {
     "data": {
      "image/png": "[encoded data removed]",
      "text/latex": [
       "$$\\mathrm{True}$$"
      ],
      "text/plain": [
       "True"
      ]
     },
     "metadata": {},
     "output_type": "display_data"
    }
   ],
   "source": [
    "cartToCyl = OrderedDict([(x, rho*cos(theta)),\n",
    "                         (y, rho*sin(theta)),\n",
    "                         (z, z)])\n",
    "\n",
    "for coord in cartToCyl.keys():\n",
    "    display(Eq(coord,cartToCyl[coord]))"
   ]
  },
  {
   "cell_type": "markdown",
   "metadata": {},
   "source": [
    "Transform for the $_0$ components"
   ]
  },
  {
   "cell_type": "code",
   "execution_count": 5,
   "metadata": {
    "collapsed": false
   },
   "outputs": [
    {
     "data": {
      "image/png": "[encoded data removed]",
      "text/latex": [
       "$$x_{0} = \\rho_{0} \\cos{\\left (\\theta_{0} \\right )}$$"
      ],
      "text/plain": [
       "x₀ = ρ₀⋅cos(θ₀)"
      ]
     },
     "metadata": {},
     "output_type": "display_data"
    },
    {
     "data": {
      "image/png": "[encoded data removed]",
      "text/latex": [
       "$$y_{0} = \\rho_{0} \\sin{\\left (\\theta_{0} \\right )}$$"
      ],
      "text/plain": [
       "y₀ = ρ₀⋅sin(θ₀)"
      ]
     },
     "metadata": {},
     "output_type": "display_data"
    },
    {
     "data": {
      "image/png": "[encoded data removed]",
      "text/latex": [
       "$$\\mathrm{True}$$"
      ],
      "text/plain": [
       "True"
      ]
     },
     "metadata": {},
     "output_type": "display_data"
    }
   ],
   "source": [
    "cartToCyl0 = OrderedDict([(x0, rho0*cos(theta0)),\n",
    "                          (y0, rho0*sin(theta0)),\n",
    "                          (z0, z0)])\n",
    "\n",
    "for coord in cartToCyl0.keys():\n",
    "    display(Eq(coord,cartToCyl0[coord]))"
   ]
  },
  {
   "cell_type": "markdown",
   "metadata": {},
   "source": [
    "A covariant vector transforms as\n",
    "\n",
    "$$\n",
    "(A')_i=\\frac{\\partial x^j}{\\partial (x')^i}A_j\n",
    "$$\n",
    "\n",
    "where the prime $'$ refers to quantities with in the new coordinate system.\n",
    "\n",
    "This gives us"
   ]
  },
  {
   "cell_type": "markdown",
   "metadata": {},
   "source": [
    "Covariant components written in cartesian coordinates"
   ]
  },
  {
   "cell_type": "code",
   "execution_count": 6,
   "metadata": {
    "collapsed": false
   },
   "outputs": [
    {
     "data": {
      "image/png": "[encoded data removed]",
      "text/latex": [
       "$$v_{\\rho} = A_{x} \\cos{\\left (\\theta \\right )} + A_{y} \\sin{\\left (\\theta \\right )}$$"
      ],
      "text/plain": [
       "vᵨ = Aₓ⋅cos(θ) + A_y⋅sin(θ)"
      ]
     },
     "metadata": {},
     "output_type": "display_data"
    },
    {
     "data": {
      "image/png": "[encoded data removed]",
      "text/latex": [
       "$$v_{\\theta} = - A_{x} \\rho \\sin{\\left (\\theta \\right )} + A_{y} \\rho \\cos{\\left (\\theta \\right )}$$"
      ],
      "text/plain": [
       "vₜₕₑₜₐ = -Aₓ⋅ρ⋅sin(θ) + A_y⋅ρ⋅cos(θ)"
      ]
     },
     "metadata": {},
     "output_type": "display_data"
    },
    {
     "data": {
      "image/png": "[encoded data removed]",
      "text/latex": [
       "$$v_{z} = A_{z}$$"
      ],
      "text/plain": [
       "v_z = A_z"
      ]
     },
     "metadata": {},
     "output_type": "display_data"
    }
   ],
   "source": [
    "cylTemplateCyl = OrderedDict.fromkeys(cylToCart)\n",
    "for coord in cylTemplateCyl.keys():\n",
    "    cylTemplateCyl[coord]  = 0\n",
    "    for cart, A in zip(cart_symb, A_symb):\n",
    "        cylTemplateCyl[coord]  += A*cartToCyl[cart].diff(coord)\n",
    "    display(Eq(symbols('v_'+str(coord)),cylTemplateCyl[coord]))"
   ]
  },
  {
   "cell_type": "markdown",
   "metadata": {},
   "source": [
    "## Gradient of the function\n",
    "\n",
    "We will here take the cartesian gradient of a function, which we will use to generate our vector."
   ]
  },
  {
   "cell_type": "markdown",
   "metadata": {},
   "source": [
    "Define our function to take the gradient of (in cartesian coordinates)"
   ]
  },
  {
   "cell_type": "code",
   "execution_count": 7,
   "metadata": {
    "collapsed": false
   },
   "outputs": [
    {
     "data": {
      "image/png": "[encoded data removed]",
      "text/latex": [
       "$$f = e^{\\frac{1}{\\mu^{2}} \\left(- \\left(x - x_{0}\\right)^{2} - \\left(y - y_{0}\\right)^{2} - \\left(z - z_{0}\\right)^{2}\\right)}$$"
      ],
      "text/plain": [
       "               2           2           2\n",
       "     - (x - x₀)  - (y - y₀)  - (z - z₀) \n",
       "     ───────────────────────────────────\n",
       "                       2                \n",
       "                      μ                 \n",
       "f = ℯ                                   "
      ]
     },
     "metadata": {},
     "output_type": "display_data"
    }
   ],
   "source": [
    "f = exp(-((x - x0)**2 + (y - y0)**2 + (z-z0)**2)/mu**2)\n",
    "display(Eq(symbols('f'), f))"
   ]
  },
  {
   "cell_type": "markdown",
   "metadata": {},
   "source": [
    "We now calculate the divergence in cartesian coordinates"
   ]
  },
  {
   "cell_type": "code",
   "execution_count": 8,
   "metadata": {
    "collapsed": false
   },
   "outputs": [
    {
     "data": {
      "image/png": "[encoded data removed]",
      "text/latex": [
       "$$A_{x} = \\frac{2}{\\mu^{2}} \\left(- x + x_{0}\\right) e^{\\frac{1}{\\mu^{2}} \\left(- \\left(x - x_{0}\\right)^{2} - \\left(y - y_{0}\\right)^{2} - \\left(z - z_{0}\\right)^{2}\\right)}$$"
      ],
      "text/plain": [
       "                            2           2           2\n",
       "                  - (x - x₀)  - (y - y₀)  - (z - z₀) \n",
       "                  ───────────────────────────────────\n",
       "                                    2                \n",
       "                                   μ                 \n",
       "     2⋅(-x + x₀)⋅ℯ                                   \n",
       "Aₓ = ────────────────────────────────────────────────\n",
       "                             2                       \n",
       "                            μ                        "
      ]
     },
     "metadata": {},
     "output_type": "display_data"
    },
    {
     "data": {
      "image/png": "[encoded data removed]",
      "text/latex": [
       "$$A_{y} = \\frac{2}{\\mu^{2}} \\left(- y + y_{0}\\right) e^{\\frac{1}{\\mu^{2}} \\left(- \\left(x - x_{0}\\right)^{2} - \\left(y - y_{0}\\right)^{2} - \\left(z - z_{0}\\right)^{2}\\right)}$$"
      ],
      "text/plain": [
       "                             2           2           2\n",
       "                   - (x - x₀)  - (y - y₀)  - (z - z₀) \n",
       "                   ───────────────────────────────────\n",
       "                                     2                \n",
       "                                    μ                 \n",
       "      2⋅(-y + y₀)⋅ℯ                                   \n",
       "A_y = ────────────────────────────────────────────────\n",
       "                              2                       \n",
       "                             μ                        "
      ]
     },
     "metadata": {},
     "output_type": "display_data"
    },
    {
     "data": {
      "image/png": "[encoded data removed]",
      "text/latex": [
       "$$A_{z} = \\frac{2}{\\mu^{2}} \\left(- z + z_{0}\\right) e^{\\frac{1}{\\mu^{2}} \\left(- \\left(x - x_{0}\\right)^{2} - \\left(y - y_{0}\\right)^{2} - \\left(z - z_{0}\\right)^{2}\\right)}$$"
      ],
      "text/plain": [
       "                             2           2           2\n",
       "                   - (x - x₀)  - (y - y₀)  - (z - z₀) \n",
       "                   ───────────────────────────────────\n",
       "                                     2                \n",
       "                                    μ                 \n",
       "      2⋅(-z + z₀)⋅ℯ                                   \n",
       "A_z = ────────────────────────────────────────────────\n",
       "                              2                       \n",
       "                             μ                        "
      ]
     },
     "metadata": {},
     "output_type": "display_data"
    }
   ],
   "source": [
    "cartVec = OrderedDict([(x, simplify(f.diff(x))),\n",
    "                       (y, simplify(f.diff(y))),\n",
    "                       (z, simplify(f.diff(z)))])\n",
    "\n",
    "for coord in cartVec.keys():\n",
    "    display(Eq(symbols('A_' + str(coord)),cartVec[coord]))"
   ]
  },
  {
   "cell_type": "markdown",
   "metadata": {},
   "source": [
    "## Transform to cylindrical coordinates\n",
    "\n",
    "Now we write this in cylindrical coordinates"
   ]
  },
  {
   "cell_type": "code",
   "execution_count": 9,
   "metadata": {
    "collapsed": false
   },
   "outputs": [
    {
     "data": {
      "image/png": "[encoded data removed]",
      "text/latex": [
       "$$A_{x} = \\frac{2}{\\mu^{2}} \\left(- \\rho \\cos{\\left (\\theta \\right )} + \\rho_{0} \\cos{\\left (\\theta_{0} \\right )}\\right) e^{\\frac{1}{\\mu^{2}} \\left(- \\rho^{2} + 2 \\rho \\rho_{0} \\cos{\\left (\\theta - \\theta_{0} \\right )} - \\rho_{0}^{2} - z^{2} + 2 z z_{0} - z_{0}^{2}\\right)}$$"
      ],
      "text/plain": [
       "                                    2                          2    2         \n",
       "                                 - ρ  + 2⋅ρ⋅ρ₀⋅cos(θ - θ₀) - ρ₀  - z  + 2⋅z⋅z₀\n",
       "                                 ─────────────────────────────────────────────\n",
       "                                                           2                  \n",
       "                                                          μ                   \n",
       "     2⋅(-ρ⋅cos(θ) + ρ₀⋅cos(θ₀))⋅ℯ                                             \n",
       "Aₓ = ─────────────────────────────────────────────────────────────────────────\n",
       "                                             2                                \n",
       "                                            μ                                 \n",
       "\n",
       "     2\n",
       " - z₀ \n",
       "──────\n",
       "      \n",
       "      \n",
       "      \n",
       "──────\n",
       "      \n",
       "      "
      ]
     },
     "metadata": {},
     "output_type": "display_data"
    },
    {
     "data": {
      "image/png": "[encoded data removed]",
      "text/latex": [
       "$$A_{y} = \\frac{2}{\\mu^{2}} \\left(- \\rho \\sin{\\left (\\theta \\right )} + \\rho_{0} \\sin{\\left (\\theta_{0} \\right )}\\right) e^{\\frac{1}{\\mu^{2}} \\left(- \\rho^{2} + 2 \\rho \\rho_{0} \\cos{\\left (\\theta - \\theta_{0} \\right )} - \\rho_{0}^{2} - z^{2} + 2 z z_{0} - z_{0}^{2}\\right)}$$"
      ],
      "text/plain": [
       "                                     2                          2    2        \n",
       "                                  - ρ  + 2⋅ρ⋅ρ₀⋅cos(θ - θ₀) - ρ₀  - z  + 2⋅z⋅z\n",
       "                                  ────────────────────────────────────────────\n",
       "                                                            2                 \n",
       "                                                           μ                  \n",
       "      2⋅(-ρ⋅sin(θ) + ρ₀⋅sin(θ₀))⋅ℯ                                            \n",
       "A_y = ────────────────────────────────────────────────────────────────────────\n",
       "                                              2                               \n",
       "                                             μ                                \n",
       "\n",
       "      2\n",
       "₀ - z₀ \n",
       "───────\n",
       "       \n",
       "       \n",
       "       \n",
       "───────\n",
       "       \n",
       "       "
      ]
     },
     "metadata": {},
     "output_type": "display_data"
    },
    {
     "data": {
      "image/png": "[encoded data removed]",
      "text/latex": [
       "$$A_{z} = \\frac{2}{\\mu^{2}} \\left(- z + z_{0}\\right) e^{\\frac{1}{\\mu^{2}} \\left(- \\rho^{2} + 2 \\rho \\rho_{0} \\cos{\\left (\\theta - \\theta_{0} \\right )} - \\rho_{0}^{2} - z^{2} + 2 z z_{0} - z_{0}^{2}\\right)}$$"
      ],
      "text/plain": [
       "                      2                          2    2              2\n",
       "                   - ρ  + 2⋅ρ⋅ρ₀⋅cos(θ - θ₀) - ρ₀  - z  + 2⋅z⋅z₀ - z₀ \n",
       "                   ───────────────────────────────────────────────────\n",
       "                                             2                        \n",
       "                                            μ                         \n",
       "      2⋅(-z + z₀)⋅ℯ                                                   \n",
       "A_z = ────────────────────────────────────────────────────────────────\n",
       "                                      2                               \n",
       "                                     μ                                "
      ]
     },
     "metadata": {},
     "output_type": "display_data"
    }
   ],
   "source": [
    "replace =  [(coord, cartToCyl[coord]) for coord in cartToCyl.keys()]\n",
    "replace0 = [(coord, cartToCyl0[coord]) for coord in cartToCyl0.keys()]\n",
    "cartVecCyl = cartVec.copy()\n",
    "for coord in cartVec.keys():\n",
    "    cartVecCyl[coord] = cartVecCyl[coord].subs(replace)\n",
    "    cartVecCyl[coord] = simplify(cartVecCyl[coord].subs(replace0))\n",
    "    display(Eq(symbols('A_'+str(coord)),cartVecCyl[coord]))"
   ]
  },
  {
   "cell_type": "markdown",
   "metadata": {},
   "source": [
    "We now insert $A_i$ in the $v_j$ components"
   ]
  },
  {
   "cell_type": "code",
   "execution_count": 10,
   "metadata": {
    "collapsed": false
   },
   "outputs": [
    {
     "data": {
      "image/png": "[encoded data removed]",
      "text/latex": [
       "$$v_{\\rho} = \\frac{2}{\\mu^{2}} \\left(- \\rho + \\rho_{0} \\cos{\\left (\\theta - \\theta_{0} \\right )}\\right) e^{\\frac{1}{\\mu^{2}} \\left(- \\rho^{2} + 2 \\rho \\rho_{0} \\cos{\\left (\\theta - \\theta_{0} \\right )} - \\rho_{0}^{2} - z^{2} + 2 z z_{0} - z_{0}^{2}\\right)}$$"
      ],
      "text/plain": [
       "                                 2                          2    2            \n",
       "                              - ρ  + 2⋅ρ⋅ρ₀⋅cos(θ - θ₀) - ρ₀  - z  + 2⋅z⋅z₀ - \n",
       "                              ────────────────────────────────────────────────\n",
       "                                                        2                     \n",
       "                                                       μ                      \n",
       "     2⋅(-ρ + ρ₀⋅cos(θ - θ₀))⋅ℯ                                                \n",
       "vᵨ = ─────────────────────────────────────────────────────────────────────────\n",
       "                                           2                                  \n",
       "                                          μ                                   \n",
       "\n",
       "  2\n",
       "z₀ \n",
       "───\n",
       "   \n",
       "   \n",
       "   \n",
       "───\n",
       "   \n",
       "   "
      ]
     },
     "metadata": {},
     "output_type": "display_data"
    },
    {
     "data": {
      "image/png": "[encoded data removed]",
      "text/latex": [
       "$$v_{\\theta} = - \\frac{2 \\rho}{\\mu^{2}} \\rho_{0} e^{- \\frac{1}{\\mu^{2}} \\left(\\rho^{2} - 2 \\rho \\rho_{0} \\cos{\\left (\\theta - \\theta_{0} \\right )} + \\rho_{0}^{2} + z^{2} - 2 z z_{0} + z_{0}^{2}\\right)} \\sin{\\left (\\theta - \\theta_{0} \\right )}$$"
      ],
      "text/plain": [
       "                   ⎛ 2                          2    2              2⎞        \n",
       "                  -⎝ρ  - 2⋅ρ⋅ρ₀⋅cos(θ - θ₀) + ρ₀  + z  - 2⋅z⋅z₀ + z₀ ⎠        \n",
       "                  ─────────────────────────────────────────────────────       \n",
       "                                             2                                \n",
       "                                            μ                                 \n",
       "         -2⋅ρ⋅ρ₀⋅ℯ                                                     ⋅sin(θ \n",
       "vₜₕₑₜₐ = ─────────────────────────────────────────────────────────────────────\n",
       "                                               2                              \n",
       "                                              μ                               \n",
       "\n",
       "      \n",
       "      \n",
       "      \n",
       "      \n",
       "      \n",
       "- θ₀) \n",
       "──────\n",
       "      \n",
       "      "
      ]
     },
     "metadata": {},
     "output_type": "display_data"
    },
    {
     "data": {
      "image/png": "[encoded data removed]",
      "text/latex": [
       "$$v_{z} = \\frac{2}{\\mu^{2}} \\left(- z + z_{0}\\right) e^{\\frac{1}{\\mu^{2}} \\left(- \\rho^{2} + 2 \\rho \\rho_{0} \\cos{\\left (\\theta - \\theta_{0} \\right )} - \\rho_{0}^{2} - z^{2} + 2 z z_{0} - z_{0}^{2}\\right)}$$"
      ],
      "text/plain": [
       "                      2                          2    2              2\n",
       "                   - ρ  + 2⋅ρ⋅ρ₀⋅cos(θ - θ₀) - ρ₀  - z  + 2⋅z⋅z₀ - z₀ \n",
       "                   ───────────────────────────────────────────────────\n",
       "                                             2                        \n",
       "                                            μ                         \n",
       "      2⋅(-z + z₀)⋅ℯ                                                   \n",
       "v_z = ────────────────────────────────────────────────────────────────\n",
       "                                      2                               \n",
       "                                     μ                                "
      ]
     },
     "metadata": {},
     "output_type": "display_data"
    }
   ],
   "source": [
    "# Appendable list\n",
    "replace = []\n",
    "coords = cartVecCyl.keys()\n",
    "for A, coord in zip(A_symb, coords):\n",
    "    replace.append((A, cartVecCyl[coord]))\n",
    "\n",
    "replace = tuple(replace)\n",
    "cylVec = cylTemplateCyl.copy()\n",
    "for coord in cylVec.keys():\n",
    "    cylVec[coord] = simplify(cylVec[coord].subs(replace))\n",
    "    display(Eq(symbols('v_'+str(coord)),cylVec[coord]))"
   ]
  },
  {
   "cell_type": "markdown",
   "metadata": {},
   "source": [
    "## Paste to BOUT++\n",
    "\n",
    "We would like to be able to copy paste the above directly into BOUT++"
   ]
  },
  {
   "cell_type": "code",
   "execution_count": 11,
   "metadata": {
    "collapsed": true
   },
   "outputs": [],
   "source": [
    "def BOUTstring(string, cylindrical=False):\n",
    "    outstring = string.replace('**', '^')\n",
    "    \n",
    "    replacements = [('mu', 'cst:mu'),\n",
    "                    ('rho', 'geom:xl'),\n",
    "                    ('theta', 'z'),\n",
    "                    ('x', 'geom:xl'),\n",
    "                    ('y', 'geom:yl'),\n",
    "                    ('rho0', 'cst:rho0'),\n",
    "                    ('theta0', 'cst:theta0'),\n",
    "                    ('x0', 'cst:x0'),\n",
    "                    ('y0', 'cst:y0'),\n",
    "                    ('z0', 'cst:z0'),\n",
    "                   ]\n",
    "\n",
    "    if cylindrical:\n",
    "        # Insert this in the front, so that we don't first replace theta to z, then z to geom:yl\n",
    "        replacements.insert(0, ('z', 'geom:yl'))\n",
    "    \n",
    "    for replacement in replacements:\n",
    "        outstring = re.sub(r'\\b'+replacement[0]+r'\\b', replacement[1], outstring)\n",
    "        \n",
    "    return outstring"
   ]
  },
  {
   "cell_type": "markdown",
   "metadata": {},
   "source": [
    "Print the BOUT++ strings"
   ]
  },
  {
   "cell_type": "code",
   "execution_count": 12,
   "metadata": {
    "collapsed": false,
    "scrolled": true
   },
   "outputs": [
    {
     "name": "stdout",
     "output_type": "stream",
     "text": [
      "rho_covariant = 2*(-geom:xl + cst:rho0*cos(z - cst:theta0))*exp((-geom:xl^2 + 2*geom:xl*cst:rho0*cos(z - cst:theta0) - cst:rho0^2 - geom:yl^2 + 2*geom:yl*cst:z0 - cst:z0^2)/cst:mu^2)/cst:mu^2\n",
      "\n",
      "\n",
      "theta_covariant = -2*geom:xl*cst:rho0*exp(-(geom:xl^2 - 2*geom:xl*cst:rho0*cos(z - cst:theta0) + cst:rho0^2 + geom:yl^2 - 2*geom:yl*cst:z0 + cst:z0^2)/cst:mu^2)*sin(z - cst:theta0)/cst:mu^2\n",
      "\n",
      "\n",
      "z_covariant = 2*(-geom:yl + cst:z0)*exp((-geom:xl^2 + 2*geom:xl*cst:rho0*cos(z - cst:theta0) - cst:rho0^2 - geom:yl^2 + 2*geom:yl*cst:z0 - cst:z0^2)/cst:mu^2)/cst:mu^2\n",
      "\n",
      "\n",
      "x = 2*(-geom:xl + cst:x0)*exp((-(geom:xl - cst:x0)^2 - (geom:yl - cst:y0)^2 - (z - cst:z0)^2)/cst:mu^2)/cst:mu^2\n",
      "\n",
      "\n",
      "y = 2*(-geom:yl + cst:y0)*exp((-(geom:xl - cst:x0)^2 - (geom:yl - cst:y0)^2 - (z - cst:z0)^2)/cst:mu^2)/cst:mu^2\n",
      "\n",
      "\n",
      "z = 2*(-z + cst:z0)*exp((-(geom:xl - cst:x0)^2 - (geom:yl - cst:y0)^2 - (z - cst:z0)^2)/cst:mu^2)/cst:mu^2\n",
      "\n",
      "\n"
     ]
    }
   ],
   "source": [
    "for coord in cylVec.keys():\n",
    "    print(\"{0}_covariant = {1}\".format(coord, BOUTstring(str(cylVec[coord]), cylindrical=True)) + \"\\n\"*2)\n",
    "    \n",
    "for coord in cartVec.keys():\n",
    "    print(\"{0} = {1}\".format(coord, BOUTstring(str(cartVec[coord]))) + \"\\n\"*2)"
   ]
  }
 ],
 "metadata": {
  "kernelspec": {
   "display_name": "Python 3",
   "language": "python",
   "name": "python3"
  },
  "language_info": {
   "codemirror_mode": {
    "name": "ipython",
    "version": 3
   },
   "file_extension": ".py",
   "mimetype": "text/x-python",
   "name": "python",
   "nbconvert_exporter": "python",
   "pygments_lexer": "ipython3",
   "version": "3.5.1"
  }
 },
 "nbformat": 4,
 "nbformat_minor": 0
}
