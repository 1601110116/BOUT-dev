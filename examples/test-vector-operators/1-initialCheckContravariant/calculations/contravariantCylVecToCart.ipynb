{
 "cells": [
  {
   "cell_type": "markdown",
   "metadata": {
    "collapsed": true
   },
   "source": [
    "# Contravariant cylindrical vector transformed to cartesian\n",
    "\n",
    "We will in this notebook transfor a contravariant cylindrical vector to cartesian coordinates.\n",
    "\n",
    "A contravariant vector transforms as\n",
    "$$\n",
    "(A')^i=\\frac{\\partial(x')^i}{\\partial x^j}A^j\n",
    "$$\n",
    "where the prime $'$ refers to quantities with in the new coordinate system."
   ]
  },
  {
   "cell_type": "code",
   "execution_count": 7,
   "metadata": {
    "collapsed": true
   },
   "outputs": [],
   "source": [
    "from collections import OrderedDict\n",
    "from sympy import init_printing\n",
    "from sympy import symbols, simplify, solve\n",
    "from sympy import Eq\n",
    "from sympy import exp, sqrt, atan, cos, sin\n",
    "import re\n",
    "from IPython.display import display\n",
    "\n",
    "init_printing()"
   ]
  },
  {
   "cell_type": "code",
   "execution_count": 8,
   "metadata": {
    "collapsed": true
   },
   "outputs": [],
   "source": [
    "rho = symbols('rho', positive = True)\n",
    "theta, z = symbols('theta, z', real = True)\n",
    "x, y, z = symbols('x, y, z', real = True)\n",
    "Arho, Atheta, Az = symbols('A^rho, A^theta, A^z', real = True)\n",
    "cylSymb = [rho, theta, z]\n",
    "ASymb = [Arho, Atheta, Az]"
   ]
  },
  {
   "cell_type": "markdown",
   "metadata": {},
   "source": [
    "The transform"
   ]
  },
  {
   "cell_type": "code",
   "execution_count": 9,
   "metadata": {
    "collapsed": false
   },
   "outputs": [
    {
     "data": {
      "image/png": "[encoded data removed]",
      "text/latex": [
       "$$\\rho = \\sqrt{x^{2} + y^{2}}$$"
      ],
      "text/plain": [
       "       _________\n",
       "      ╱  2    2 \n",
       "ρ = ╲╱  x  + y  "
      ]
     },
     "metadata": {},
     "output_type": "display_data"
    },
    {
     "data": {
      "image/png": "[encoded data removed]",
      "text/latex": [
       "$$\\theta = \\operatorname{atan}{\\left (\\frac{y}{x} \\right )}$$"
      ],
      "text/plain": [
       "        ⎛y⎞\n",
       "θ = atan⎜─⎟\n",
       "        ⎝x⎠"
      ]
     },
     "metadata": {},
     "output_type": "display_data"
    },
    {
     "data": {
      "image/png": "[encoded data removed]",
      "text/latex": [
       "$$\\mathrm{True}$$"
      ],
      "text/plain": [
       "True"
      ]
     },
     "metadata": {},
     "output_type": "display_data"
    }
   ],
   "source": [
    "cylToCart = OrderedDict([(rho,sqrt(x**2+y**2)),\n",
    "                         (theta, atan(y/x)),\n",
    "                         (z, 1*z)])\n",
    "\n",
    "for coord in cylToCart.keys():\n",
    "    display(Eq(coord,cylToCart[coord]))"
   ]
  },
  {
   "cell_type": "markdown",
   "metadata": {},
   "source": [
    "The inverse transform"
   ]
  },
  {
   "cell_type": "code",
   "execution_count": 10,
   "metadata": {
    "collapsed": false
   },
   "outputs": [
    {
     "data": {
      "image/png": "[encoded data removed]",
      "text/latex": [
       "$$x = \\rho \\cos{\\left (\\theta \\right )}$$"
      ],
      "text/plain": [
       "x = ρ⋅cos(θ)"
      ]
     },
     "metadata": {},
     "output_type": "display_data"
    },
    {
     "data": {
      "image/png": "[encoded data removed]",
      "text/latex": [
       "$$y = \\rho \\sin{\\left (\\theta \\right )}$$"
      ],
      "text/plain": [
       "y = ρ⋅sin(θ)"
      ]
     },
     "metadata": {},
     "output_type": "display_data"
    },
    {
     "data": {
      "image/png": "[encoded data removed]",
      "text/latex": [
       "$$\\mathrm{True}$$"
      ],
      "text/plain": [
       "True"
      ]
     },
     "metadata": {},
     "output_type": "display_data"
    }
   ],
   "source": [
    "cartToCyl = OrderedDict([(x, rho*cos(theta)),\n",
    "                         (y, rho*sin(theta)),\n",
    "                         (z, z)])\n",
    "\n",
    "for coord in cartToCyl.keys():\n",
    "    display(Eq(coord,cartToCyl[coord]))"
   ]
  },
  {
   "cell_type": "markdown",
   "metadata": {},
   "source": [
    "Contravariant components written in cylindrical coordinates"
   ]
  },
  {
   "cell_type": "code",
   "execution_count": 11,
   "metadata": {
    "collapsed": false
   },
   "outputs": [
    {
     "data": {
      "image/png": "[encoded data removed]",
      "text/latex": [
       "$$v^{x} = A^{\\rho} \\cos{\\left (\\theta \\right )} - A^{\\theta} \\rho \\sin{\\left (\\theta \\right )}$$"
      ],
      "text/plain": [
       "v__x = A__ρ⋅cos(θ) - A__θ⋅ρ⋅sin(θ)"
      ]
     },
     "metadata": {},
     "output_type": "display_data"
    },
    {
     "data": {
      "image/png": "[encoded data removed]",
      "text/latex": [
       "$$v^{y} = A^{\\rho} \\sin{\\left (\\theta \\right )} + A^{\\theta} \\rho \\cos{\\left (\\theta \\right )}$$"
      ],
      "text/plain": [
       "v__y = A__ρ⋅sin(θ) + A__θ⋅ρ⋅cos(θ)"
      ]
     },
     "metadata": {},
     "output_type": "display_data"
    },
    {
     "data": {
      "image/png": "[encoded data removed]",
      "text/latex": [
       "$$v^{z} = A^{z}$$"
      ],
      "text/plain": [
       "v__z = A__z"
      ]
     },
     "metadata": {},
     "output_type": "display_data"
    }
   ],
   "source": [
    "cartTemplateCyl = OrderedDict.fromkeys(cartToCyl)\n",
    "for coord in cartTemplateCyl.keys():\n",
    "    cartTemplateCyl[coord]  = 0\n",
    "    for cart, A in zip(cylSymb, ASymb):\n",
    "        cartTemplateCyl[coord]  += A*cartToCyl[coord].diff(cart)\n",
    "    display(Eq(symbols('v^'+str(coord)),cartTemplateCyl[coord]))"
   ]
  },
  {
   "cell_type": "markdown",
   "metadata": {},
   "source": [
    "Contravariant components written in cartesian coordinates"
   ]
  },
  {
   "cell_type": "code",
   "execution_count": 12,
   "metadata": {
    "collapsed": false
   },
   "outputs": [
    {
     "data": {
      "image/png": "[encoded data removed]",
      "text/latex": [
       "$$v^{x} = \\frac{A^{\\rho}}{\\sqrt{1 + \\frac{y^{2}}{x^{2}}}} - \\frac{A^{\\theta} y \\sqrt{x^{2} + y^{2}}}{x \\sqrt{1 + \\frac{y^{2}}{x^{2}}}}$$"
      ],
      "text/plain": [
       "                                  _________\n",
       "                                 ╱  2    2 \n",
       "            A__ρ        A__θ⋅y⋅╲╱  x  + y  \n",
       "v__x = ────────────── - ───────────────────\n",
       "             ________             ________ \n",
       "            ╱      2             ╱      2  \n",
       "           ╱      y             ╱      y   \n",
       "          ╱   1 + ──      x⋅   ╱   1 + ──  \n",
       "         ╱         2          ╱         2  \n",
       "       ╲╱         x         ╲╱         x   "
      ]
     },
     "metadata": {},
     "output_type": "display_data"
    },
    {
     "data": {
      "image/png": "[encoded data removed]",
      "text/latex": [
       "$$v^{y} = \\frac{A^{\\rho} y}{x \\sqrt{1 + \\frac{y^{2}}{x^{2}}}} + \\frac{A^{\\theta} \\sqrt{x^{2} + y^{2}}}{\\sqrt{1 + \\frac{y^{2}}{x^{2}}}}$$"
      ],
      "text/plain": [
       "                                  _________\n",
       "                                 ╱  2    2 \n",
       "            A__ρ⋅y        A__θ⋅╲╱  x  + y  \n",
       "v__y = ──────────────── + ─────────────────\n",
       "               ________           ________ \n",
       "              ╱      2           ╱      2  \n",
       "             ╱      y           ╱      y   \n",
       "       x⋅   ╱   1 + ──         ╱   1 + ──  \n",
       "           ╱         2        ╱         2  \n",
       "         ╲╱         x       ╲╱         x   "
      ]
     },
     "metadata": {},
     "output_type": "display_data"
    },
    {
     "data": {
      "image/png": "[encoded data removed]",
      "text/latex": [
       "$$v^{z} = A^{z}$$"
      ],
      "text/plain": [
       "v__z = A__z"
      ]
     },
     "metadata": {},
     "output_type": "display_data"
    }
   ],
   "source": [
    "cartTemplateCart = cartTemplateCyl.copy()\n",
    "replace = [(coord, cylToCart[coord]) for coord in cylToCart.keys()]\n",
    "for coord in cartTemplateCart.keys():\n",
    "    cartTemplateCart[coord] = cartTemplateCart[coord].subs(replace)\n",
    "    display(Eq(symbols('v^'+str(coord)),cartTemplateCart[coord]))"
   ]
  }
 ],
 "metadata": {
  "kernelspec": {
   "display_name": "Python 3",
   "language": "python",
   "name": "python3"
  },
  "language_info": {
   "codemirror_mode": {
    "name": "ipython",
    "version": 3
   },
   "file_extension": ".py",
   "mimetype": "text/x-python",
   "name": "python",
   "nbconvert_exporter": "python",
   "pygments_lexer": "ipython3",
   "version": "3.5.1"
  }
 },
 "nbformat": 4,
 "nbformat_minor": 0
}
