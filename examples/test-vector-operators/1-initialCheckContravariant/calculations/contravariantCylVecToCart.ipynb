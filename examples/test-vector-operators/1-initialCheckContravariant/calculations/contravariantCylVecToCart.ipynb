{
 "cells": [
  {
   "cell_type": "markdown",
   "metadata": {
    "collapsed": true
   },
   "source": [
    "# Contravariant cylindrical vector transformed to cartesian\n",
    "\n",
    "By using the same recipie as in example 4 in https://github.com/loeiten/differential_geometry/tree/master/notes, we find that\n",
    "$$\n",
    "\\mathbf{A} = \n",
    "  A^\\rho  \\left(\\partial_\\rho x \\mathbf{e}_x   + \\partial_\\rho y \\mathbf{e}_y   + \\partial_\\rho z \\mathbf{e}_z\\right)\n",
    "+ A^\\theta\\left(\\partial_\\theta x \\mathbf{e}_x + \\partial_\\theta y \\mathbf{e}_y + \\partial_\\theta z \\mathbf{e}_z\\right)\n",
    "+ A^z     \\left(\\partial_z x \\mathbf{e}_x      + \\partial_z y \\mathbf{e}_y      + \\partial_z z \\mathbf{e}_z\\right)\n",
    "$$\n",
    "so\n",
    "$$\n",
    "\\mathbf{A} = \n",
    "  \\left(A^\\rho \\partial_\\rho x + A^\\theta\\partial_\\theta x + A^z\\partial_z x \\right)\\mathbf{e}_x\n",
    "+ \\left(A^\\rho \\partial_\\rho y + A^\\theta\\partial_\\theta y + A^z\\partial_z y \\right)\\mathbf{e}_y\n",
    "+ \\left(A^\\rho \\partial_\\rho z + A^\\theta\\partial_\\theta z + A^z\\partial_z z \\right)\\mathbf{e}_z\n",
    "$$\n",
    "where\n",
    "$$\n",
    "\\rho = \\sqrt{x^2 + y^2} \\qquad\n",
    "\\theta = \\tan^{-1}\\left(\\frac{y}{x}\\right) \\qquad\n",
    "z =z\n",
    "$$"
   ]
  },
  {
   "cell_type": "code",
   "execution_count": null,
   "metadata": {
    "collapsed": true
   },
   "outputs": [],
   "source": [
    "from collections import OrderedDict\n",
    "from sympy import init_printing\n",
    "from sympy import symbols, simplify, solve\n",
    "from sympy import Eq\n",
    "from sympy import exp, sqrt, atan, cos, sin\n",
    "import re\n",
    "from IPython.display import display\n",
    "\n",
    "init_printing()"
   ]
  },
  {
   "cell_type": "code",
   "execution_count": null,
   "metadata": {
    "collapsed": true
   },
   "outputs": [],
   "source": [
    "rho = symbols('rho', positive = True)\n",
    "theta, z = symbols('theta, z', real = True)\n",
    "x, y, z = symbols('x, y, z', real = True)\n",
    "Arho, Atheta, Az = symbols('A^rho, A^theta, A^z', real = True)\n",
    "cylSymb = [rho, theta, z]\n",
    "ASymb = [Arho, Atheta, Az]"
   ]
  },
  {
   "cell_type": "code",
   "execution_count": null,
   "metadata": {
    "collapsed": false
   },
   "outputs": [],
   "source": [
    "print(\"The transform\")\n",
    "cylToCart = OrderedDict([(rho,sqrt(x**2+y**2)),\n",
    "                         (theta, atan(y/x)),\n",
    "                         (z, 1*z)])\n",
    "\n",
    "for coord in cylToCart.keys():\n",
    "    display(Eq(coord,cylToCart[coord]))\n",
    "    \n",
    "print(\"The inverse transform\")\n",
    "cartToCyl = OrderedDict([(x, rho*cos(theta)),\n",
    "                         (y, rho*sin(theta)),\n",
    "                         (z, z)])\n",
    "\n",
    "for coord in cartToCyl.keys():\n",
    "    display(Eq(coord,cartToCyl[coord]))"
   ]
  },
  {
   "cell_type": "code",
   "execution_count": null,
   "metadata": {
    "collapsed": false
   },
   "outputs": [],
   "source": [
    "cartTemplateCyl = OrderedDict.fromkeys(cartToCyl)\n",
    "print(\"Contravariant components written in cylindrical coordinates\")\n",
    "for coord in cartTemplateCyl.keys():\n",
    "    cartTemplateCyl[coord]  = 0\n",
    "    for cart, A in zip(cylSymb, ASymb):\n",
    "        cartTemplateCyl[coord]  += A*cartToCyl[coord].diff(cart)\n",
    "    display(Eq(symbols('v^'+str(coord)),cartTemplateCyl[coord]))\n",
    "    \n",
    "cartTemplateCart = cartTemplateCyl.copy()\n",
    "print(\"\\n Contravariant components written in cartesian coordinates\")\n",
    "replace = [(coord, cylToCart[coord]) for coord in cylToCart.keys()]\n",
    "for coord in cartTemplateCart.keys():\n",
    "    cartTemplateCart[coord] = simplify(cartTemplateCart[coord].subs(replace))\n",
    "    display(Eq(symbols('v^'+str(coord)),cartTemplateCart[coord]))"
   ]
  }
 ],
 "metadata": {
  "kernelspec": {
   "display_name": "Python 3",
   "language": "python",
   "name": "python3"
  },
  "language_info": {
   "codemirror_mode": {
    "name": "ipython",
    "version": 3
   },
   "file_extension": ".py",
   "mimetype": "text/x-python",
   "name": "python",
   "nbconvert_exporter": "python",
   "pygments_lexer": "ipython3",
   "version": "3.5.1"
  }
 },
 "nbformat": 4,
 "nbformat_minor": 0
}
