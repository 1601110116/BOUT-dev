{
 "cells": [
  {
   "cell_type": "markdown",
   "metadata": {},
   "source": [
    "# Calculation of the the gradient in cylindrical coordinates using contravariant vector composents\n",
    "\n",
    "The strategy is to\n",
    "\n",
    "* Calculate the vector in cartesian coordinates\n",
    "* Transform them to a contravariantly cylindrical vector (transform the elements)\n",
    "\n",
    "This way is chosen as the differential geometry package currently misses out the differential operations.\n",
    "We will use a simple stupid approach, as that is what we need for these simple tasks"
   ]
  },
  {
   "cell_type": "code",
   "execution_count": null,
   "metadata": {
    "collapsed": true
   },
   "outputs": [],
   "source": [
    "from collections import OrderedDict\n",
    "from sympy import init_printing\n",
    "from sympy import symbols, simplify, solve\n",
    "from sympy import Eq\n",
    "from sympy import exp, sqrt, atan, cos, sin\n",
    "import re\n",
    "from IPython.display import display\n",
    "\n",
    "init_printing()"
   ]
  },
  {
   "cell_type": "markdown",
   "metadata": {},
   "source": [
    "Define symbols"
   ]
  },
  {
   "cell_type": "code",
   "execution_count": null,
   "metadata": {
    "collapsed": true
   },
   "outputs": [],
   "source": [
    "mu = symbols('mu', positive = True)\n",
    "rho, rho0, z, z0 = symbols('rho, rho0, z, z0', positive = True)\n",
    "theta, theta0 = symbols('theta, theta0', real = True)\n",
    "x, y, z = symbols('x, y, z', real = True)\n",
    "x0, y0, z0 = symbols('x0, y0, z0', real = True)\n",
    "Ax, Ay, Az = symbols('A^x, A^y, A^z', real = True)\n",
    "cart_symb = [x, y, z]\n",
    "A_symb = [Ax, Ay, Az]"
   ]
  },
  {
   "cell_type": "markdown",
   "metadata": {},
   "source": [
    "Define our maps"
   ]
  },
  {
   "cell_type": "code",
   "execution_count": null,
   "metadata": {
    "collapsed": false,
    "scrolled": false
   },
   "outputs": [],
   "source": [
    "cylToCart = OrderedDict([(rho,sqrt(x**2+y**2)),\n",
    "                         (theta, atan(y/x)),\n",
    "                         (z, 1*z)])\n",
    "\n",
    "for coord in cylToCart.keys():\n",
    "    display(Eq(coord,cylToCart[coord]))"
   ]
  },
  {
   "cell_type": "markdown",
   "metadata": {},
   "source": [
    "Unfortunately, the next cell gives unsatisfactory results (gives two solution where it should have been only one), so the inverse map needs to be inserted manually"
   ]
  },
  {
   "cell_type": "code",
   "execution_count": null,
   "metadata": {
    "collapsed": false
   },
   "outputs": [],
   "source": [
    "# As z = z => True, we need to cast the coordinate to symbols(str())\n",
    "eqs = tuple([Eq(symbols(str(coord)), cylToCart[coord]) for coord in cylToCart.keys()])\n",
    "sol = solve(eqs, x, y, z)\n",
    "display(sol)"
   ]
  },
  {
   "cell_type": "markdown",
   "metadata": {},
   "source": [
    "Manually insert the inverse transform"
   ]
  },
  {
   "cell_type": "code",
   "execution_count": null,
   "metadata": {
    "collapsed": false
   },
   "outputs": [],
   "source": [
    "print(\"Normal transform\")\n",
    "cartToCyl = OrderedDict([(x, rho*cos(theta)),\n",
    "                         (y, rho*sin(theta)),\n",
    "                         (z, z)])\n",
    "\n",
    "for coord in cartToCyl.keys():\n",
    "    display(Eq(coord,cartToCyl[coord]))\n",
    "\n",
    "print(\"Transform for the 0 components\")\n",
    "cartToCyl0 = OrderedDict([(x0, rho0*cos(theta0)),\n",
    "                          (y0, rho0*sin(theta0)),\n",
    "                          (z0, z0)])\n",
    "\n",
    "for coord in cartToCyl0.keys():\n",
    "    display(Eq(coord,cartToCyl0[coord]))"
   ]
  },
  {
   "cell_type": "markdown",
   "metadata": {},
   "source": [
    "We will now derive the recipie for the vector in the new coordinate system. See example 4 in https://github.com/loeiten/differential_geometry/tree/master/notes"
   ]
  },
  {
   "cell_type": "code",
   "execution_count": null,
   "metadata": {
    "collapsed": false
   },
   "outputs": [],
   "source": [
    "cylTemplateCart = OrderedDict.fromkeys(cylToCart)\n",
    "print(\"Contravariant components written in cartesian coordinates\")\n",
    "for coord in cylTemplateCart.keys():\n",
    "    cylTemplateCart[coord]  = 0\n",
    "    for cart, A in zip(cart_symb, A_symb):\n",
    "        cylTemplateCart[coord]  += A*cylToCart[coord].diff(cart)\n",
    "    display(Eq(symbols('v^'+str(coord)),cylTemplateCart[coord]))\n",
    "\n",
    "cylTemplateCyl = cylTemplateCart.copy()\n",
    "print(\"\\n Contravariant components written in cylindrical coordinates\")\n",
    "replace = [(coord, cartToCyl[coord]) for coord in cartToCyl.keys()]\n",
    "for coord in cylTemplateCyl.keys():\n",
    "    cylTemplateCyl[coord] = simplify(cylTemplateCyl[coord].subs(replace))\n",
    "    display(Eq(symbols('v^'+str(coord)),cylTemplateCyl[coord]))"
   ]
  },
  {
   "cell_type": "markdown",
   "metadata": {},
   "source": [
    "Define our function to take the gradient of (in cartesian coordinates)"
   ]
  },
  {
   "cell_type": "code",
   "execution_count": null,
   "metadata": {
    "collapsed": false
   },
   "outputs": [],
   "source": [
    "f = exp(-((x - x0)**2 + (y - y0)**2 + (z-z0)**2)/mu**2)\n",
    "display(Eq(symbols('f'), f))"
   ]
  },
  {
   "cell_type": "markdown",
   "metadata": {},
   "source": [
    "We now calculate the divergence in cartesian coordinates"
   ]
  },
  {
   "cell_type": "code",
   "execution_count": null,
   "metadata": {
    "collapsed": false
   },
   "outputs": [],
   "source": [
    "cartVec = OrderedDict([(x, simplify(f.diff(x))),\n",
    "                       (y, simplify(f.diff(y))),\n",
    "                       (z, simplify(f.diff(z)))])\n",
    "\n",
    "for coord in cartVec.keys():\n",
    "    display(Eq(symbols('A^' + str(coord)),cartVec[coord]))"
   ]
  },
  {
   "cell_type": "markdown",
   "metadata": {},
   "source": [
    "Now we write this in cylindrical coordinates"
   ]
  },
  {
   "cell_type": "code",
   "execution_count": null,
   "metadata": {
    "collapsed": false
   },
   "outputs": [],
   "source": [
    "replace =  [(coord, cartToCyl[coord]) for coord in cartToCyl.keys()]\n",
    "replace0 = [(coord, cartToCyl0[coord]) for coord in cartToCyl0.keys()]\n",
    "cartVecCyl = cartVec.copy()\n",
    "for coord in cartVec.keys():\n",
    "    cartVecCyl[coord] = cartVecCyl[coord].subs(replace)\n",
    "    cartVecCyl[coord] = simplify(cartVecCyl[coord].subs(replace0))\n",
    "    display(Eq(symbols('A^'+str(coord)),cartVecCyl[coord]))"
   ]
  },
  {
   "cell_type": "markdown",
   "metadata": {},
   "source": [
    "We now insert $A^i$ in the $v^j$ components"
   ]
  },
  {
   "cell_type": "code",
   "execution_count": null,
   "metadata": {
    "collapsed": false
   },
   "outputs": [],
   "source": [
    "# Appendable list\n",
    "replace = []\n",
    "coords = cartVecCyl.keys()\n",
    "for A, coord in zip(A_symb, coords):\n",
    "    replace.append((A, cartVecCyl[coord]))\n",
    "\n",
    "replace = tuple(replace)\n",
    "cylVec = cylTemplateCyl.copy()\n",
    "for coord in cylVec.keys():\n",
    "    cylVec[coord] = simplify(cylVec[coord].subs(replace))\n",
    "    display(Eq(symbols('v^'+str(coord)),cylVec[coord]))"
   ]
  },
  {
   "cell_type": "markdown",
   "metadata": {},
   "source": [
    "We would like to be able to copy paste the above directly into BOUT++"
   ]
  },
  {
   "cell_type": "code",
   "execution_count": null,
   "metadata": {
    "collapsed": true
   },
   "outputs": [],
   "source": [
    "def BOUTstring(string, cylindrical=False):\n",
    "    outstring = string.replace('**', '^')\n",
    "    \n",
    "    replacements = [('mu', 'cst:mu'),\n",
    "                    ('rho', 'geom:xl'),\n",
    "                    ('theta', 'z'),\n",
    "                    ('x', 'geom:xl'),\n",
    "                    ('y', 'geom:yl'),\n",
    "                    ('rho0', 'cst:rho0'),\n",
    "                    ('theta0', 'cst:theta0'),\n",
    "                    ('x0', 'cst:x0'),\n",
    "                    ('y0', 'cst:y0'),\n",
    "                    ('z0', 'cst:z0'),\n",
    "                   ]\n",
    "    \n",
    "    if cylindrical:\n",
    "        # Insert this in the front, so that we don't first replace theta to z, then z to geom:yl\n",
    "        replacements.insert(0, ('z', 'geom:yl'))\n",
    "    \n",
    "    for replacement in replacements:\n",
    "        outstring = re.sub(r'\\b'+replacement[0]+r'\\b', replacement[1], outstring)\n",
    "        \n",
    "    return outstring"
   ]
  },
  {
   "cell_type": "markdown",
   "metadata": {},
   "source": [
    "Print the BOUT++ strings"
   ]
  },
  {
   "cell_type": "code",
   "execution_count": null,
   "metadata": {
    "collapsed": false,
    "scrolled": true
   },
   "outputs": [],
   "source": [
    "for coord in cylVec.keys():\n",
    "    print(\"{0}_contravariant = {1}\".format(coord, BOUTstring(str(cylVec[coord]), cylindrical=True)) + \"\\n\"*2)\n",
    "    \n",
    "for coord in cartVec.keys():\n",
    "    print(\"{0} = {1}\".format(coord, BOUTstring(str(cartVec[coord]))) + \"\\n\"*2)"
   ]
  }
 ],
 "metadata": {
  "kernelspec": {
   "display_name": "Python 3",
   "language": "python",
   "name": "python3"
  },
  "language_info": {
   "codemirror_mode": {
    "name": "ipython",
    "version": 3
   },
   "file_extension": ".py",
   "mimetype": "text/x-python",
   "name": "python",
   "nbconvert_exporter": "python",
   "pygments_lexer": "ipython3",
   "version": "3.5.1"
  }
 },
 "nbformat": 4,
 "nbformat_minor": 0
}
